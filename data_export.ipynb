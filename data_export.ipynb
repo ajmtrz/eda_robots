{
 "cells": [
  {
   "cell_type": "code",
   "execution_count": 1,
   "metadata": {},
   "outputs": [
    {
     "name": "stderr",
     "output_type": "stream",
     "text": [
      "c:\\ProgramData\\miniconda3\\envs\\vscode\\lib\\site-packages\\pyspark\\pandas\\__init__.py:50: UserWarning: 'PYARROW_IGNORE_TIMEZONE' environment variable was not set. It is required to set this environment variable to '1' in both driver and executor sides if you use pyarrow>=2.0.0. pandas-on-Spark will set it for you but it does not work if there is a Spark context already launched.\n",
      "  warnings.warn(\n"
     ]
    }
   ],
   "source": [
    "import os\n",
    "from pyspark.sql import SparkSession\n",
    "import pyspark.pandas as ps\n",
    "import warnings\n",
    "warnings.filterwarnings('ignore')"
   ]
  },
  {
   "cell_type": "code",
   "execution_count": null,
   "metadata": {},
   "outputs": [],
   "source": [
    "symbol = 'EURUSD'\n",
    "download_data_path=r'C:\\Users\\Administrador\\Downloads'"
   ]
  },
  {
   "cell_type": "code",
   "execution_count": 2,
   "metadata": {},
   "outputs": [],
   "source": [
    "spark = SparkSession.builder \\\n",
    "    .appName(\"MiAplicacion\") \\\n",
    "    .config(\"spark.executor.memory\", \"15g\") \\\n",
    "    .config(\"spark.driver.memory\", \"15g\") \\\n",
    "    .getOrCreate()\n",
    "ps.set_option('compute.default_index_type', 'distributed')"
   ]
  },
  {
   "cell_type": "code",
   "execution_count": 7,
   "metadata": {},
   "outputs": [
    {
     "data": {
      "text/html": [
       "<div>\n",
       "<style scoped>\n",
       "    .dataframe tbody tr th:only-of-type {\n",
       "        vertical-align: middle;\n",
       "    }\n",
       "\n",
       "    .dataframe tbody tr th {\n",
       "        vertical-align: top;\n",
       "    }\n",
       "\n",
       "    .dataframe thead th {\n",
       "        text-align: right;\n",
       "    }\n",
       "</style>\n",
       "<table border=\"1\" class=\"dataframe\">\n",
       "  <thead>\n",
       "    <tr style=\"text-align: right;\">\n",
       "      <th></th>\n",
       "      <th>&lt;DATE&gt;</th>\n",
       "      <th>&lt;TIME&gt;</th>\n",
       "      <th>&lt;BID&gt;</th>\n",
       "      <th>&lt;ASK&gt;</th>\n",
       "    </tr>\n",
       "  </thead>\n",
       "  <tbody>\n",
       "    <tr>\n",
       "      <th>0</th>\n",
       "      <td>2018.01.25</td>\n",
       "      <td>13:04:10.121</td>\n",
       "      <td>13404.0</td>\n",
       "      <td>13404.7</td>\n",
       "    </tr>\n",
       "    <tr>\n",
       "      <th>1</th>\n",
       "      <td>2018.01.25</td>\n",
       "      <td>13:04:10.121</td>\n",
       "      <td>13403.5</td>\n",
       "      <td>13404.2</td>\n",
       "    </tr>\n",
       "    <tr>\n",
       "      <th>2</th>\n",
       "      <td>2018.01.25</td>\n",
       "      <td>13:04:10.332</td>\n",
       "      <td>13404.0</td>\n",
       "      <td>13404.7</td>\n",
       "    </tr>\n",
       "    <tr>\n",
       "      <th>3</th>\n",
       "      <td>2018.01.25</td>\n",
       "      <td>13:04:11.863</td>\n",
       "      <td>13403.5</td>\n",
       "      <td>13404.2</td>\n",
       "    </tr>\n",
       "    <tr>\n",
       "      <th>4</th>\n",
       "      <td>2018.01.25</td>\n",
       "      <td>13:04:44.038</td>\n",
       "      <td>13403.0</td>\n",
       "      <td>13403.7</td>\n",
       "    </tr>\n",
       "    <tr>\n",
       "      <th>5</th>\n",
       "      <td>2018.01.25</td>\n",
       "      <td>13:04:45.336</td>\n",
       "      <td>13402.0</td>\n",
       "      <td>13402.7</td>\n",
       "    </tr>\n",
       "    <tr>\n",
       "      <th>6</th>\n",
       "      <td>2018.01.25</td>\n",
       "      <td>13:04:45.367</td>\n",
       "      <td>13402.5</td>\n",
       "      <td>13403.2</td>\n",
       "    </tr>\n",
       "    <tr>\n",
       "      <th>7</th>\n",
       "      <td>2018.01.25</td>\n",
       "      <td>13:04:45.541</td>\n",
       "      <td>13403.0</td>\n",
       "      <td>13403.7</td>\n",
       "    </tr>\n",
       "    <tr>\n",
       "      <th>8</th>\n",
       "      <td>2018.01.25</td>\n",
       "      <td>13:04:47.212</td>\n",
       "      <td>13402.0</td>\n",
       "      <td>13402.7</td>\n",
       "    </tr>\n",
       "    <tr>\n",
       "      <th>9</th>\n",
       "      <td>2018.01.25</td>\n",
       "      <td>13:04:47.222</td>\n",
       "      <td>13403.0</td>\n",
       "      <td>13403.7</td>\n",
       "    </tr>\n",
       "  </tbody>\n",
       "</table>\n",
       "</div>"
      ],
      "text/plain": [
       "       <DATE>        <TIME>    <BID>    <ASK>\n",
       "0  2018.01.25  13:04:10.121  13404.0  13404.7\n",
       "1  2018.01.25  13:04:10.121  13403.5  13404.2\n",
       "2  2018.01.25  13:04:10.332  13404.0  13404.7\n",
       "3  2018.01.25  13:04:11.863  13403.5  13404.2\n",
       "4  2018.01.25  13:04:44.038  13403.0  13403.7\n",
       "5  2018.01.25  13:04:45.336  13402.0  13402.7\n",
       "6  2018.01.25  13:04:45.367  13402.5  13403.2\n",
       "7  2018.01.25  13:04:45.541  13403.0  13403.7\n",
       "8  2018.01.25  13:04:47.212  13402.0  13402.7\n",
       "9  2018.01.25  13:04:47.222  13403.0  13403.7"
      ]
     },
     "execution_count": 7,
     "metadata": {},
     "output_type": "execute_result"
    }
   ],
   "source": [
    "df = spark.read.csv(os.path.join(download_data_path, f'{symbol}.csv'), sep='\\t', header=True, inferSchema=False)\n",
    "df = df.to_pandas_on_spark()\n",
    "df = df.iloc[:, :4].ffill().dropna()\n",
    "df.head(10)"
   ]
  },
  {
   "cell_type": "code",
   "execution_count": 4,
   "metadata": {},
   "outputs": [],
   "source": [
    "#df = df.repartition(4)\n",
    "df.to_csv(os.path.join(download_data_path, symbol), sep=',', index=False)\n",
    "spark.stop()"
   ]
  }
 ],
 "metadata": {
  "kernelspec": {
   "display_name": "vscode",
   "language": "python",
   "name": "python3"
  },
  "language_info": {
   "codemirror_mode": {
    "name": "ipython",
    "version": 3
   },
   "file_extension": ".py",
   "mimetype": "text/x-python",
   "name": "python",
   "nbconvert_exporter": "python",
   "pygments_lexer": "ipython3",
   "version": "3.10.14"
  }
 },
 "nbformat": 4,
 "nbformat_minor": 2
}
