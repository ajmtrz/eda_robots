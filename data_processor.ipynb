{
 "cells": [
  {
   "cell_type": "code",
   "execution_count": null,
   "metadata": {},
   "outputs": [],
   "source": [
    "import os\n",
    "from pyspark.sql import SparkSession\n",
    "import pyspark.pandas as ps\n",
    "import warnings\n",
    "warnings.filterwarnings('ignore')"
   ]
  },
  {
   "cell_type": "code",
   "execution_count": 2,
   "metadata": {},
   "outputs": [],
   "source": [
    "symbol = 'GDAXI'\n",
    "download_data_path=r'/mnt/c/Users/Administrador/Downloads/'"
   ]
  },
  {
   "cell_type": "code",
   "execution_count": null,
   "metadata": {},
   "outputs": [],
   "source": [
    "spark = (SparkSession.builder\n",
    "    .appName(\"MiAplicacion\")\n",
    "    .config(\"spark.executor.memory\", \"4g\")   # Ajusta según tu disponibilidad\n",
    "    .config(\"spark.driver.memory\", \"4g\")     # Ajusta según tu disponibilidad\n",
    "    .config(\"spark.ui.enabled\", \"false\")\n",
    "    .config(\"spark.eventLog.enabled\", \"false\")\n",
    "    .config(\"spark.sql.shuffle.partitions\", \"200\")  # Ajusta según tus necesidades\n",
    "    .getOrCreate())\n",
    "\n",
    "# Establecer el nivel de registro a DEBUG para obtener más detalles en caso de errores\n",
    "spark.sparkContext.setLogLevel(\"DEBUG\")"
   ]
  },
  {
   "cell_type": "code",
   "execution_count": null,
   "metadata": {},
   "outputs": [],
   "source": [
    "df_sp = spark.read.csv(os.path.join(download_data_path, f'{symbol}.csv'), sep='\\t', header=True, inferSchema=False)\n",
    "df = df_sp.to_pandas_on_spark()\n",
    "df = df.iloc[:, :4].ffill().dropna()\n",
    "df.head(10)"
   ]
  },
  {
   "cell_type": "code",
   "execution_count": null,
   "metadata": {},
   "outputs": [],
   "source": [
    "df.to_csv(os.path.join(download_data_path, symbol), sep=',', index=False)"
   ]
  },
  {
   "cell_type": "code",
   "execution_count": null,
   "metadata": {},
   "outputs": [],
   "source": [
    "spark.stop()"
   ]
  },
  {
   "cell_type": "code",
   "execution_count": null,
   "metadata": {},
   "outputs": [],
   "source": []
  }
 ],
 "metadata": {
  "kernelspec": {
   "display_name": "vscode",
   "language": "python",
   "name": "python3"
  },
  "language_info": {
   "codemirror_mode": {
    "name": "ipython",
    "version": 3
   },
   "file_extension": ".py",
   "mimetype": "text/x-python",
   "name": "python",
   "nbconvert_exporter": "python",
   "pygments_lexer": "ipython3",
   "version": "3.12.7"
  }
 },
 "nbformat": 4,
 "nbformat_minor": 2
}
