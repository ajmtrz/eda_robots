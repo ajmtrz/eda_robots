{
 "cells": [
  {
   "cell_type": "code",
   "execution_count": 1,
   "metadata": {},
   "outputs": [],
   "source": [
    "import pandas as pd\n",
    "import warnings\n",
    "warnings.filterwarnings('ignore')"
   ]
  },
  {
   "cell_type": "code",
   "execution_count": 61,
   "metadata": {},
   "outputs": [],
   "source": [
    "def load_xls_report(filename):\n",
    "    data = pd.read_excel(filename, header=None)\n",
    "    start_index = data[data.iloc[:, 0]=='Transacciones'].index[0]\n",
    "    end_index = data.iloc[start_index:, 0].isna().idxmax()\n",
    "    columns = data.iloc[start_index+1].tolist()\n",
    "    data = data.iloc[start_index+3:end_index-1,:]\n",
    "    data.columns = columns\n",
    "    if('History' in filename):\n",
    "        drop_columns = ['Transacción', 'Swap', 'Orden', 'Comentario', 'Tasa']\n",
    "    else:\n",
    "        drop_columns = ['Transacción', 'Swap', 'Orden', 'Comentario']\n",
    "    data = data.drop(drop_columns, axis=1)\n",
    "    data = data.set_index('Fecha/Hora')\n",
    "    data.index.name = 'Fecha'\n",
    "    return data"
   ]
  },
  {
   "cell_type": "code",
   "execution_count": null,
   "metadata": {},
   "outputs": [],
   "source": [
    "filename='ReportTester-4000009439.xlsx'\n",
    "df = load_xls_report(filename)\n",
    "df.head()"
   ]
  },
  {
   "cell_type": "code",
   "execution_count": 99,
   "metadata": {},
   "outputs": [],
   "source": [
    "def expected_profitability(df):\n",
    "    profit_trades = df[(df['Dirección']=='out') & (df['Beneficio']>0)]['Beneficio'].count()\n",
    "    profit_avg = df[(df['Dirección']=='out') & (df['Beneficio']>0)]['Beneficio'].mean()\n",
    "    loss_trades = df[(df['Dirección']=='out') & (df['Beneficio']<0)]['Beneficio'].count()\n",
    "    loss_avg = df[(df['Dirección']=='out') & (df['Beneficio']<0)]['Beneficio'].mean()\n",
    "    beneficio_neto  = (profit_avg*profit_trades)+(loss_avg*loss_trades)\n",
    "    total_trades = profit_trades + loss_trades\n",
    "    expected_profit = beneficio_neto / total_trades\n",
    "    return expected_profit"
   ]
  },
  {
   "cell_type": "code",
   "execution_count": 100,
   "metadata": {},
   "outputs": [
    {
     "name": "stdout",
     "output_type": "stream",
     "text": [
      "Rentabilidad esperada: -0.03\n"
     ]
    }
   ],
   "source": [
    "\n",
    "print(f\"Rentabilidad esperada: {expected_profitability(df):.2f}\")"
   ]
  },
  {
   "cell_type": "code",
   "execution_count": null,
   "metadata": {},
   "outputs": [],
   "source": []
  }
 ],
 "metadata": {
  "kernelspec": {
   "display_name": "vscode",
   "language": "python",
   "name": "python3"
  },
  "language_info": {
   "codemirror_mode": {
    "name": "ipython",
    "version": 3
   },
   "file_extension": ".py",
   "mimetype": "text/x-python",
   "name": "python",
   "nbconvert_exporter": "python",
   "pygments_lexer": "ipython3",
   "version": "3.10.14"
  }
 },
 "nbformat": 4,
 "nbformat_minor": 2
}
