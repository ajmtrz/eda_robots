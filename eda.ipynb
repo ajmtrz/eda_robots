{
 "cells": [
  {
   "cell_type": "code",
   "execution_count": 7,
   "metadata": {},
   "outputs": [],
   "source": [
    "import pandas as pd\n",
    "import warnings\n",
    "warnings.filterwarnings('ignore')"
   ]
  },
  {
   "cell_type": "code",
   "execution_count": 8,
   "metadata": {},
   "outputs": [],
   "source": [
    "def load_xls_report(filename):\n",
    "    data = pd.read_excel(filename, header=None)\n",
    "    start_index = data[data.iloc[:, 0]=='Transacciones'].index[0]\n",
    "    end_index = data.iloc[start_index:, 0].isna().idxmax()\n",
    "    columns = data.iloc[start_index+1].tolist()\n",
    "    data = data.iloc[start_index+3:end_index-1,:]\n",
    "    data.columns = columns\n",
    "    resultados = []\n",
    "    for i in range(0, len(data) - 1, 2):\n",
    "        fila_in = data.iloc[i]\n",
    "        fila_out = data.iloc[i + 1]\n",
    "        if fila_in['Dirección'] == 'in' and fila_out['Dirección'] == 'out':\n",
    "            precio_entrada = fila_in['Precio']\n",
    "            precio_salida = fila_out['Precio']\n",
    "            resultados.append({\n",
    "                'Símbolo': fila_in['Símbolo'],\n",
    "                'Precio Entrada': precio_entrada,\n",
    "                'Precio Salida': precio_salida,\n",
    "                'Volumen': fila_in['Volumen '],\n",
    "                'Beneficio': fila_out['Beneficio'] - fila_in['Comisión'] - fila_out['Comisión']\n",
    "            })\n",
    "    return pd.DataFrame(resultados)"
   ]
  },
  {
   "cell_type": "code",
   "execution_count": 9,
   "metadata": {},
   "outputs": [
    {
     "data": {
      "text/html": [
       "<div>\n",
       "<style scoped>\n",
       "    .dataframe tbody tr th:only-of-type {\n",
       "        vertical-align: middle;\n",
       "    }\n",
       "\n",
       "    .dataframe tbody tr th {\n",
       "        vertical-align: top;\n",
       "    }\n",
       "\n",
       "    .dataframe thead th {\n",
       "        text-align: right;\n",
       "    }\n",
       "</style>\n",
       "<table border=\"1\" class=\"dataframe\">\n",
       "  <thead>\n",
       "    <tr style=\"text-align: right;\">\n",
       "      <th></th>\n",
       "      <th>Símbolo</th>\n",
       "      <th>Precio Entrada</th>\n",
       "      <th>Precio Salida</th>\n",
       "      <th>Volumen</th>\n",
       "      <th>Beneficio</th>\n",
       "    </tr>\n",
       "  </thead>\n",
       "  <tbody>\n",
       "    <tr>\n",
       "      <th>0</th>\n",
       "      <td>GDAXI</td>\n",
       "      <td>15920.8</td>\n",
       "      <td>15886.1</td>\n",
       "      <td>0.01</td>\n",
       "      <td>3.53</td>\n",
       "    </tr>\n",
       "    <tr>\n",
       "      <th>1</th>\n",
       "      <td>GDAXI</td>\n",
       "      <td>15865.6</td>\n",
       "      <td>15870.8</td>\n",
       "      <td>0.01</td>\n",
       "      <td>0.58</td>\n",
       "    </tr>\n",
       "    <tr>\n",
       "      <th>2</th>\n",
       "      <td>GDAXI</td>\n",
       "      <td>15877.3</td>\n",
       "      <td>15881.1</td>\n",
       "      <td>0.01</td>\n",
       "      <td>-0.32</td>\n",
       "    </tr>\n",
       "    <tr>\n",
       "      <th>3</th>\n",
       "      <td>GDAXI</td>\n",
       "      <td>15874.3</td>\n",
       "      <td>15873.6</td>\n",
       "      <td>0.01</td>\n",
       "      <td>0.13</td>\n",
       "    </tr>\n",
       "    <tr>\n",
       "      <th>4</th>\n",
       "      <td>GDAXI</td>\n",
       "      <td>15882.3</td>\n",
       "      <td>15873.6</td>\n",
       "      <td>0.01</td>\n",
       "      <td>0.93</td>\n",
       "    </tr>\n",
       "  </tbody>\n",
       "</table>\n",
       "</div>"
      ],
      "text/plain": [
       "  Símbolo  Precio Entrada  Precio Salida Volumen  Beneficio\n",
       "0   GDAXI         15920.8        15886.1    0.01       3.53\n",
       "1   GDAXI         15865.6        15870.8    0.01       0.58\n",
       "2   GDAXI         15877.3        15881.1    0.01      -0.32\n",
       "3   GDAXI         15874.3        15873.6    0.01       0.13\n",
       "4   GDAXI         15882.3        15873.6    0.01       0.93"
      ]
     },
     "execution_count": 9,
     "metadata": {},
     "output_type": "execute_result"
    }
   ],
   "source": [
    "filename='ReportTester-4000009439.xlsx'\n",
    "df = load_xls_report(filename)\n",
    "df.head()"
   ]
  },
  {
   "cell_type": "code",
   "execution_count": 30,
   "metadata": {},
   "outputs": [],
   "source": [
    "total_trades = df.shape[0]\n",
    "profit_trades = df[df['Beneficio']>0].shape[0]\n",
    "profit_avg = df[df['Beneficio']>0]['Beneficio'].mean()\n",
    "loss_trades = df[df['Beneficio']<0].shape[0]\n",
    "loss_avg = df[df['Beneficio']<0]['Beneficio'].mean()\n",
    "beneficio_neto  = (profit_avg*profit_trades)+(loss_avg*loss_trades)\n",
    "total_trades = profit_trades + loss_trades\n",
    "expected_profit = beneficio_neto / total_trades\n",
    "profit_avg_points = abs(df[df['Beneficio']>0]['Precio Entrada'] - df[df['Beneficio']>0]['Precio Salida']).mean()\n",
    "loss_avg_points = abs(df[df['Beneficio']<0]['Precio Entrada'] - df[df['Beneficio']<0]['Precio Salida']).mean()\n",
    "punto_equilibrio = abs(loss_avg)/(abs(loss_avg)+profit_avg)\n",
    "win_rates = profit_trades/total_trades"
   ]
  },
  {
   "cell_type": "code",
   "execution_count": 35,
   "metadata": {},
   "outputs": [
    {
     "name": "stdout",
     "output_type": "stream",
     "text": [
      "Número de operaciones totales: 14929\n",
      "Número de operaciones ganadoras: 9752\n",
      "Número de operaciones perdedoras: 5177\n",
      "Media de puntos en operaciones ganadoras 7.31 puntos\n",
      "Media de puntos en operaciones perdedoras 15.58 puntos\n",
      "Ganancia media: 0.79€\n",
      "Pérdida media: -1.50€\n",
      "Rentabilidad esperada: -0.0036€\n",
      "Porcentaje de aciertos actual: 65.32%\n",
      "Porcentaje de aciertos para equilibrio: 65.48%\n"
     ]
    }
   ],
   "source": [
    "print(f\"Número de operaciones totales: {total_trades}\")\n",
    "print(f\"Número de operaciones ganadoras: {profit_trades}\")\n",
    "print(f\"Número de operaciones perdedoras: {loss_trades}\")\n",
    "print(f\"Media de puntos en operaciones ganadoras {profit_avg_points:.2f} puntos\")\n",
    "print(f\"Media de puntos en operaciones perdedoras {loss_avg_points:.2f} puntos\")\n",
    "print(f\"Ganancia media: {profit_avg:.2f}€\")\n",
    "print(f\"Pérdida media: {loss_avg:.2f}€\")\n",
    "print(f\"Rentabilidad esperada: {expected_profit:.4f}€\")\n",
    "print(f\"Porcentaje de aciertos actual: {win_rates*100.0:.2f}%\")\n",
    "print(f\"Porcentaje de aciertos para equilibrio: {punto_equilibrio*100.0:.2f}%\")"
   ]
  },
  {
   "cell_type": "code",
   "execution_count": null,
   "metadata": {},
   "outputs": [],
   "source": []
  },
  {
   "cell_type": "code",
   "execution_count": null,
   "metadata": {},
   "outputs": [],
   "source": []
  }
 ],
 "metadata": {
  "kernelspec": {
   "display_name": "vscode",
   "language": "python",
   "name": "python3"
  },
  "language_info": {
   "codemirror_mode": {
    "name": "ipython",
    "version": 3
   },
   "file_extension": ".py",
   "mimetype": "text/x-python",
   "name": "python",
   "nbconvert_exporter": "python",
   "pygments_lexer": "ipython3",
   "version": "3.10.14"
  }
 },
 "nbformat": 4,
 "nbformat_minor": 2
}
