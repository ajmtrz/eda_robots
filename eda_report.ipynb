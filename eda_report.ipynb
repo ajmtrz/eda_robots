{
 "cells": [
  {
   "cell_type": "code",
   "execution_count": 11,
   "metadata": {},
   "outputs": [],
   "source": [
    "import pandas as pd\n",
    "import warnings\n",
    "warnings.filterwarnings('ignore')"
   ]
  },
  {
   "cell_type": "code",
   "execution_count": 12,
   "metadata": {},
   "outputs": [],
   "source": [
    "filename='ReportTester-4000009439.xlsx'"
   ]
  },
  {
   "cell_type": "code",
   "execution_count": 13,
   "metadata": {},
   "outputs": [],
   "source": [
    "def load_xls_report(filename):\n",
    "    data = pd.read_excel(filename, header=None)\n",
    "    start_index = data[data.iloc[:, 0]=='Transacciones'].index[0]\n",
    "    end_index = data.iloc[start_index:, 0].isna().idxmax()\n",
    "    columns = data.iloc[start_index+1].tolist()\n",
    "    data.columns = columns\n",
    "    balance = data['Beneficio'].iloc[start_index+2]\n",
    "    data = data.iloc[start_index+3:end_index-1,:]\n",
    "    resultados = []\n",
    "    for i in range(0, len(data) - 1, 2):\n",
    "        fila_in = data.iloc[i]\n",
    "        fila_out = data.iloc[i + 1]\n",
    "        if fila_in['Dirección'] == 'in' and fila_out['Dirección'] == 'out':\n",
    "            precio_entrada = fila_in['Precio']\n",
    "            precio_salida = fila_out['Precio']\n",
    "            beneficio = fila_out['Beneficio'] - abs(fila_in['Comisión']) - abs(fila_out['Comisión'])\n",
    "            balance += beneficio\n",
    "            resultados.append({\n",
    "                'Fecha': fila_in['Fecha/Hora'],\n",
    "                'Símbolo': fila_in['Símbolo'],\n",
    "                'Tipo': fila_in['Tipo'],\n",
    "                'Precio Entrada': precio_entrada,\n",
    "                'Precio Salida': precio_salida,\n",
    "                'Volumen': fila_in['Volumen '],\n",
    "                'Beneficio': beneficio,\n",
    "                'Balance': balance\n",
    "            })\n",
    "    return pd.DataFrame(resultados)"
   ]
  },
  {
   "cell_type": "code",
   "execution_count": 14,
   "metadata": {},
   "outputs": [],
   "source": [
    "# Statistics\n",
    "df = load_xls_report(filename)\n",
    "total_trades = df.shape[0]\n",
    "profit_trades = df[df['Beneficio']>0].shape[0]\n",
    "profit_avg = df[df['Beneficio']>0]['Beneficio'].mean()\n",
    "loss_trades = df[df['Beneficio']<0].shape[0]\n",
    "loss_avg = df[df['Beneficio']<0]['Beneficio'].mean()\n",
    "beneficio_neto  = (profit_avg*profit_trades)+(loss_avg*loss_trades)\n",
    "total_trades = profit_trades + loss_trades\n",
    "expected_profit = beneficio_neto / total_trades\n",
    "profit_avg_points = abs(df[df['Beneficio']>0]['Precio Entrada'] - df[df['Beneficio']>0]['Precio Salida']).mean() / 0.1\n",
    "loss_avg_points = abs(df[df['Beneficio']<0]['Precio Entrada'] - df[df['Beneficio']<0]['Precio Salida']).mean() / 0.1\n",
    "punto_equilibrio = abs(loss_avg)/(abs(loss_avg)+profit_avg)\n",
    "win_rates = profit_trades/total_trades\n",
    "balances = df['Balance']\n",
    "cummax_balance = balances.cummax()\n",
    "drawdowns = cummax_balance - balances\n",
    "drawdown_percentages = drawdowns / cummax_balance\n",
    "max_drawdown_percentage = drawdown_percentages.max() * 100"
   ]
  },
  {
   "cell_type": "code",
   "execution_count": null,
   "metadata": {},
   "outputs": [],
   "source": [
    "print(f\"Número de operaciones totales: {total_trades}\")\n",
    "print(f\"Número de operaciones ganadoras: {profit_trades}\")\n",
    "print(f\"Número de operaciones perdedoras: {loss_trades}\")\n",
    "print(f\"Media de puntos en operaciones ganadoras {profit_avg_points:.2f} puntos\")\n",
    "print(f\"Media de puntos en operaciones perdedoras {loss_avg_points:.2f} puntos\")\n",
    "print(f\"Ganancia media: {profit_avg:.2f}€\")\n",
    "print(f\"Pérdida media: {loss_avg:.2f}€\")\n",
    "print(f\"Rentabilidad esperada: {expected_profit:.4f}€\")\n",
    "print(f\"Porcentaje de aciertos actual: {win_rates*100.0:.2f}%\")\n",
    "print(f\"Porcentaje de aciertos para equilibrio: {punto_equilibrio*100.0:.2f}%\")\n",
    "print(f\"El máximo drawdown es: {max_drawdown_percentage:.2f}%\")"
   ]
  }
 ],
 "metadata": {
  "kernelspec": {
   "display_name": "vscode",
   "language": "python",
   "name": "python3"
  },
  "language_info": {
   "codemirror_mode": {
    "name": "ipython",
    "version": 3
   },
   "file_extension": ".py",
   "mimetype": "text/x-python",
   "name": "python",
   "nbconvert_exporter": "python",
   "pygments_lexer": "ipython3",
   "version": "3.12.7"
  }
 },
 "nbformat": 4,
 "nbformat_minor": 2
}
