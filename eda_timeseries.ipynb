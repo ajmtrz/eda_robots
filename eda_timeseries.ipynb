{
 "cells": [
  {
   "cell_type": "code",
   "execution_count": 21,
   "metadata": {},
   "outputs": [],
   "source": [
    "import os\n",
    "import glob\n",
    "import pandas as pd\n",
    "import pmdarima as pm\n",
    "from pmdarima.model_selection import train_test_split"
   ]
  },
  {
   "cell_type": "code",
   "execution_count": 22,
   "metadata": {},
   "outputs": [
    {
     "name": "stdout",
     "output_type": "stream",
     "text": [
      "Performing stepwise search to minimize aic\n",
      " ARIMA(0,1,0)(0,0,0)[0] intercept   : AIC=524623.331, Time=1.32 sec\n",
      " ARIMA(1,1,0)(0,0,0)[0] intercept   : AIC=518463.895, Time=1.65 sec\n",
      " ARIMA(0,1,1)(0,0,0)[0] intercept   : AIC=517678.472, Time=7.39 sec\n",
      " ARIMA(0,1,0)(0,0,0)[0]             : AIC=524625.375, Time=0.69 sec\n",
      " ARIMA(1,1,1)(0,0,0)[0] intercept   : AIC=517665.405, Time=9.26 sec\n",
      " ARIMA(2,1,1)(0,0,0)[0] intercept   : AIC=517667.090, Time=13.57 sec\n",
      " ARIMA(1,1,2)(0,0,0)[0] intercept   : AIC=517667.089, Time=7.93 sec\n",
      " ARIMA(0,1,2)(0,0,0)[0] intercept   : AIC=517665.231, Time=8.18 sec\n",
      " ARIMA(0,1,3)(0,0,0)[0] intercept   : AIC=517667.062, Time=12.04 sec\n",
      " ARIMA(1,1,3)(0,0,0)[0] intercept   : AIC=517669.038, Time=16.37 sec\n",
      " ARIMA(0,1,2)(0,0,0)[0]             : AIC=517665.892, Time=1.78 sec\n",
      "\n",
      "Best model:  ARIMA(0,1,2)(0,0,0)[0] intercept\n",
      "Total fit time: 80.205 seconds\n",
      "Parámetros ARIMA óptimos: p=0, d=1, q=2\n"
     ]
    }
   ],
   "source": [
    "def determine_arima_params(series, start_p=0, start_q=0, max_p=5, max_q=5, m=1, seasonal=False, stepwise=True, suppress_warnings=True, trace=False):\n",
    "    \"\"\"\n",
    "    Determina automáticamente los parámetros p, d, q para un modelo ARIMA dado una serie temporal.\n",
    "\n",
    "    Args:\n",
    "        series (pd.Series): Serie temporal de datos.\n",
    "        start_p (int): Valor inicial de p para la búsqueda.\n",
    "        start_q (int): Valor inicial de q para la búsqueda.\n",
    "        max_p (int): Valor máximo de p para considerar.\n",
    "        max_q (int): Valor máximo de q para considerar.\n",
    "        m (int): Periodicidad para modelos estacionales. Por defecto es 1 (no estacional).\n",
    "        seasonal (bool): Si True, busca modelos SARIMA.\n",
    "        stepwise (bool): Si True, utiliza búsqueda stepwise para acelerar el proceso.\n",
    "        suppress_warnings (bool): Si True, suprime advertencias durante el ajuste.\n",
    "        trace (bool): Si True, imprime información detallada durante la búsqueda.\n",
    "\n",
    "    Returns:\n",
    "        tuple: (p, d, q) óptimos para el modelo ARIMA.\n",
    "    \"\"\"\n",
    "    # División de la serie en entrenamiento y prueba (opcional)\n",
    "    train, test = train_test_split(series, train_size=0.8)\n",
    "    \n",
    "    # Ajustar el modelo ARIMA automáticamente\n",
    "    model = pm.auto_arima(\n",
    "        train,\n",
    "        start_p=start_p,\n",
    "        start_q=start_q,\n",
    "        max_p=max_p,\n",
    "        max_q=max_q,\n",
    "        m=m,\n",
    "        seasonal=seasonal,\n",
    "        trace=trace,\n",
    "        error_action='ignore',\n",
    "        suppress_warnings=suppress_warnings,\n",
    "        stepwise=stepwise\n",
    "    )\n",
    "    \n",
    "    # Obtener los parámetros óptimos\n",
    "    p, d, q = model.order\n",
    "    \n",
    "    return p, d, q\n",
    "\n",
    "# Ejemplo de uso:\n",
    "if __name__ == \"__main__\":\n",
    "    file_folder = r'/mnt/c/Users/Administrador/Downloads'\n",
    "    file_pattern = os.path.join(file_folder, 'GDAXI_*.csv')\n",
    "    df_file_path = glob.glob(file_pattern)\n",
    "    df = pd.read_csv(df_file_path[0], delimiter='\\t')\n",
    "    series = (df['<HIGH>'] + df['<LOW>']) / 2.0\n",
    "    p, d, q = determine_arima_params(series, trace=True)\n",
    "    print(f\"Parámetros ARIMA óptimos: p={p}, d={d}, q={q}\")\n"
   ]
  },
  {
   "cell_type": "code",
   "execution_count": null,
   "metadata": {},
   "outputs": [],
   "source": []
  }
 ],
 "metadata": {
  "kernelspec": {
   "display_name": "vscode",
   "language": "python",
   "name": "python3"
  },
  "language_info": {
   "codemirror_mode": {
    "name": "ipython",
    "version": 3
   },
   "file_extension": ".py",
   "mimetype": "text/x-python",
   "name": "python",
   "nbconvert_exporter": "python",
   "pygments_lexer": "ipython3",
   "version": "3.12.7"
  }
 },
 "nbformat": 4,
 "nbformat_minor": 2
}
