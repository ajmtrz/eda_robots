{
 "cells": [
  {
   "cell_type": "code",
   "execution_count": 1,
   "metadata": {},
   "outputs": [
    {
     "data": {
      "application/vnd.microsoft.datawrangler.viewer.v0+json": {
       "columns": [
        {
         "name": "Entry indicators",
         "rawType": "object",
         "type": "string"
        },
        {
         "name": "Avg_Fitness",
         "rawType": "float64",
         "type": "float"
        },
        {
         "name": "Avg_EdgeRatio",
         "rawType": "float64",
         "type": "float"
        },
        {
         "name": "Avg_NetProfit",
         "rawType": "float64",
         "type": "float"
        },
        {
         "name": "Total_Trades",
         "rawType": "int64",
         "type": "integer"
        }
       ],
       "conversionMethod": "pd.DataFrame",
       "ref": "d50bfb72-4806-458a-b47c-e84c345e4bfb",
       "rows": [
        [
         "SMMA",
         "0.49",
         "1.8",
         "-34441.11",
         "22140"
        ],
        [
         "TEMA",
         "0.48",
         "1.73",
         "-135701.91",
         "78427"
        ],
        [
         "BollingerBands",
         "0.47",
         "1.63",
         "-25631.36",
         "28328"
        ],
        [
         "HeikenAshiHigh",
         "0.46",
         "1.4799999999999998",
         "-106044.74666666666",
         "171459"
        ],
        [
         "HeikenAshiLow",
         "0.46",
         "1.4799999999999998",
         "-106044.74666666666",
         "171459"
        ],
        [
         "Fibo",
         "0.45999999999999996",
         "1.5350000000000001",
         "641.9749999999999",
         "3249"
        ],
        [
         "GannHiLo",
         "0.4566666666666666",
         "1.4616666666666667",
         "-51470.128333333334",
         "187643"
        ],
        [
         "LinearRegression",
         "0.45499999999999996",
         "1.4500000000000002",
         "-42813.985",
         "103704"
        ],
        [
         "HeikenAshiClose",
         "0.454",
         "1.4220000000000002",
         "-119043.964",
         "350476"
        ],
        [
         "SMA",
         "0.44999999999999996",
         "1.385",
         "-84919.505",
         "107076"
        ],
        [
         "High",
         "0.44571428571428573",
         "1.3057142857142858",
         "-90430.25428571428",
         "407598"
        ],
        [
         "Low",
         "0.44571428571428573",
         "1.3057142857142858",
         "-90430.25428571428",
         "407598"
        ],
        [
         "MTKeltnerChannel",
         "0.44499999999999995",
         "1.31",
         "-37767.009999999995",
         "38933"
        ],
        [
         "RSI",
         "0.44",
         "1.29",
         "-140664.84",
         "82925"
        ],
        [
         "Highest",
         "0.44",
         "1.2733333333333334",
         "-39350.355",
         "124738"
        ]
       ],
       "shape": {
        "columns": 4,
        "rows": 15
       }
      },
      "text/html": [
       "<div>\n",
       "<style scoped>\n",
       "    .dataframe tbody tr th:only-of-type {\n",
       "        vertical-align: middle;\n",
       "    }\n",
       "\n",
       "    .dataframe tbody tr th {\n",
       "        vertical-align: top;\n",
       "    }\n",
       "\n",
       "    .dataframe thead th {\n",
       "        text-align: right;\n",
       "    }\n",
       "</style>\n",
       "<table border=\"1\" class=\"dataframe\">\n",
       "  <thead>\n",
       "    <tr style=\"text-align: right;\">\n",
       "      <th></th>\n",
       "      <th>Avg_Fitness</th>\n",
       "      <th>Avg_EdgeRatio</th>\n",
       "      <th>Avg_NetProfit</th>\n",
       "      <th>Total_Trades</th>\n",
       "    </tr>\n",
       "    <tr>\n",
       "      <th>Entry indicators</th>\n",
       "      <th></th>\n",
       "      <th></th>\n",
       "      <th></th>\n",
       "      <th></th>\n",
       "    </tr>\n",
       "  </thead>\n",
       "  <tbody>\n",
       "    <tr>\n",
       "      <th>SMMA</th>\n",
       "      <td>0.490000</td>\n",
       "      <td>1.800000</td>\n",
       "      <td>-34441.110000</td>\n",
       "      <td>22140</td>\n",
       "    </tr>\n",
       "    <tr>\n",
       "      <th>TEMA</th>\n",
       "      <td>0.480000</td>\n",
       "      <td>1.730000</td>\n",
       "      <td>-135701.910000</td>\n",
       "      <td>78427</td>\n",
       "    </tr>\n",
       "    <tr>\n",
       "      <th>BollingerBands</th>\n",
       "      <td>0.470000</td>\n",
       "      <td>1.630000</td>\n",
       "      <td>-25631.360000</td>\n",
       "      <td>28328</td>\n",
       "    </tr>\n",
       "    <tr>\n",
       "      <th>HeikenAshiHigh</th>\n",
       "      <td>0.460000</td>\n",
       "      <td>1.480000</td>\n",
       "      <td>-106044.746667</td>\n",
       "      <td>171459</td>\n",
       "    </tr>\n",
       "    <tr>\n",
       "      <th>HeikenAshiLow</th>\n",
       "      <td>0.460000</td>\n",
       "      <td>1.480000</td>\n",
       "      <td>-106044.746667</td>\n",
       "      <td>171459</td>\n",
       "    </tr>\n",
       "    <tr>\n",
       "      <th>Fibo</th>\n",
       "      <td>0.460000</td>\n",
       "      <td>1.535000</td>\n",
       "      <td>641.975000</td>\n",
       "      <td>3249</td>\n",
       "    </tr>\n",
       "    <tr>\n",
       "      <th>GannHiLo</th>\n",
       "      <td>0.456667</td>\n",
       "      <td>1.461667</td>\n",
       "      <td>-51470.128333</td>\n",
       "      <td>187643</td>\n",
       "    </tr>\n",
       "    <tr>\n",
       "      <th>LinearRegression</th>\n",
       "      <td>0.455000</td>\n",
       "      <td>1.450000</td>\n",
       "      <td>-42813.985000</td>\n",
       "      <td>103704</td>\n",
       "    </tr>\n",
       "    <tr>\n",
       "      <th>HeikenAshiClose</th>\n",
       "      <td>0.454000</td>\n",
       "      <td>1.422000</td>\n",
       "      <td>-119043.964000</td>\n",
       "      <td>350476</td>\n",
       "    </tr>\n",
       "    <tr>\n",
       "      <th>SMA</th>\n",
       "      <td>0.450000</td>\n",
       "      <td>1.385000</td>\n",
       "      <td>-84919.505000</td>\n",
       "      <td>107076</td>\n",
       "    </tr>\n",
       "    <tr>\n",
       "      <th>High</th>\n",
       "      <td>0.445714</td>\n",
       "      <td>1.305714</td>\n",
       "      <td>-90430.254286</td>\n",
       "      <td>407598</td>\n",
       "    </tr>\n",
       "    <tr>\n",
       "      <th>Low</th>\n",
       "      <td>0.445714</td>\n",
       "      <td>1.305714</td>\n",
       "      <td>-90430.254286</td>\n",
       "      <td>407598</td>\n",
       "    </tr>\n",
       "    <tr>\n",
       "      <th>MTKeltnerChannel</th>\n",
       "      <td>0.445000</td>\n",
       "      <td>1.310000</td>\n",
       "      <td>-37767.010000</td>\n",
       "      <td>38933</td>\n",
       "    </tr>\n",
       "    <tr>\n",
       "      <th>RSI</th>\n",
       "      <td>0.440000</td>\n",
       "      <td>1.290000</td>\n",
       "      <td>-140664.840000</td>\n",
       "      <td>82925</td>\n",
       "    </tr>\n",
       "    <tr>\n",
       "      <th>Highest</th>\n",
       "      <td>0.440000</td>\n",
       "      <td>1.273333</td>\n",
       "      <td>-39350.355000</td>\n",
       "      <td>124738</td>\n",
       "    </tr>\n",
       "  </tbody>\n",
       "</table>\n",
       "</div>"
      ],
      "text/plain": [
       "                  Avg_Fitness  Avg_EdgeRatio  Avg_NetProfit  Total_Trades\n",
       "Entry indicators                                                         \n",
       "SMMA                 0.490000       1.800000  -34441.110000         22140\n",
       "TEMA                 0.480000       1.730000 -135701.910000         78427\n",
       "BollingerBands       0.470000       1.630000  -25631.360000         28328\n",
       "HeikenAshiHigh       0.460000       1.480000 -106044.746667        171459\n",
       "HeikenAshiLow        0.460000       1.480000 -106044.746667        171459\n",
       "Fibo                 0.460000       1.535000     641.975000          3249\n",
       "GannHiLo             0.456667       1.461667  -51470.128333        187643\n",
       "LinearRegression     0.455000       1.450000  -42813.985000        103704\n",
       "HeikenAshiClose      0.454000       1.422000 -119043.964000        350476\n",
       "SMA                  0.450000       1.385000  -84919.505000        107076\n",
       "High                 0.445714       1.305714  -90430.254286        407598\n",
       "Low                  0.445714       1.305714  -90430.254286        407598\n",
       "MTKeltnerChannel     0.445000       1.310000  -37767.010000         38933\n",
       "RSI                  0.440000       1.290000 -140664.840000         82925\n",
       "Highest              0.440000       1.273333  -39350.355000        124738"
      ]
     },
     "metadata": {},
     "output_type": "display_data"
    }
   ],
   "source": [
    "# Repitiendo el proceso debido al reinicio del entorno\n",
    "import pandas as pd\n",
    "\n",
    "# Cargar nuevamente el archivo CSV con el separador indicado\n",
    "df = pd.read_csv('/mnt/c/Users/Administrador/Downloads/DatabankExport.csv', delimiter=';', encoding='utf-8')\n",
    "\n",
    "# Expandir los indicadores individuales para analizarlos por separado\n",
    "indicators_expanded = df.assign(**{'Entry indicators': df['Entry indicators'].str.split(',')}).explode('Entry indicators')\n",
    "\n",
    "# Agrupar por indicador y calcular métricas relevantes: promedio de Fitness, Edge Ratio, Net profit y suma del número de trades\n",
    "indicator_stats = indicators_expanded.groupby('Entry indicators').agg({\n",
    "    'Fitness': 'mean',\n",
    "    'Edge Ratio': 'mean',\n",
    "    'Net profit': 'mean',\n",
    "    '# of trades': 'sum'\n",
    "}).rename(columns={\n",
    "    'Fitness': 'Avg_Fitness',\n",
    "    'Edge Ratio': 'Avg_EdgeRatio',\n",
    "    'Net profit': 'Avg_NetProfit',\n",
    "    '# of trades': 'Total_Trades'\n",
    "})\n",
    "\n",
    "# Ordenar por Fitness, Edge Ratio, Net profit y número total de trades\n",
    "sorted_indicators = indicator_stats.sort_values(by=['Avg_Fitness', 'Avg_EdgeRatio', 'Avg_NetProfit', 'Total_Trades'], ascending=False)\n",
    "\n",
    "# Seleccionar los mejores 15 indicadores\n",
    "top_15_indicators = sorted_indicators.head(15)\n",
    "\n",
    "from IPython.display import display\n",
    "display(top_15_indicators)\n"
   ]
  },
  {
   "cell_type": "code",
   "execution_count": null,
   "metadata": {},
   "outputs": [],
   "source": []
  }
 ],
 "metadata": {
  "kernelspec": {
   "display_name": "vscode",
   "language": "python",
   "name": "python3"
  },
  "language_info": {
   "codemirror_mode": {
    "name": "ipython",
    "version": 3
   },
   "file_extension": ".py",
   "mimetype": "text/x-python",
   "name": "python",
   "nbconvert_exporter": "python",
   "pygments_lexer": "ipython3",
   "version": "3.12.7"
  }
 },
 "nbformat": 4,
 "nbformat_minor": 2
}
