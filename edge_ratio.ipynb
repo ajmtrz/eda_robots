{
 "cells": [
  {
   "cell_type": "code",
   "execution_count": null,
   "metadata": {},
   "outputs": [
    {
     "name": "stdout",
     "output_type": "stream",
     "text": [
      "La ruta proporcionada no es válida: --f=/run/user/0/jupyter/runtime/kernel-v354780febb24dc62db4f2b0e55a5a63bd74e20b1b.json. Usando ruta por defecto.\n"
     ]
    },
    {
     "data": {
      "application/vnd.microsoft.datawrangler.viewer.v0+json": {
       "columns": [
        {
         "name": "index",
         "rawType": "int64",
         "type": "integer"
        },
        {
         "name": "Top Entry Indicators",
         "rawType": "object",
         "type": "string"
        },
        {
         "name": "Top Price Indicators",
         "rawType": "object",
         "type": "string"
        }
       ],
       "conversionMethod": "pd.DataFrame",
       "ref": "51210fd9-a1be-45a3-88f4-815ee8ef496d",
       "rows": [
        [
         "0",
         "HighestInRange",
         "BiggestRange"
        ],
        [
         "1",
         "LowestInRange",
         "BBRange"
        ],
        [
         "2",
         "HeikenAshiLow",
         "SmallestRange"
        ],
        [
         "3",
         "HeikenAshiHigh",
         "TrueRange"
        ],
        [
         "4",
         "Lowest",
         "BBWidthRatio"
        ],
        [
         "5",
         "Highest",
         "MTATR"
        ],
        [
         "6",
         "KAMA",
         "BarRange"
        ],
        [
         "7",
         "High",
         "ATR"
        ],
        [
         "8",
         "Low",
         "HighestInRange"
        ],
        [
         "9",
         "SessionClose",
         "Highest"
        ],
        [
         "10",
         "SessionOpen",
         "SessionHigh"
        ],
        [
         "11",
         "VWAP",
         "HeikenAshiClose"
        ],
        [
         "12",
         "SuperTrend",
         "HullMovingAverage"
        ],
        [
         "13",
         "Fibo",
         "BollingerBands"
        ],
        [
         "14",
         "OpenD",
         "MTKeltnerChannel"
        ]
       ],
       "shape": {
        "columns": 2,
        "rows": 15
       }
      },
      "text/html": [
       "<div>\n",
       "<style scoped>\n",
       "    .dataframe tbody tr th:only-of-type {\n",
       "        vertical-align: middle;\n",
       "    }\n",
       "\n",
       "    .dataframe tbody tr th {\n",
       "        vertical-align: top;\n",
       "    }\n",
       "\n",
       "    .dataframe thead th {\n",
       "        text-align: right;\n",
       "    }\n",
       "</style>\n",
       "<table border=\"1\" class=\"dataframe\">\n",
       "  <thead>\n",
       "    <tr style=\"text-align: right;\">\n",
       "      <th></th>\n",
       "      <th>Top Entry Indicators</th>\n",
       "      <th>Top Price Indicators</th>\n",
       "    </tr>\n",
       "  </thead>\n",
       "  <tbody>\n",
       "    <tr>\n",
       "      <th>0</th>\n",
       "      <td>HighestInRange</td>\n",
       "      <td>BiggestRange</td>\n",
       "    </tr>\n",
       "    <tr>\n",
       "      <th>1</th>\n",
       "      <td>LowestInRange</td>\n",
       "      <td>BBRange</td>\n",
       "    </tr>\n",
       "    <tr>\n",
       "      <th>2</th>\n",
       "      <td>HeikenAshiLow</td>\n",
       "      <td>SmallestRange</td>\n",
       "    </tr>\n",
       "    <tr>\n",
       "      <th>3</th>\n",
       "      <td>HeikenAshiHigh</td>\n",
       "      <td>TrueRange</td>\n",
       "    </tr>\n",
       "    <tr>\n",
       "      <th>4</th>\n",
       "      <td>Lowest</td>\n",
       "      <td>BBWidthRatio</td>\n",
       "    </tr>\n",
       "    <tr>\n",
       "      <th>5</th>\n",
       "      <td>Highest</td>\n",
       "      <td>MTATR</td>\n",
       "    </tr>\n",
       "    <tr>\n",
       "      <th>6</th>\n",
       "      <td>KAMA</td>\n",
       "      <td>BarRange</td>\n",
       "    </tr>\n",
       "    <tr>\n",
       "      <th>7</th>\n",
       "      <td>High</td>\n",
       "      <td>ATR</td>\n",
       "    </tr>\n",
       "    <tr>\n",
       "      <th>8</th>\n",
       "      <td>Low</td>\n",
       "      <td>HighestInRange</td>\n",
       "    </tr>\n",
       "    <tr>\n",
       "      <th>9</th>\n",
       "      <td>SessionClose</td>\n",
       "      <td>Highest</td>\n",
       "    </tr>\n",
       "    <tr>\n",
       "      <th>10</th>\n",
       "      <td>SessionOpen</td>\n",
       "      <td>SessionHigh</td>\n",
       "    </tr>\n",
       "    <tr>\n",
       "      <th>11</th>\n",
       "      <td>VWAP</td>\n",
       "      <td>HeikenAshiClose</td>\n",
       "    </tr>\n",
       "    <tr>\n",
       "      <th>12</th>\n",
       "      <td>SuperTrend</td>\n",
       "      <td>HullMovingAverage</td>\n",
       "    </tr>\n",
       "    <tr>\n",
       "      <th>13</th>\n",
       "      <td>Fibo</td>\n",
       "      <td>BollingerBands</td>\n",
       "    </tr>\n",
       "    <tr>\n",
       "      <th>14</th>\n",
       "      <td>OpenD</td>\n",
       "      <td>MTKeltnerChannel</td>\n",
       "    </tr>\n",
       "  </tbody>\n",
       "</table>\n",
       "</div>"
      ],
      "text/plain": [
       "   Top Entry Indicators Top Price Indicators\n",
       "0        HighestInRange         BiggestRange\n",
       "1         LowestInRange              BBRange\n",
       "2         HeikenAshiLow        SmallestRange\n",
       "3        HeikenAshiHigh            TrueRange\n",
       "4                Lowest         BBWidthRatio\n",
       "5               Highest                MTATR\n",
       "6                  KAMA             BarRange\n",
       "7                  High                  ATR\n",
       "8                   Low       HighestInRange\n",
       "9          SessionClose              Highest\n",
       "10          SessionOpen          SessionHigh\n",
       "11                 VWAP      HeikenAshiClose\n",
       "12           SuperTrend    HullMovingAverage\n",
       "13                 Fibo       BollingerBands\n",
       "14                OpenD     MTKeltnerChannel"
      ]
     },
     "metadata": {},
     "output_type": "display_data"
    }
   ],
   "source": [
    "import pandas as pd\n",
    "import xml.etree.ElementTree as ET\n",
    "import zipfile\n",
    "import os\n",
    "import sys\n",
    "\n",
    "# --- INPUTS DINÁMICOS DESDE ARGUMENTO ---\n",
    "# El usuario pasa como argumento la ruta base donde están/van los archivos\n",
    "default_path = r\"/mnt/c/Users/Administrador/Downloads\"\n",
    "\n",
    "try:\n",
    "    passed_path = sys.argv[1]\n",
    "    if os.path.isdir(passed_path):\n",
    "        base_path = passed_path\n",
    "    else:\n",
    "        print(f\"La ruta proporcionada no es válida: {passed_path}. Usando ruta por defecto.\")\n",
    "        base_path = default_path\n",
    "except IndexError:\n",
    "    print(\"No se proporcionó ruta, usando la ruta por defecto.\")\n",
    "    base_path = default_path\n",
    "\n",
    "# Asegurarse de que la carpeta existe\n",
    "os.makedirs(base_path, exist_ok=True)\n",
    "\n",
    "# Archivos fijos dentro de la ruta proporcionada\n",
    "csv_path = os.path.join(base_path, \"DatabankExport.csv\")\n",
    "config_path = os.path.join(base_path, \"config.xml\")\n",
    "output_path = os.path.join(base_path, \"config.cfx\")\n",
    "\n",
    "# --- PARÁMETROS Y FUNCIONES ---\n",
    "def process_indicators(column_name):\n",
    "    if not os.path.exists(csv_path):\n",
    "        raise FileNotFoundError(f\"El archivo '{csv_path}' no existe. Verifica la ruta base o el nombre del archivo.\")\n",
    "    df = pd.read_csv(csv_path, delimiter=';', encoding='utf-8')\n",
    "    expanded = df.assign(**{column_name: df[column_name].str.split(',')}).explode(column_name)\n",
    "    grouped = expanded.groupby(column_name).agg({\n",
    "        'Edge Ratio': 'mean',\n",
    "        'Ret/DD Ratio': 'mean',\n",
    "        'Profit factor': 'mean',\n",
    "        column_name: 'count'\n",
    "    }).rename(columns={\n",
    "        'Edge Ratio': 'Avg_EdgeRatio',\n",
    "        'Ret/DD Ratio': 'Avg_RetDD',\n",
    "        'Profit factor': 'Avg_ProfitFactor',\n",
    "        column_name: 'Count'\n",
    "    })\n",
    "    grouped['Score'] = (\n",
    "        grouped['Avg_EdgeRatio'] * 20 +\n",
    "        grouped['Avg_RetDD'] * 15 +\n",
    "        grouped['Avg_ProfitFactor'] * 15 +\n",
    "        grouped['Count'] * 50\n",
    "    )\n",
    "    return grouped.sort_values(by='Score', ascending=False).head(15).index.tolist()\n",
    "\n",
    "# Obtener los nombres de indicadores más prometedores\n",
    "top_entry_indicators = process_indicators('Entry indicators')\n",
    "top_price_indicators = process_indicators('Price indicators')\n",
    "pf = pd.DataFrame({\n",
    "    'Top Entry Indicators': top_entry_indicators,\n",
    "    'Top Price Indicators': top_price_indicators\n",
    "})\n",
    "display(pf)\n",
    "essential_indicator_operators = [\n",
    "    \"CrossesAbove\", \"CrossesBelow\", \"IndicatorAboveMA\", \"IndicatorBelowMA\",\n",
    "    \"IndicatorCrossesAboveMA\", \"IndicatorCrossesBelowMA\",\n",
    "    \"IsRising\", \"IsFalling\", \"IsGreater\", \"IsGreaterOrEqual\",\n",
    "    \"IsLower\", \"IsLowerOrEqual\", \"Equals\", \"NotEquals\",\n",
    "    \"IsGreaterPercentil\", \"IsLowerPercentil\", \"IsGreaterCount\", \"IsLowerCount\", \"Not\"\n",
    "]\n",
    "\n",
    "def matches_suffix(key, indicators_list):\n",
    "    return any(key.endswith(f\".{ind}\") for ind in indicators_list)\n",
    "\n",
    "# --- XML MODIFICACIÓN ---\n",
    "tree = ET.parse(config_path)\n",
    "root = tree.getroot()\n",
    "blocks_root = root.find(\".//BuildingBlocks\")\n",
    "\n",
    "if blocks_root is not None:\n",
    "    for block in blocks_root.findall(\"Block\"):\n",
    "        key = block.attrib.get(\"key\", \"\")\n",
    "        category = block.attrib.get(\"category\", \"\").lower()\n",
    "\n",
    "        # Entry indicators y operadores\n",
    "        if category in [\"indicators\", \"signals\"]:\n",
    "            if matches_suffix(key, top_entry_indicators) or key in essential_indicator_operators:\n",
    "                block.set(\"use\", \"true\")\n",
    "            else:\n",
    "                block.set(\"use\", \"false\")\n",
    "\n",
    "        # Price indicators\n",
    "        elif category == \"stoplimitblocks\":\n",
    "            if matches_suffix(key, top_price_indicators):\n",
    "                block.set(\"use\", \"true\")\n",
    "            else:\n",
    "                block.set(\"use\", \"false\")\n",
    "\n",
    "# Guardar XML temporal en la ruta base\n",
    "temp_xml = os.path.join(base_path, \"config_temp.xml\")\n",
    "tree.write(temp_xml, encoding=\"utf-8\", xml_declaration=True)\n",
    "\n",
    "# Comprimir en .cfx dentro de la ruta base\n",
    "with zipfile.ZipFile(output_path, 'w', zipfile.ZIP_DEFLATED) as zipf:\n",
    "    zipf.write(temp_xml, arcname=\"config.xml\")\n",
    "\n",
    "# Eliminar el archivo temporal\n",
    "os.remove(temp_xml)"
   ]
  },
  {
   "cell_type": "code",
   "execution_count": null,
   "metadata": {},
   "outputs": [],
   "source": []
  }
 ],
 "metadata": {
  "kernelspec": {
   "display_name": "vscode",
   "language": "python",
   "name": "python3"
  },
  "language_info": {
   "codemirror_mode": {
    "name": "ipython",
    "version": 3
   },
   "file_extension": ".py",
   "mimetype": "text/x-python",
   "name": "python",
   "nbconvert_exporter": "python",
   "pygments_lexer": "ipython3",
   "version": "3.12.7"
  }
 },
 "nbformat": 4,
 "nbformat_minor": 2
}
