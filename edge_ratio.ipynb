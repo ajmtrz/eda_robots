{
 "cells": [
  {
   "cell_type": "code",
   "execution_count": 2,
   "metadata": {},
   "outputs": [
    {
     "data": {
      "application/vnd.microsoft.datawrangler.viewer.v0+json": {
       "columns": [
        {
         "name": "index",
         "rawType": "int64",
         "type": "integer"
        },
        {
         "name": "Top Entry Indicators",
         "rawType": "object",
         "type": "string"
        },
        {
         "name": "Entry Score",
         "rawType": "float64",
         "type": "float"
        },
        {
         "name": "Top Price Indicators",
         "rawType": "object",
         "type": "unknown"
        },
        {
         "name": "Price Score",
         "rawType": "float64",
         "type": "float"
        }
       ],
       "conversionMethod": "pd.DataFrame",
       "ref": "700b23a7-1f58-45f7-bf34-13098a6e1b43",
       "rows": [
        [
         "0",
         "LinearRegression",
         "220.72500000000002",
         "HeikenAshiClose",
         "187.425"
        ],
        [
         "1",
         "CloseM",
         "183.15",
         "BBWidthRatio",
         "183.15"
        ],
        [
         "2",
         "High",
         "179.175",
         "Open",
         "183.15"
        ],
        [
         "3",
         "Low",
         "179.175",
         "SmallestRange",
         "169.175"
        ],
        [
         "4",
         "GannHiLo",
         "169.175",
         "TrueRange",
         "157.075"
        ],
        [
         "5",
         "SessionHigh",
         "158.3",
         "KeltnerChannel",
         "131.8"
        ],
        [
         "6",
         "SessionLow",
         "158.3",
         "Fibo",
         "115.3"
        ],
        [
         "7",
         "SessionOpen",
         "143.05",
         "CloseM",
         "106.55000000000001"
        ],
        [
         "8",
         "KeltnerChannel",
         "131.8",
         "HighM",
         "98.85000000000001"
        ],
        [
         "9",
         "BarHour",
         "116.14999999999999",
         null,
         null
        ],
        [
         "10",
         "TrueRange",
         "98.85000000000001",
         null,
         null
        ]
       ],
       "shape": {
        "columns": 4,
        "rows": 11
       }
      },
      "text/html": [
       "<div>\n",
       "<style scoped>\n",
       "    .dataframe tbody tr th:only-of-type {\n",
       "        vertical-align: middle;\n",
       "    }\n",
       "\n",
       "    .dataframe tbody tr th {\n",
       "        vertical-align: top;\n",
       "    }\n",
       "\n",
       "    .dataframe thead th {\n",
       "        text-align: right;\n",
       "    }\n",
       "</style>\n",
       "<table border=\"1\" class=\"dataframe\">\n",
       "  <thead>\n",
       "    <tr style=\"text-align: right;\">\n",
       "      <th></th>\n",
       "      <th>Top Entry Indicators</th>\n",
       "      <th>Entry Score</th>\n",
       "      <th>Top Price Indicators</th>\n",
       "      <th>Price Score</th>\n",
       "    </tr>\n",
       "  </thead>\n",
       "  <tbody>\n",
       "    <tr>\n",
       "      <th>0</th>\n",
       "      <td>LinearRegression</td>\n",
       "      <td>220.725</td>\n",
       "      <td>HeikenAshiClose</td>\n",
       "      <td>187.425</td>\n",
       "    </tr>\n",
       "    <tr>\n",
       "      <th>1</th>\n",
       "      <td>CloseM</td>\n",
       "      <td>183.150</td>\n",
       "      <td>BBWidthRatio</td>\n",
       "      <td>183.150</td>\n",
       "    </tr>\n",
       "    <tr>\n",
       "      <th>2</th>\n",
       "      <td>High</td>\n",
       "      <td>179.175</td>\n",
       "      <td>Open</td>\n",
       "      <td>183.150</td>\n",
       "    </tr>\n",
       "    <tr>\n",
       "      <th>3</th>\n",
       "      <td>Low</td>\n",
       "      <td>179.175</td>\n",
       "      <td>SmallestRange</td>\n",
       "      <td>169.175</td>\n",
       "    </tr>\n",
       "    <tr>\n",
       "      <th>4</th>\n",
       "      <td>GannHiLo</td>\n",
       "      <td>169.175</td>\n",
       "      <td>TrueRange</td>\n",
       "      <td>157.075</td>\n",
       "    </tr>\n",
       "    <tr>\n",
       "      <th>5</th>\n",
       "      <td>SessionHigh</td>\n",
       "      <td>158.300</td>\n",
       "      <td>KeltnerChannel</td>\n",
       "      <td>131.800</td>\n",
       "    </tr>\n",
       "    <tr>\n",
       "      <th>6</th>\n",
       "      <td>SessionLow</td>\n",
       "      <td>158.300</td>\n",
       "      <td>Fibo</td>\n",
       "      <td>115.300</td>\n",
       "    </tr>\n",
       "    <tr>\n",
       "      <th>7</th>\n",
       "      <td>SessionOpen</td>\n",
       "      <td>143.050</td>\n",
       "      <td>CloseM</td>\n",
       "      <td>106.550</td>\n",
       "    </tr>\n",
       "    <tr>\n",
       "      <th>8</th>\n",
       "      <td>KeltnerChannel</td>\n",
       "      <td>131.800</td>\n",
       "      <td>HighM</td>\n",
       "      <td>98.850</td>\n",
       "    </tr>\n",
       "    <tr>\n",
       "      <th>9</th>\n",
       "      <td>BarHour</td>\n",
       "      <td>116.150</td>\n",
       "      <td>NaN</td>\n",
       "      <td>NaN</td>\n",
       "    </tr>\n",
       "    <tr>\n",
       "      <th>10</th>\n",
       "      <td>TrueRange</td>\n",
       "      <td>98.850</td>\n",
       "      <td>NaN</td>\n",
       "      <td>NaN</td>\n",
       "    </tr>\n",
       "  </tbody>\n",
       "</table>\n",
       "</div>"
      ],
      "text/plain": [
       "   Top Entry Indicators  Entry Score Top Price Indicators  Price Score\n",
       "0      LinearRegression      220.725      HeikenAshiClose      187.425\n",
       "1                CloseM      183.150         BBWidthRatio      183.150\n",
       "2                  High      179.175                 Open      183.150\n",
       "3                   Low      179.175        SmallestRange      169.175\n",
       "4              GannHiLo      169.175            TrueRange      157.075\n",
       "5           SessionHigh      158.300       KeltnerChannel      131.800\n",
       "6            SessionLow      158.300                 Fibo      115.300\n",
       "7           SessionOpen      143.050               CloseM      106.550\n",
       "8        KeltnerChannel      131.800                HighM       98.850\n",
       "9               BarHour      116.150                  NaN          NaN\n",
       "10            TrueRange       98.850                  NaN          NaN"
      ]
     },
     "metadata": {},
     "output_type": "display_data"
    }
   ],
   "source": [
    "import pandas as pd\n",
    "\n",
    "# Ruta del archivo CSV exportado desde StrategyQuant\n",
    "file_path = '/mnt/c/Users/Administrador/Downloads/DatabankExport.csv'\n",
    "\n",
    "# Cargar el CSV (con delimitador \";\")\n",
    "df = pd.read_csv(file_path, delimiter=';', encoding='utf-8')\n",
    "\n",
    "# Función para procesar indicadores\n",
    "def process_indicators(column_name):\n",
    "    # Separar múltiples indicadores y \"explotarlos\" en filas individuales\n",
    "    expanded = df.assign(**{column_name: df[column_name].str.split(',')}).explode(column_name)\n",
    "\n",
    "    # Agrupar por nombre de indicador y calcular promedios\n",
    "    grouped = expanded.groupby(column_name).agg({\n",
    "        'Edge Ratio': 'mean',\n",
    "        'Ret/DD Ratio': 'mean',\n",
    "        'Profit factor': 'mean',\n",
    "        column_name: 'count'  # cuántas veces aparece\n",
    "    }).rename(columns={\n",
    "        'Edge Ratio': 'Avg_EdgeRatio',\n",
    "        'Ret/DD Ratio': 'Avg_RetDD',\n",
    "        'Profit factor': 'Avg_ProfitFactor',\n",
    "        column_name: 'Count'\n",
    "    })\n",
    "\n",
    "    # Calcular score ponderado\n",
    "    grouped['Score'] = (\n",
    "        grouped['Avg_EdgeRatio'] * 20 +\n",
    "        grouped['Avg_RetDD'] * 15 +\n",
    "        grouped['Avg_ProfitFactor'] * 15 +\n",
    "        grouped['Count'] * 50\n",
    "    )\n",
    "\n",
    "    # Seleccionar los 15 mejores\n",
    "    return grouped.sort_values(by='Score', ascending=False).head(15)\n",
    "\n",
    "# Procesar ambos tipos de indicadores\n",
    "top_entry_indicators = process_indicators('Entry indicators')\n",
    "top_price_indicators = process_indicators('Price indicators')\n",
    "\n",
    "# Preparar resultados para mostrar\n",
    "entry = top_entry_indicators.reset_index()\n",
    "price = top_price_indicators.reset_index()\n",
    "\n",
    "# Rellenar si hay diferencias de longitud\n",
    "max_len = max(len(entry), len(price))\n",
    "entry = entry.reindex(range(max_len))\n",
    "price = price.reindex(range(max_len))\n",
    "\n",
    "# Combinar en DataFrame final\n",
    "result = pd.DataFrame({\n",
    "    'Top Entry Indicators': entry['Entry indicators'],\n",
    "    'Entry Score': entry['Score'],\n",
    "    'Top Price Indicators': price['Price indicators'],\n",
    "    'Price Score': price['Score']\n",
    "})\n",
    "# Mostrar los resultados ordenados\n",
    "display(result)"
   ]
  }
 ],
 "metadata": {
  "kernelspec": {
   "display_name": "vscode",
   "language": "python",
   "name": "python3"
  },
  "language_info": {
   "codemirror_mode": {
    "name": "ipython",
    "version": 3
   },
   "file_extension": ".py",
   "mimetype": "text/x-python",
   "name": "python",
   "nbconvert_exporter": "python",
   "pygments_lexer": "ipython3",
   "version": "3.12.7"
  }
 },
 "nbformat": 4,
 "nbformat_minor": 2
}
