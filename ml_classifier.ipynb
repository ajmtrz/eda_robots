{
 "cells": [
  {
   "cell_type": "markdown",
   "metadata": {},
   "source": [
    "## Importar librerías"
   ]
  },
  {
   "cell_type": "code",
   "execution_count": 158,
   "metadata": {},
   "outputs": [],
   "source": [
    "import os\n",
    "import numpy as np\n",
    "import pandas as pd\n",
    "from sklearn.preprocessing import StandardScaler\n",
    "from sklearn.model_selection import train_test_split\n",
    "from sklearn.feature_selection import SelectFromModel\n",
    "from sklearn.model_selection import GridSearchCV\n",
    "from sklearn.metrics import accuracy_score, classification_report, confusion_matrix\n",
    "import matplotlib.pyplot as plt\n",
    "import seaborn as sns\n",
    "import xgboost as xgb\n",
    "import lightgbm as lgb\n",
    "from sklearn.pipeline import Pipeline\n",
    "from skl2onnx.common.data_types import FloatTensorType\n",
    "from skl2onnx import convert_sklearn, to_onnx, update_registered_converter\n",
    "from skl2onnx.common.shape_calculator import calculate_linear_classifier_output_shapes\n",
    "from onnxmltools.convert.xgboost.operator_converters.XGBoost import convert_xgboost\n",
    "from onnxmltools.convert import convert_xgboost as convert_xgboost_booster\n",
    "from onnxmltools.convert import convert_lightgbm\n",
    "from onnxmltools.convert.lightgbm.operator_converters.LightGbm import convert_lightgbm\n",
    "import warnings\n",
    "warnings.filterwarnings('ignore')"
   ]
  },
  {
   "cell_type": "code",
   "execution_count": 152,
   "metadata": {},
   "outputs": [
    {
     "name": "stdout",
     "output_type": "stream",
     "text": [
      "Buy -> Trades: 1242 Features: 60\n",
      "Sell -> Trades: 650 Features: 60\n"
     ]
    }
   ],
   "source": [
    "# Cargar\n",
    "tester_files_folder = \"C:/Users/Administrador/AppData/Roaming/MetaQuotes/Tester/6C3C6A11D1C3791DD4DBF45421BF8028/Agent-127.0.0.1-3000/MQL5/Files\"\n",
    "df_buy = pd.read_csv(os.path.join(tester_files_folder, \"buy_dataset.csv\"))\n",
    "df_sell = pd.read_csv(os.path.join(tester_files_folder, \"sell_dataset.csv\"))\n",
    "print(f\"Buy -> Trades: {df_buy.shape[0]} Features: {df_buy.shape[1]-1}\")\n",
    "print(f\"Sell -> Trades: {df_sell.shape[0]} Features: {df_sell.shape[1]-1}\")"
   ]
  },
  {
   "cell_type": "code",
   "execution_count": 153,
   "metadata": {},
   "outputs": [],
   "source": [
    "# Dividir \n",
    "X_buy = df_buy.drop(columns='target').values\n",
    "y_buy = df_buy['target'].values\n",
    "X_buy_train, X_buy_test, y_buy_train, y_buy_test = train_test_split(X_buy, y_buy, test_size=0.2, random_state=42)\n",
    "X_sell = df_sell.drop(columns='target').values\n",
    "y_sell = df_sell['target'].values\n",
    "X_sell_train, X_sell_test, y_sell_train, y_sell_test = train_test_split(X_sell, y_sell, test_size=0.2, random_state=42)"
   ]
  },
  {
   "cell_type": "code",
   "execution_count": 154,
   "metadata": {},
   "outputs": [],
   "source": [
    "param_grid = {\n",
    "    'feature_selection__threshold': ['mean', 'median', 0.01, 0.02],\n",
    "    'xgb__n_estimators': [100, 200, 300, 500],\n",
    "    'xgb__max_depth': [3, 5, 7],\n",
    "    'xgb__learning_rate': [0.01, 0.1, 0.2],\n",
    "    'xgb__subsample': [0.6, 0.8, 1.0],\n",
    "    'xgb__colsample_bytree': [0.6, 0.8, 1.0],\n",
    "    'xgb__gamma': [0, 0.1, 0.2],\n",
    "    #'scaler__with_mean': [True, False],  # Hiperparámetro del escalador\n",
    "    #'scaler__with_std': [True, False]    # Hiperparámetro del escalador\n",
    "}\n"
   ]
  },
  {
   "cell_type": "code",
   "execution_count": 155,
   "metadata": {},
   "outputs": [
    {
     "name": "stdout",
     "output_type": "stream",
     "text": [
      "Fitting 5 folds for each of 64 candidates, totalling 320 fits\n",
      "Fitting 5 folds for each of 64 candidates, totalling 320 fits\n"
     ]
    }
   ],
   "source": [
    "# Crear pipe y entrenar\n",
    "pipe_buy = Pipeline([\n",
    "    (\"scaler\", StandardScaler()),\n",
    "    ('feature_selection', SelectFromModel(xgb.XGBClassifier(\n",
    "        use_label_encoder=False, eval_metric='mlogloss'\n",
    "    ))),\n",
    "    ('xgb', xgb.XGBClassifier(use_label_encoder=False, eval_metric='mlogloss'))\n",
    "    ])\n",
    "grid_search_buy = GridSearchCV(\n",
    "    estimator=pipe_buy,\n",
    "    param_grid=param_grid,\n",
    "    scoring='accuracy',\n",
    "    cv=5,\n",
    "    verbose=1,\n",
    "    n_jobs=-1\n",
    ")\n",
    "grid_search_buy.fit(X_buy_train, y_buy_train)\n",
    "model_buy = grid_search_buy.best_estimator_\n",
    "pipe_sell = Pipeline([\n",
    "    (\"scaler\", StandardScaler()),\n",
    "    ('feature_selection', SelectFromModel(xgb.XGBClassifier(\n",
    "        use_label_encoder=False, eval_metric='mlogloss'\n",
    "    ))),\n",
    "    ('xgb', xgb.XGBClassifier(use_label_encoder=False, eval_metric='mlogloss'))\n",
    "    ])\n",
    "grid_search_sell = GridSearchCV(\n",
    "    estimator=pipe_sell,\n",
    "    param_grid=param_grid,\n",
    "    scoring='accuracy',\n",
    "    cv=5,\n",
    "    verbose=1,\n",
    "    n_jobs=-1\n",
    ")\n",
    "grid_search_sell.fit(X_sell_train, y_sell_train)\n",
    "model_sell = grid_search_sell.best_estimator_"
   ]
  },
  {
   "cell_type": "code",
   "execution_count": 156,
   "metadata": {},
   "outputs": [],
   "source": [
    "update_registered_converter(\n",
    "    xgb.XGBClassifier,\n",
    "    \"XGBClassifier\",\n",
    "    calculate_linear_classifier_output_shapes,\n",
    "    convert_xgboost,\n",
    "    options={'nocl': [False], 'zipmap': [True, False, 'columns']}\n",
    ")"
   ]
  },
  {
   "cell_type": "code",
   "execution_count": 157,
   "metadata": {},
   "outputs": [],
   "source": [
    "model_buy_onnx = convert_sklearn(\n",
    "    model_buy,\n",
    "    'pipeline_buy_xgboost',\n",
    "    [('input', FloatTensorType([None, X_buy_train.shape[1]]))],\n",
    "    target_opset={'': 12, 'ai.onnx.ml': 2}\n",
    ")\n",
    "model_sell_onnx = convert_sklearn(\n",
    "    model_sell,\n",
    "    'pipeline_sell_xgboost',\n",
    "    [('input', FloatTensorType([None, X_buy_train.shape[1]]))],\n",
    "    target_opset={'': 12, 'ai.onnx.ml': 2}\n",
    ")\n",
    "mql5_files_folder = \"C:/Users/Administrador/AppData/Roaming/MetaQuotes/Terminal/6C3C6A11D1C3791DD4DBF45421BF8028/MQL5/Files\"\n",
    "with open(os.path.join(mql5_files_folder, \"xgboost_buy.onnx\"), 'wb') as f:\n",
    "    f.write(model_buy_onnx.SerializeToString())\n",
    "with open(os.path.join(mql5_files_folder, \"xgboost_sell.onnx\"), 'wb') as f:\n",
    "    f.write(model_sell_onnx.SerializeToString())"
   ]
  }
 ],
 "metadata": {
  "kernelspec": {
   "display_name": "vscode",
   "language": "python",
   "name": "python3"
  },
  "language_info": {
   "codemirror_mode": {
    "name": "ipython",
    "version": 3
   },
   "file_extension": ".py",
   "mimetype": "text/x-python",
   "name": "python",
   "nbconvert_exporter": "python",
   "pygments_lexer": "ipython3",
   "version": "3.10.14"
  }
 },
 "nbformat": 4,
 "nbformat_minor": 2
}
