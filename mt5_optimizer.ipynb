{
 "cells": [
  {
   "cell_type": "code",
   "execution_count": 1,
   "metadata": {},
   "outputs": [
    {
     "data": {
      "text/plain": [
       "Pass                         3047\n",
       "Result                98.19447754\n",
       "Profit               522.79773106\n",
       "Expected Payoff          6.878918\n",
       "Profit Factor            6.471056\n",
       "Recovery Factor          8.342339\n",
       "Sharpe Ratio            11.063829\n",
       "Custom                          0\n",
       "Equity DD %               14.1106\n",
       "Trades                         76\n",
       "max_orders                      4\n",
       "orders_time_delay               8\n",
       "max_spread                    188\n",
       "stoploss                     3750\n",
       "takeprofit                   1149\n",
       "Score                   24.466164\n",
       "Name: 3046, dtype: object"
      ]
     },
     "execution_count": 1,
     "metadata": {},
     "output_type": "execute_result"
    }
   ],
   "source": [
    "import xml.etree.ElementTree as ET\n",
    "import pandas as pd\n",
    "# Cargar y parsear el XML manualmente\n",
    "tree = ET.parse(\"/mnt/c/Users/Administrador/Downloads/ReportOptimizer-4842620.xml\")\n",
    "root = tree.getroot()\n",
    "\n",
    "# Extraer datos de la hoja \"Tester Optimizator Results\"\n",
    "ns = {'ss': 'urn:schemas-microsoft-com:office:spreadsheet'}\n",
    "rows = root.findall(\".//ss:Worksheet[@ss:Name='Tester Optimizator Results']/ss:Table/ss:Row\", ns)\n",
    "\n",
    "# Leer encabezados\n",
    "headers = [cell.find(\"ss:Data\", ns).text for cell in rows[0]]\n",
    "\n",
    "# Extraer datos\n",
    "data = []\n",
    "for row in rows[1:]:\n",
    "    values = []\n",
    "    for cell in row.findall(\"ss:Cell\", ns):\n",
    "        data_elem = cell.find(\"ss:Data\", ns)\n",
    "        values.append(data_elem.text if data_elem is not None else None)\n",
    "    data.append(values)\n",
    "\n",
    "# Crear DataFrame\n",
    "df = pd.DataFrame(data, columns=headers)\n",
    "df = df.dropna(how='all')  # eliminar filas completamente vacías\n",
    "# Convertir columnas numéricas necesarias a tipo float\n",
    "cols_to_convert = [\n",
    "    \"Sharpe Ratio\", \"Profit Factor\", \"Recovery Factor\", \"Equity DD %\"\n",
    "]\n",
    "for col in cols_to_convert:\n",
    "    df[col] = pd.to_numeric(df[col], errors='coerce')\n",
    "\n",
    "# Calcular el score compuesto\n",
    "df[\"Score\"] = (\n",
    "    df[\"Sharpe Ratio\"] +\n",
    "    df[\"Profit Factor\"] +\n",
    "    df[\"Recovery Factor\"] -\n",
    "    (df[\"Equity DD %\"] / 10)\n",
    ")\n",
    "\n",
    "# Ordenar por score descendente\n",
    "best_result = df.sort_values(by=\"Score\", ascending=False).iloc[0]\n",
    "\n",
    "best_result"
   ]
  },
  {
   "cell_type": "code",
   "execution_count": null,
   "metadata": {},
   "outputs": [],
   "source": []
  }
 ],
 "metadata": {
  "kernelspec": {
   "display_name": "vscode",
   "language": "python",
   "name": "python3"
  },
  "language_info": {
   "codemirror_mode": {
    "name": "ipython",
    "version": 3
   },
   "file_extension": ".py",
   "mimetype": "text/x-python",
   "name": "python",
   "nbconvert_exporter": "python",
   "pygments_lexer": "ipython3",
   "version": "3.12.7"
  }
 },
 "nbformat": 4,
 "nbformat_minor": 2
}
