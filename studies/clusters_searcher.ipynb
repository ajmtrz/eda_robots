{
 "cells": [
  {
   "cell_type": "markdown",
   "id": "d5302a1a",
   "metadata": {},
   "source": [
    "## Importaciones"
   ]
  },
  {
   "cell_type": "code",
   "execution_count": 1,
   "id": "eed4c641",
   "metadata": {},
   "outputs": [],
   "source": [
    "import os\n",
    "import time\n",
    "import math\n",
    "import numpy as np\n",
    "from numba import njit\n",
    "import pandas as pd\n",
    "from scipy.stats import skew, kurtosis\n",
    "from datetime import datetime\n",
    "from typing import Dict, Any, Tuple, List\n",
    "import optuna\n",
    "from catboost import CatBoostClassifier\n",
    "from sklearn.utils.class_weight import compute_class_weight\n",
    "from sklearn.model_selection import train_test_split\n",
    "from modules.labeling_lib import get_labels_one_direction\n",
    "from modules.labeling_lib import sliding_window_clustering\n",
    "from modules.tester_lib import tester_one_direction\n",
    "from modules.export_lib import export_model_to_ONNX\n",
    "import warnings\n",
    "warnings.filterwarnings(\"ignore\")"
   ]
  },
  {
   "cell_type": "code",
   "execution_count": 2,
   "id": "73cac365",
   "metadata": {},
   "outputs": [],
   "source": [
    "# Obtener precios\n",
    "def get_prices(hyper_params) -> pd.DataFrame:\n",
    "    history_file = os.path.join(hyper_params[\"history_path\"], f\"{hyper_params['symbol']}_{hyper_params['timeframe']}.csv\")\n",
    "    p = pd.read_csv(history_file, sep=r\"\\s+\")\n",
    "    pFixed = pd.DataFrame(columns=['time', 'close'])\n",
    "    pFixed['time'] = p['<DATE>'] + ' ' + p['<TIME>']\n",
    "    pFixed['time'] = pd.to_datetime(pFixed['time'], format='mixed')\n",
    "    pFixed['close'] = p['<CLOSE>']\n",
    "    pFixed.set_index('time', inplace=True)\n",
    "    return pFixed.dropna()\n",
    "# Ingeniería de características\n",
    "@njit\n",
    "def compute_features(close, periods, periods_meta):\n",
    "    n = len(close)\n",
    "    total_features = len(periods) + len(periods_meta)\n",
    "    features = np.full((n, total_features), np.nan)\n",
    "    col = 0\n",
    "\n",
    "    def std_manual(x):\n",
    "        m = np.mean(x)\n",
    "        return np.sqrt(np.sum((x - m) ** 2) / (x.size - 1))\n",
    "\n",
    "    def skew_manual(x):\n",
    "        m = np.mean(x)\n",
    "        s = std_manual(x)\n",
    "        return np.mean(((x - m) / s) ** 3) if s != 0 else 0.0\n",
    "\n",
    "    def kurt_manual(x):\n",
    "        m = np.mean(x)\n",
    "        s = std_manual(x)\n",
    "        return np.mean(((x - m) / s) ** 4) - 3 if s != 0 else 0.0\n",
    "\n",
    "    # Procesar períodos normales\n",
    "    for win in periods:\n",
    "        for i in range(win, n):\n",
    "            window = close[i - win:i]\n",
    "            features[i, col]     = std_manual(window)\n",
    "        col += 1\n",
    "\n",
    "    # Procesar períodos meta\n",
    "    for win in periods_meta:\n",
    "        for i in range(win, n):\n",
    "            window = close[i - win:i]\n",
    "            features[i, col]     = std_manual(window)\n",
    "        col += 1\n",
    "\n",
    "    return features\n",
    "\n",
    "def get_features(data: pd.DataFrame, hp):\n",
    "    close = data['close'].values\n",
    "    index = data.index\n",
    "    periods = hp[\"periods\"]\n",
    "    periods_meta = hp[\"periods_meta\"]\n",
    "    feats = compute_features(close, np.array(periods), np.array(periods_meta))\n",
    "\n",
    "    # Nombres de columnas\n",
    "    colnames = []\n",
    "    stats = [\"std\", \"skew\", \"kurt\"]\n",
    "    for p in periods:\n",
    "        colnames.extend([f\"{p}_{stats[0]}_feature\"])\n",
    "    for p in periods_meta:\n",
    "        colnames.extend([f\"{p}_{stats[0]}_meta_feature\"])\n",
    "    df = pd.DataFrame(feats, columns=colnames, index=index)\n",
    "    df[\"close\"] = data[\"close\"]\n",
    "    return df.dropna()\n",
    "    \n",
    "def test_model_one_direction(\n",
    "        dataset: pd.DataFrame,\n",
    "        result:  list,\n",
    "        forward: datetime,\n",
    "        backward: datetime,\n",
    "        markup:  float,\n",
    "        direction: str,\n",
    "        plt: bool = False):\n",
    "\n",
    "    pr_tst = dataset.copy()\n",
    "    X = pr_tst.drop(columns=['close'])\n",
    "    X_meta = X.loc[:,  X.columns.str.contains('meta_feature')]\n",
    "    X      = X.loc[:, ~X.columns.str.contains('meta_feature')]\n",
    "\n",
    "    pr_tst['labels']      = result[0].predict_proba(X)[:,1]\n",
    "    pr_tst['meta_labels'] = result[1].predict_proba(X_meta)[:,1]\n",
    "\n",
    "    # Corrección aquí:\n",
    "    pr_tst[['labels', 'meta_labels']] = (pr_tst[['labels', 'meta_labels']] >= 0.5).astype(float)\n",
    "\n",
    "    return tester_one_direction(pr_tst, forward, backward, markup, direction, plt)"
   ]
  },
  {
   "cell_type": "markdown",
   "id": "15736753",
   "metadata": {},
   "source": [
    "## Main"
   ]
  },
  {
   "cell_type": "code",
   "execution_count": 3,
   "id": "0e880b09",
   "metadata": {},
   "outputs": [
    {
     "name": "stderr",
     "output_type": "stream",
     "text": [
      "[I 2025-04-19 15:15:08,111] A new study created in memory with name: no-name-04f65bee-b831-408a-aba8-5185c46cbcd3\n"
     ]
    },
    {
     "data": {
      "application/vnd.jupyter.widget-view+json": {
       "model_id": "2c41468dec8c406d867e740630dac360",
       "version_major": 2,
       "version_minor": 0
      },
      "text/plain": [
       "  0%|          | 0/1 [00:00<?, ?it/s]"
      ]
     },
     "metadata": {},
     "output_type": "display_data"
    },
    {
     "data": {
      "application/vnd.microsoft.datawrangler.viewer.v0+json": {
       "columns": [
        {
         "name": "time",
         "rawType": "datetime64[ns]",
         "type": "datetime"
        },
        {
         "name": "5_std_feature",
         "rawType": "float64",
         "type": "float"
        },
        {
         "name": "35_std_feature",
         "rawType": "float64",
         "type": "float"
        },
        {
         "name": "65_std_feature",
         "rawType": "float64",
         "type": "float"
        },
        {
         "name": "95_std_feature",
         "rawType": "float64",
         "type": "float"
        },
        {
         "name": "125_std_feature",
         "rawType": "float64",
         "type": "float"
        },
        {
         "name": "155_std_feature",
         "rawType": "float64",
         "type": "float"
        },
        {
         "name": "185_std_feature",
         "rawType": "float64",
         "type": "float"
        },
        {
         "name": "215_std_feature",
         "rawType": "float64",
         "type": "float"
        },
        {
         "name": "245_std_feature",
         "rawType": "float64",
         "type": "float"
        },
        {
         "name": "275_std_feature",
         "rawType": "float64",
         "type": "float"
        }
       ],
       "conversionMethod": "pd.DataFrame",
       "ref": "b4208233-93f9-4625-acdc-a3fdec0b9dcc",
       "rows": [
        [
         "2020-03-26 01:00:00",
         "3.0861675262369967",
         "10.277813651033862",
         "45.535968739431276",
         "56.34452297373489",
         "56.64499008761328",
         "52.6921621385352",
         "49.70449988081441",
         "49.29611106249334",
         "59.19562724309892",
         "65.97943495870871"
        ]
       ],
       "shape": {
        "columns": 10,
        "rows": 1
       }
      },
      "text/html": [
       "<div>\n",
       "<style scoped>\n",
       "    .dataframe tbody tr th:only-of-type {\n",
       "        vertical-align: middle;\n",
       "    }\n",
       "\n",
       "    .dataframe tbody tr th {\n",
       "        vertical-align: top;\n",
       "    }\n",
       "\n",
       "    .dataframe thead th {\n",
       "        text-align: right;\n",
       "    }\n",
       "</style>\n",
       "<table border=\"1\" class=\"dataframe\">\n",
       "  <thead>\n",
       "    <tr style=\"text-align: right;\">\n",
       "      <th></th>\n",
       "      <th>5_std_feature</th>\n",
       "      <th>35_std_feature</th>\n",
       "      <th>65_std_feature</th>\n",
       "      <th>95_std_feature</th>\n",
       "      <th>125_std_feature</th>\n",
       "      <th>155_std_feature</th>\n",
       "      <th>185_std_feature</th>\n",
       "      <th>215_std_feature</th>\n",
       "      <th>245_std_feature</th>\n",
       "      <th>275_std_feature</th>\n",
       "    </tr>\n",
       "    <tr>\n",
       "      <th>time</th>\n",
       "      <th></th>\n",
       "      <th></th>\n",
       "      <th></th>\n",
       "      <th></th>\n",
       "      <th></th>\n",
       "      <th></th>\n",
       "      <th></th>\n",
       "      <th></th>\n",
       "      <th></th>\n",
       "      <th></th>\n",
       "    </tr>\n",
       "  </thead>\n",
       "  <tbody>\n",
       "    <tr>\n",
       "      <th>2020-03-26 01:00:00</th>\n",
       "      <td>3.086168</td>\n",
       "      <td>10.277814</td>\n",
       "      <td>45.535969</td>\n",
       "      <td>56.344523</td>\n",
       "      <td>56.64499</td>\n",
       "      <td>52.692162</td>\n",
       "      <td>49.7045</td>\n",
       "      <td>49.296111</td>\n",
       "      <td>59.195627</td>\n",
       "      <td>65.979435</td>\n",
       "    </tr>\n",
       "  </tbody>\n",
       "</table>\n",
       "</div>"
      ],
      "text/plain": [
       "                     5_std_feature  35_std_feature  65_std_feature  \\\n",
       "time                                                                 \n",
       "2020-03-26 01:00:00       3.086168       10.277814       45.535969   \n",
       "\n",
       "                     95_std_feature  125_std_feature  155_std_feature  \\\n",
       "time                                                                    \n",
       "2020-03-26 01:00:00       56.344523         56.64499        52.692162   \n",
       "\n",
       "                     185_std_feature  215_std_feature  245_std_feature  \\\n",
       "time                                                                     \n",
       "2020-03-26 01:00:00          49.7045        49.296111        59.195627   \n",
       "\n",
       "                     275_std_feature  \n",
       "time                                  \n",
       "2020-03-26 01:00:00        65.979435  "
      ]
     },
     "metadata": {},
     "output_type": "display_data"
    },
    {
     "data": {
      "application/vnd.microsoft.datawrangler.viewer.v0+json": {
       "columns": [
        {
         "name": "time",
         "rawType": "datetime64[ns]",
         "type": "datetime"
        },
        {
         "name": "5_std_meta_feature",
         "rawType": "float64",
         "type": "float"
        }
       ],
       "conversionMethod": "pd.DataFrame",
       "ref": "96536757-b862-48bc-b932-cade1fe66636",
       "rows": [
        [
         "2020-03-26 01:00:00",
         "3.0861675262369967"
        ]
       ],
       "shape": {
        "columns": 1,
        "rows": 1
       }
      },
      "text/html": [
       "<div>\n",
       "<style scoped>\n",
       "    .dataframe tbody tr th:only-of-type {\n",
       "        vertical-align: middle;\n",
       "    }\n",
       "\n",
       "    .dataframe tbody tr th {\n",
       "        vertical-align: top;\n",
       "    }\n",
       "\n",
       "    .dataframe thead th {\n",
       "        text-align: right;\n",
       "    }\n",
       "</style>\n",
       "<table border=\"1\" class=\"dataframe\">\n",
       "  <thead>\n",
       "    <tr style=\"text-align: right;\">\n",
       "      <th></th>\n",
       "      <th>5_std_meta_feature</th>\n",
       "    </tr>\n",
       "    <tr>\n",
       "      <th>time</th>\n",
       "      <th></th>\n",
       "    </tr>\n",
       "  </thead>\n",
       "  <tbody>\n",
       "    <tr>\n",
       "      <th>2020-03-26 01:00:00</th>\n",
       "      <td>3.086168</td>\n",
       "    </tr>\n",
       "  </tbody>\n",
       "</table>\n",
       "</div>"
      ],
      "text/plain": [
       "                     5_std_meta_feature\n",
       "time                                   \n",
       "2020-03-26 01:00:00            3.086168"
      ]
     },
     "metadata": {},
     "output_type": "display_data"
    },
    {
     "data": {
      "application/vnd.microsoft.datawrangler.viewer.v0+json": {
       "columns": [
        {
         "name": "time",
         "rawType": "datetime64[ns]",
         "type": "datetime"
        },
        {
         "name": "5_std_feature",
         "rawType": "float64",
         "type": "float"
        },
        {
         "name": "35_std_feature",
         "rawType": "float64",
         "type": "float"
        },
        {
         "name": "65_std_feature",
         "rawType": "float64",
         "type": "float"
        },
        {
         "name": "95_std_feature",
         "rawType": "float64",
         "type": "float"
        },
        {
         "name": "125_std_feature",
         "rawType": "float64",
         "type": "float"
        },
        {
         "name": "155_std_feature",
         "rawType": "float64",
         "type": "float"
        },
        {
         "name": "185_std_feature",
         "rawType": "float64",
         "type": "float"
        },
        {
         "name": "215_std_feature",
         "rawType": "float64",
         "type": "float"
        },
        {
         "name": "245_std_feature",
         "rawType": "float64",
         "type": "float"
        },
        {
         "name": "275_std_feature",
         "rawType": "float64",
         "type": "float"
        }
       ],
       "conversionMethod": "pd.DataFrame",
       "ref": "137b8954-124c-4779-b0aa-6cedf96a34ae",
       "rows": [
        [
         "2020-04-27 18:00:00",
         "2.700616596260931",
         "5.658241746679426",
         "6.6677221488186165",
         "17.224792737145666",
         "18.83408796630675",
         "18.633196307489253",
         "18.105694357652737",
         "18.055461939800818",
         "17.829503583933988",
         "22.56762907607844"
        ]
       ],
       "shape": {
        "columns": 10,
        "rows": 1
       }
      },
      "text/html": [
       "<div>\n",
       "<style scoped>\n",
       "    .dataframe tbody tr th:only-of-type {\n",
       "        vertical-align: middle;\n",
       "    }\n",
       "\n",
       "    .dataframe tbody tr th {\n",
       "        vertical-align: top;\n",
       "    }\n",
       "\n",
       "    .dataframe thead th {\n",
       "        text-align: right;\n",
       "    }\n",
       "</style>\n",
       "<table border=\"1\" class=\"dataframe\">\n",
       "  <thead>\n",
       "    <tr style=\"text-align: right;\">\n",
       "      <th></th>\n",
       "      <th>5_std_feature</th>\n",
       "      <th>35_std_feature</th>\n",
       "      <th>65_std_feature</th>\n",
       "      <th>95_std_feature</th>\n",
       "      <th>125_std_feature</th>\n",
       "      <th>155_std_feature</th>\n",
       "      <th>185_std_feature</th>\n",
       "      <th>215_std_feature</th>\n",
       "      <th>245_std_feature</th>\n",
       "      <th>275_std_feature</th>\n",
       "    </tr>\n",
       "    <tr>\n",
       "      <th>time</th>\n",
       "      <th></th>\n",
       "      <th></th>\n",
       "      <th></th>\n",
       "      <th></th>\n",
       "      <th></th>\n",
       "      <th></th>\n",
       "      <th></th>\n",
       "      <th></th>\n",
       "      <th></th>\n",
       "      <th></th>\n",
       "    </tr>\n",
       "  </thead>\n",
       "  <tbody>\n",
       "    <tr>\n",
       "      <th>2020-04-27 18:00:00</th>\n",
       "      <td>2.700617</td>\n",
       "      <td>5.658242</td>\n",
       "      <td>6.667722</td>\n",
       "      <td>17.224793</td>\n",
       "      <td>18.834088</td>\n",
       "      <td>18.633196</td>\n",
       "      <td>18.105694</td>\n",
       "      <td>18.055462</td>\n",
       "      <td>17.829504</td>\n",
       "      <td>22.567629</td>\n",
       "    </tr>\n",
       "  </tbody>\n",
       "</table>\n",
       "</div>"
      ],
      "text/plain": [
       "                     5_std_feature  35_std_feature  65_std_feature  \\\n",
       "time                                                                 \n",
       "2020-04-27 18:00:00       2.700617        5.658242        6.667722   \n",
       "\n",
       "                     95_std_feature  125_std_feature  155_std_feature  \\\n",
       "time                                                                    \n",
       "2020-04-27 18:00:00       17.224793        18.834088        18.633196   \n",
       "\n",
       "                     185_std_feature  215_std_feature  245_std_feature  \\\n",
       "time                                                                     \n",
       "2020-04-27 18:00:00        18.105694        18.055462        17.829504   \n",
       "\n",
       "                     275_std_feature  \n",
       "time                                  \n",
       "2020-04-27 18:00:00        22.567629  "
      ]
     },
     "metadata": {},
     "output_type": "display_data"
    },
    {
     "data": {
      "application/vnd.microsoft.datawrangler.viewer.v0+json": {
       "columns": [
        {
         "name": "time",
         "rawType": "datetime64[ns]",
         "type": "datetime"
        },
        {
         "name": "5_std_meta_feature",
         "rawType": "float64",
         "type": "float"
        }
       ],
       "conversionMethod": "pd.DataFrame",
       "ref": "d2b984be-df49-44b1-bfe0-a59d7d567852",
       "rows": [
        [
         "2020-04-27 18:00:00",
         "2.700616596260931"
        ]
       ],
       "shape": {
        "columns": 1,
        "rows": 1
       }
      },
      "text/html": [
       "<div>\n",
       "<style scoped>\n",
       "    .dataframe tbody tr th:only-of-type {\n",
       "        vertical-align: middle;\n",
       "    }\n",
       "\n",
       "    .dataframe tbody tr th {\n",
       "        vertical-align: top;\n",
       "    }\n",
       "\n",
       "    .dataframe thead th {\n",
       "        text-align: right;\n",
       "    }\n",
       "</style>\n",
       "<table border=\"1\" class=\"dataframe\">\n",
       "  <thead>\n",
       "    <tr style=\"text-align: right;\">\n",
       "      <th></th>\n",
       "      <th>5_std_meta_feature</th>\n",
       "    </tr>\n",
       "    <tr>\n",
       "      <th>time</th>\n",
       "      <th></th>\n",
       "    </tr>\n",
       "  </thead>\n",
       "  <tbody>\n",
       "    <tr>\n",
       "      <th>2020-04-27 18:00:00</th>\n",
       "      <td>2.700617</td>\n",
       "    </tr>\n",
       "  </tbody>\n",
       "</table>\n",
       "</div>"
      ],
      "text/plain": [
       "                     5_std_meta_feature\n",
       "time                                   \n",
       "2020-04-27 18:00:00            2.700617"
      ]
     },
     "metadata": {},
     "output_type": "display_data"
    },
    {
     "data": {
      "application/vnd.microsoft.datawrangler.viewer.v0+json": {
       "columns": [
        {
         "name": "time",
         "rawType": "datetime64[ns]",
         "type": "datetime"
        },
        {
         "name": "5_std_feature",
         "rawType": "float64",
         "type": "float"
        },
        {
         "name": "35_std_feature",
         "rawType": "float64",
         "type": "float"
        },
        {
         "name": "65_std_feature",
         "rawType": "float64",
         "type": "float"
        },
        {
         "name": "95_std_feature",
         "rawType": "float64",
         "type": "float"
        },
        {
         "name": "125_std_feature",
         "rawType": "float64",
         "type": "float"
        },
        {
         "name": "155_std_feature",
         "rawType": "float64",
         "type": "float"
        },
        {
         "name": "185_std_feature",
         "rawType": "float64",
         "type": "float"
        },
        {
         "name": "215_std_feature",
         "rawType": "float64",
         "type": "float"
        },
        {
         "name": "245_std_feature",
         "rawType": "float64",
         "type": "float"
        },
        {
         "name": "275_std_feature",
         "rawType": "float64",
         "type": "float"
        }
       ],
       "conversionMethod": "pd.DataFrame",
       "ref": "1ea02f9c-4c40-4e18-b7e1-4fcea80447ac",
       "rows": [
        [
         "2020-04-28 17:00:00",
         "5.163939387715497",
         "7.827095761981368",
         "10.034387325112808",
         "9.633384488731199",
         "16.829104600412133",
         "18.184795742719814",
         "17.473263708923934",
         "17.043739658649937",
         "17.099504210225817",
         "17.431739003461598"
        ]
       ],
       "shape": {
        "columns": 10,
        "rows": 1
       }
      },
      "text/html": [
       "<div>\n",
       "<style scoped>\n",
       "    .dataframe tbody tr th:only-of-type {\n",
       "        vertical-align: middle;\n",
       "    }\n",
       "\n",
       "    .dataframe tbody tr th {\n",
       "        vertical-align: top;\n",
       "    }\n",
       "\n",
       "    .dataframe thead th {\n",
       "        text-align: right;\n",
       "    }\n",
       "</style>\n",
       "<table border=\"1\" class=\"dataframe\">\n",
       "  <thead>\n",
       "    <tr style=\"text-align: right;\">\n",
       "      <th></th>\n",
       "      <th>5_std_feature</th>\n",
       "      <th>35_std_feature</th>\n",
       "      <th>65_std_feature</th>\n",
       "      <th>95_std_feature</th>\n",
       "      <th>125_std_feature</th>\n",
       "      <th>155_std_feature</th>\n",
       "      <th>185_std_feature</th>\n",
       "      <th>215_std_feature</th>\n",
       "      <th>245_std_feature</th>\n",
       "      <th>275_std_feature</th>\n",
       "    </tr>\n",
       "    <tr>\n",
       "      <th>time</th>\n",
       "      <th></th>\n",
       "      <th></th>\n",
       "      <th></th>\n",
       "      <th></th>\n",
       "      <th></th>\n",
       "      <th></th>\n",
       "      <th></th>\n",
       "      <th></th>\n",
       "      <th></th>\n",
       "      <th></th>\n",
       "    </tr>\n",
       "  </thead>\n",
       "  <tbody>\n",
       "    <tr>\n",
       "      <th>2020-04-28 17:00:00</th>\n",
       "      <td>5.163939</td>\n",
       "      <td>7.827096</td>\n",
       "      <td>10.034387</td>\n",
       "      <td>9.633384</td>\n",
       "      <td>16.829105</td>\n",
       "      <td>18.184796</td>\n",
       "      <td>17.473264</td>\n",
       "      <td>17.04374</td>\n",
       "      <td>17.099504</td>\n",
       "      <td>17.431739</td>\n",
       "    </tr>\n",
       "  </tbody>\n",
       "</table>\n",
       "</div>"
      ],
      "text/plain": [
       "                     5_std_feature  35_std_feature  65_std_feature  \\\n",
       "time                                                                 \n",
       "2020-04-28 17:00:00       5.163939        7.827096       10.034387   \n",
       "\n",
       "                     95_std_feature  125_std_feature  155_std_feature  \\\n",
       "time                                                                    \n",
       "2020-04-28 17:00:00        9.633384        16.829105        18.184796   \n",
       "\n",
       "                     185_std_feature  215_std_feature  245_std_feature  \\\n",
       "time                                                                     \n",
       "2020-04-28 17:00:00        17.473264         17.04374        17.099504   \n",
       "\n",
       "                     275_std_feature  \n",
       "time                                  \n",
       "2020-04-28 17:00:00        17.431739  "
      ]
     },
     "metadata": {},
     "output_type": "display_data"
    },
    {
     "data": {
      "application/vnd.microsoft.datawrangler.viewer.v0+json": {
       "columns": [
        {
         "name": "time",
         "rawType": "datetime64[ns]",
         "type": "datetime"
        },
        {
         "name": "5_std_meta_feature",
         "rawType": "float64",
         "type": "float"
        }
       ],
       "conversionMethod": "pd.DataFrame",
       "ref": "501b2963-8cd3-4f97-afb5-b05ca980167f",
       "rows": [
        [
         "2020-04-28 17:00:00",
         "5.163939387715497"
        ]
       ],
       "shape": {
        "columns": 1,
        "rows": 1
       }
      },
      "text/html": [
       "<div>\n",
       "<style scoped>\n",
       "    .dataframe tbody tr th:only-of-type {\n",
       "        vertical-align: middle;\n",
       "    }\n",
       "\n",
       "    .dataframe tbody tr th {\n",
       "        vertical-align: top;\n",
       "    }\n",
       "\n",
       "    .dataframe thead th {\n",
       "        text-align: right;\n",
       "    }\n",
       "</style>\n",
       "<table border=\"1\" class=\"dataframe\">\n",
       "  <thead>\n",
       "    <tr style=\"text-align: right;\">\n",
       "      <th></th>\n",
       "      <th>5_std_meta_feature</th>\n",
       "    </tr>\n",
       "    <tr>\n",
       "      <th>time</th>\n",
       "      <th></th>\n",
       "    </tr>\n",
       "  </thead>\n",
       "  <tbody>\n",
       "    <tr>\n",
       "      <th>2020-04-28 17:00:00</th>\n",
       "      <td>5.163939</td>\n",
       "    </tr>\n",
       "  </tbody>\n",
       "</table>\n",
       "</div>"
      ],
      "text/plain": [
       "                     5_std_meta_feature\n",
       "time                                   \n",
       "2020-04-28 17:00:00            5.163939"
      ]
     },
     "metadata": {},
     "output_type": "display_data"
    },
    {
     "data": {
      "application/vnd.microsoft.datawrangler.viewer.v0+json": {
       "columns": [
        {
         "name": "time",
         "rawType": "datetime64[ns]",
         "type": "datetime"
        },
        {
         "name": "5_std_feature",
         "rawType": "float64",
         "type": "float"
        },
        {
         "name": "35_std_feature",
         "rawType": "float64",
         "type": "float"
        },
        {
         "name": "65_std_feature",
         "rawType": "float64",
         "type": "float"
        },
        {
         "name": "95_std_feature",
         "rawType": "float64",
         "type": "float"
        },
        {
         "name": "125_std_feature",
         "rawType": "float64",
         "type": "float"
        },
        {
         "name": "155_std_feature",
         "rawType": "float64",
         "type": "float"
        },
        {
         "name": "185_std_feature",
         "rawType": "float64",
         "type": "float"
        },
        {
         "name": "215_std_feature",
         "rawType": "float64",
         "type": "float"
        },
        {
         "name": "245_std_feature",
         "rawType": "float64",
         "type": "float"
        },
        {
         "name": "275_std_feature",
         "rawType": "float64",
         "type": "float"
        }
       ],
       "conversionMethod": "pd.DataFrame",
       "ref": "a1af1f3d-ecc1-4ace-b695-675d5314385f",
       "rows": [
        [
         "2020-04-29 01:00:00",
         "1.3763066518766358",
         "6.323710789659838",
         "10.02607068424039",
         "9.702527115654522",
         "15.950566976675766",
         "17.185519659458876",
         "17.238944880003334",
         "16.951274894592853",
         "17.030218304241746",
         "16.977614110465442"
        ]
       ],
       "shape": {
        "columns": 10,
        "rows": 1
       }
      },
      "text/html": [
       "<div>\n",
       "<style scoped>\n",
       "    .dataframe tbody tr th:only-of-type {\n",
       "        vertical-align: middle;\n",
       "    }\n",
       "\n",
       "    .dataframe tbody tr th {\n",
       "        vertical-align: top;\n",
       "    }\n",
       "\n",
       "    .dataframe thead th {\n",
       "        text-align: right;\n",
       "    }\n",
       "</style>\n",
       "<table border=\"1\" class=\"dataframe\">\n",
       "  <thead>\n",
       "    <tr style=\"text-align: right;\">\n",
       "      <th></th>\n",
       "      <th>5_std_feature</th>\n",
       "      <th>35_std_feature</th>\n",
       "      <th>65_std_feature</th>\n",
       "      <th>95_std_feature</th>\n",
       "      <th>125_std_feature</th>\n",
       "      <th>155_std_feature</th>\n",
       "      <th>185_std_feature</th>\n",
       "      <th>215_std_feature</th>\n",
       "      <th>245_std_feature</th>\n",
       "      <th>275_std_feature</th>\n",
       "    </tr>\n",
       "    <tr>\n",
       "      <th>time</th>\n",
       "      <th></th>\n",
       "      <th></th>\n",
       "      <th></th>\n",
       "      <th></th>\n",
       "      <th></th>\n",
       "      <th></th>\n",
       "      <th></th>\n",
       "      <th></th>\n",
       "      <th></th>\n",
       "      <th></th>\n",
       "    </tr>\n",
       "  </thead>\n",
       "  <tbody>\n",
       "    <tr>\n",
       "      <th>2020-04-29 01:00:00</th>\n",
       "      <td>1.376307</td>\n",
       "      <td>6.323711</td>\n",
       "      <td>10.026071</td>\n",
       "      <td>9.702527</td>\n",
       "      <td>15.950567</td>\n",
       "      <td>17.18552</td>\n",
       "      <td>17.238945</td>\n",
       "      <td>16.951275</td>\n",
       "      <td>17.030218</td>\n",
       "      <td>16.977614</td>\n",
       "    </tr>\n",
       "  </tbody>\n",
       "</table>\n",
       "</div>"
      ],
      "text/plain": [
       "                     5_std_feature  35_std_feature  65_std_feature  \\\n",
       "time                                                                 \n",
       "2020-04-29 01:00:00       1.376307        6.323711       10.026071   \n",
       "\n",
       "                     95_std_feature  125_std_feature  155_std_feature  \\\n",
       "time                                                                    \n",
       "2020-04-29 01:00:00        9.702527        15.950567         17.18552   \n",
       "\n",
       "                     185_std_feature  215_std_feature  245_std_feature  \\\n",
       "time                                                                     \n",
       "2020-04-29 01:00:00        17.238945        16.951275        17.030218   \n",
       "\n",
       "                     275_std_feature  \n",
       "time                                  \n",
       "2020-04-29 01:00:00        16.977614  "
      ]
     },
     "metadata": {},
     "output_type": "display_data"
    },
    {
     "data": {
      "application/vnd.microsoft.datawrangler.viewer.v0+json": {
       "columns": [
        {
         "name": "time",
         "rawType": "datetime64[ns]",
         "type": "datetime"
        },
        {
         "name": "5_std_meta_feature",
         "rawType": "float64",
         "type": "float"
        }
       ],
       "conversionMethod": "pd.DataFrame",
       "ref": "62cec9f3-d5fe-45c0-b2e6-f53f88c9f594",
       "rows": [
        [
         "2020-04-29 01:00:00",
         "1.3763066518766358"
        ]
       ],
       "shape": {
        "columns": 1,
        "rows": 1
       }
      },
      "text/html": [
       "<div>\n",
       "<style scoped>\n",
       "    .dataframe tbody tr th:only-of-type {\n",
       "        vertical-align: middle;\n",
       "    }\n",
       "\n",
       "    .dataframe tbody tr th {\n",
       "        vertical-align: top;\n",
       "    }\n",
       "\n",
       "    .dataframe thead th {\n",
       "        text-align: right;\n",
       "    }\n",
       "</style>\n",
       "<table border=\"1\" class=\"dataframe\">\n",
       "  <thead>\n",
       "    <tr style=\"text-align: right;\">\n",
       "      <th></th>\n",
       "      <th>5_std_meta_feature</th>\n",
       "    </tr>\n",
       "    <tr>\n",
       "      <th>time</th>\n",
       "      <th></th>\n",
       "    </tr>\n",
       "  </thead>\n",
       "  <tbody>\n",
       "    <tr>\n",
       "      <th>2020-04-29 01:00:00</th>\n",
       "      <td>1.376307</td>\n",
       "    </tr>\n",
       "  </tbody>\n",
       "</table>\n",
       "</div>"
      ],
      "text/plain": [
       "                     5_std_meta_feature\n",
       "time                                   \n",
       "2020-04-29 01:00:00            1.376307"
      ]
     },
     "metadata": {},
     "output_type": "display_data"
    },
    {
     "data": {
      "application/vnd.microsoft.datawrangler.viewer.v0+json": {
       "columns": [
        {
         "name": "time",
         "rawType": "datetime64[ns]",
         "type": "datetime"
        },
        {
         "name": "5_std_feature",
         "rawType": "float64",
         "type": "float"
        },
        {
         "name": "35_std_feature",
         "rawType": "float64",
         "type": "float"
        },
        {
         "name": "65_std_feature",
         "rawType": "float64",
         "type": "float"
        },
        {
         "name": "95_std_feature",
         "rawType": "float64",
         "type": "float"
        },
        {
         "name": "125_std_feature",
         "rawType": "float64",
         "type": "float"
        },
        {
         "name": "155_std_feature",
         "rawType": "float64",
         "type": "float"
        },
        {
         "name": "185_std_feature",
         "rawType": "float64",
         "type": "float"
        },
        {
         "name": "215_std_feature",
         "rawType": "float64",
         "type": "float"
        },
        {
         "name": "245_std_feature",
         "rawType": "float64",
         "type": "float"
        },
        {
         "name": "275_std_feature",
         "rawType": "float64",
         "type": "float"
        }
       ],
       "conversionMethod": "pd.DataFrame",
       "ref": "8b74c01e-22c7-4b71-9fab-5f62da6260de",
       "rows": [
        [
         "2020-04-27 22:00:00",
         "0.6642062932553467",
         "6.543221587222614",
         "6.783052417323198",
         "15.379137959901977",
         "18.152327103281177",
         "18.61989808827543",
         "18.05906727947765",
         "17.985981931070025",
         "17.555048837552665",
         "21.60580267832966"
        ]
       ],
       "shape": {
        "columns": 10,
        "rows": 1
       }
      },
      "text/html": [
       "<div>\n",
       "<style scoped>\n",
       "    .dataframe tbody tr th:only-of-type {\n",
       "        vertical-align: middle;\n",
       "    }\n",
       "\n",
       "    .dataframe tbody tr th {\n",
       "        vertical-align: top;\n",
       "    }\n",
       "\n",
       "    .dataframe thead th {\n",
       "        text-align: right;\n",
       "    }\n",
       "</style>\n",
       "<table border=\"1\" class=\"dataframe\">\n",
       "  <thead>\n",
       "    <tr style=\"text-align: right;\">\n",
       "      <th></th>\n",
       "      <th>5_std_feature</th>\n",
       "      <th>35_std_feature</th>\n",
       "      <th>65_std_feature</th>\n",
       "      <th>95_std_feature</th>\n",
       "      <th>125_std_feature</th>\n",
       "      <th>155_std_feature</th>\n",
       "      <th>185_std_feature</th>\n",
       "      <th>215_std_feature</th>\n",
       "      <th>245_std_feature</th>\n",
       "      <th>275_std_feature</th>\n",
       "    </tr>\n",
       "    <tr>\n",
       "      <th>time</th>\n",
       "      <th></th>\n",
       "      <th></th>\n",
       "      <th></th>\n",
       "      <th></th>\n",
       "      <th></th>\n",
       "      <th></th>\n",
       "      <th></th>\n",
       "      <th></th>\n",
       "      <th></th>\n",
       "      <th></th>\n",
       "    </tr>\n",
       "  </thead>\n",
       "  <tbody>\n",
       "    <tr>\n",
       "      <th>2020-04-27 22:00:00</th>\n",
       "      <td>0.664206</td>\n",
       "      <td>6.543222</td>\n",
       "      <td>6.783052</td>\n",
       "      <td>15.379138</td>\n",
       "      <td>18.152327</td>\n",
       "      <td>18.619898</td>\n",
       "      <td>18.059067</td>\n",
       "      <td>17.985982</td>\n",
       "      <td>17.555049</td>\n",
       "      <td>21.605803</td>\n",
       "    </tr>\n",
       "  </tbody>\n",
       "</table>\n",
       "</div>"
      ],
      "text/plain": [
       "                     5_std_feature  35_std_feature  65_std_feature  \\\n",
       "time                                                                 \n",
       "2020-04-27 22:00:00       0.664206        6.543222        6.783052   \n",
       "\n",
       "                     95_std_feature  125_std_feature  155_std_feature  \\\n",
       "time                                                                    \n",
       "2020-04-27 22:00:00       15.379138        18.152327        18.619898   \n",
       "\n",
       "                     185_std_feature  215_std_feature  245_std_feature  \\\n",
       "time                                                                     \n",
       "2020-04-27 22:00:00        18.059067        17.985982        17.555049   \n",
       "\n",
       "                     275_std_feature  \n",
       "time                                  \n",
       "2020-04-27 22:00:00        21.605803  "
      ]
     },
     "metadata": {},
     "output_type": "display_data"
    },
    {
     "data": {
      "application/vnd.microsoft.datawrangler.viewer.v0+json": {
       "columns": [
        {
         "name": "time",
         "rawType": "datetime64[ns]",
         "type": "datetime"
        },
        {
         "name": "5_std_meta_feature",
         "rawType": "float64",
         "type": "float"
        }
       ],
       "conversionMethod": "pd.DataFrame",
       "ref": "3aa1ec35-d871-4377-a4ec-8acf91501b3d",
       "rows": [
        [
         "2020-04-27 22:00:00",
         "0.6642062932553467"
        ]
       ],
       "shape": {
        "columns": 1,
        "rows": 1
       }
      },
      "text/html": [
       "<div>\n",
       "<style scoped>\n",
       "    .dataframe tbody tr th:only-of-type {\n",
       "        vertical-align: middle;\n",
       "    }\n",
       "\n",
       "    .dataframe tbody tr th {\n",
       "        vertical-align: top;\n",
       "    }\n",
       "\n",
       "    .dataframe thead th {\n",
       "        text-align: right;\n",
       "    }\n",
       "</style>\n",
       "<table border=\"1\" class=\"dataframe\">\n",
       "  <thead>\n",
       "    <tr style=\"text-align: right;\">\n",
       "      <th></th>\n",
       "      <th>5_std_meta_feature</th>\n",
       "    </tr>\n",
       "    <tr>\n",
       "      <th>time</th>\n",
       "      <th></th>\n",
       "    </tr>\n",
       "  </thead>\n",
       "  <tbody>\n",
       "    <tr>\n",
       "      <th>2020-04-27 22:00:00</th>\n",
       "      <td>0.664206</td>\n",
       "    </tr>\n",
       "  </tbody>\n",
       "</table>\n",
       "</div>"
      ],
      "text/plain": [
       "                     5_std_meta_feature\n",
       "time                                   \n",
       "2020-04-27 22:00:00            0.664206"
      ]
     },
     "metadata": {},
     "output_type": "display_data"
    },
    {
     "data": {
      "application/vnd.microsoft.datawrangler.viewer.v0+json": {
       "columns": [
        {
         "name": "time",
         "rawType": "datetime64[ns]",
         "type": "datetime"
        },
        {
         "name": "5_std_feature",
         "rawType": "float64",
         "type": "float"
        },
        {
         "name": "35_std_feature",
         "rawType": "float64",
         "type": "float"
        },
        {
         "name": "65_std_feature",
         "rawType": "float64",
         "type": "float"
        },
        {
         "name": "95_std_feature",
         "rawType": "float64",
         "type": "float"
        },
        {
         "name": "125_std_feature",
         "rawType": "float64",
         "type": "float"
        },
        {
         "name": "155_std_feature",
         "rawType": "float64",
         "type": "float"
        },
        {
         "name": "185_std_feature",
         "rawType": "float64",
         "type": "float"
        },
        {
         "name": "215_std_feature",
         "rawType": "float64",
         "type": "float"
        },
        {
         "name": "245_std_feature",
         "rawType": "float64",
         "type": "float"
        },
        {
         "name": "275_std_feature",
         "rawType": "float64",
         "type": "float"
        }
       ],
       "conversionMethod": "pd.DataFrame",
       "ref": "46446543-eef6-4869-b085-72bb6676e6e0",
       "rows": [
        [
         "2020-04-28 07:00:00",
         "4.404716789987747",
         "7.107094549897058",
         "7.978798278635326",
         "12.322020918148088",
         "17.462533401912317",
         "18.614208836463007",
         "17.962115250314202",
         "17.390659451980095",
         "17.187354401171678",
         "19.27682618375355"
        ]
       ],
       "shape": {
        "columns": 10,
        "rows": 1
       }
      },
      "text/html": [
       "<div>\n",
       "<style scoped>\n",
       "    .dataframe tbody tr th:only-of-type {\n",
       "        vertical-align: middle;\n",
       "    }\n",
       "\n",
       "    .dataframe tbody tr th {\n",
       "        vertical-align: top;\n",
       "    }\n",
       "\n",
       "    .dataframe thead th {\n",
       "        text-align: right;\n",
       "    }\n",
       "</style>\n",
       "<table border=\"1\" class=\"dataframe\">\n",
       "  <thead>\n",
       "    <tr style=\"text-align: right;\">\n",
       "      <th></th>\n",
       "      <th>5_std_feature</th>\n",
       "      <th>35_std_feature</th>\n",
       "      <th>65_std_feature</th>\n",
       "      <th>95_std_feature</th>\n",
       "      <th>125_std_feature</th>\n",
       "      <th>155_std_feature</th>\n",
       "      <th>185_std_feature</th>\n",
       "      <th>215_std_feature</th>\n",
       "      <th>245_std_feature</th>\n",
       "      <th>275_std_feature</th>\n",
       "    </tr>\n",
       "    <tr>\n",
       "      <th>time</th>\n",
       "      <th></th>\n",
       "      <th></th>\n",
       "      <th></th>\n",
       "      <th></th>\n",
       "      <th></th>\n",
       "      <th></th>\n",
       "      <th></th>\n",
       "      <th></th>\n",
       "      <th></th>\n",
       "      <th></th>\n",
       "    </tr>\n",
       "  </thead>\n",
       "  <tbody>\n",
       "    <tr>\n",
       "      <th>2020-04-28 07:00:00</th>\n",
       "      <td>4.404717</td>\n",
       "      <td>7.107095</td>\n",
       "      <td>7.978798</td>\n",
       "      <td>12.322021</td>\n",
       "      <td>17.462533</td>\n",
       "      <td>18.614209</td>\n",
       "      <td>17.962115</td>\n",
       "      <td>17.390659</td>\n",
       "      <td>17.187354</td>\n",
       "      <td>19.276826</td>\n",
       "    </tr>\n",
       "  </tbody>\n",
       "</table>\n",
       "</div>"
      ],
      "text/plain": [
       "                     5_std_feature  35_std_feature  65_std_feature  \\\n",
       "time                                                                 \n",
       "2020-04-28 07:00:00       4.404717        7.107095        7.978798   \n",
       "\n",
       "                     95_std_feature  125_std_feature  155_std_feature  \\\n",
       "time                                                                    \n",
       "2020-04-28 07:00:00       12.322021        17.462533        18.614209   \n",
       "\n",
       "                     185_std_feature  215_std_feature  245_std_feature  \\\n",
       "time                                                                     \n",
       "2020-04-28 07:00:00        17.962115        17.390659        17.187354   \n",
       "\n",
       "                     275_std_feature  \n",
       "time                                  \n",
       "2020-04-28 07:00:00        19.276826  "
      ]
     },
     "metadata": {},
     "output_type": "display_data"
    },
    {
     "data": {
      "application/vnd.microsoft.datawrangler.viewer.v0+json": {
       "columns": [
        {
         "name": "time",
         "rawType": "datetime64[ns]",
         "type": "datetime"
        },
        {
         "name": "5_std_meta_feature",
         "rawType": "float64",
         "type": "float"
        }
       ],
       "conversionMethod": "pd.DataFrame",
       "ref": "eb49e85c-88e4-4d5d-a966-07284fea02fa",
       "rows": [
        [
         "2020-04-28 07:00:00",
         "4.404716789987747"
        ]
       ],
       "shape": {
        "columns": 1,
        "rows": 1
       }
      },
      "text/html": [
       "<div>\n",
       "<style scoped>\n",
       "    .dataframe tbody tr th:only-of-type {\n",
       "        vertical-align: middle;\n",
       "    }\n",
       "\n",
       "    .dataframe tbody tr th {\n",
       "        vertical-align: top;\n",
       "    }\n",
       "\n",
       "    .dataframe thead th {\n",
       "        text-align: right;\n",
       "    }\n",
       "</style>\n",
       "<table border=\"1\" class=\"dataframe\">\n",
       "  <thead>\n",
       "    <tr style=\"text-align: right;\">\n",
       "      <th></th>\n",
       "      <th>5_std_meta_feature</th>\n",
       "    </tr>\n",
       "    <tr>\n",
       "      <th>time</th>\n",
       "      <th></th>\n",
       "    </tr>\n",
       "  </thead>\n",
       "  <tbody>\n",
       "    <tr>\n",
       "      <th>2020-04-28 07:00:00</th>\n",
       "      <td>4.404717</td>\n",
       "    </tr>\n",
       "  </tbody>\n",
       "</table>\n",
       "</div>"
      ],
      "text/plain": [
       "                     5_std_meta_feature\n",
       "time                                   \n",
       "2020-04-28 07:00:00            4.404717"
      ]
     },
     "metadata": {},
     "output_type": "display_data"
    },
    {
     "data": {
      "application/vnd.microsoft.datawrangler.viewer.v0+json": {
       "columns": [
        {
         "name": "time",
         "rawType": "datetime64[ns]",
         "type": "datetime"
        },
        {
         "name": "5_std_feature",
         "rawType": "float64",
         "type": "float"
        },
        {
         "name": "35_std_feature",
         "rawType": "float64",
         "type": "float"
        },
        {
         "name": "65_std_feature",
         "rawType": "float64",
         "type": "float"
        },
        {
         "name": "95_std_feature",
         "rawType": "float64",
         "type": "float"
        },
        {
         "name": "125_std_feature",
         "rawType": "float64",
         "type": "float"
        },
        {
         "name": "155_std_feature",
         "rawType": "float64",
         "type": "float"
        },
        {
         "name": "185_std_feature",
         "rawType": "float64",
         "type": "float"
        },
        {
         "name": "215_std_feature",
         "rawType": "float64",
         "type": "float"
        },
        {
         "name": "245_std_feature",
         "rawType": "float64",
         "type": "float"
        },
        {
         "name": "275_std_feature",
         "rawType": "float64",
         "type": "float"
        }
       ],
       "conversionMethod": "pd.DataFrame",
       "ref": "fbb6e969-35ee-415f-a971-567b26fb57aa",
       "rows": [
        [
         "2020-04-27 19:00:00",
         "3.1832954622528953",
         "5.994009852982169",
         "6.78063550742964",
         "16.516214687160783",
         "18.709736006827075",
         "18.64016639479934",
         "18.078637343132055",
         "18.031474347547753",
         "17.774614778815778",
         "22.34170841874783"
        ]
       ],
       "shape": {
        "columns": 10,
        "rows": 1
       }
      },
      "text/html": [
       "<div>\n",
       "<style scoped>\n",
       "    .dataframe tbody tr th:only-of-type {\n",
       "        vertical-align: middle;\n",
       "    }\n",
       "\n",
       "    .dataframe tbody tr th {\n",
       "        vertical-align: top;\n",
       "    }\n",
       "\n",
       "    .dataframe thead th {\n",
       "        text-align: right;\n",
       "    }\n",
       "</style>\n",
       "<table border=\"1\" class=\"dataframe\">\n",
       "  <thead>\n",
       "    <tr style=\"text-align: right;\">\n",
       "      <th></th>\n",
       "      <th>5_std_feature</th>\n",
       "      <th>35_std_feature</th>\n",
       "      <th>65_std_feature</th>\n",
       "      <th>95_std_feature</th>\n",
       "      <th>125_std_feature</th>\n",
       "      <th>155_std_feature</th>\n",
       "      <th>185_std_feature</th>\n",
       "      <th>215_std_feature</th>\n",
       "      <th>245_std_feature</th>\n",
       "      <th>275_std_feature</th>\n",
       "    </tr>\n",
       "    <tr>\n",
       "      <th>time</th>\n",
       "      <th></th>\n",
       "      <th></th>\n",
       "      <th></th>\n",
       "      <th></th>\n",
       "      <th></th>\n",
       "      <th></th>\n",
       "      <th></th>\n",
       "      <th></th>\n",
       "      <th></th>\n",
       "      <th></th>\n",
       "    </tr>\n",
       "  </thead>\n",
       "  <tbody>\n",
       "    <tr>\n",
       "      <th>2020-04-27 19:00:00</th>\n",
       "      <td>3.183295</td>\n",
       "      <td>5.99401</td>\n",
       "      <td>6.780636</td>\n",
       "      <td>16.516215</td>\n",
       "      <td>18.709736</td>\n",
       "      <td>18.640166</td>\n",
       "      <td>18.078637</td>\n",
       "      <td>18.031474</td>\n",
       "      <td>17.774615</td>\n",
       "      <td>22.341708</td>\n",
       "    </tr>\n",
       "  </tbody>\n",
       "</table>\n",
       "</div>"
      ],
      "text/plain": [
       "                     5_std_feature  35_std_feature  65_std_feature  \\\n",
       "time                                                                 \n",
       "2020-04-27 19:00:00       3.183295         5.99401        6.780636   \n",
       "\n",
       "                     95_std_feature  125_std_feature  155_std_feature  \\\n",
       "time                                                                    \n",
       "2020-04-27 19:00:00       16.516215        18.709736        18.640166   \n",
       "\n",
       "                     185_std_feature  215_std_feature  245_std_feature  \\\n",
       "time                                                                     \n",
       "2020-04-27 19:00:00        18.078637        18.031474        17.774615   \n",
       "\n",
       "                     275_std_feature  \n",
       "time                                  \n",
       "2020-04-27 19:00:00        22.341708  "
      ]
     },
     "metadata": {},
     "output_type": "display_data"
    },
    {
     "data": {
      "application/vnd.microsoft.datawrangler.viewer.v0+json": {
       "columns": [
        {
         "name": "time",
         "rawType": "datetime64[ns]",
         "type": "datetime"
        },
        {
         "name": "5_std_meta_feature",
         "rawType": "float64",
         "type": "float"
        }
       ],
       "conversionMethod": "pd.DataFrame",
       "ref": "6e1a2918-dce7-4e8c-a03c-019a75aec936",
       "rows": [
        [
         "2020-04-27 19:00:00",
         "3.1832954622528953"
        ]
       ],
       "shape": {
        "columns": 1,
        "rows": 1
       }
      },
      "text/html": [
       "<div>\n",
       "<style scoped>\n",
       "    .dataframe tbody tr th:only-of-type {\n",
       "        vertical-align: middle;\n",
       "    }\n",
       "\n",
       "    .dataframe tbody tr th {\n",
       "        vertical-align: top;\n",
       "    }\n",
       "\n",
       "    .dataframe thead th {\n",
       "        text-align: right;\n",
       "    }\n",
       "</style>\n",
       "<table border=\"1\" class=\"dataframe\">\n",
       "  <thead>\n",
       "    <tr style=\"text-align: right;\">\n",
       "      <th></th>\n",
       "      <th>5_std_meta_feature</th>\n",
       "    </tr>\n",
       "    <tr>\n",
       "      <th>time</th>\n",
       "      <th></th>\n",
       "    </tr>\n",
       "  </thead>\n",
       "  <tbody>\n",
       "    <tr>\n",
       "      <th>2020-04-27 19:00:00</th>\n",
       "      <td>3.183295</td>\n",
       "    </tr>\n",
       "  </tbody>\n",
       "</table>\n",
       "</div>"
      ],
      "text/plain": [
       "                     5_std_meta_feature\n",
       "time                                   \n",
       "2020-04-27 19:00:00            3.183295"
      ]
     },
     "metadata": {},
     "output_type": "display_data"
    },
    {
     "data": {
      "application/vnd.microsoft.datawrangler.viewer.v0+json": {
       "columns": [
        {
         "name": "time",
         "rawType": "datetime64[ns]",
         "type": "datetime"
        },
        {
         "name": "5_std_feature",
         "rawType": "float64",
         "type": "float"
        },
        {
         "name": "35_std_feature",
         "rawType": "float64",
         "type": "float"
        },
        {
         "name": "65_std_feature",
         "rawType": "float64",
         "type": "float"
        },
        {
         "name": "95_std_feature",
         "rawType": "float64",
         "type": "float"
        },
        {
         "name": "125_std_feature",
         "rawType": "float64",
         "type": "float"
        },
        {
         "name": "155_std_feature",
         "rawType": "float64",
         "type": "float"
        },
        {
         "name": "185_std_feature",
         "rawType": "float64",
         "type": "float"
        },
        {
         "name": "215_std_feature",
         "rawType": "float64",
         "type": "float"
        },
        {
         "name": "245_std_feature",
         "rawType": "float64",
         "type": "float"
        },
        {
         "name": "275_std_feature",
         "rawType": "float64",
         "type": "float"
        }
       ],
       "conversionMethod": "pd.DataFrame",
       "ref": "1eb7c83f-d4fe-4914-b911-8ca18b870c44",
       "rows": [
        [
         "2020-05-01 09:00:00",
         "7.109623759384191",
         "13.429293723646314",
         "10.341260670712025",
         "10.185754137324563",
         "12.507077688124193",
         "12.067097895917668",
         "15.278270866873356",
         "16.347728715434595",
         "16.007032194177658",
         "15.899014655482967"
        ]
       ],
       "shape": {
        "columns": 10,
        "rows": 1
       }
      },
      "text/html": [
       "<div>\n",
       "<style scoped>\n",
       "    .dataframe tbody tr th:only-of-type {\n",
       "        vertical-align: middle;\n",
       "    }\n",
       "\n",
       "    .dataframe tbody tr th {\n",
       "        vertical-align: top;\n",
       "    }\n",
       "\n",
       "    .dataframe thead th {\n",
       "        text-align: right;\n",
       "    }\n",
       "</style>\n",
       "<table border=\"1\" class=\"dataframe\">\n",
       "  <thead>\n",
       "    <tr style=\"text-align: right;\">\n",
       "      <th></th>\n",
       "      <th>5_std_feature</th>\n",
       "      <th>35_std_feature</th>\n",
       "      <th>65_std_feature</th>\n",
       "      <th>95_std_feature</th>\n",
       "      <th>125_std_feature</th>\n",
       "      <th>155_std_feature</th>\n",
       "      <th>185_std_feature</th>\n",
       "      <th>215_std_feature</th>\n",
       "      <th>245_std_feature</th>\n",
       "      <th>275_std_feature</th>\n",
       "    </tr>\n",
       "    <tr>\n",
       "      <th>time</th>\n",
       "      <th></th>\n",
       "      <th></th>\n",
       "      <th></th>\n",
       "      <th></th>\n",
       "      <th></th>\n",
       "      <th></th>\n",
       "      <th></th>\n",
       "      <th></th>\n",
       "      <th></th>\n",
       "      <th></th>\n",
       "    </tr>\n",
       "  </thead>\n",
       "  <tbody>\n",
       "    <tr>\n",
       "      <th>2020-05-01 09:00:00</th>\n",
       "      <td>7.109624</td>\n",
       "      <td>13.429294</td>\n",
       "      <td>10.341261</td>\n",
       "      <td>10.185754</td>\n",
       "      <td>12.507078</td>\n",
       "      <td>12.067098</td>\n",
       "      <td>15.278271</td>\n",
       "      <td>16.347729</td>\n",
       "      <td>16.007032</td>\n",
       "      <td>15.899015</td>\n",
       "    </tr>\n",
       "  </tbody>\n",
       "</table>\n",
       "</div>"
      ],
      "text/plain": [
       "                     5_std_feature  35_std_feature  65_std_feature  \\\n",
       "time                                                                 \n",
       "2020-05-01 09:00:00       7.109624       13.429294       10.341261   \n",
       "\n",
       "                     95_std_feature  125_std_feature  155_std_feature  \\\n",
       "time                                                                    \n",
       "2020-05-01 09:00:00       10.185754        12.507078        12.067098   \n",
       "\n",
       "                     185_std_feature  215_std_feature  245_std_feature  \\\n",
       "time                                                                     \n",
       "2020-05-01 09:00:00        15.278271        16.347729        16.007032   \n",
       "\n",
       "                     275_std_feature  \n",
       "time                                  \n",
       "2020-05-01 09:00:00        15.899015  "
      ]
     },
     "metadata": {},
     "output_type": "display_data"
    },
    {
     "data": {
      "application/vnd.microsoft.datawrangler.viewer.v0+json": {
       "columns": [
        {
         "name": "time",
         "rawType": "datetime64[ns]",
         "type": "datetime"
        },
        {
         "name": "5_std_meta_feature",
         "rawType": "float64",
         "type": "float"
        }
       ],
       "conversionMethod": "pd.DataFrame",
       "ref": "ca0148c2-ec0d-47dc-9461-1dbe3ed0c0da",
       "rows": [
        [
         "2020-05-01 09:00:00",
         "7.109623759384191"
        ]
       ],
       "shape": {
        "columns": 1,
        "rows": 1
       }
      },
      "text/html": [
       "<div>\n",
       "<style scoped>\n",
       "    .dataframe tbody tr th:only-of-type {\n",
       "        vertical-align: middle;\n",
       "    }\n",
       "\n",
       "    .dataframe tbody tr th {\n",
       "        vertical-align: top;\n",
       "    }\n",
       "\n",
       "    .dataframe thead th {\n",
       "        text-align: right;\n",
       "    }\n",
       "</style>\n",
       "<table border=\"1\" class=\"dataframe\">\n",
       "  <thead>\n",
       "    <tr style=\"text-align: right;\">\n",
       "      <th></th>\n",
       "      <th>5_std_meta_feature</th>\n",
       "    </tr>\n",
       "    <tr>\n",
       "      <th>time</th>\n",
       "      <th></th>\n",
       "    </tr>\n",
       "  </thead>\n",
       "  <tbody>\n",
       "    <tr>\n",
       "      <th>2020-05-01 09:00:00</th>\n",
       "      <td>7.109624</td>\n",
       "    </tr>\n",
       "  </tbody>\n",
       "</table>\n",
       "</div>"
      ],
      "text/plain": [
       "                     5_std_meta_feature\n",
       "time                                   \n",
       "2020-05-01 09:00:00            7.109624"
      ]
     },
     "metadata": {},
     "output_type": "display_data"
    },
    {
     "data": {
      "application/vnd.microsoft.datawrangler.viewer.v0+json": {
       "columns": [
        {
         "name": "time",
         "rawType": "datetime64[ns]",
         "type": "datetime"
        },
        {
         "name": "5_std_feature",
         "rawType": "float64",
         "type": "float"
        },
        {
         "name": "35_std_feature",
         "rawType": "float64",
         "type": "float"
        },
        {
         "name": "65_std_feature",
         "rawType": "float64",
         "type": "float"
        },
        {
         "name": "95_std_feature",
         "rawType": "float64",
         "type": "float"
        },
        {
         "name": "125_std_feature",
         "rawType": "float64",
         "type": "float"
        },
        {
         "name": "155_std_feature",
         "rawType": "float64",
         "type": "float"
        },
        {
         "name": "185_std_feature",
         "rawType": "float64",
         "type": "float"
        },
        {
         "name": "215_std_feature",
         "rawType": "float64",
         "type": "float"
        },
        {
         "name": "245_std_feature",
         "rawType": "float64",
         "type": "float"
        },
        {
         "name": "275_std_feature",
         "rawType": "float64",
         "type": "float"
        }
       ],
       "conversionMethod": "pd.DataFrame",
       "ref": "1268cb71-fe15-48b1-83bc-099383afb25e",
       "rows": [
        [
         "2020-04-28 18:00:00",
         "6.079157013928776",
         "7.810305441686433",
         "10.200000723510533",
         "9.538003701113967",
         "16.727082190461427",
         "18.091804467256477",
         "17.413912104818948",
         "17.045066485697486",
         "17.10239082498151",
         "17.381640744250138"
        ]
       ],
       "shape": {
        "columns": 10,
        "rows": 1
       }
      },
      "text/html": [
       "<div>\n",
       "<style scoped>\n",
       "    .dataframe tbody tr th:only-of-type {\n",
       "        vertical-align: middle;\n",
       "    }\n",
       "\n",
       "    .dataframe tbody tr th {\n",
       "        vertical-align: top;\n",
       "    }\n",
       "\n",
       "    .dataframe thead th {\n",
       "        text-align: right;\n",
       "    }\n",
       "</style>\n",
       "<table border=\"1\" class=\"dataframe\">\n",
       "  <thead>\n",
       "    <tr style=\"text-align: right;\">\n",
       "      <th></th>\n",
       "      <th>5_std_feature</th>\n",
       "      <th>35_std_feature</th>\n",
       "      <th>65_std_feature</th>\n",
       "      <th>95_std_feature</th>\n",
       "      <th>125_std_feature</th>\n",
       "      <th>155_std_feature</th>\n",
       "      <th>185_std_feature</th>\n",
       "      <th>215_std_feature</th>\n",
       "      <th>245_std_feature</th>\n",
       "      <th>275_std_feature</th>\n",
       "    </tr>\n",
       "    <tr>\n",
       "      <th>time</th>\n",
       "      <th></th>\n",
       "      <th></th>\n",
       "      <th></th>\n",
       "      <th></th>\n",
       "      <th></th>\n",
       "      <th></th>\n",
       "      <th></th>\n",
       "      <th></th>\n",
       "      <th></th>\n",
       "      <th></th>\n",
       "    </tr>\n",
       "  </thead>\n",
       "  <tbody>\n",
       "    <tr>\n",
       "      <th>2020-04-28 18:00:00</th>\n",
       "      <td>6.079157</td>\n",
       "      <td>7.810305</td>\n",
       "      <td>10.200001</td>\n",
       "      <td>9.538004</td>\n",
       "      <td>16.727082</td>\n",
       "      <td>18.091804</td>\n",
       "      <td>17.413912</td>\n",
       "      <td>17.045066</td>\n",
       "      <td>17.102391</td>\n",
       "      <td>17.381641</td>\n",
       "    </tr>\n",
       "  </tbody>\n",
       "</table>\n",
       "</div>"
      ],
      "text/plain": [
       "                     5_std_feature  35_std_feature  65_std_feature  \\\n",
       "time                                                                 \n",
       "2020-04-28 18:00:00       6.079157        7.810305       10.200001   \n",
       "\n",
       "                     95_std_feature  125_std_feature  155_std_feature  \\\n",
       "time                                                                    \n",
       "2020-04-28 18:00:00        9.538004        16.727082        18.091804   \n",
       "\n",
       "                     185_std_feature  215_std_feature  245_std_feature  \\\n",
       "time                                                                     \n",
       "2020-04-28 18:00:00        17.413912        17.045066        17.102391   \n",
       "\n",
       "                     275_std_feature  \n",
       "time                                  \n",
       "2020-04-28 18:00:00        17.381641  "
      ]
     },
     "metadata": {},
     "output_type": "display_data"
    },
    {
     "data": {
      "application/vnd.microsoft.datawrangler.viewer.v0+json": {
       "columns": [
        {
         "name": "time",
         "rawType": "datetime64[ns]",
         "type": "datetime"
        },
        {
         "name": "5_std_meta_feature",
         "rawType": "float64",
         "type": "float"
        }
       ],
       "conversionMethod": "pd.DataFrame",
       "ref": "7cdce012-6c06-49a2-a3b7-ce931b49992c",
       "rows": [
        [
         "2020-04-28 18:00:00",
         "6.079157013928776"
        ]
       ],
       "shape": {
        "columns": 1,
        "rows": 1
       }
      },
      "text/html": [
       "<div>\n",
       "<style scoped>\n",
       "    .dataframe tbody tr th:only-of-type {\n",
       "        vertical-align: middle;\n",
       "    }\n",
       "\n",
       "    .dataframe tbody tr th {\n",
       "        vertical-align: top;\n",
       "    }\n",
       "\n",
       "    .dataframe thead th {\n",
       "        text-align: right;\n",
       "    }\n",
       "</style>\n",
       "<table border=\"1\" class=\"dataframe\">\n",
       "  <thead>\n",
       "    <tr style=\"text-align: right;\">\n",
       "      <th></th>\n",
       "      <th>5_std_meta_feature</th>\n",
       "    </tr>\n",
       "    <tr>\n",
       "      <th>time</th>\n",
       "      <th></th>\n",
       "    </tr>\n",
       "  </thead>\n",
       "  <tbody>\n",
       "    <tr>\n",
       "      <th>2020-04-28 18:00:00</th>\n",
       "      <td>6.079157</td>\n",
       "    </tr>\n",
       "  </tbody>\n",
       "</table>\n",
       "</div>"
      ],
      "text/plain": [
       "                     5_std_meta_feature\n",
       "time                                   \n",
       "2020-04-28 18:00:00            6.079157"
      ]
     },
     "metadata": {},
     "output_type": "display_data"
    },
    {
     "data": {
      "application/vnd.microsoft.datawrangler.viewer.v0+json": {
       "columns": [
        {
         "name": "time",
         "rawType": "datetime64[ns]",
         "type": "datetime"
        },
        {
         "name": "5_std_feature",
         "rawType": "float64",
         "type": "float"
        },
        {
         "name": "35_std_feature",
         "rawType": "float64",
         "type": "float"
        },
        {
         "name": "65_std_feature",
         "rawType": "float64",
         "type": "float"
        },
        {
         "name": "95_std_feature",
         "rawType": "float64",
         "type": "float"
        },
        {
         "name": "125_std_feature",
         "rawType": "float64",
         "type": "float"
        },
        {
         "name": "155_std_feature",
         "rawType": "float64",
         "type": "float"
        },
        {
         "name": "185_std_feature",
         "rawType": "float64",
         "type": "float"
        },
        {
         "name": "215_std_feature",
         "rawType": "float64",
         "type": "float"
        },
        {
         "name": "245_std_feature",
         "rawType": "float64",
         "type": "float"
        },
        {
         "name": "275_std_feature",
         "rawType": "float64",
         "type": "float"
        }
       ],
       "conversionMethod": "pd.DataFrame",
       "ref": "25ec9dd2-e202-4690-a04a-64ec7083445d",
       "rows": [
        [
         "2020-04-27 21:00:00",
         "1.68353794136036",
         "6.508205718988341",
         "6.828870760629816",
         "15.834301484948352",
         "18.32718479938935",
         "18.610089648465458",
         "18.07274797769656",
         "18.003143667982425",
         "17.635489175647194",
         "21.886370707706252"
        ]
       ],
       "shape": {
        "columns": 10,
        "rows": 1
       }
      },
      "text/html": [
       "<div>\n",
       "<style scoped>\n",
       "    .dataframe tbody tr th:only-of-type {\n",
       "        vertical-align: middle;\n",
       "    }\n",
       "\n",
       "    .dataframe tbody tr th {\n",
       "        vertical-align: top;\n",
       "    }\n",
       "\n",
       "    .dataframe thead th {\n",
       "        text-align: right;\n",
       "    }\n",
       "</style>\n",
       "<table border=\"1\" class=\"dataframe\">\n",
       "  <thead>\n",
       "    <tr style=\"text-align: right;\">\n",
       "      <th></th>\n",
       "      <th>5_std_feature</th>\n",
       "      <th>35_std_feature</th>\n",
       "      <th>65_std_feature</th>\n",
       "      <th>95_std_feature</th>\n",
       "      <th>125_std_feature</th>\n",
       "      <th>155_std_feature</th>\n",
       "      <th>185_std_feature</th>\n",
       "      <th>215_std_feature</th>\n",
       "      <th>245_std_feature</th>\n",
       "      <th>275_std_feature</th>\n",
       "    </tr>\n",
       "    <tr>\n",
       "      <th>time</th>\n",
       "      <th></th>\n",
       "      <th></th>\n",
       "      <th></th>\n",
       "      <th></th>\n",
       "      <th></th>\n",
       "      <th></th>\n",
       "      <th></th>\n",
       "      <th></th>\n",
       "      <th></th>\n",
       "      <th></th>\n",
       "    </tr>\n",
       "  </thead>\n",
       "  <tbody>\n",
       "    <tr>\n",
       "      <th>2020-04-27 21:00:00</th>\n",
       "      <td>1.683538</td>\n",
       "      <td>6.508206</td>\n",
       "      <td>6.828871</td>\n",
       "      <td>15.834301</td>\n",
       "      <td>18.327185</td>\n",
       "      <td>18.61009</td>\n",
       "      <td>18.072748</td>\n",
       "      <td>18.003144</td>\n",
       "      <td>17.635489</td>\n",
       "      <td>21.886371</td>\n",
       "    </tr>\n",
       "  </tbody>\n",
       "</table>\n",
       "</div>"
      ],
      "text/plain": [
       "                     5_std_feature  35_std_feature  65_std_feature  \\\n",
       "time                                                                 \n",
       "2020-04-27 21:00:00       1.683538        6.508206        6.828871   \n",
       "\n",
       "                     95_std_feature  125_std_feature  155_std_feature  \\\n",
       "time                                                                    \n",
       "2020-04-27 21:00:00       15.834301        18.327185         18.61009   \n",
       "\n",
       "                     185_std_feature  215_std_feature  245_std_feature  \\\n",
       "time                                                                     \n",
       "2020-04-27 21:00:00        18.072748        18.003144        17.635489   \n",
       "\n",
       "                     275_std_feature  \n",
       "time                                  \n",
       "2020-04-27 21:00:00        21.886371  "
      ]
     },
     "metadata": {},
     "output_type": "display_data"
    },
    {
     "data": {
      "application/vnd.microsoft.datawrangler.viewer.v0+json": {
       "columns": [
        {
         "name": "time",
         "rawType": "datetime64[ns]",
         "type": "datetime"
        },
        {
         "name": "5_std_meta_feature",
         "rawType": "float64",
         "type": "float"
        }
       ],
       "conversionMethod": "pd.DataFrame",
       "ref": "d2ff4841-d742-4a39-ade3-43b1229a4abe",
       "rows": [
        [
         "2020-04-27 21:00:00",
         "1.68353794136036"
        ]
       ],
       "shape": {
        "columns": 1,
        "rows": 1
       }
      },
      "text/html": [
       "<div>\n",
       "<style scoped>\n",
       "    .dataframe tbody tr th:only-of-type {\n",
       "        vertical-align: middle;\n",
       "    }\n",
       "\n",
       "    .dataframe tbody tr th {\n",
       "        vertical-align: top;\n",
       "    }\n",
       "\n",
       "    .dataframe thead th {\n",
       "        text-align: right;\n",
       "    }\n",
       "</style>\n",
       "<table border=\"1\" class=\"dataframe\">\n",
       "  <thead>\n",
       "    <tr style=\"text-align: right;\">\n",
       "      <th></th>\n",
       "      <th>5_std_meta_feature</th>\n",
       "    </tr>\n",
       "    <tr>\n",
       "      <th>time</th>\n",
       "      <th></th>\n",
       "    </tr>\n",
       "  </thead>\n",
       "  <tbody>\n",
       "    <tr>\n",
       "      <th>2020-04-27 21:00:00</th>\n",
       "      <td>1.683538</td>\n",
       "    </tr>\n",
       "  </tbody>\n",
       "</table>\n",
       "</div>"
      ],
      "text/plain": [
       "                     5_std_meta_feature\n",
       "time                                   \n",
       "2020-04-27 21:00:00            1.683538"
      ]
     },
     "metadata": {},
     "output_type": "display_data"
    },
    {
     "name": "stdout",
     "output_type": "stream",
     "text": [
      "[I 2025-04-19 15:15:12,543] Trial 0 finished with value: 0.9820437591840173 and parameters: {'n_clusters': 15, 'window_size': 500, 'label_min': 8, 'label_max': 19, 'cat_iterations': 800, 'cat_depth': 7, 'cat_learning_rate': 0.17330320979826663, 'cat_l2_leaf_reg': 5.704506817429997}. Best is trial 0 with value: 0.9820437591840173.\n",
      "\n",
      "┌───────────────────────────────────────────────┐\n",
      "│      MEJOR RESULTADO = 0.9820                 │\n",
      "└───────────────────────────────────────────────┘\n",
      "\n",
      "Parámetros óptimos:\n",
      " {'n_clusters': 15, 'window_size': 500, 'label_min': 8, 'label_max': 19, 'cat_iterations': 800, 'cat_depth': 7, 'cat_learning_rate': 0.17330320979826663, 'cat_l2_leaf_reg': 5.704506817429997}\n",
      "Exportando modelos ONNX… R2 = 0.9820\n",
      "Modelo /mnt/c/Users/Administrador/AppData/Roaming/MetaQuotes/Terminal/6C3C6A11D1C3791DD4DBF45421BF8028/MQL5/Files/dmitrievsky_model_XAUUSD_H1_0.onnx ONNX exportado correctamente\n",
      "Modelo /mnt/c/Users/Administrador/AppData/Roaming/MetaQuotes/Terminal/6C3C6A11D1C3791DD4DBF45421BF8028/MQL5/Files/dmitrievsky_model_m_XAUUSD_H1_0.onnx ONNX exportado correctamente\n",
      "The file /mnt/c/Users/Administrador/AppData/Roaming/MetaQuotes/Terminal/6C3C6A11D1C3791DD4DBF45421BF8028/MQL5/Include/ajmtrz/include/Dmitrievsky/XAUUSD_H1_ONNX_include_0.mqh has been written to disk\n"
     ]
    }
   ],
   "source": [
    "def fit_final_models(clustered: pd.DataFrame,\n",
    "                     meta: pd.DataFrame,\n",
    "                     oos_data: pd.DataFrame,\n",
    "                     hp: Dict[str, Any]) -> Tuple[float, Any, Any]:\n",
    "    \"\"\"Entrena modelo principal + meta‑modelo y evalúa en OOS.\n",
    "\n",
    "    Devuelve (R2, model, meta_model).\n",
    "    \"\"\"\n",
    "    # ---------- 1) main model ----------\n",
    "    X_main = clustered.drop(columns=['labels', *meta.columns[meta.columns.str.contains('_meta_feature')]])\n",
    "    y_main = clustered['labels'].astype('int16')\n",
    "\n",
    "    # ---------- 2) meta‑model ----------\n",
    "    X_meta = meta.loc[:, meta.columns.str.contains('_meta_feature')]\n",
    "    y_meta = meta['clusters'].astype('int16')\n",
    "    # 3) Split aleatorio (70/30)\n",
    "    train_X, test_X, train_y, test_y = train_test_split(\n",
    "        X_main, y_main, train_size=0.7, shuffle=True)\n",
    "    train_X_m, test_X_m, train_y_m, test_y_m = train_test_split(\n",
    "        X_meta, y_meta, train_size=0.7, shuffle=True)\n",
    "    # debug\n",
    "    common_index = X_main.index[0]\n",
    "    display(X_main.loc[[common_index]])\n",
    "    display(X_meta.loc[[common_index]])\n",
    "    # 4) Hiper‑parámetros CatBoost (con valores por defecto + overrides)\n",
    "    cat_main_params = dict(\n",
    "        iterations=hp.get('cat_iterations', 500),\n",
    "        depth=hp.get('cat_depth', 6),\n",
    "        learning_rate=hp.get('cat_learning_rate', 0.1),\n",
    "        l2_leaf_reg=hp.get('cat_l2_leaf_reg', 3.0),\n",
    "        custom_loss=['Accuracy'],\n",
    "        eval_metric='Accuracy',\n",
    "        use_best_model=True,\n",
    "        verbose=False,\n",
    "        thread_count=-1,\n",
    "        task_type='CPU',\n",
    "    )\n",
    "    weights_main = compute_class_weight(class_weight='balanced', classes=np.unique(y_meta), y=y_meta)\n",
    "    cat_main_params['class_weights'] = list(weights_main)\n",
    "    model = CatBoostClassifier(**cat_main_params)\n",
    "    model.fit(train_X, train_y, eval_set=(test_X, test_y), early_stopping_rounds=25)\n",
    "\n",
    "    cat_meta_params = dict(\n",
    "        iterations=hp.get('cat_meta_iterations', 300),\n",
    "        depth=hp.get('cat_meta_depth', 5),\n",
    "        learning_rate=hp.get('cat_meta_learning_rate', 0.15),\n",
    "        l2_leaf_reg=hp.get('cat_meta_l2_leaf_reg', 3.0),\n",
    "        custom_loss=['F1'],\n",
    "        eval_metric='F1',\n",
    "        use_best_model=True,\n",
    "        verbose=False,\n",
    "        thread_count=-1,\n",
    "        task_type='CPU',\n",
    "    )\n",
    "    weights_meta = compute_class_weight(class_weight='balanced', classes=np.unique(y_meta), y=y_meta)\n",
    "    cat_meta_params['class_weights'] = list(weights_meta)\n",
    "    meta_model = CatBoostClassifier(**cat_meta_params)\n",
    "    meta_model.fit(train_X_m, train_y_m, eval_set=(test_X_m, test_y_m), early_stopping_rounds=15)\n",
    "\n",
    "    # 5) Evaluación en datos fuera de muestra\n",
    "    R2 = test_model_one_direction(\n",
    "        oos_data,\n",
    "        [model, meta_model],\n",
    "        hp['full forward'],\n",
    "        hp['forward'],\n",
    "        hp['markup'],\n",
    "        hp['direction'],\n",
    "        plt=False,\n",
    "    )\n",
    "    if math.isnan(R2):\n",
    "        R2 = -1.0\n",
    "    return R2, model, meta_model\n",
    "\n",
    "# ----------------------------------------------------------------------------\n",
    "#      ─── FUNCIÓN OBJETIVO PARA OPTUNA ───\n",
    "# ----------------------------------------------------------------------------\n",
    "\n",
    "def objective(trial: optuna.trial.Trial, base_hp: Dict[str, Any], study=None) -> float:\n",
    "    hp = base_hp.copy()\n",
    "\n",
    "    # µ··· Espacio de búsqueda ···µ\n",
    "    hp['n_clusters']   = trial.suggest_int('n_clusters', 5, 60, step=5)\n",
    "    hp['window_size']  = trial.suggest_int('window_size', 100, 500, step=50)\n",
    "    hp['label_min']  = trial.suggest_int('label_min', 1, 10)\n",
    "    hp['label_max']  = trial.suggest_int('label_max', hp['label_min']+1, 30)\n",
    "\n",
    "    # CatBoost (main)\n",
    "    hp['cat_iterations']      = trial.suggest_int('cat_iterations', 300, 800, step=100)\n",
    "    hp['cat_depth']           = trial.suggest_int('cat_depth', 4, 10)\n",
    "    hp['cat_learning_rate']   = trial.suggest_float('cat_learning_rate', 0.03, 0.3, log=True)\n",
    "    hp['cat_l2_leaf_reg']     = trial.suggest_float('cat_l2_leaf_reg', 1.0, 7.0)\n",
    "\n",
    "    # Dataset completo\n",
    "    full_ds = get_features(get_prices(hp), hp)\n",
    "    ds_train = full_ds[(full_ds.index > hp['backward']) & (full_ds.index < hp['forward'])]\n",
    "    ds_oos   = full_ds[(full_ds.index >= hp['forward']) & (full_ds.index < hp['full forward'])]\n",
    "    \n",
    "    # Clustering con ventana deslizante\n",
    "    data = sliding_window_clustering(\n",
    "        ds_train,\n",
    "        n_clusters=hp['n_clusters'],\n",
    "        window_size=hp['window_size']\n",
    "    )\n",
    "    \n",
    "    best_R2 = -math.inf\n",
    "    for clust in np.sort(data['clusters'].unique()):\n",
    "        clustered_data = data[data['clusters'] == clust].copy()\n",
    "        if len(clustered_data) < 500:\n",
    "            continue\n",
    "\n",
    "        clustered_data = get_labels_one_direction(\n",
    "            clustered_data,\n",
    "            markup    = hp['markup'],       # valor constante\n",
    "            min       = hp['label_min'],\n",
    "            max       = hp['label_max'],\n",
    "            direction = hp['direction'])\n",
    "\n",
    "        clustered_data = clustered_data.drop(['close', 'clusters'], axis=1)\n",
    "        meta_data = data.copy()\n",
    "        meta_data['clusters'] = (meta_data['clusters'] == clust).astype(int)\n",
    "\n",
    "        R2, model, meta_model = fit_final_models(\n",
    "            clustered_data,\n",
    "            meta_data.drop(['close'], axis=1),\n",
    "            ds_oos,\n",
    "            hp\n",
    "        )\n",
    "\n",
    "        if R2 < 1.0 and R2 > best_R2:\n",
    "            best_R2 = R2\n",
    "            best_pack = (model, meta_model)\n",
    "    \n",
    "    # Guardamos modelos en los atributos del estudio (solo si se proporcionó)\n",
    "    if study is not None:\n",
    "        study.set_user_attr(\"best_model\", best_pack[0])\n",
    "        study.set_user_attr(\"best_meta_model\", best_pack[1])\n",
    "        study.set_user_attr(\"best_r2\", best_R2)\n",
    "\n",
    "    return best_R2\n",
    "\n",
    "# ----------------------------------------------------------------------------\n",
    "#                 ─── PIPELINE DE OPTIMIZACIÓN + EXPORT ───\n",
    "# ----------------------------------------------------------------------------\n",
    "\n",
    "def optimize_and_export(symbol: str = 'BTCUSDT', timeframe: str = 'H1', n_trials: int = 50):\n",
    "    \"\"\"Lanza Optuna, guarda el mejor modelo y lo exporta a ONNX.\"\"\"\n",
    "\n",
    "    common_file_folder = r\"/mnt/c/Users/Administrador/AppData/Roaming/MetaQuotes/Terminal/Common/Files/\"\n",
    "    mql5_files_folder = r'/mnt/c/Users/Administrador/AppData/Roaming/MetaQuotes/Terminal/6C3C6A11D1C3791DD4DBF45421BF8028/MQL5/Files/'\n",
    "    mql5_include_folder = r'/mnt/c/Users/Administrador/AppData/Roaming/MetaQuotes/Terminal/6C3C6A11D1C3791DD4DBF45421BF8028/MQL5/Include/ajmtrz/include/Dmitrievsky'\n",
    "\n",
    "    base_hp: Dict[str, Any] = {\n",
    "        'symbol': symbol,\n",
    "        'timeframe': timeframe,\n",
    "        'models_export_path': mql5_files_folder,\n",
    "        'include_export_path': mql5_include_folder,\n",
    "        'history_path': common_file_folder,\n",
    "        'best_models': [],\n",
    "        'model_number': 0,\n",
    "        'markup': 0.20,\n",
    "        'label_min'  : 3,\n",
    "        'label_max'  : 15,\n",
    "        'direction': 'buy',\n",
    "        'n_clusters': 30,\n",
    "        'window_size': 350,\n",
    "        'periods': [i for i in range(5, 300, 30)],\n",
    "        'periods_meta': [5],\n",
    "        'backward': datetime(2020, 3, 26),\n",
    "        'forward': datetime(2024, 1, 1),\n",
    "        'full forward': datetime(2026, 1, 1),\n",
    "    }\n",
    "\n",
    "    study = optuna.create_study(direction='maximize')\n",
    "    study.optimize(lambda t: objective(t, base_hp, study), n_trials=n_trials, show_progress_bar=True)\n",
    "\n",
    "\n",
    "    print(\"\\n┌───────────────────────────────────────────────┐\")\n",
    "    print(\"│      MEJOR RESULTADO = {:.4f}                 │\".format(study.best_value))\n",
    "    print(\"└───────────────────────────────────────────────┘\\n\")\n",
    "    print(\"Parámetros óptimos:\\n\", study.best_params)\n",
    "\n",
    "    # Vuelve a entrenar con los mejores hiper‑parámetros y exporta\n",
    "    base_hp.update(study.best_params)\n",
    "    model      = study.user_attrs[\"best_model\"]\n",
    "    meta_model = study.user_attrs[\"best_meta_model\"]\n",
    "    best_r2    = study.user_attrs[\"best_r2\"]\n",
    "    base_hp.pop('best_models', None)\n",
    "    print(\"Exportando modelos ONNX… R2 = {:.4f}\".format(best_r2))\n",
    "    export_model_to_ONNX(best_models=[model, meta_model], **base_hp)\n",
    "\n",
    "if __name__ == \"__main__\":\n",
    "    optimize_and_export('XAUUSD', 'H1', n_trials=1)"
   ]
  }
 ],
 "metadata": {
  "kernelspec": {
   "display_name": "vscode",
   "language": "python",
   "name": "python3"
  },
  "language_info": {
   "codemirror_mode": {
    "name": "ipython",
    "version": 3
   },
   "file_extension": ".py",
   "mimetype": "text/x-python",
   "name": "python",
   "nbconvert_exporter": "python",
   "pygments_lexer": "ipython3",
   "version": "3.12.10"
  }
 },
 "nbformat": 4,
 "nbformat_minor": 5
}
