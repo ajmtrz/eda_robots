{
 "cells": [
  {
   "cell_type": "code",
   "execution_count": null,
   "id": "1adb695c",
   "metadata": {},
   "outputs": [
    {
     "name": "stdout",
     "output_type": "stream",
     "text": [
      "[XAUUSD_H1_buy_filter_clusters_kmeans] modelo 0 trial 39/538 score=0.634678 avg=1.37s mem=502.14MB \n",
      "[XAUUSD_H1_buy_filter_clusters_kmeans] modelo 0 trial 40/538 score=0.634678 avg=3.82s mem=502.90MB \n",
      "[XAUUSD_H1_buy_filter_clusters_kmeans] modelo 0 trial 41/538 score=0.634678 avg=4.69s mem=534.59MB \n",
      "[XAUUSD_H1_buy_filter_clusters_kmeans] modelo 0 trial 42/538 score=0.634678 avg=5.11s mem=510.42MB \n",
      "[XAUUSD_H1_buy_filter_clusters_kmeans] modelo 0 trial 43/538 score=0.634678 avg=6.53s mem=504.99MB \n",
      "[XAUUSD_H1_buy_filter_clusters_kmeans] modelo 0 trial 44/538 score=0.634678 avg=7.60s mem=547.64MB \n",
      "[XAUUSD_H1_buy_filter_clusters_kmeans] modelo 0 trial 45/538 score=0.634678 avg=9.09s mem=478.68MB \n",
      "[XAUUSD_H1_buy_filter_clusters_kmeans] modelo 0 trial 46/538 score=0.634678 avg=9.47s mem=498.34MB \n",
      "[XAUUSD_H1_buy_filter_clusters_kmeans] modelo 0 trial 47/538 score=0.634678 avg=9.84s mem=494.38MB \n",
      "[XAUUSD_H1_buy_filter_clusters_kmeans] modelo 0 trial 48/538 score=0.634678 avg=10.14s mem=517.48MB \n"
     ]
    }
   ],
   "source": [
    "import optuna\n",
    "from datetime import datetime\n",
    "from concurrent.futures import ProcessPoolExecutor, as_completed\n",
    "from modules.StrategySearcher import StrategySearcher\n",
    "import warnings\n",
    "import os\n",
    "warnings.filterwarnings(\"ignore\")\n",
    "\n",
    "configs = [\n",
    "    dict(\n",
    "        symbol='XAUUSD', timeframe='H1', direction='buy', pruner_type='sucessive',\n",
    "        train_start=datetime(2020,2,1), train_end=datetime(2025,1,1),\n",
    "        test_start=datetime(2022,1,1),  test_end=datetime(2023,6,1),\n",
    "        label_method='filter', search_type='clusters', search_subtype='kmeans',\n",
    "        n_models=1, debug=False,\n",
    "    ),\n",
    "]\n",
    "\n",
    "# Actualizar n_jobs en cada configuración\n",
    "for cfg in configs:\n",
    "    cfg[\"tag\"] = f\"{cfg['symbol']}_{cfg['timeframe']}_{cfg['direction']}_{cfg['label_method']}_{cfg['search_type']}_{cfg.get('search_subtype', '')}\".strip(\"_\")\n",
    "\n",
    "DB_FILE = f\"optuna_dbs/{cfg['tag']}.db\"\n",
    "DB_PATH = f\"sqlite:///{DB_FILE}\"\n",
    "STUDY_NAME = f\"{cfg['tag']}\"\n",
    "\n",
    "study = None\n",
    "if not os.path.exists(DB_FILE):\n",
    "    study = None\n",
    "else:\n",
    "    try:\n",
    "        study = optuna.load_study(study_name=STUDY_NAME, storage=DB_PATH)\n",
    "    except Exception:\n",
    "        study = None\n",
    "\n",
    "n_trials = 500\n",
    "if study:\n",
    "    n_trials = len(study.trials) + n_trials\n",
    "\n",
    "for cfg in configs:\n",
    "    cfg['n_trials'] = n_trials\n",
    "\n",
    "def launch(cfg):\n",
    "    s = StrategySearcher(**cfg)\n",
    "    s.run_search()\n",
    "\n",
    "with ProcessPoolExecutor(max_workers=len(configs)) as pool:\n",
    "    futures = {pool.submit(launch, c): c[\"tag\"] for c in configs}\n",
    "    for f in as_completed(futures):\n",
    "        tag = futures[f]\n",
    "        try:\n",
    "            print(f\"[{tag}] terminado\")\n",
    "        except Exception as e:\n",
    "            print(f\"[{tag}] falló: {e}\")"
   ]
  }
 ],
 "metadata": {
  "kernelspec": {
   "display_name": "vscode",
   "language": "python",
   "name": "python3"
  },
  "language_info": {
   "codemirror_mode": {
    "name": "ipython",
    "version": 3
   },
   "file_extension": ".py",
   "mimetype": "text/x-python",
   "name": "python",
   "nbconvert_exporter": "python",
   "pygments_lexer": "ipython3",
   "version": "3.12.11"
  }
 },
 "nbformat": 4,
 "nbformat_minor": 5
}
