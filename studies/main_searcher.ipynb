{
 "cells": [
  {
   "cell_type": "code",
   "execution_count": null,
   "id": "1adb695c",
   "metadata": {},
   "outputs": [
    {
     "name": "stdout",
     "output_type": "stream",
     "text": [
      "[XAUUSD H1 buy markov simple] modelo 0 trial 1/50 best=-1.0000 avg=  6.74s\n",
      "[XAUUSD H1 buy markov simple] modelo 0 trial 2/50 best=-1.0000 avg=  3.63s\n",
      "[XAUUSD H1 buy markov simple] modelo 0 trial 3/50 best=-1.0000 avg=  2.56s\n",
      "[XAUUSD H1 buy markov simple] modelo 0 trial 4/50 best=-1.0000 avg=  1.98s\n",
      "[XAUUSD H1 buy markov simple] modelo 0 trial 5/50 best=-1.0000 avg=  1.63s\n",
      "[XAUUSD H1 buy markov simple] modelo 0 trial 6/50 best=1.0056 avg=  1.98s\n",
      "[XAUUSD H1 buy markov simple] modelo 0 trial 7/50 best=1.0056 avg=  3.25s\n",
      "[XAUUSD H1 buy markov simple] modelo 0 trial 8/50 best=1.0056 avg=  2.86s\n",
      "[XAUUSD H1 buy markov simple] modelo 0 trial 9/50 best=1.0056 avg=  3.36s\n",
      "[XAUUSD H1 buy markov simple] modelo 0 trial 10/50 best=1.0056 avg=  3.16s\n",
      "[XAUUSD H1 buy markov simple] modelo 0 trial 11/50 best=1.0056 avg=  3.34s\n",
      "[XAUUSD H1 buy markov simple] modelo 0 trial 12/50 best=1.0056 avg=  4.10s\n",
      "[XAUUSD H1 buy markov simple] modelo 0 trial 13/50 best=2.2081 avg=  5.51s\n",
      "[XAUUSD H1 buy markov simple] modelo 0 trial 14/50 best=2.2081 avg=  6.97s\n",
      "[XAUUSD H1 buy markov simple] modelo 0 trial 15/50 best=2.9336 avg=  8.97s\n"
     ]
    }
   ],
   "source": [
    "import os\n",
    "from datetime import datetime\n",
    "from concurrent.futures import ProcessPoolExecutor, as_completed\n",
    "from modules.StrategySearcher import StrategySearcher\n",
    "import warnings\n",
    "warnings.filterwarnings(\"ignore\")\n",
    "warnings.filterwarnings(\"ignore\", category=RuntimeWarning, module=\"hmmlearn\")\n",
    "\n",
    "configs = [\n",
    "    # dict(symbol='XAUUSD', timeframe='H1', direction='buy',\n",
    "    #      train_start=datetime(2019,1,1), train_end=datetime(2025,1,1),\n",
    "    #      test_start=datetime(2022,1,1),  test_end=datetime(2023,1,1),\n",
    "    #      search_type='clusters', search_subtype='simple',\n",
    "    #      n_trials=200, n_models=1, n_jobs=-1),\n",
    "    # dict(symbol='XAUUSD', timeframe='H1', direction='buy',\n",
    "    #      train_start=datetime(2019,1,1), train_end=datetime(2025,1,1),\n",
    "    #      test_start=datetime(2022,1,1),  test_end=datetime(2023,1,1),\n",
    "    #      search_type='clusters', search_subtype='advanced',\n",
    "    #      n_trials=500, n_models=5, n_jobs=-1),\n",
    "    dict(symbol='XAUUSD', timeframe='H1', direction='buy',\n",
    "         train_start=datetime(2019,1,1), train_end=datetime(2025,1,1),\n",
    "         test_start=datetime(2022,1,1),  test_end=datetime(2023,1,1),\n",
    "         search_type='markov', search_subtype='simple',\n",
    "         n_trials=50, n_models=1, n_jobs=-1),\n",
    "    # dict(symbol='XAUUSD', timeframe='H1', direction='buy',\n",
    "    #      train_start=datetime(2019,1,1), train_end=datetime(2025,1,1),\n",
    "    #      test_start=datetime(2022,1,1),  test_end=datetime(2023,1,1),\n",
    "    #      search_type='markov', search_subtype='advanced',\n",
    "    #      n_trials=10, n_models=5, n_jobs=-1),\n",
    "]\n",
    "\n",
    "# Calcular núcleos por configuración\n",
    "total_cores = os.cpu_count()\n",
    "cores_per_config = max(1, total_cores // len(configs))\n",
    "\n",
    "# Actualizar n_jobs en cada configuración\n",
    "for cfg in configs:\n",
    "    cfg[\"n_jobs\"] = cores_per_config\n",
    "    cfg[\"tag\"]    = f\"{cfg['symbol']} {cfg['timeframe']} {cfg['direction']} {cfg['search_type']} {cfg['search_subtype']}\"\n",
    "\n",
    "def launch(cfg):\n",
    "    s = StrategySearcher(**cfg)\n",
    "    s.run_search()\n",
    "\n",
    "with ProcessPoolExecutor(max_workers=len(configs)) as pool:\n",
    "    futures = {pool.submit(launch, c): c[\"tag\"] for c in configs}\n",
    "    for f in as_completed(futures):\n",
    "        tag = futures[f]\n",
    "        try:\n",
    "            print(f\"[{tag}] terminado\")\n",
    "        except Exception as e:\n",
    "            print(f\"[{tag}] falló: {e}\")"
   ]
  }
 ],
 "metadata": {
  "kernelspec": {
   "display_name": "vscode",
   "language": "python",
   "name": "python3"
  },
  "language_info": {
   "codemirror_mode": {
    "name": "ipython",
    "version": 3
   },
   "file_extension": ".py",
   "mimetype": "text/x-python",
   "name": "python",
   "nbconvert_exporter": "python",
   "pygments_lexer": "ipython3",
   "version": "3.12.10"
  }
 },
 "nbformat": 4,
 "nbformat_minor": 5
}
