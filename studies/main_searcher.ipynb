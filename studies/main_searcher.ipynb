{
 "cells": [
  {
   "cell_type": "code",
   "execution_count": null,
   "id": "1adb695c",
   "metadata": {},
   "outputs": [
    {
     "name": "stdout",
     "output_type": "stream",
     "text": [
      "[XAUUSD H1 both filter lgmm] modelo 0 trial 1/500 ins=-1.000000 oos=-1.000000 avg=14.67s mem=405.36MB \n",
      "[XAUUSD H1 both mean_rev lgmm] modelo 0 trial 1/500 ins=-1.000000 oos=-1.000000 avg=22.63s mem=413.68MB \n",
      "[XAUUSD H1 both zigzag lgmm] modelo 0 trial 1/500 ins=-1.000000 oos=-1.000000 avg=23.32s mem=421.36MB \n",
      "[XAUUSD H1 both validated_levels lgmm] modelo 0 trial 1/500 ins=-1.000000 oos=-1.000000 avg=27.79s mem=416.15MB \n",
      "[XAUUSD H1 both trend_profit lgmm] modelo 0 trial 1/500 ins=-1.000000 oos=-1.000000 avg=28.46s mem=436.10MB \n",
      "[XAUUSD H1 both trend_one lgmm] modelo 0 trial 1/500 ins=0.316875 oos=0.018391 avg=32.01s mem=489.05MB \n",
      "[XAUUSD H1 both filter_one lgmm] modelo 0 trial 1/500 ins=-1.000000 oos=0.011238 avg=35.93s mem=468.47MB \n",
      "[XAUUSD H1 both mean_rev_vol lgmm] modelo 0 trial 1/500 ins=0.492237 oos=0.032074 avg=37.95s mem=506.91MB \n"
     ]
    }
   ],
   "source": [
    "import os\n",
    "from datetime import datetime\n",
    "from concurrent.futures import ProcessPoolExecutor, as_completed\n",
    "from modules.StrategySearcher import StrategySearcher\n",
    "import warnings\n",
    "warnings.filterwarnings(\"ignore\")\n",
    "\n",
    "label_methods = [\n",
    "    \"atr\",\n",
    "    \"trend\",\n",
    "    \"trend_profit\",\n",
    "    \"trend_multi\",\n",
    "    \"clusters\",\n",
    "    \"multi_window\",\n",
    "    \"validated_levels\",\n",
    "    \"zigzag\",\n",
    "    \"mean_rev\",\n",
    "    \"mean_rev_multi\",\n",
    "    \"mean_rev_vol\",\n",
    "    \"filter\",\n",
    "    \"multi_filter\",\n",
    "    \"filter_bidirectional\",\n",
    "    \"filter_one\",\n",
    "    \"trend_one\",\n",
    "    \"filter_flat\",\n",
    "]\n",
    "\n",
    "base_cfg = dict(\n",
    "    symbol='XAUUSD', timeframe='H1', direction='both',\n",
    "    train_start=datetime(2019,1,1), train_end=datetime(2025,1,1),\n",
    "    test_start=datetime(2021,1,1),  test_end=datetime(2022,1,1),\n",
    "    search_type='lgmm', n_trials=500, n_models=1\n",
    ")\n",
    "\n",
    "configs = []\n",
    "for lm in label_methods:\n",
    "    cfg = base_cfg.copy()\n",
    "    cfg[\"label_method\"] = lm\n",
    "    configs.append(cfg)\n",
    "\n",
    "# Calcular núcleos por configuración\n",
    "# total_cores = os.cpu_count()\n",
    "# cores_per_config = max(1, total_cores // len(configs))\n",
    "\n",
    "# Actualizar n_jobs en cada configuración\n",
    "for cfg in configs:\n",
    "    #cfg[\"n_jobs\"] = cores_per_config\n",
    "    cfg[\"tag\"] = f\"{cfg['symbol']} {cfg['timeframe']} {cfg['direction']} {cfg['label_method']} {cfg['search_type']} {cfg.get('search_subtype', '')}\".strip()\n",
    "\n",
    "def launch(cfg):\n",
    "    s = StrategySearcher(**cfg)\n",
    "    s.run_search()\n",
    "\n",
    "with ProcessPoolExecutor(max_workers=len(configs)) as pool:\n",
    "    futures = {pool.submit(launch, c): c[\"tag\"] for c in configs}\n",
    "    for f in as_completed(futures):\n",
    "        tag = futures[f]\n",
    "        try:\n",
    "            print(f\"[{tag}] terminado\")\n",
    "        except Exception as e:\n",
    "            print(f\"[{tag}] falló: {e}\")"
   ]
  }
 ],
 "metadata": {
  "kernelspec": {
   "display_name": "vscode",
   "language": "python",
   "name": "python3"
  },
  "language_info": {
   "codemirror_mode": {
    "name": "ipython",
    "version": 3
   },
   "file_extension": ".py",
   "mimetype": "text/x-python",
   "name": "python",
   "nbconvert_exporter": "python",
   "pygments_lexer": "ipython3",
   "version": "3.12.10"
  }
 },
 "nbformat": 4,
 "nbformat_minor": 5
}
