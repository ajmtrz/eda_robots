{
 "cells": [
  {
   "cell_type": "code",
   "execution_count": null,
   "id": "1adb695c",
   "metadata": {},
   "outputs": [
    {
     "name": "stdout",
     "output_type": "stream",
     "text": [
      "[XAUUSD H1 buy clusters simple] modelo 0 trial 15/1000 ins=-1.0000 oos=-1.0000 avg=  1.83s[XAUUSD H1 buy clusters simple] modelo 0 trial 2/1000 ins=-1.0000 oos=-1.0000 avg= 13.72s[XAUUSD H1 buy clusters simple] modelo 0 trial 8/1000 ins=-1.0000 oos=-1.0000 avg=  3.45s\n",
      "\n",
      "\n",
      "[XAUUSD H1 buy clusters simple] modelo 0 trial 16/1000 ins=-1.0000 oos=-1.0000 avg=  1.74s[XAUUSD H1 buy clusters simple] modelo 0 trial 5/1000 ins=-1.0000 oos=-1.0000 avg=  5.60s\n",
      "\n",
      "[XAUUSD H1 buy clusters simple] modelo 0 trial 30/1000 ins=-1.0000 oos=-1.0000 avg=  0.94s\n",
      "[XAUUSD H1 buy clusters simple] modelo 0 trial 17/1000 ins=-1.0000 oos=-1.0000 avg=  1.67s\n",
      "[XAUUSD H1 buy clusters simple] modelo 0 trial 10/1000 ins=-1.0000 oos=-1.0000 avg=  2.87s\n",
      "[XAUUSD H1 buy clusters simple] modelo 0 trial 18/1000 ins=-1.0000 oos=-1.0000 avg=  1.61s\n",
      "[XAUUSD H1 buy clusters simple] modelo 0 trial 9/1000 ins=-1.0000 oos=-1.0000 avg=  3.27s[XAUUSD H1 buy clusters simple] modelo 0 trial 21/1000 ins=-1.0000 oos=-1.0000 avg=  1.40s\n",
      "[XAUUSD H1 buy clusters simple] modelo 0 trial 11/1000 ins=-1.0000 oos=-1.0000 avg=  2.68s\n",
      "\n",
      "[XAUUSD H1 buy clusters simple] modelo 0 trial 27/1000 ins=-1.0000 oos=-1.0000 avg=  1.10s\n",
      "[XAUUSD H1 buy clusters simple] modelo 0 trial 14/1000 ins=-1.0000 oos=-1.0000 avg=  2.13s\n",
      "[XAUUSD H1 buy clusters simple] modelo 0 trial 13/1000 ins=-1.0000 oos=-1.0000 avg=  2.31s\n",
      "[XAUUSD H1 buy clusters simple] modelo 0 trial 26/1000 ins=-1.0000 oos=-1.0000 avg=  1.16s\n",
      "[XAUUSD H1 buy clusters simple] modelo 0 trial 20/1000 ins=-1.0000 oos=-1.0000 avg=  1.52s\n",
      "[XAUUSD H1 buy clusters simple] modelo 0 trial 25/1000 ins=-1.0000 oos=-1.0000 avg=  1.22s\n",
      "[XAUUSD H1 buy clusters simple] modelo 0 trial 43/1000 ins=-1.0000 oos=-1.0000 avg=  0.77s\n",
      "[XAUUSD H1 buy clusters simple] modelo 0 trial 50/1000 ins=-1.0000 oos=-1.0000 avg=  0.68s\n",
      "[XAUUSD H1 buy clusters simple] modelo 0 trial 39/1000 ins=-1.0000 oos=-1.0000 avg=  0.88s\n",
      "[XAUUSD H1 buy clusters simple] modelo 0 trial 35/1000 ins=-1.0000 oos=-1.0000 avg=  0.99s\n"
     ]
    }
   ],
   "source": [
    "import os\n",
    "from datetime import datetime\n",
    "from concurrent.futures import ProcessPoolExecutor, as_completed\n",
    "from modules.StrategySearcher import StrategySearcher\n",
    "import warnings\n",
    "warnings.filterwarnings(\"ignore\")\n",
    "warnings.filterwarnings(\"ignore\", category=RuntimeWarning, module=\"hmmlearn\")\n",
    "\n",
    "configs = [\n",
    "    # dict(symbol='XAUUSD', timeframe='H1', direction='buy',\n",
    "    #      train_start=datetime(2019,1,1), train_end=datetime(2025,1,1),\n",
    "    #      test_start=datetime(2021,1,1),  test_end=datetime(2022,1,1),\n",
    "    #      search_type='clusters', search_subtype='simple',\n",
    "    #      n_trials=500, n_models=10, n_jobs=-1),\n",
    "    # dict(symbol='XAUUSD', timeframe='H1', direction='buy',\n",
    "    #      train_start=datetime(2019,1,1), train_end=datetime(2025,1,1),\n",
    "    #      test_start=datetime(2022,1,1),  test_end=datetime(2023,1,1),\n",
    "    #      search_type='clusters', search_subtype='advanced',\n",
    "    #      n_trials=500, n_models=5, n_jobs=-1),\n",
    "    dict(symbol='XAUUSD', timeframe='H1', direction='buy',\n",
    "         train_start=datetime(2019,1,1), train_end=datetime(2025,1,1),\n",
    "         test_start=datetime(2022,1,1),  test_end=datetime(2023,1,1),\n",
    "         search_type='clusters', search_subtype='simple', labels_deterministic=True,\n",
    "         n_trials=1000, n_models=1, n_jobs=-1),\n",
    "    # dict(symbol='XAUUSD', timeframe='H1', direction='buy',\n",
    "    #      train_start=datetime(2019,1,1), train_end=datetime(2025,1,1),\n",
    "    #      test_start=datetime(2022,1,1),  test_end=datetime(2023,1,1),\n",
    "    #      search_type='markov', search_subtype='advanced',\n",
    "    #      n_trials=10, n_models=5, n_jobs=-1),\n",
    "]\n",
    "\n",
    "# Calcular núcleos por configuración\n",
    "# total_cores = os.cpu_count()\n",
    "# cores_per_config = max(1, total_cores // len(configs))\n",
    "\n",
    "# Actualizar n_jobs en cada configuración\n",
    "for cfg in configs:\n",
    "    # cfg[\"n_jobs\"] = cores_per_config\n",
    "    cfg[\"tag\"]    = f\"{cfg['symbol']} {cfg['timeframe']} {cfg['direction']} {cfg['search_type']} {cfg['search_subtype']}\"\n",
    "\n",
    "def launch(cfg):\n",
    "    s = StrategySearcher(**cfg)\n",
    "    s.run_search()\n",
    "\n",
    "with ProcessPoolExecutor(max_workers=len(configs)) as pool:\n",
    "    futures = {pool.submit(launch, c): c[\"tag\"] for c in configs}\n",
    "    for f in as_completed(futures):\n",
    "        tag = futures[f]\n",
    "        try:\n",
    "            print(f\"[{tag}] terminado\")\n",
    "        except Exception as e:\n",
    "            print(f\"[{tag}] falló: {e}\")"
   ]
  }
 ],
 "metadata": {
  "kernelspec": {
   "display_name": "vscode",
   "language": "python",
   "name": "python3"
  },
  "language_info": {
   "codemirror_mode": {
    "name": "ipython",
    "version": 3
   },
   "file_extension": ".py",
   "mimetype": "text/x-python",
   "name": "python",
   "nbconvert_exporter": "python",
   "pygments_lexer": "ipython3",
   "version": "3.12.10"
  }
 },
 "nbformat": 4,
 "nbformat_minor": 5
}
