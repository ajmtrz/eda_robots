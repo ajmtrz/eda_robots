{
 "cells": [
  {
   "cell_type": "code",
   "execution_count": null,
   "id": "1adb695c",
   "metadata": {},
   "outputs": [],
   "source": [
    "from modules.searches import StrategySearcher\n",
    "from datetime import datetime\n",
    "\n",
    "searcher = StrategySearcher(\n",
    "    symbol='XAUUSD',\n",
    "    timeframe='H1',\n",
    "    direction='buy',\n",
    "    train_start=datetime(2019, 1, 1),\n",
    "    train_end=datetime(2025, 1, 1),\n",
    "    test_start=datetime(2022, 1, 1),\n",
    "    test_end=datetime(2023, 1, 1),\n",
    "    n_trials=500,\n",
    ")\n",
    "\n",
    "# Buscar estrategias usando clustering\n",
    "searcher.run_search('clusters', n_models=5)\n",
    "\n",
    "# Buscar estrategias usando causalidad\n",
    "#searcher.run_search('causal', n_models=10)\n",
    "\n",
    "# Buscar estrategias usando filtros\n",
    "#searcher.run_search('filter', n_models=10)"
   ]
  }
 ],
 "metadata": {
  "kernelspec": {
   "display_name": "vscode",
   "language": "python",
   "name": "python3"
  },
  "language_info": {
   "codemirror_mode": {
    "name": "ipython",
    "version": 3
   },
   "file_extension": ".py",
   "mimetype": "text/x-python",
   "name": "python",
   "nbconvert_exporter": "python",
   "pygments_lexer": "ipython3",
   "version": "3.12.10"
  }
 },
 "nbformat": 4,
 "nbformat_minor": 5
}
