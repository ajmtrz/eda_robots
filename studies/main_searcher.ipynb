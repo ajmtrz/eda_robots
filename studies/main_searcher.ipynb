{
 "cells": [
  {
   "cell_type": "code",
   "execution_count": null,
   "id": "1adb695c",
   "metadata": {},
   "outputs": [
    {
     "name": "stdout",
     "output_type": "stream",
     "text": [
      "[XAUUSD_H1_buy_random_wkmeans_wasserstein] modelo 0 trial 1/500 ins=0.833543 oos=0.013803 avg=422.47s mem=635.50MB \n",
      "[XAUUSD_H1_buy_random_wkmeans_wasserstein] modelo 0 trial 2/500 ins=0.833543 oos=0.013803 avg=211.70s mem=636.00MB \n",
      "[XAUUSD_H1_buy_random_wkmeans_wasserstein] modelo 0 trial 3/500 ins=0.833543 oos=0.013803 avg=141.32s mem=636.00MB \n",
      "[XAUUSD_H1_buy_random_wkmeans_wasserstein] modelo 0 trial 4/500 ins=0.833543 oos=0.013803 avg=109.69s mem=636.93MB \n",
      "[XAUUSD_H1_buy_random_wkmeans_wasserstein] modelo 0 trial 5/500 ins=0.833543 oos=0.013803 avg=99.88s mem=674.78MB \n",
      "[XAUUSD_H1_buy_random_wkmeans_wasserstein] modelo 0 trial 6/500 ins=0.833543 oos=0.013803 avg=85.79s mem=685.53MB \n",
      "[XAUUSD_H1_buy_random_wkmeans_wasserstein] modelo 0 trial 7/500 ins=0.833543 oos=0.013803 avg=100.31s mem=680.74MB \n",
      "[XAUUSD_H1_buy_random_wkmeans_wasserstein] modelo 0 trial 8/500 ins=0.833543 oos=0.013803 avg=92.80s mem=621.55MB \n"
     ]
    }
   ],
   "source": [
    "import os\n",
    "from datetime import datetime\n",
    "from concurrent.futures import ProcessPoolExecutor, as_completed\n",
    "from modules.StrategySearcher import StrategySearcher\n",
    "import warnings\n",
    "warnings.filterwarnings(\"ignore\")\n",
    "\n",
    "label_methods = [\n",
    "    \"random\",\n",
    "    \"trend\",\n",
    "    \"trend_profit\",\n",
    "    \"trend_multi\",\n",
    "    \"clusters\",\n",
    "    \"multi_window\",\n",
    "    \"validated_levels\",\n",
    "    \"zigzag\",\n",
    "    \"mean_rev\",\n",
    "    \"mean_rev_multi\",\n",
    "    \"mean_rev_vol\",\n",
    "    \"filter\",\n",
    "    \"multi_filter\",\n",
    "    \"filter_bidirectional\",\n",
    "    \"filter_one\",\n",
    "    \"trend_one\",\n",
    "    \"filter_flat\",\n",
    "]\n",
    "search_methods = [\n",
    "    'clusters',\n",
    "    'markov',\n",
    "    'lgmm',\n",
    "    'mapie',\n",
    "    'causal',\n",
    "    'wkmeans',\n",
    "]\n",
    "configs = [\n",
    "    dict(\n",
    "        symbol='XAUUSD', timeframe='H1', direction='buy', pruner_type='halving',\n",
    "        train_start=datetime(2018,1,1), train_end=datetime(2025,1,1),\n",
    "        test_start=datetime(2022,1,1),  test_end=datetime(2023,6,1),\n",
    "        label_method='random', search_type='wkmeans', search_subtype='wasserstein',\n",
    "        n_trials=500, n_models=10, n_jobs=1, debug=False,\n",
    "    ),\n",
    "]\n",
    "# Actualizar n_jobs en cada configuración\n",
    "for cfg in configs:\n",
    "    cfg[\"tag\"] = f\"{cfg['symbol']}_{cfg['timeframe']}_{cfg['direction']}_{cfg['label_method']}_{cfg['search_type']}_{cfg.get('search_subtype', '')}\".strip(\"_\")\n",
    "\n",
    "def launch(cfg):\n",
    "    s = StrategySearcher(**cfg)\n",
    "    s.run_search()\n",
    "\n",
    "with ProcessPoolExecutor(max_workers=len(configs)) as pool:\n",
    "    futures = {pool.submit(launch, c): c[\"tag\"] for c in configs}\n",
    "    for f in as_completed(futures):\n",
    "        tag = futures[f]\n",
    "        try:\n",
    "            print(f\"[{tag}] terminado\")\n",
    "        except Exception as e:\n",
    "            print(f\"[{tag}] falló: {e}\")"
   ]
  }
 ],
 "metadata": {
  "kernelspec": {
   "display_name": "vscode",
   "language": "python",
   "name": "python3"
  },
  "language_info": {
   "codemirror_mode": {
    "name": "ipython",
    "version": 3
   },
   "file_extension": ".py",
   "mimetype": "text/x-python",
   "name": "python",
   "nbconvert_exporter": "python",
   "pygments_lexer": "ipython3",
   "version": "3.12.10"
  }
 },
 "nbformat": 4,
 "nbformat_minor": 5
}
