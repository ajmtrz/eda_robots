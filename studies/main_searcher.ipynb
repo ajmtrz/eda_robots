{
 "cells": [
  {
   "cell_type": "code",
   "execution_count": null,
   "id": "1adb695c",
   "metadata": {},
   "outputs": [
    {
     "name": "stdout",
     "output_type": "stream",
     "text": [
      "[XAUUSD H1 buy clusters simple] modelo 0 trial 1/500 best=-1.0000 avg= 11.28s\n",
      "[XAUUSD H1 buy clusters simple] modelo 0 trial 2/500 best=-1.0000 avg=  5.82s\n",
      "[XAUUSD H1 buy clusters advanced] modelo 0 trial 1/500 best=-1.0000 avg= 11.64s\n",
      "[XAUUSD H1 buy clusters advanced] modelo 0 trial 2/500 best=-1.0000 avg=  7.49s\n",
      "[XAUUSD H1 buy clusters advanced] modelo 0 trial 3/500 best=-1.0000 avg=  6.32s\n"
     ]
    }
   ],
   "source": [
    "from datetime import datetime\n",
    "from concurrent.futures import ProcessPoolExecutor, as_completed\n",
    "from modules.StrategySearcher import StrategySearcher\n",
    "\n",
    "configs = [\n",
    "    dict(symbol='XAUUSD', timeframe='H1', direction='buy',\n",
    "         train_start=datetime(2019,1,1), train_end=datetime(2025,1,1),\n",
    "         test_start=datetime(2022,1,1),  test_end=datetime(2023,1,1),\n",
    "         search_type='clusters', subtype_clustering='simple',\n",
    "         n_trials=500, n_models=5, n_jobs=15),\n",
    "    dict(symbol='XAUUSD', timeframe='H1', direction='buy',\n",
    "         train_start=datetime(2019,1,1), train_end=datetime(2025,1,1),\n",
    "         test_start=datetime(2022,1,1),  test_end=datetime(2023,1,1),\n",
    "         search_type='clusters', subtype_clustering='advanced',\n",
    "         n_trials=500, n_models=5, n_jobs=15),\n",
    "]\n",
    "\n",
    "# repartir núcleos disponibles\n",
    "for cfg in configs:\n",
    "    cfg[\"tag\"]    = f\"{cfg['symbol']} {cfg['timeframe']} {cfg['direction']} {cfg['search_type']} {cfg['subtype_clustering']}\"\n",
    "\n",
    "def launch(cfg):\n",
    "    s = StrategySearcher(**cfg)\n",
    "    s.run_search()\n",
    "    return s.all_results\n",
    "\n",
    "with ProcessPoolExecutor(max_workers=len(configs)) as pool:\n",
    "    futures = {pool.submit(launch, c): c[\"tag\"] for c in configs}\n",
    "    for f in as_completed(futures):\n",
    "        tag = futures[f]\n",
    "        try:\n",
    "            print(f\"[{tag}] terminado: {f.result()}\")\n",
    "        except Exception as e:\n",
    "            print(f\"[{tag}] falló: {e}\")"
   ]
  }
 ],
 "metadata": {
  "kernelspec": {
   "display_name": "vscode",
   "language": "python",
   "name": "python3"
  },
  "language_info": {
   "codemirror_mode": {
    "name": "ipython",
    "version": 3
   },
   "file_extension": ".py",
   "mimetype": "text/x-python",
   "name": "python",
   "nbconvert_exporter": "python",
   "pygments_lexer": "ipython3",
   "version": "3.12.10"
  }
 },
 "nbformat": 4,
 "nbformat_minor": 5
}
