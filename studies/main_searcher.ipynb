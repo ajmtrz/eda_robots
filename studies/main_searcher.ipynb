{
 "cells": [
  {
   "cell_type": "code",
   "execution_count": null,
   "id": "1adb695c",
   "metadata": {},
   "outputs": [
    {
     "name": "stdout",
     "output_type": "stream",
     "text": [
      "[XAUUSD H1 buy markov simple] modelo 0 trial 1/500 best=-1.0000 avg=  6.89s[XAUUSD H1 buy clusters simple] modelo 0 trial 1/500 best=-1.0000 avg=  6.89s\n",
      "\n"
     ]
    },
    {
     "name": "stderr",
     "output_type": "stream",
     "text": [
      "Model is not converging.  Current: -7984.607779123666 is not greater than -7945.244337385408. Delta is -39.36344173825819\n"
     ]
    },
    {
     "name": "stdout",
     "output_type": "stream",
     "text": [
      "[XAUUSD H1 buy markov simple] modelo 0 trial 2/500 best=1.5861 avg= 23.58s\n",
      "[XAUUSD H1 buy clusters simple] modelo 0 trial 2/500 best=3.4121 avg= 71.74s\n",
      "[XAUUSD H1 buy clusters simple] modelo 0 trial 3/500 best=3.4121 avg= 47.92s\n",
      "[XAUUSD H1 buy clusters simple] modelo 0 trial 4/500 best=3.4121 avg= 37.66s\n",
      "[XAUUSD H1 buy markov simple] modelo 0 trial 3/500 best=3.1399 avg= 64.44s\n",
      "[XAUUSD H1 buy markov simple] modelo 0 trial 4/500 best=3.1399 avg= 73.13s\n",
      "[XAUUSD H1 buy markov simple] modelo 0 trial 5/500 best=3.1399 avg= 58.68s\n",
      "[XAUUSD H1 buy markov simple] modelo 0 trial 6/500 best=3.1399 avg= 49.26s\n",
      "[XAUUSD H1 buy markov simple] modelo 0 trial 7/500 best=3.1399 avg= 42.24s\n",
      "[XAUUSD H1 buy markov simple] modelo 0 trial 8/500 best=3.1399 avg= 37.00s\n"
     ]
    }
   ],
   "source": [
    "import os\n",
    "from datetime import datetime\n",
    "from concurrent.futures import ProcessPoolExecutor, as_completed\n",
    "from modules.StrategySearcher import StrategySearcher\n",
    "import warnings\n",
    "warnings.filterwarnings(\"ignore\")\n",
    "\n",
    "configs = [\n",
    "    dict(symbol='XAUUSD', timeframe='H1', direction='buy',\n",
    "         train_start=datetime(2019,1,1), train_end=datetime(2025,1,1),\n",
    "         test_start=datetime(2022,1,1),  test_end=datetime(2023,1,1),\n",
    "         search_type='clusters', subtype='simple',\n",
    "         n_trials=500, n_models=5, n_jobs=-1),\n",
    "    # dict(symbol='XAUUSD', timeframe='H1', direction='buy',\n",
    "    #      train_start=datetime(2019,1,1), train_end=datetime(2025,1,1),\n",
    "    #      test_start=datetime(2022,1,1),  test_end=datetime(2023,1,1),\n",
    "    #      search_type='clusters', subtype='advanced',\n",
    "    #      n_trials=500, n_models=5, n_jobs=-1),\n",
    "    dict(symbol='XAUUSD', timeframe='H1', direction='buy',\n",
    "         train_start=datetime(2019,1,1), train_end=datetime(2025,1,1),\n",
    "         test_start=datetime(2022,1,1),  test_end=datetime(2023,1,1),\n",
    "         search_type='markov', subtype='simple',\n",
    "         n_trials=500, n_models=5, n_jobs=-1),\n",
    "    # dict(symbol='XAUUSD', timeframe='H1', direction='buy',\n",
    "    #      train_start=datetime(2019,1,1), train_end=datetime(2025,1,1),\n",
    "    #      test_start=datetime(2022,1,1),  test_end=datetime(2023,1,1),\n",
    "    #      search_type='markov', subtype='advanced',\n",
    "    #      n_trials=500, n_models=5, n_jobs=-1),\n",
    "]\n",
    "\n",
    "# Calcular núcleos por configuración\n",
    "total_cores = os.cpu_count()\n",
    "cores_per_config = max(1, total_cores // len(configs))\n",
    "\n",
    "# Actualizar n_jobs en cada configuración\n",
    "for cfg in configs:\n",
    "    cfg[\"n_jobs\"] = cores_per_config\n",
    "    cfg[\"tag\"]    = f\"{cfg['symbol']} {cfg['timeframe']} {cfg['direction']} {cfg['search_type']} {cfg['subtype']}\"\n",
    "\n",
    "def launch(cfg):\n",
    "    s = StrategySearcher(**cfg)\n",
    "    s.run_search()\n",
    "    return s.all_results\n",
    "\n",
    "with ProcessPoolExecutor(max_workers=len(configs)) as pool:\n",
    "    futures = {pool.submit(launch, c): c[\"tag\"] for c in configs}\n",
    "    for f in as_completed(futures):\n",
    "        tag = futures[f]\n",
    "        try:\n",
    "            print(f\"[{tag}] terminado: {f.result()}\")\n",
    "        except Exception as e:\n",
    "            print(f\"[{tag}] falló: {e}\")"
   ]
  }
 ],
 "metadata": {
  "kernelspec": {
   "display_name": "vscode",
   "language": "python",
   "name": "python3"
  },
  "language_info": {
   "codemirror_mode": {
    "name": "ipython",
    "version": 3
   },
   "file_extension": ".py",
   "mimetype": "text/x-python",
   "name": "python",
   "nbconvert_exporter": "python",
   "pygments_lexer": "ipython3",
   "version": "3.12.10"
  }
 },
 "nbformat": 4,
 "nbformat_minor": 5
}
