{
 "cells": [
  {
   "cell_type": "code",
   "execution_count": null,
   "id": "1adb695c",
   "metadata": {},
   "outputs": [
    {
     "name": "stdout",
     "output_type": "stream",
     "text": [
      "[XAUUSD H1 both lgmm] modelo 0 trial 1/500 ins=0.4817 oos=0.3211 avg= 11.80s mem=466.05MB \n",
      "[XAUUSD H1 both lgmm] modelo 0 trial 2/500 ins=0.4817 oos=0.3211 avg=  7.51s mem=483.98MB \n",
      "[XAUUSD H1 both lgmm] modelo 0 trial 3/500 ins=0.7786 oos=0.4705 avg=  6.34s mem=501.50MB \n",
      "[XAUUSD H1 both lgmm] modelo 0 trial 4/500 ins=0.7786 oos=0.4705 avg=  6.43s mem=535.14MB \n",
      "[XAUUSD H1 both lgmm] modelo 0 trial 5/500 ins=0.7786 oos=0.4705 avg=  6.43s mem=867.77MB \n",
      "[XAUUSD H1 both lgmm] modelo 0 trial 6/500 ins=0.7786 oos=0.4705 avg=  6.38s mem=879.02MB \n"
     ]
    }
   ],
   "source": [
    "import os\n",
    "from datetime import datetime\n",
    "from concurrent.futures import ProcessPoolExecutor, as_completed\n",
    "from modules.StrategySearcher import StrategySearcher\n",
    "import warnings\n",
    "warnings.filterwarnings(\"ignore\")\n",
    "\n",
    "configs = [\n",
    "    # dict(symbol='XAUUSD', timeframe='H1', direction='both',\n",
    "    #      train_start=datetime(2019,1,1), train_end=datetime(2025,1,1),\n",
    "    #      test_start=datetime(2022,1,1),  test_end=datetime(2023,1,1),\n",
    "    #      search_type='causal', n_trials=500, n_models=1),\n",
    "    # dict(symbol='XAUUSD', timeframe='H1', direction='both',\n",
    "    #      train_start=datetime(2019,1,1), train_end=datetime(2025,1,1),\n",
    "    #      test_start=datetime(2022,1,1),  test_end=datetime(2023,1,1),\n",
    "    #      search_type='mapie', n_trials=500, n_models=1),\n",
    "    dict(symbol='XAUUSD', timeframe='H1', direction='both',\n",
    "         train_start=datetime(2019,1,1), train_end=datetime(2025,1,1),\n",
    "         test_start=datetime(2021,1,1),  test_end=datetime(2022,1,1),\n",
    "         search_type='lgmm', n_trials=500, n_models=1),\n",
    "    # dict(symbol='XAUUSD', timeframe='H1', direction='both',\n",
    "    #      train_start=datetime(2019,1,1), train_end=datetime(2025,1,1),\n",
    "    #      test_start=datetime(2021,1,1),  test_end=datetime(2022,1,1),\n",
    "    #      search_type='clusters', search_subtype='simple',\n",
    "    #      n_trials=500, n_models=1),\n",
    "    # dict(symbol='XAUUSD', timeframe='H1', direction='both',\n",
    "    #      train_start=datetime(2019,1,1), train_end=datetime(2025,1,1),\n",
    "    #      test_start=datetime(2022,1,1),  test_end=datetime(2023,1,1),\n",
    "    #      search_type='clusters', search_subtype='advanced',\n",
    "    #      n_trials=500, n_models=1),\n",
    "    # dict(symbol='XAUUSD', timeframe='H1', direction='both',\n",
    "    #      train_start=datetime(2019,1,1), train_end=datetime(2025,1,1),\n",
    "    #      test_start=datetime(2022,1,1),  test_end=datetime(2023,1,1),\n",
    "    #      search_type='markov', search_subtype='simple',\n",
    "    #      n_trials=500, n_models=1),\n",
    "    # dict(symbol='XAUUSD', timeframe='H1', direction='both',\n",
    "    #      train_start=datetime(2019,1,1), train_end=datetime(2025,1,1),\n",
    "    #      test_start=datetime(2022,1,1),  test_end=datetime(2023,1,1),\n",
    "    #      search_type='markov', search_subtype='advanced',\n",
    "    #      n_trials=500, n_models=1),\n",
    "]\n",
    "\n",
    "# Calcular núcleos por configuración\n",
    "# total_cores = os.cpu_count()\n",
    "# cores_per_config = max(1, total_cores // len(configs))\n",
    "\n",
    "# Actualizar n_jobs en cada configuración\n",
    "for cfg in configs:\n",
    "    #cfg[\"n_jobs\"] = cores_per_config\n",
    "    cfg[\"tag\"]    = f\"{cfg['symbol']} {cfg['timeframe']} {cfg['direction']} {cfg['search_type']} {cfg.get('search_subtype', '')}\".strip()\n",
    "\n",
    "def launch(cfg):\n",
    "    s = StrategySearcher(**cfg)\n",
    "    s.run_search()\n",
    "\n",
    "with ProcessPoolExecutor(max_workers=len(configs)) as pool:\n",
    "    futures = {pool.submit(launch, c): c[\"tag\"] for c in configs}\n",
    "    for f in as_completed(futures):\n",
    "        tag = futures[f]\n",
    "        try:\n",
    "            print(f\"[{tag}] terminado\")\n",
    "        except Exception as e:\n",
    "            print(f\"[{tag}] falló: {e}\")"
   ]
  }
 ],
 "metadata": {
  "kernelspec": {
   "display_name": "vscode",
   "language": "python",
   "name": "python3"
  },
  "language_info": {
   "codemirror_mode": {
    "name": "ipython",
    "version": 3
   },
   "file_extension": ".py",
   "mimetype": "text/x-python",
   "name": "python",
   "nbconvert_exporter": "python",
   "pygments_lexer": "ipython3",
   "version": "3.12.10"
  }
 },
 "nbformat": 4,
 "nbformat_minor": 5
}
