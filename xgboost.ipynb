{
 "cells": [
  {
   "cell_type": "markdown",
   "metadata": {},
   "source": [
    "## Importar librerías"
   ]
  },
  {
   "cell_type": "code",
   "execution_count": 1,
   "metadata": {},
   "outputs": [],
   "source": [
    "import os\n",
    "import numpy as np\n",
    "import pandas as pd\n",
    "from sklearn.preprocessing import RobustScaler\n",
    "from sklearn.decomposition import KernelPCA\n",
    "from sklearn_genetic import GASearchCV\n",
    "from sklearn_genetic.plots import plot_fitness_evolution\n",
    "from sklearn_genetic.space import Integer, Categorical, Continuous\n",
    "from sklearn_genetic.callbacks import ProgressBar, ConsecutiveStopping\n",
    "import matplotlib.pyplot as plt\n",
    "import xgboost as xgb\n",
    "from sklearn.pipeline import Pipeline\n",
    "from skl2onnx.common.data_types import FloatTensorType\n",
    "from skl2onnx import convert_sklearn, update_registered_converter\n",
    "from skl2onnx.common.shape_calculator import calculate_linear_classifier_output_shapes\n",
    "from onnxmltools.convert.xgboost.operator_converters.XGBoost import convert_xgboost\n",
    "from onnxmltools.convert import convert_xgboost\n",
    "import warnings\n",
    "warnings.filterwarnings('ignore')"
   ]
  },
  {
   "cell_type": "markdown",
   "metadata": {},
   "source": [
    "## Cargar y preparar datos"
   ]
  },
  {
   "cell_type": "code",
   "execution_count": null,
   "metadata": {},
   "outputs": [],
   "source": [
    "# Cargar\n",
    "tester_files_folder = r\"C:\\Users\\Administrador\\AppData\\Roaming\\MetaQuotes\\Terminal\\Common\\Files\"\n",
    "df_buy = pd.read_csv(os.path.join(tester_files_folder, \"buy_training_dataset.csv\"))\n",
    "df_sell = pd.read_csv(os.path.join(tester_files_folder, \"sell_training_dataset.csv\"))\n",
    "print(f\"Buy -> Trades: {df_buy.shape[0]} Features: {df_buy.shape[1]-1}\")\n",
    "print(f\"Sell -> Trades: {df_sell.shape[0]} Features: {df_sell.shape[1]-1}\")"
   ]
  },
  {
   "cell_type": "code",
   "execution_count": null,
   "metadata": {},
   "outputs": [],
   "source": [
    "# Aleatorizar muestras (compras)\n",
    "df_buy = df_buy.sample(frac=1).reset_index(drop=True)\n",
    "df_buy"
   ]
  },
  {
   "cell_type": "code",
   "execution_count": null,
   "metadata": {},
   "outputs": [],
   "source": [
    "# Aleatorizar muestras (ventas)\n",
    "df_sell = df_sell.sample(frac=1).reset_index(drop=True)\n",
    "df_sell"
   ]
  },
  {
   "cell_type": "code",
   "execution_count": 5,
   "metadata": {},
   "outputs": [],
   "source": [
    "# Chequear y limpiar\n",
    "if(df_buy.isna().values.any()):\n",
    "    df_buy=df_buy.dropna()\n",
    "if(df_sell.isna().values.any()):\n",
    "    df_sell=df_sell.dropna()"
   ]
  },
  {
   "cell_type": "code",
   "execution_count": 6,
   "metadata": {},
   "outputs": [],
   "source": [
    "# Preparación de los datos de compra\n",
    "X_buy = df_buy.drop(columns='target').values\n",
    "y_buy = df_buy['target'].values\n",
    "X_buy_train = X_buy\n",
    "y_buy_train = y_buy\n",
    "# Preparación de los datos de venta\n",
    "X_sell = df_sell.drop(columns='target').values\n",
    "y_sell = df_sell['target'].values\n",
    "X_sell_train = X_sell\n",
    "y_sell_train = y_sell\n",
    "# Número de características\n",
    "n_features = X_buy_train.shape[1]"
   ]
  },
  {
   "cell_type": "markdown",
   "metadata": {},
   "source": [
    "## Definir y entrenar modelos"
   ]
  },
  {
   "cell_type": "code",
   "execution_count": 7,
   "metadata": {},
   "outputs": [],
   "source": [
    "# Definir espacio de hiperparámetros\n",
    "param_grid = {\n",
    "    # Hiperparámetros del reductor\n",
    "    'dim_reducer__n_components': Integer(1, n_features),\n",
    "    'dim_reducer__kernel': Categorical(['linear', 'poly', 'rbf', 'sigmoid', 'cosine']),\n",
    "    # Hiperparámetros de XGBoost\n",
    "    'xgb__n_estimators': Integer(50, 500),\n",
    "    'xgb__max_depth': Integer(3, 10),\n",
    "    'xgb__learning_rate': Continuous(0.01, 0.3),\n",
    "    'xgb__subsample': Continuous(0.6, 1.0),\n",
    "    'xgb__colsample_bytree': Continuous(0.6, 1.0),\n",
    "    'xgb__gamma': Continuous(0, 0.5),\n",
    "    'xgb__min_child_weight': Integer(1, 10),\n",
    "    'xgb__reg_alpha': Continuous(0, 1.0),\n",
    "    'xgb__reg_lambda': Continuous(0, 1.0)\n",
    "}"
   ]
  },
  {
   "cell_type": "code",
   "execution_count": null,
   "metadata": {},
   "outputs": [],
   "source": [
    "# Definir el pipeline con placeholders (compras)\n",
    "pipe_buy = Pipeline([\n",
    "    ('scaler', RobustScaler()),\n",
    "    ('dim_reducer', KernelPCA()),\n",
    "    ('xgb', xgb.XGBClassifier(use_label_encoder=False, eval_metric='mlogloss'))\n",
    "])\n",
    "# Definir algoritmo genético\n",
    "evolutionary_search_buy = GASearchCV(\n",
    "    estimator=pipe_buy,\n",
    "    cv=5,\n",
    "    scoring='accuracy',\n",
    "    param_grid=param_grid,\n",
    "    population_size=50,\n",
    "    generations=20,\n",
    "    mutation_probability=0.2,\n",
    "    crossover_probability=0.8,\n",
    "    n_jobs=-1,\n",
    "    verbose=True,\n",
    "    keep_top_k=10\n",
    ")\n",
    "# Entrenar el modelo\n",
    "evolutionary_search_buy.fit(X_buy_train, y_buy_train, callbacks=[ProgressBar(), ConsecutiveStopping(generations=1, metric='fitness')])\n",
    "# Obtener el mejor estimador\n",
    "model_buy = evolutionary_search_buy.best_estimator_"
   ]
  },
  {
   "cell_type": "code",
   "execution_count": null,
   "metadata": {},
   "outputs": [],
   "source": [
    "print(evolutionary_search_buy.best_params_)\n",
    "print(evolutionary_search_buy.best_score_)"
   ]
  },
  {
   "cell_type": "code",
   "execution_count": null,
   "metadata": {},
   "outputs": [],
   "source": [
    "# Definir el pipeline con placeholders (ventas)\n",
    "pipe_sell = Pipeline([\n",
    "    ('scaler', RobustScaler()),\n",
    "    ('dim_reducer', KernelPCA()),\n",
    "    ('xgb', xgb.XGBClassifier(use_label_encoder=False, eval_metric='mlogloss'))\n",
    "])\n",
    "# Definir algoritmo genético\n",
    "evolutionary_search_sell = GASearchCV(\n",
    "    estimator=pipe_buy,\n",
    "    cv=5,\n",
    "    scoring='accuracy',\n",
    "    param_grid=param_grid,\n",
    "    population_size=50,\n",
    "    generations=20,\n",
    "    mutation_probability=0.2,\n",
    "    crossover_probability=0.8,\n",
    "    n_jobs=-1,\n",
    "    verbose=True,\n",
    "    keep_top_k=10\n",
    ")\n",
    "# Entrenar el modelo\n",
    "evolutionary_search_sell.fit(X_sell_train, y_sell_train, callbacks=[ProgressBar(), ConsecutiveStopping(generations=1, metric='fitness')])\n",
    "# Obtener el mejor estimador\n",
    "model_sell = evolutionary_search_sell.best_estimator_"
   ]
  },
  {
   "cell_type": "code",
   "execution_count": null,
   "metadata": {},
   "outputs": [],
   "source": [
    "print(evolutionary_search_sell.best_params_)\n",
    "print(evolutionary_search_sell.best_score_)"
   ]
  },
  {
   "cell_type": "markdown",
   "metadata": {},
   "source": [
    "## Exportar modelos a formato ONNX"
   ]
  },
  {
   "cell_type": "code",
   "execution_count": 10,
   "metadata": {},
   "outputs": [],
   "source": [
    "update_registered_converter(\n",
    "    xgb.XGBClassifier,\n",
    "    \"XGBClassifier\",\n",
    "    calculate_linear_classifier_output_shapes,\n",
    "    convert_xgboost,\n",
    "    options={'nocl': [True, False], 'zipmap': [True, False, 'columns']}\n",
    ")"
   ]
  },
  {
   "cell_type": "code",
   "execution_count": 11,
   "metadata": {},
   "outputs": [],
   "source": [
    "model_buy_onnx = convert_sklearn(\n",
    "    model_buy,\n",
    "    'pipeline_buy_xgboost',\n",
    "    [('input', FloatTensorType([None, X_buy_train.shape[1]]))],\n",
    "    target_opset={'': 12, 'ai.onnx.ml': 2}\n",
    ")\n",
    "model_sell_onnx = convert_sklearn(\n",
    "    model_sell,\n",
    "    'pipeline_sell_xgboost',\n",
    "    [('input', FloatTensorType([None, X_buy_train.shape[1]]))],\n",
    "    target_opset={'': 12, 'ai.onnx.ml': 2}\n",
    ")\n",
    "mql5_files_folder = \"C:/Users/Administrador/AppData/Roaming/MetaQuotes/Terminal/6C3C6A11D1C3791DD4DBF45421BF8028/MQL5/Files\"\n",
    "with open(os.path.join(mql5_files_folder, \"model_buy.onnx\"), 'wb') as f:\n",
    "    f.write(model_buy_onnx.SerializeToString())\n",
    "with open(os.path.join(mql5_files_folder, \"model_sell.onnx\"), 'wb') as f:\n",
    "    f.write(model_sell_onnx.SerializeToString())"
   ]
  }
 ],
 "metadata": {
  "kernelspec": {
   "display_name": "vscode",
   "language": "python",
   "name": "python3"
  },
  "language_info": {
   "codemirror_mode": {
    "name": "ipython",
    "version": 3
   },
   "file_extension": ".py",
   "mimetype": "text/x-python",
   "name": "python",
   "nbconvert_exporter": "python",
   "pygments_lexer": "ipython3",
   "version": "3.10.14"
  }
 },
 "nbformat": 4,
 "nbformat_minor": 2
}
