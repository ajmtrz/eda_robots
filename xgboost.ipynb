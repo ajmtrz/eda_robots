{
 "cells": [
  {
   "cell_type": "markdown",
   "metadata": {},
   "source": [
    "## Importar librerías"
   ]
  },
  {
   "cell_type": "code",
   "execution_count": 1,
   "metadata": {},
   "outputs": [],
   "source": [
    "import os\n",
    "import cupy as cp\n",
    "import pandas as pd\n",
    "from sklearn.preprocessing import RobustScaler\n",
    "from sklearn.decomposition import KernelPCA\n",
    "from sklearn.model_selection import StratifiedKFold\n",
    "from sklearn_genetic import GASearchCV\n",
    "from sklearn_genetic import ExponentialAdapter\n",
    "from sklearn_genetic.space import Integer, Categorical, Continuous\n",
    "from sklearn_genetic.callbacks import ProgressBar, ConsecutiveStopping\n",
    "import xgboost as xgb\n",
    "from sklearn.base import TransformerMixin, BaseEstimator\n",
    "from sklearn.pipeline import Pipeline\n",
    "from concurrent.futures import ThreadPoolExecutor, wait\n",
    "from skl2onnx.common.data_types import FloatTensorType\n",
    "from skl2onnx import convert_sklearn, update_registered_converter\n",
    "from skl2onnx.common.shape_calculator import calculate_linear_classifier_output_shapes\n",
    "from onnxmltools.convert.xgboost.operator_converters.XGBoost import convert_xgboost\n",
    "import warnings\n",
    "warnings.filterwarnings('ignore')"
   ]
  },
  {
   "cell_type": "markdown",
   "metadata": {},
   "source": [
    "## Cargar y preparar datos"
   ]
  },
  {
   "cell_type": "code",
   "execution_count": 2,
   "metadata": {},
   "outputs": [],
   "source": [
    "# Cargar, limpiar y preparar datasets\n",
    "def load_dataset(tester_files_folder):\n",
    "    # Preparación de los datos de compra\n",
    "    df_buy = pd.read_csv(os.path.join(tester_files_folder, \"buy_training_dataset.csv\"))\n",
    "    if(df_buy.isna().values.any()):\n",
    "        df_buy=df_buy.dropna()\n",
    "    df_buy = df_buy.sample(frac=1).reset_index(drop=True)\n",
    "    X_buy_train = df_buy.drop(columns='target').values\n",
    "    y_buy_train = df_buy['target'].values\n",
    "    # Preparación de los datos de venta\n",
    "    df_sell = pd.read_csv(os.path.join(tester_files_folder, \"sell_training_dataset.csv\"))\n",
    "    if(df_sell.isna().values.any()):\n",
    "        df_sell=df_sell.dropna()\n",
    "    df_sell = df_sell.sample(frac=1).reset_index(drop=True)\n",
    "    X_sell_train = df_sell.drop(columns='target').values\n",
    "    y_sell_train = df_sell['target'].values\n",
    "    return X_buy_train, y_buy_train, X_sell_train, y_sell_train"
   ]
  },
  {
   "cell_type": "code",
   "execution_count": 3,
   "metadata": {},
   "outputs": [
    {
     "name": "stdout",
     "output_type": "stream",
     "text": [
      "Buy -> Trades: 3272 Features: 212\n",
      "Sell -> Trades: 2806 Features: 212\n"
     ]
    }
   ],
   "source": [
    "X_buy_train, y_buy_train, X_sell_train, y_sell_train = load_dataset(r\"C:\\Users\\Administrador\\AppData\\Roaming\\MetaQuotes\\Terminal\\Common\\Files\")\n",
    "print(f\"Buy -> Trades: {X_buy_train.shape[0]} Features: {X_buy_train.shape[1]}\")\n",
    "print(f\"Sell -> Trades: {X_sell_train.shape[0]} Features: {X_sell_train.shape[1]}\")"
   ]
  },
  {
   "cell_type": "markdown",
   "metadata": {},
   "source": [
    "## Entrenar modelos"
   ]
  },
  {
   "cell_type": "code",
   "execution_count": 4,
   "metadata": {},
   "outputs": [],
   "source": [
    "class ToGPUTransformer(BaseEstimator, TransformerMixin):\n",
    "    def fit(self, X, y=None):\n",
    "        # Convertir y a array de CuPy si se proporciona\n",
    "        if y is not None:\n",
    "            self.y_ = cp.asarray(y)\n",
    "        else:\n",
    "            self.y_ = None\n",
    "        return self\n",
    "\n",
    "    def transform(self, X):\n",
    "        # Convertir X a array de CuPy\n",
    "        X_gpu = cp.asarray(X)\n",
    "        return X_gpu"
   ]
  },
  {
   "cell_type": "code",
   "execution_count": 5,
   "metadata": {},
   "outputs": [],
   "source": [
    "def train_model_buy(X_buy_train, y_buy_train, param_grid, cv, crossover_adapter, mutation_adapter):\n",
    "    try:\n",
    "        # Definir el pipeline con placeholders (compras)\n",
    "        pipe_buy = Pipeline([\n",
    "            ('scaler', RobustScaler()),\n",
    "            ('dim_reducer', KernelPCA(kernel='rbf')),\n",
    "            #('to_gpu', ToGPUTransformer()),\n",
    "            ('xgb', xgb.XGBClassifier(eval_metric='mlogloss', tree_method='hist', device='cuda'))\n",
    "        ])\n",
    "        # Definir algoritmo genético\n",
    "        evolutionary_search_buy = GASearchCV(\n",
    "            estimator=pipe_buy,\n",
    "            cv=cv,\n",
    "            scoring='accuracy',\n",
    "            population_size=100,\n",
    "            generations=50,\n",
    "            tournament_size=5,\n",
    "            elitism=True,\n",
    "            crossover_probability=crossover_adapter,\n",
    "            mutation_probability=mutation_adapter,\n",
    "            param_grid=param_grid,\n",
    "            criteria='max',\n",
    "            algorithm='eaMuPlusLambda',\n",
    "            n_jobs=1,\n",
    "            verbose=True,\n",
    "            keep_top_k=25,\n",
    "            error_score='raise'\n",
    "        )\n",
    "        # Entrenar el modelo\n",
    "        evolutionary_search_buy.fit(X_buy_train, y_buy_train, callbacks=[ProgressBar(), ConsecutiveStopping(generations=1, metric='fitness')])\n",
    "        # Obtener el mejor estimador\n",
    "        model_buy = evolutionary_search_buy.best_estimator_\n",
    "        # Visualizar resultados\n",
    "        print(evolutionary_search_buy.best_params_)\n",
    "        print(evolutionary_search_buy.best_score_)\n",
    "    except Exception as e:\n",
    "        print(f\"Error en train_model_buy: {e}\")\n",
    "        raise\n",
    "    return model_buy\n"
   ]
  },
  {
   "cell_type": "code",
   "execution_count": 6,
   "metadata": {},
   "outputs": [],
   "source": [
    "def train_model_sell(X_sell_train, y_sell_train, param_grid, cv, crossover_adapter, mutation_adapter):\n",
    "    try:\n",
    "        # Definir el pipeline con placeholders (ventas)\n",
    "        pipe_sell = Pipeline([\n",
    "            ('scaler', RobustScaler()),\n",
    "            ('dim_reducer', KernelPCA(kernel='rbf')),\n",
    "            #('to_gpu', ToGPUTransformer()),\n",
    "            ('xgb', xgb.XGBClassifier(eval_metric='mlogloss', tree_method='hist', device='cuda'))\n",
    "        ])\n",
    "        # Definir algoritmo genético\n",
    "        evolutionary_search_sell = GASearchCV(\n",
    "            estimator=pipe_sell,\n",
    "            cv=cv,\n",
    "            scoring='accuracy',\n",
    "            population_size=100,\n",
    "            generations=50,\n",
    "            tournament_size=5,\n",
    "            elitism=True,\n",
    "            crossover_probability=crossover_adapter,\n",
    "            mutation_probability=mutation_adapter,\n",
    "            param_grid=param_grid,\n",
    "            criteria='max',\n",
    "            algorithm='eaMuPlusLambda',\n",
    "            n_jobs=1,\n",
    "            verbose=True,\n",
    "            keep_top_k=25,\n",
    "            error_score='raise'\n",
    "        )\n",
    "        # Entrenar el modelo\n",
    "        evolutionary_search_sell.fit(X_sell_train, y_sell_train, callbacks=[ProgressBar(), ConsecutiveStopping(generations=1, metric='fitness')])\n",
    "        # Obtener el mejor estimador\n",
    "        model_sell = evolutionary_search_sell.best_estimator_\n",
    "        # Visualizar resultados\n",
    "        print(evolutionary_search_sell.best_params_)\n",
    "        print(evolutionary_search_sell.best_score_)\n",
    "    except Exception as e:\n",
    "        print(f\"Error en train_model_buy: {e}\")\n",
    "        raise\n",
    "    return model_sell"
   ]
  },
  {
   "cell_type": "code",
   "execution_count": 7,
   "metadata": {},
   "outputs": [],
   "source": [
    "# Definir parámetros genéticos\n",
    "crossover_adapter = ExponentialAdapter(initial_value=0.1, end_value=0.9, adaptive_rate=0.1)\n",
    "mutation_adapter = ExponentialAdapter(initial_value=0.9, end_value=0.1, adaptive_rate=0.1)\n",
    "cv = StratifiedKFold(n_splits=5, shuffle=True)\n",
    "# Definir espacio de hiperparámetros\n",
    "n_features = X_buy_train.shape[1]\n",
    "param_grid = {\n",
    "    'dim_reducer__n_components': Integer(1, n_features),\n",
    "    'dim_reducer__gamma': Continuous(1e-4, 1e-1, distribution='log-uniform'),\n",
    "    'xgb__n_estimators': Integer(50, 500),\n",
    "    'xgb__max_depth': Integer(3, 10),\n",
    "    'xgb__learning_rate': Continuous(0.01, 0.3),\n",
    "    'xgb__subsample': Continuous(0.6, 1.0),\n",
    "    'xgb__colsample_bytree': Continuous(0.6, 1.0),\n",
    "    'xgb__gamma': Continuous(0, 0.5),\n",
    "    'xgb__min_child_weight': Integer(1, 10),\n",
    "    'xgb__reg_alpha': Continuous(0, 1.0),\n",
    "    'xgb__reg_lambda': Continuous(0, 1.0)\n",
    "}"
   ]
  },
  {
   "cell_type": "code",
   "execution_count": null,
   "metadata": {},
   "outputs": [
    {
     "name": "stdout",
     "output_type": "stream",
     "text": [
      "Esperando que las tareas finalicen...\n"
     ]
    },
    {
     "data": {
      "application/vnd.jupyter.widget-view+json": {
       "model_id": "70ec97f708ae4c5e9ad33e0a9884b5e4",
       "version_major": 2,
       "version_minor": 0
      },
      "text/plain": [
       "  0%|          | 0/51 [00:00<?, ?it/s]"
      ]
     },
     "metadata": {},
     "output_type": "display_data"
    },
    {
     "data": {
      "application/vnd.jupyter.widget-view+json": {
       "model_id": "c8a531b8d67f4830a01ab8ac278540f6",
       "version_major": 2,
       "version_minor": 0
      },
      "text/plain": [
       "  0%|          | 0/51 [00:00<?, ?it/s]"
      ]
     },
     "metadata": {},
     "output_type": "display_data"
    }
   ],
   "source": [
    "# Entrenar modelos simultáneamente\n",
    "with ThreadPoolExecutor(max_workers=2) as executor:\n",
    "    # enviar tareas de entrenamiento\n",
    "    future_buy = executor.submit(train_model_buy, X_buy_train, y_buy_train, param_grid, cv, crossover_adapter, mutation_adapter)\n",
    "    future_sell = executor.submit(train_model_sell, X_sell_train, y_sell_train, param_grid, cv, crossover_adapter, mutation_adapter)\n",
    "    # esperar a que todas las tareas terminen\n",
    "    futures = [future_buy, future_sell]\n",
    "    print(\"Esperando que las tareas finalicen...\")\n",
    "    wait(futures)\n",
    "    print(\"¡Todas las tareas han terminado!\")\n",
    "    # Obtener resultados una vez que ambas tareas han terminado\n",
    "    model_buy = future_buy.result()\n",
    "    model_sell = future_sell.result()"
   ]
  },
  {
   "cell_type": "markdown",
   "metadata": {},
   "source": [
    "## Exportar modelos a formato ONNX"
   ]
  },
  {
   "cell_type": "code",
   "execution_count": null,
   "metadata": {},
   "outputs": [],
   "source": [
    "def save_onnx_models(mql5_files_folder):\n",
    "    try:\n",
    "        update_registered_converter(\n",
    "            xgb.XGBClassifier,\n",
    "            \"XGBClassifier\",\n",
    "            calculate_linear_classifier_output_shapes,\n",
    "            convert_xgboost,\n",
    "            options={'nocl': [True, False], 'zipmap': [True, False, 'columns']}\n",
    "        )\n",
    "        model_buy_onnx = convert_sklearn(\n",
    "            model_buy,\n",
    "            'pipeline_buy_xgboost',\n",
    "            [('input', FloatTensorType([None, X_buy_train.shape[1]]))],\n",
    "            target_opset={'': 12, 'ai.onnx.ml': 2}\n",
    "        )\n",
    "        model_sell_onnx = convert_sklearn(\n",
    "            model_sell,\n",
    "            'pipeline_sell_xgboost',\n",
    "            [('input', FloatTensorType([None, X_buy_train.shape[1]]))],\n",
    "            target_opset={'': 12, 'ai.onnx.ml': 2}\n",
    "        )\n",
    "        with open(os.path.join(mql5_files_folder, \"model_buy.onnx\"), 'wb') as f:\n",
    "            f.write(model_buy_onnx.SerializeToString())\n",
    "        with open(os.path.join(mql5_files_folder, \"model_sell.onnx\"), 'wb') as f:\n",
    "            f.write(model_sell_onnx.SerializeToString())\n",
    "    except Exception as e:\n",
    "        print(f\"Error en exportar los modelos: {e}\")\n",
    "        raise\n",
    "    print(\"Modelos ONNX exportados correctamente\")"
   ]
  },
  {
   "cell_type": "code",
   "execution_count": 21,
   "metadata": {},
   "outputs": [],
   "source": [
    "save_onnx_models(r'C:\\Users\\Administrador\\AppData\\Roaming\\MetaQuotes\\Terminal\\6C3C6A11D1C3791DD4DBF45421BF8028\\MQL5\\Files')"
   ]
  }
 ],
 "metadata": {
  "kernelspec": {
   "display_name": "vscode",
   "language": "python",
   "name": "python3"
  },
  "language_info": {
   "codemirror_mode": {
    "name": "ipython",
    "version": 3
   },
   "file_extension": ".py",
   "mimetype": "text/x-python",
   "name": "python",
   "nbconvert_exporter": "python",
   "pygments_lexer": "ipython3",
   "version": "3.10.15"
  }
 },
 "nbformat": 4,
 "nbformat_minor": 2
}
