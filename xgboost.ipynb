{
 "cells": [
  {
   "cell_type": "markdown",
   "metadata": {},
   "source": [
    "## Importar librerías"
   ]
  },
  {
   "cell_type": "code",
   "execution_count": 1,
   "metadata": {},
   "outputs": [],
   "source": [
    "import os\n",
    "import pandas as pd\n",
    "from sklearn.preprocessing import RobustScaler\n",
    "from sklearn.decomposition import KernelPCA\n",
    "from sklearn.model_selection import StratifiedKFold\n",
    "from sklearn_genetic import GASearchCV\n",
    "from sklearn_genetic import ExponentialAdapter\n",
    "from sklearn_genetic.space import Integer, Categorical, Continuous\n",
    "from sklearn_genetic.callbacks import ProgressBar, ConsecutiveStopping\n",
    "from xgboost import XGBClassifier\n",
    "from sklearn.pipeline import Pipeline\n",
    "from concurrent.futures import ThreadPoolExecutor, wait\n",
    "from skl2onnx.common.data_types import FloatTensorType\n",
    "from skl2onnx import convert_sklearn, update_registered_converter\n",
    "from skl2onnx.common.shape_calculator import calculate_linear_classifier_output_shapes\n",
    "from onnxmltools.convert.xgboost.operator_converters.XGBoost import convert_xgboost\n",
    "import warnings\n",
    "warnings.filterwarnings('ignore')"
   ]
  },
  {
   "cell_type": "markdown",
   "metadata": {},
   "source": [
    "## Cargar y preparar datos"
   ]
  },
  {
   "cell_type": "code",
   "execution_count": null,
   "metadata": {},
   "outputs": [],
   "source": [
    "# Cargar\n",
    "tester_files_folder = r\"C:\\Users\\Administrador\\AppData\\Roaming\\MetaQuotes\\Terminal\\Common\\Files\"\n",
    "df_buy = pd.read_csv(os.path.join(tester_files_folder, \"buy_training_dataset.csv\"))\n",
    "df_sell = pd.read_csv(os.path.join(tester_files_folder, \"sell_training_dataset.csv\"))\n",
    "print(f\"Buy -> Trades: {df_buy.shape[0]} Features: {df_buy.shape[1]-1}\")\n",
    "print(f\"Sell -> Trades: {df_sell.shape[0]} Features: {df_sell.shape[1]-1}\")"
   ]
  },
  {
   "cell_type": "code",
   "execution_count": null,
   "metadata": {},
   "outputs": [],
   "source": [
    "# Aleatorizar muestras (compras)\n",
    "df_buy = df_buy.sample(frac=1).reset_index(drop=True)\n",
    "df_buy"
   ]
  },
  {
   "cell_type": "code",
   "execution_count": null,
   "metadata": {},
   "outputs": [],
   "source": [
    "# Aleatorizar muestras (ventas)\n",
    "df_sell = df_sell.sample(frac=1).reset_index(drop=True)\n",
    "df_sell"
   ]
  },
  {
   "cell_type": "code",
   "execution_count": 5,
   "metadata": {},
   "outputs": [],
   "source": [
    "# Chequear y limpiar\n",
    "if(df_buy.isna().values.any()):\n",
    "    df_buy=df_buy.dropna()\n",
    "if(df_sell.isna().values.any()):\n",
    "    df_sell=df_sell.dropna()"
   ]
  },
  {
   "cell_type": "code",
   "execution_count": 6,
   "metadata": {},
   "outputs": [],
   "source": [
    "# Preparación de los datos de compra\n",
    "X_buy_train = df_buy.drop(columns='target').values\n",
    "y_buy_train = df_buy['target'].values\n",
    "# Preparación de los datos de venta\n",
    "X_sell_train = df_sell.drop(columns='target').values\n",
    "y_sell_train = df_sell['target'].values\n",
    "# Número de características\n",
    "n_features = X_buy_train.shape[1]"
   ]
  },
  {
   "cell_type": "markdown",
   "metadata": {},
   "source": [
    "## Entrenar modelos"
   ]
  },
  {
   "cell_type": "code",
   "execution_count": 7,
   "metadata": {},
   "outputs": [],
   "source": [
    "def train_model_buy(X_buy_train, y_buy_train, param_grid, cv, crossover_adapter, mutation_adapter):\n",
    "    try:\n",
    "        # Definir el pipeline con placeholders (compras)\n",
    "        pipe_buy = Pipeline([\n",
    "            ('scaler', RobustScaler()),\n",
    "            ('dim_reducer', KernelPCA(kernel='rbf')),\n",
    "            ('xgb', XGBClassifier(use_label_encoder=False, eval_metric='mlogloss'))\n",
    "        ])\n",
    "        # Definir algoritmo genético\n",
    "        evolutionary_search_buy = GASearchCV(\n",
    "            estimator=pipe_buy,\n",
    "            cv=cv,\n",
    "            scoring='accuracy',\n",
    "            population_size=100,\n",
    "            generations=50,\n",
    "            tournament_size=5,\n",
    "            elitism=True,\n",
    "            crossover_probability=crossover_adapter,\n",
    "            mutation_probability=mutation_adapter,\n",
    "            param_grid=param_grid,\n",
    "            criteria='max',\n",
    "            algorithm='eaMuPlusLambda',\n",
    "            n_jobs=-1,\n",
    "            verbose=True,\n",
    "            keep_top_k=50\n",
    "        )\n",
    "        # Entrenar el modelo\n",
    "        evolutionary_search_buy.fit(X_buy_train, y_buy_train, callbacks=[ProgressBar(), ConsecutiveStopping(generations=1, metric='fitness')])\n",
    "        # Obtener el mejor estimador\n",
    "        model_buy = evolutionary_search_buy.best_estimator_\n",
    "        # Visualizar resultados\n",
    "        print(evolutionary_search_buy.best_params_)\n",
    "        print(evolutionary_search_buy.best_score_)\n",
    "    except Exception as e:\n",
    "        print(f\"Error en train_model_buy: {e}\")\n",
    "        raise\n",
    "    return model_buy\n"
   ]
  },
  {
   "cell_type": "code",
   "execution_count": 8,
   "metadata": {},
   "outputs": [],
   "source": [
    "def train_model_sell(X_sell_train, y_sell_train, param_grid, cv, crossover_adapter, mutation_adapter):\n",
    "    try:\n",
    "        # Definir el pipeline con placeholders (ventas)\n",
    "        pipe_sell = Pipeline([\n",
    "            ('scaler', RobustScaler()),\n",
    "            ('dim_reducer', KernelPCA(kernel='rbf')),\n",
    "            ('xgb', XGBClassifier(use_label_encoder=False, eval_metric='mlogloss'))\n",
    "        ])\n",
    "        # Definir algoritmo genético\n",
    "        evolutionary_search_sell = GASearchCV(\n",
    "            estimator=pipe_sell,\n",
    "            cv=cv,\n",
    "            scoring='accuracy',\n",
    "            population_size=100,\n",
    "            generations=50,\n",
    "            tournament_size=5,\n",
    "            elitism=True,\n",
    "            crossover_probability=crossover_adapter,\n",
    "            mutation_probability=mutation_adapter,\n",
    "            param_grid=param_grid,\n",
    "            criteria='max',\n",
    "            algorithm='eaMuPlusLambda',\n",
    "            n_jobs=-1,\n",
    "            verbose=True,\n",
    "            keep_top_k=50\n",
    "        )\n",
    "        # Entrenar el modelo\n",
    "        evolutionary_search_sell.fit(X_sell_train, y_sell_train, callbacks=[ProgressBar(), ConsecutiveStopping(generations=1, metric='fitness')])\n",
    "        # Obtener el mejor estimador\n",
    "        model_sell = evolutionary_search_sell.best_estimator_\n",
    "        # Visualizar resultados\n",
    "        print(evolutionary_search_sell.best_params_)\n",
    "        print(evolutionary_search_sell.best_score_)\n",
    "    except Exception as e:\n",
    "        print(f\"Error en train_model_buy: {e}\")\n",
    "        raise\n",
    "    return model_sell"
   ]
  },
  {
   "cell_type": "code",
   "execution_count": 9,
   "metadata": {},
   "outputs": [],
   "source": [
    "# Preparación de los datos de compra\n",
    "X_buy_train = df_buy.drop(columns='target').values\n",
    "y_buy_train = df_buy['target'].values\n",
    "# Preparación de los datos de venta\n",
    "X_sell_train = df_sell.drop(columns='target').values\n",
    "y_sell_train = df_sell['target'].values\n",
    "# Número de características\n",
    "n_features = X_buy_train.shape[1]"
   ]
  },
  {
   "cell_type": "code",
   "execution_count": 10,
   "metadata": {},
   "outputs": [],
   "source": [
    "# Definir parámetros genéticos\n",
    "crossover_adapter = ExponentialAdapter(initial_value=0.1, end_value=0.9, adaptive_rate=0.1)\n",
    "mutation_adapter = ExponentialAdapter(initial_value=0.9, end_value=0.1, adaptive_rate=0.1)\n",
    "cv = StratifiedKFold(n_splits=5, shuffle=True)\n",
    "# Definir espacio de hiperparámetros\n",
    "param_grid = {\n",
    "    'dim_reducer__n_components': Integer(1, n_features),\n",
    "    'dim_reducer__gamma': Continuous(1e-4, 1e-1, distribution='log-uniform'),\n",
    "    'xgb__n_estimators': Integer(50, 500),\n",
    "    'xgb__max_depth': Integer(3, 10),\n",
    "    'xgb__learning_rate': Continuous(0.01, 0.3),\n",
    "    'xgb__subsample': Continuous(0.6, 1.0),\n",
    "    'xgb__colsample_bytree': Continuous(0.6, 1.0),\n",
    "    'xgb__gamma': Continuous(0, 0.5),\n",
    "    'xgb__min_child_weight': Integer(1, 10),\n",
    "    'xgb__reg_alpha': Continuous(0, 1.0),\n",
    "    'xgb__reg_lambda': Continuous(0, 1.0)\n",
    "}"
   ]
  },
  {
   "cell_type": "code",
   "execution_count": null,
   "metadata": {},
   "outputs": [],
   "source": [
    "\n",
    "# Entrenar modelos simultáneamente\n",
    "with ThreadPoolExecutor(max_workers=2) as executor:\n",
    "    # enviar tareas de entrenamiento\n",
    "    future_buy = executor.submit(train_model_buy, X_buy_train, y_buy_train, param_grid, cv, crossover_adapter, mutation_adapter)\n",
    "    future_sell = executor.submit(train_model_sell, X_sell_train, y_sell_train, param_grid, cv, crossover_adapter, mutation_adapter)\n",
    "    # esperar a que todas las tareas terminen\n",
    "    futures = [future_buy, future_sell]\n",
    "    print(\"Esperando que las tareas finalicen...\")\n",
    "    wait(futures)\n",
    "    print(\"¡Todas las tareas han terminado!\")\n",
    "    # Obtener resultados una vez que ambas tareas han terminado\n",
    "    model_buy = future_buy.result()\n",
    "    model_sell = future_sell.result()"
   ]
  },
  {
   "cell_type": "markdown",
   "metadata": {},
   "source": [
    "## Exportar modelos a formato ONNX"
   ]
  },
  {
   "cell_type": "code",
   "execution_count": null,
   "metadata": {},
   "outputs": [],
   "source": [
    "update_registered_converter(\n",
    "    XGBClassifier,\n",
    "    \"XGBClassifier\",\n",
    "    calculate_linear_classifier_output_shapes,\n",
    "    convert_xgboost,\n",
    "    options={'nocl': [False], 'zipmap': [True, False, 'columns']}\n",
    ")\n",
    "model_buy_onnx = convert_sklearn(\n",
    "    model_buy,\n",
    "    'pipeline_buy_xgboost',\n",
    "    [('input', FloatTensorType([None, X_buy_train.shape[1]]))],\n",
    "    target_opset={'': 12, 'ai.onnx.ml': 2}\n",
    ")\n",
    "model_sell_onnx = convert_sklearn(\n",
    "    model_sell,\n",
    "    'pipeline_sell_xgboost',\n",
    "    [('input', FloatTensorType([None, X_buy_train.shape[1]]))],\n",
    "    target_opset={'': 12, 'ai.onnx.ml': 2}\n",
    ")"
   ]
  },
  {
   "cell_type": "code",
   "execution_count": 21,
   "metadata": {},
   "outputs": [],
   "source": [
    "mql5_files_folder = \"C:/Users/Administrador/AppData/Roaming/MetaQuotes/Terminal/6C3C6A11D1C3791DD4DBF45421BF8028/MQL5/Files\"\n",
    "with open(os.path.join(mql5_files_folder, \"model_buy.onnx\"), 'wb') as f:\n",
    "    f.write(model_buy_onnx.SerializeToString())\n",
    "with open(os.path.join(mql5_files_folder, \"model_sell.onnx\"), 'wb') as f:\n",
    "    f.write(model_sell_onnx.SerializeToString())"
   ]
  }
 ],
 "metadata": {
  "kernelspec": {
   "display_name": "vscode",
   "language": "python",
   "name": "python3"
  },
  "language_info": {
   "codemirror_mode": {
    "name": "ipython",
    "version": 3
   },
   "file_extension": ".py",
   "mimetype": "text/x-python",
   "name": "python",
   "nbconvert_exporter": "python",
   "pygments_lexer": "ipython3",
   "version": "3.10.14"
  }
 },
 "nbformat": 4,
 "nbformat_minor": 2
}
