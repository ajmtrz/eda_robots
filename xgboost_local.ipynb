{
 "cells": [
  {
   "cell_type": "markdown",
   "metadata": {},
   "source": [
    "## Importar librerías"
   ]
  },
  {
   "cell_type": "code",
   "execution_count": 7,
   "metadata": {},
   "outputs": [],
   "source": [
    "import os\n",
    "import glob\n",
    "import pandas as pd\n",
    "from genetic_algorithm import GeneticAlgorithmCV\n",
    "from sklearn.preprocessing import StandardScaler, RobustScaler\n",
    "from sklearn.decomposition import KernelPCA, TruncatedSVD\n",
    "from sklearn.model_selection import StratifiedKFold\n",
    "from sklearn.pipeline import Pipeline\n",
    "import xgboost as xgb\n",
    "from concurrent.futures import ThreadPoolExecutor, wait\n",
    "from skl2onnx.common.data_types import FloatTensorType\n",
    "from skl2onnx import convert_sklearn, update_registered_converter\n",
    "from skl2onnx.common.shape_calculator import calculate_linear_classifier_output_shapes\n",
    "from onnxmltools.convert.xgboost.operator_converters.XGBoost import convert_xgboost\n",
    "import warnings\n",
    "warnings.filterwarnings('ignore')"
   ]
  },
  {
   "cell_type": "markdown",
   "metadata": {},
   "source": [
    "## Cargar y preparar datos"
   ]
  },
  {
   "cell_type": "code",
   "execution_count": 8,
   "metadata": {},
   "outputs": [
    {
     "name": "stdout",
     "output_type": "stream",
     "text": [
      "Tipo de operación: Buy\n",
      "Número de características: 67\n",
      "Total Ganadoras: 2457\n",
      "Total Perdedoras: 2095\n",
      "Se seleccionarán 2095 muestras por clase.\n",
      "___________________________________\n",
      "Tipo de operación: Sell\n",
      "Número de características: 67\n",
      "Total Ganadoras: 2311\n",
      "Total Perdedoras: 1742\n",
      "Se seleccionarán 1742 muestras por clase.\n",
      "___________________________________\n"
     ]
    }
   ],
   "source": [
    "def create_training_dataset(df, trade_type):\n",
    "    df = df.drop_duplicates()\n",
    "    # Filtrar las operaciones del tipo especificado y con profit != 0\n",
    "    df_trade = df[(df['type'] == trade_type) & (df['profit'] != 0)].copy()\n",
    "    # Añadir la columna 'Target' basada en el profit\n",
    "    df_trade['target'] = df_trade['profit'].apply(lambda x: 1 if x > 0 else 0)\n",
    "    # Eliminar posibles missings\n",
    "    if(df_trade.isna().values.any()):\n",
    "        df_trade = df_trade.dropna()\n",
    "    # Separar en ganadoras y perdedoras\n",
    "    df_winning = df_trade[df_trade['profit'] > 0]\n",
    "    df_losing = df_trade[df_trade['profit'] < 0]\n",
    "    # Debug info\n",
    "    n_winning = len(df_trade[df_trade['target']==1])\n",
    "    n_losing = len(df_trade[df_trade['target']==0])\n",
    "    print(f\"Tipo de operación: {'Buy' if trade_type == 1 else 'Sell'}\")\n",
    "    print(f\"Número de características: {df.iloc[:, :-2].shape[1]}\")\n",
    "    print(f\"Total Ganadoras: {n_winning}\")\n",
    "    print(f\"Total Perdedoras: {n_losing}\")\n",
    "    # Verificar que hay suficientes datos\n",
    "    if n_winning == 0 or n_losing == 0:\n",
    "        print(f\"No hay suficientes datos para {'compras' if trade_type == 1 else 'ventas'} para entrenar el modelo.\")\n",
    "        return False\n",
    "    # Equilibrar las clases\n",
    "    if n_winning <= n_losing:\n",
    "        n_samples_per_class = n_winning\n",
    "        # Seleccionar todas las ganadoras\n",
    "        selected_winning = df_winning.copy()\n",
    "        # Ordenar las perdedoras por pérdida de mayor a menor (menor profit a mayor)\n",
    "        df_losing_sorted = df_losing.sort_values(by='profit', ascending=True)\n",
    "        # Seleccionar las perdedoras con mayor pérdida\n",
    "        selected_losing = df_losing_sorted.head(n_samples_per_class)\n",
    "    else:\n",
    "        n_samples_per_class = n_losing\n",
    "        # Seleccionar todas las perdedoras\n",
    "        selected_losing = df_losing.copy()\n",
    "        # Ordenar las ganadoras por profit de mayor a menor\n",
    "        df_winning_sorted = df_winning.sort_values(by='profit', ascending=False)\n",
    "        # Seleccionar las ganadoras con mayor profit\n",
    "        selected_winning = df_winning_sorted.head(n_samples_per_class)\n",
    "    print(f\"Se seleccionarán {n_samples_per_class} muestras por clase.\")\n",
    "    print(\"___________________________________\")\n",
    "    # Combinar las muestras seleccionadas\n",
    "    df_training = pd.concat([selected_winning, selected_losing], ignore_index=True)\n",
    "    # Seleccionar las columnas necesarias (todas menos las dos últimas para el conjunto principal)\n",
    "    feature_columns = df.columns[:-3]\n",
    "    df_training = df_training[feature_columns.tolist() + ['target']]\n",
    "    # Preparación de los datos de entrenamiento\n",
    "    X_train = df_training.drop(columns='target').values\n",
    "    y_train = df_training['target'].values\n",
    "    # return dataframe\n",
    "    return X_train, y_train, df_training\n",
    "\n",
    "# Cargar el archivo CSV\n",
    "file_folder = r\"/mnt/c/Users/Administrador/AppData/Roaming/MetaQuotes/Terminal/Common/Files/\"\n",
    "file_pattern = os.path.join(file_folder, 'training_dataset_*.csv')\n",
    "df_file_path = glob.glob(file_pattern)\n",
    "df = pd.read_csv(df_file_path[0])\n",
    "# Obtener datasets de entrenamiento\n",
    "X_buy, y_buy, df_buy = create_training_dataset(df, 1)\n",
    "X_sell, y_sell, df_sell = create_training_dataset(df, -1)"
   ]
  },
  {
   "cell_type": "markdown",
   "metadata": {},
   "source": [
    "## Entrenamiento de los modelos"
   ]
  },
  {
   "cell_type": "code",
   "execution_count": null,
   "metadata": {},
   "outputs": [
    {
     "name": "stdout",
     "output_type": "stream",
     "text": [
      "Esperando que las tareas finalicen...\n"
     ]
    },
    {
     "data": {
      "application/vnd.jupyter.widget-view+json": {
       "model_id": "dcc84181eb8642f6b925bb0c122492f6",
       "version_major": 2,
       "version_minor": 0
      },
      "text/plain": [
       "Generaciones buy:   0%|          | 0/5 [00:00<?, ?gen/s]"
      ]
     },
     "metadata": {},
     "output_type": "display_data"
    },
    {
     "data": {
      "application/vnd.jupyter.widget-view+json": {
       "model_id": "fcf954dbe096447d8a29c10b141d488b",
       "version_major": 2,
       "version_minor": 0
      },
      "text/plain": [
       "Generaciones sell:   0%|          | 0/5 [00:00<?, ?gen/s]"
      ]
     },
     "metadata": {},
     "output_type": "display_data"
    },
    {
     "name": "stdout",
     "output_type": "stream",
     "text": [
      "[1, sell] Fitness: 0.5200998407312034 | Best Fitness: 0.5200998407312034\n",
      "[1, sell] Fitness Improvement: 0.0000 | Diversity: 0.8936\n",
      "[1, sell] Normalized Fitness Improvement: 0.0000 | Normalized Diversity: 0.0000\n",
      "[1, sell] Crossover Rate: 0.9000 | Mutation Rate: 0.1000\n",
      "[1, buy] Fitness: 0.5131293418356568 | Best Fitness: 0.5131293418356568\n",
      "[1, buy] Fitness Improvement: 0.0000 | Diversity: 0.8832\n",
      "[1, buy] Normalized Fitness Improvement: 0.0000 | Normalized Diversity: 0.0000\n",
      "[1, buy] Crossover Rate: 0.9000 | Mutation Rate: 0.1000\n",
      "[2, sell] Fitness: 0.5307186664709781 | Best Fitness: 0.5307186664709781\n",
      "[2, sell] Fitness Improvement: 0.0106 | Diversity: 0.9868\n",
      "[2, sell] Normalized Fitness Improvement: 1.0000 | Normalized Diversity: 1.0000\n",
      "[2, sell] Crossover Rate: 0.1954 | Mutation Rate: 0.8046\n",
      "[2, buy] Fitness: 0.5159936458190187 | Best Fitness: 0.5159936458190187\n",
      "[2, buy] Fitness Improvement: 0.0029 | Diversity: 0.8812\n",
      "[2, buy] Normalized Fitness Improvement: 1.0000 | Normalized Diversity: 0.0000\n",
      "[2, buy] Crossover Rate: 0.3152 | Mutation Rate: 0.6848\n",
      "[3, sell] Fitness: 0.5218200228006896 | Best Fitness: 0.5307186664709781\n",
      "[3, sell] Fitness Improvement: -0.0089 | Diversity: 1.0927\n",
      "[3, sell] Normalized Fitness Improvement: 0.1620 | Normalized Diversity: 1.0000\n",
      "[3, sell] Crossover Rate: 0.2906 | Mutation Rate: 0.7094\n",
      "[3, sell] Early stopping due to no improvement.\n",
      "Best fitness for sell: 0.5307186664709781\n",
      "####################################################################\n",
      "Mejor puntuación de validación para sell: 0.5307186664709781\n",
      "Mejores parámetros encontrados para sell: {'scaler': 'standard', 'reducer': 'kernel_pca_linear', 'reducer__n_components': 34, 'xgbclassifier__n_estimators': 350, 'xgbclassifier__max_depth': 3}\n",
      "####################################################################\n",
      "[3, buy] Fitness: 0.522198099488671 | Best Fitness: 0.522198099488671\n",
      "[3, buy] Fitness Improvement: 0.0062 | Diversity: 1.0402\n",
      "[3, buy] Normalized Fitness Improvement: 1.0000 | Normalized Diversity: 1.0000\n",
      "[3, buy] Crossover Rate: 0.1954 | Mutation Rate: 0.8046\n",
      "[4, buy] Fitness: 0.5174254559675222 | Best Fitness: 0.522198099488671\n",
      "[4, buy] Fitness Improvement: -0.0048 | Diversity: 1.1683\n",
      "[4, buy] Normalized Fitness Improvement: 0.4737 | Normalized Diversity: 1.0000\n",
      "[4, buy] Crossover Rate: 0.2491 | Mutation Rate: 0.7509\n",
      "[4, buy] Early stopping due to no improvement.\n",
      "Best fitness for buy: 0.522198099488671\n",
      "####################################################################\n",
      "Mejor puntuación de validación para buy: 0.522198099488671\n",
      "Mejores parámetros encontrados para buy: {'scaler': 'standard', 'reducer': 'kernel_pca_rbf', 'reducer__n_components': 62, 'xgbclassifier__n_estimators': 444, 'xgbclassifier__max_depth': 4}\n",
      "####################################################################\n",
      "¡Todas las tareas han terminado!\n"
     ]
    }
   ],
   "source": [
    "# Train model functions\n",
    "def train_classifier(X_train, y_train, model_type, n_features):\n",
    "    # Definir algoritmo de validación cruzada\n",
    "    cv = StratifiedKFold(n_splits=3)\n",
    "    # Definir Pipeline\n",
    "    pipeline = Pipeline([\n",
    "            ('scaler', 'none'),\n",
    "            ('reducer', 'none'),\n",
    "            ('xgbclassifier', xgb.XGBClassifier(\n",
    "                device = \"cuda\",\n",
    "                verbosity=0)\n",
    "            )\n",
    "        ])\n",
    "    # Definir mapa de estimadores\n",
    "    estimator_map = {\n",
    "        'scaler': {\n",
    "            'standard': StandardScaler(),\n",
    "            'robust': RobustScaler(),\n",
    "            'none': 'passthrough'\n",
    "        },\n",
    "        'reducer': {\n",
    "            'kernel_pca_rbf': KernelPCA(kernel='rbf'),\n",
    "            'kernel_pca_linear': KernelPCA(kernel='linear'),\n",
    "            'truncated_svd': TruncatedSVD(),\n",
    "            'none': 'passthrough'\n",
    "        }\n",
    "    }\n",
    "    # Definir espacio de hiperparámetros para compras\n",
    "    param_grid = {\n",
    "        'scaler': {'type': 'categorical', 'values': ['standard', 'robust']},\n",
    "        'reducer': {'type': 'categorical', 'values': ['kernel_pca_rbf', 'kernel_pca_linear', 'truncated_svd']},\n",
    "        'reducer__n_components': {'type': 'int', 'low': 2, 'high': n_features-1},\n",
    "        'xgbclassifier__n_estimators': {'type': 'int', 'low': 50, 'high': 500},\n",
    "        'xgbclassifier__max_depth': {'type': 'int', 'low': 3, 'high': 10}\n",
    "    }\n",
    "    try:\n",
    "        # Entrenar el modelo utilizando el algoritmo genético\n",
    "        ga_search = GeneticAlgorithmCV(\n",
    "            model_type=model_type,\n",
    "            pipeline=pipeline,\n",
    "            param_grid=param_grid,\n",
    "            estimator_map=estimator_map,\n",
    "            cv=cv,\n",
    "            pop_size=20,\n",
    "            generations=5,\n",
    "            early_stopping_rounds=1,\n",
    "            crossover_initial=0.9,\n",
    "            crossover_end=0.1,\n",
    "            mutation_initial=0.1,\n",
    "            mutation_end=0.9,\n",
    "            elitism=True,\n",
    "            elite_size=3,\n",
    "            tournament_size=3,\n",
    "            n_random=10,\n",
    "            n_jobs=-1,\n",
    "            verbose=True,\n",
    "        )\n",
    "        ga_search.fit(X_train, y_train)\n",
    "    except Exception as e:\n",
    "        print(f\"Error en traing model {model_type}: {e}\")\n",
    "        raise\n",
    "    # Obtener los mejores parámetros y el mejor estimador\n",
    "    print(\"####################################################################\")\n",
    "    print(f\"Mejor puntuación de validación para {model_type}: {ga_search.best_score_}\")\n",
    "    print(f\"Mejores parámetros encontrados para {model_type}: {ga_search.best_params_full_}\")\n",
    "    print(\"####################################################################\")\n",
    "    # Retornar mejor estimador\n",
    "    return ga_search.best_estimator_\n",
    "\n",
    "# Número de características totales\n",
    "n_features = df.iloc[:, :-2].shape[1]\n",
    "# Entrenar modelos en paralelo\n",
    "with ThreadPoolExecutor(max_workers=2) as executor:\n",
    "    print(\"Esperando que las tareas finalicen...\")\n",
    "    # enviar tareas de entrenamiento\n",
    "    future_buy = executor.submit(train_classifier, X_buy, y_buy, \"buy\", n_features)\n",
    "    future_sell = executor.submit(train_classifier, X_sell, y_sell, \"sell\", n_features)\n",
    "    # esperar a que todas las tareas terminen\n",
    "    futures = [future_buy, future_sell]\n",
    "    wait(futures)\n",
    "    # Obtener resultados una vez que ambas tareas han terminado\n",
    "    model_buy = future_buy.result()\n",
    "    model_sell = future_sell.result()\n",
    "    print(\"¡Todas las tareas han terminado!\")"
   ]
  },
  {
   "cell_type": "markdown",
   "metadata": {},
   "source": [
    "## Exportar modelos a formato ONNX"
   ]
  },
  {
   "cell_type": "code",
   "execution_count": 10,
   "metadata": {},
   "outputs": [
    {
     "name": "stdout",
     "output_type": "stream",
     "text": [
      "Modelo buy ONNX exportado correctamente\n",
      "Modelo sell ONNX exportado correctamente\n"
     ]
    }
   ],
   "source": [
    "def save_onnx_model(mql5_files_folder, model, X, model_type):\n",
    "    try:\n",
    "        update_registered_converter(\n",
    "            xgb.XGBClassifier,\n",
    "            \"XGBClassifier\",\n",
    "            calculate_linear_classifier_output_shapes,\n",
    "            convert_xgboost,\n",
    "            options={'nocl': [True, False], 'zipmap': [True, False, 'columns']}\n",
    "        )\n",
    "        model_onnx = convert_sklearn(\n",
    "            model,\n",
    "            f\"pipeline_{model_type}_xgboost\",\n",
    "            [('input', FloatTensorType([None, X.shape[1]]))],\n",
    "            target_opset={'': 12, 'ai.onnx.ml': 2}\n",
    "        )\n",
    "        with open(os.path.join(mql5_files_folder, f\"model_{model_type}.onnx\"), 'wb') as f:\n",
    "            f.write(model_onnx.SerializeToString())\n",
    "    except Exception as e:\n",
    "        print(f\"Error en exportar el modelo {model_type}: {e}\")\n",
    "        raise\n",
    "    print(f\"Modelo {model_type} ONNX exportado correctamente\")\n",
    "\n",
    "mql5_files_folder = r'/mnt/c/Users/Administrador/AppData/Roaming/MetaQuotes/Terminal/6C3C6A11D1C3791DD4DBF45421BF8028/MQL5/Files'\n",
    "save_onnx_model(mql5_files_folder, model_buy, X_buy, \"buy\")\n",
    "save_onnx_model(mql5_files_folder, model_sell, X_sell, \"sell\")"
   ]
  },
  {
   "cell_type": "markdown",
   "metadata": {},
   "source": [
    "## Resultados"
   ]
  },
  {
   "cell_type": "code",
   "execution_count": 11,
   "metadata": {},
   "outputs": [
    {
     "data": {
      "text/plain": [
       "[('scaler', StandardScaler()),\n",
       " ('reducer', KernelPCA(kernel='rbf', n_components=62)),\n",
       " ('xgbclassifier',\n",
       "  XGBClassifier(base_score=None, booster=None, callbacks=None,\n",
       "                colsample_bylevel=None, colsample_bynode=None,\n",
       "                colsample_bytree=None, device='cuda', early_stopping_rounds=None,\n",
       "                enable_categorical=False, eval_metric=None, feature_types=None,\n",
       "                gamma=None, grow_policy=None, importance_type=None,\n",
       "                interaction_constraints=None, learning_rate=None, max_bin=None,\n",
       "                max_cat_threshold=None, max_cat_to_onehot=None,\n",
       "                max_delta_step=None, max_depth=4, max_leaves=None,\n",
       "                min_child_weight=None, missing=nan, monotone_constraints=None,\n",
       "                multi_strategy=None, n_estimators=444, n_jobs=None,\n",
       "                num_parallel_tree=None, random_state=None, ...))]"
      ]
     },
     "execution_count": 11,
     "metadata": {},
     "output_type": "execute_result"
    }
   ],
   "source": [
    "model_buy.steps"
   ]
  },
  {
   "cell_type": "code",
   "execution_count": 12,
   "metadata": {},
   "outputs": [
    {
     "data": {
      "text/plain": [
       "[('scaler', StandardScaler()),\n",
       " ('reducer', KernelPCA(n_components=34)),\n",
       " ('xgbclassifier',\n",
       "  XGBClassifier(base_score=None, booster=None, callbacks=None,\n",
       "                colsample_bylevel=None, colsample_bynode=None,\n",
       "                colsample_bytree=None, device='cuda', early_stopping_rounds=None,\n",
       "                enable_categorical=False, eval_metric=None, feature_types=None,\n",
       "                gamma=None, grow_policy=None, importance_type=None,\n",
       "                interaction_constraints=None, learning_rate=None, max_bin=None,\n",
       "                max_cat_threshold=None, max_cat_to_onehot=None,\n",
       "                max_delta_step=None, max_depth=3, max_leaves=None,\n",
       "                min_child_weight=None, missing=nan, monotone_constraints=None,\n",
       "                multi_strategy=None, n_estimators=350, n_jobs=None,\n",
       "                num_parallel_tree=None, random_state=None, ...))]"
      ]
     },
     "execution_count": 12,
     "metadata": {},
     "output_type": "execute_result"
    }
   ],
   "source": [
    "model_sell.steps"
   ]
  },
  {
   "cell_type": "code",
   "execution_count": 13,
   "metadata": {},
   "outputs": [
    {
     "data": {
      "text/html": [
       "<div>\n",
       "<style scoped>\n",
       "    .dataframe tbody tr th:only-of-type {\n",
       "        vertical-align: middle;\n",
       "    }\n",
       "\n",
       "    .dataframe tbody tr th {\n",
       "        vertical-align: top;\n",
       "    }\n",
       "\n",
       "    .dataframe thead th {\n",
       "        text-align: right;\n",
       "    }\n",
       "</style>\n",
       "<table border=\"1\" class=\"dataframe\">\n",
       "  <thead>\n",
       "    <tr style=\"text-align: right;\">\n",
       "      <th></th>\n",
       "      <th>0</th>\n",
       "      <th>1</th>\n",
       "      <th>2</th>\n",
       "      <th>3</th>\n",
       "      <th>4</th>\n",
       "      <th>5</th>\n",
       "      <th>6</th>\n",
       "      <th>7</th>\n",
       "      <th>8</th>\n",
       "      <th>9</th>\n",
       "    </tr>\n",
       "  </thead>\n",
       "  <tbody>\n",
       "    <tr>\n",
       "      <th>0</th>\n",
       "      <td>0.978855</td>\n",
       "      <td>0.994162</td>\n",
       "      <td>0.976274</td>\n",
       "      <td>0.96578</td>\n",
       "      <td>0.993179</td>\n",
       "      <td>0.930091</td>\n",
       "      <td>0.964636</td>\n",
       "      <td>0.959037</td>\n",
       "      <td>0.972032</td>\n",
       "      <td>0.979927</td>\n",
       "    </tr>\n",
       "    <tr>\n",
       "      <th>1</th>\n",
       "      <td>104.120000</td>\n",
       "      <td>72.580000</td>\n",
       "      <td>131.670000</td>\n",
       "      <td>60.42000</td>\n",
       "      <td>-61.750000</td>\n",
       "      <td>1592.100000</td>\n",
       "      <td>-1007.500000</td>\n",
       "      <td>-997.560000</td>\n",
       "      <td>-990.810000</td>\n",
       "      <td>-984.270000</td>\n",
       "    </tr>\n",
       "  </tbody>\n",
       "</table>\n",
       "</div>"
      ],
      "text/plain": [
       "            0          1           2         3          4            5  \\\n",
       "0    0.978855   0.994162    0.976274   0.96578   0.993179     0.930091   \n",
       "1  104.120000  72.580000  131.670000  60.42000 -61.750000  1592.100000   \n",
       "\n",
       "             6           7           8           9  \n",
       "0     0.964636    0.959037    0.972032    0.979927  \n",
       "1 -1007.500000 -997.560000 -990.810000 -984.270000  "
      ]
     },
     "execution_count": 13,
     "metadata": {},
     "output_type": "execute_result"
    }
   ],
   "source": [
    "pd.DataFrame([model_buy.predict_proba(X_buy)[:10, 1], df['profit'][df['type']==1].head(10)])"
   ]
  },
  {
   "cell_type": "code",
   "execution_count": 14,
   "metadata": {},
   "outputs": [
    {
     "data": {
      "text/html": [
       "<div>\n",
       "<style scoped>\n",
       "    .dataframe tbody tr th:only-of-type {\n",
       "        vertical-align: middle;\n",
       "    }\n",
       "\n",
       "    .dataframe tbody tr th {\n",
       "        vertical-align: top;\n",
       "    }\n",
       "\n",
       "    .dataframe thead th {\n",
       "        text-align: right;\n",
       "    }\n",
       "</style>\n",
       "<table border=\"1\" class=\"dataframe\">\n",
       "  <thead>\n",
       "    <tr style=\"text-align: right;\">\n",
       "      <th></th>\n",
       "      <th>0</th>\n",
       "      <th>1</th>\n",
       "      <th>2</th>\n",
       "      <th>3</th>\n",
       "      <th>4</th>\n",
       "      <th>5</th>\n",
       "      <th>6</th>\n",
       "      <th>7</th>\n",
       "      <th>8</th>\n",
       "      <th>9</th>\n",
       "    </tr>\n",
       "  </thead>\n",
       "  <tbody>\n",
       "    <tr>\n",
       "      <th>0</th>\n",
       "      <td>0.795706</td>\n",
       "      <td>0.874509</td>\n",
       "      <td>0.94741</td>\n",
       "      <td>0.812285</td>\n",
       "      <td>0.972795</td>\n",
       "      <td>0.875527</td>\n",
       "      <td>0.921102</td>\n",
       "      <td>0.611735</td>\n",
       "      <td>0.801093</td>\n",
       "      <td>0.934448</td>\n",
       "    </tr>\n",
       "    <tr>\n",
       "      <th>1</th>\n",
       "      <td>-870.600000</td>\n",
       "      <td>161.920000</td>\n",
       "      <td>2009.54000</td>\n",
       "      <td>-42.880000</td>\n",
       "      <td>-241.960000</td>\n",
       "      <td>923.130000</td>\n",
       "      <td>1031.680000</td>\n",
       "      <td>483.070000</td>\n",
       "      <td>986.000000</td>\n",
       "      <td>514.500000</td>\n",
       "    </tr>\n",
       "  </tbody>\n",
       "</table>\n",
       "</div>"
      ],
      "text/plain": [
       "            0           1           2          3           4           5  \\\n",
       "0    0.795706    0.874509     0.94741   0.812285    0.972795    0.875527   \n",
       "1 -870.600000  161.920000  2009.54000 -42.880000 -241.960000  923.130000   \n",
       "\n",
       "             6           7           8           9  \n",
       "0     0.921102    0.611735    0.801093    0.934448  \n",
       "1  1031.680000  483.070000  986.000000  514.500000  "
      ]
     },
     "execution_count": 14,
     "metadata": {},
     "output_type": "execute_result"
    }
   ],
   "source": [
    "pd.DataFrame([model_sell.predict_proba(X_sell)[:10, 1], df['profit'][df['type']==-1].head(10)])"
   ]
  }
 ],
 "metadata": {
  "kernelspec": {
   "display_name": "vscode",
   "language": "python",
   "name": "python3"
  },
  "language_info": {
   "codemirror_mode": {
    "name": "ipython",
    "version": 3
   },
   "file_extension": ".py",
   "mimetype": "text/x-python",
   "name": "python",
   "nbconvert_exporter": "python",
   "pygments_lexer": "ipython3",
   "version": "3.12.7"
  }
 },
 "nbformat": 4,
 "nbformat_minor": 2
}
