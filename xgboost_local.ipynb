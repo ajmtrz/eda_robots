{
 "cells": [
  {
   "cell_type": "markdown",
   "metadata": {},
   "source": [
    "## Importar librerías"
   ]
  },
  {
   "cell_type": "code",
   "execution_count": 10,
   "metadata": {},
   "outputs": [],
   "source": [
    "import os\n",
    "import glob\n",
    "import pandas as pd\n",
    "import numpy as np\n",
    "from genetic_algorithm import GeneticAlgorithmCV\n",
    "from sklearn.preprocessing import StandardScaler\n",
    "from sklearn.decomposition import KernelPCA\n",
    "from sklearn.model_selection import StratifiedKFold\n",
    "from sklearn.pipeline import make_pipeline, Pipeline\n",
    "import xgboost as xgb\n",
    "from concurrent.futures import ThreadPoolExecutor, wait\n",
    "from skl2onnx.common.data_types import FloatTensorType\n",
    "from skl2onnx import convert_sklearn, update_registered_converter\n",
    "from skl2onnx.common.shape_calculator import calculate_linear_classifier_output_shapes\n",
    "from onnxmltools.convert.xgboost.operator_converters.XGBoost import convert_xgboost\n",
    "import warnings\n",
    "warnings.filterwarnings('ignore')"
   ]
  },
  {
   "cell_type": "markdown",
   "metadata": {},
   "source": [
    "## Cargar y preparar datos"
   ]
  },
  {
   "cell_type": "code",
   "execution_count": 11,
   "metadata": {},
   "outputs": [],
   "source": [
    "# Cargar el archivo CSV\n",
    "file_folder = r\"/mnt/c/Users/Administrador/AppData/Roaming/MetaQuotes/Terminal/Common/Files/\"\n",
    "file_pattern = os.path.join(file_folder, 'training_dataset_*.csv')\n",
    "df_file_path = glob.glob(file_pattern)\n",
    "df = pd.read_csv(df_file_path[0])"
   ]
  },
  {
   "cell_type": "code",
   "execution_count": 12,
   "metadata": {},
   "outputs": [
    {
     "name": "stdout",
     "output_type": "stream",
     "text": [
      "Tipo de operación: Buy\n",
      "Número de características: 541\n",
      "Total Ganadoras: 392\n",
      "Total Perdedoras: 417\n",
      "___________________________________\n",
      "Tipo de operación: Sell\n",
      "Número de características: 541\n",
      "Total Ganadoras: 348\n",
      "Total Perdedoras: 291\n",
      "___________________________________\n"
     ]
    }
   ],
   "source": [
    "def create_training_dataset(df, trade_type):\n",
    "    df = df.drop_duplicates()\n",
    "    # Filtrar las operaciones del tipo especificado y con profit != 0\n",
    "    df_trade = df[(df['type'] == trade_type) & (df['profit'] != 0)].copy()\n",
    "    # Añadir la columna 'Target' basada en el profit\n",
    "    df_trade['target'] = df_trade['profit'].apply(lambda x: 1 if x > 0 else 0)\n",
    "    # Seleccionar las columnas necesarias (todas menos las dos últimas para el conjunto principal,\n",
    "    feature_columns = df.columns[:-2]\n",
    "    df_trade = df_trade[feature_columns.tolist() + ['target']]\n",
    "    # Eliminar posibles missings\n",
    "    if(df_trade.isna().values.any()):\n",
    "        df_trade = df_trade.dropna()\n",
    "    # Debug info\n",
    "    n_winning = len(df_trade[df_trade['target']==1])\n",
    "    n_losing = len(df_trade[df_trade['target']==0])\n",
    "    print(f\"Tipo de operación: {'Buy' if trade_type == 1 else 'Sell'}\")\n",
    "    print(f\"Número de características: {df.iloc[:, :-2].shape[1]}\")\n",
    "    print(f\"Total Ganadoras: {n_winning}\")\n",
    "    print(f\"Total Perdedoras: {n_losing}\")\n",
    "    print(\"___________________________________\")\n",
    "    # Preparación de los datos de entrenamiento\n",
    "    X_train = df_trade.drop(columns='target').values\n",
    "    y_train = df_trade['target'].values\n",
    "    # return dataframe\n",
    "    return X_train, y_train\n",
    "\n",
    "# Obtener datasets de entrenamiento\n",
    "X_buy, y_buy = create_training_dataset(df, 1)\n",
    "X_sell, y_sell = create_training_dataset(df, -1)"
   ]
  },
  {
   "cell_type": "markdown",
   "metadata": {},
   "source": [
    "## Entrenamiento de los modelos"
   ]
  },
  {
   "cell_type": "code",
   "execution_count": 13,
   "metadata": {},
   "outputs": [],
   "source": [
    "# Definir algoritmo de validación cruzada\n",
    "cv = StratifiedKFold(n_splits=5, shuffle=True, random_state=42)\n",
    "# Definir reductor de dimensionalidad\n",
    "reducer = KernelPCA(kernel='rbf')\n",
    "# Definir el clasificador\n",
    "classifier = xgb.XGBClassifier(\n",
    "    tree_method = \"hist\",\n",
    "    device = \"cuda\",\n",
    "    predictor='gpu_predictor', \n",
    "    verbosity=0\n",
    "    )"
   ]
  },
  {
   "cell_type": "code",
   "execution_count": 14,
   "metadata": {},
   "outputs": [],
   "source": [
    "# Create scaler\n",
    "def create_scaler(X_train, y_train):\n",
    "    scaler = StandardScaler()\n",
    "    X_scaled = scaler.fit_transform(X_train, y_train)\n",
    "    return scaler, X_scaled\n",
    "\n",
    "# Escalar los datos\n",
    "with ThreadPoolExecutor(max_workers=2) as executor:\n",
    "    # Crear tareas paralelas\n",
    "    future_buy = executor.submit(create_scaler, X_buy, y_buy)\n",
    "    future_sell = executor.submit(create_scaler, X_sell, y_sell)\n",
    "    # Esperar a que las tareas terminen\n",
    "    futures = [future_buy, future_sell]\n",
    "    wait(futures)\n",
    "    # Obtener resultados\n",
    "    scaler_buy, X_buy_scaled = future_buy.result()\n",
    "    scaler_sell, X_sell_scaled = future_sell.result()"
   ]
  },
  {
   "cell_type": "code",
   "execution_count": 15,
   "metadata": {},
   "outputs": [],
   "source": [
    "# Definir espacio de hiperparámetros para compras\n",
    "def create_param_grid(X_scaled):\n",
    "    n_features = X_scaled.shape[1]\n",
    "    param_grid = {\n",
    "        'kernelpca__n_components': {'type': 'int', 'low': 1, 'high': n_features},\n",
    "        'xgbclassifier__n_estimators': {'type': 'int', 'low': 50, 'high': 500},\n",
    "        'xgbclassifier__max_depth': {'type': 'int', 'low': 3, 'high': 50}\n",
    "    }\n",
    "    return param_grid\n",
    "\n",
    "# Obtener espacios de hiperparámetros\n",
    "param_grid_buy = create_param_grid(X_buy_scaled)\n",
    "param_grid_sell = create_param_grid(X_sell_scaled)"
   ]
  },
  {
   "cell_type": "code",
   "execution_count": 16,
   "metadata": {},
   "outputs": [
    {
     "name": "stdout",
     "output_type": "stream",
     "text": [
      "Esperando que las tareas finalicen...\n"
     ]
    },
    {
     "data": {
      "application/vnd.jupyter.widget-view+json": {
       "model_id": "eb467739c2f144b88556144347daf000",
       "version_major": 2,
       "version_minor": 0
      },
      "text/plain": [
       "Generaciones sell:   0%|          | 0/5 [00:00<?, ?gen/s]"
      ]
     },
     "metadata": {},
     "output_type": "display_data"
    },
    {
     "data": {
      "application/vnd.jupyter.widget-view+json": {
       "model_id": "4afa4770a7a7489b860df2c335c40b52",
       "version_major": 2,
       "version_minor": 0
      },
      "text/plain": [
       "Generaciones buy:   0%|          | 0/5 [00:00<?, ?gen/s]"
      ]
     },
     "metadata": {},
     "output_type": "display_data"
    },
    {
     "name": "stdout",
     "output_type": "stream",
     "text": [
      "[1, buy] Fitness: 0.5672656838571289 | Best Fitness: 0.5672656838571289\n",
      "[1, buy] Fitness Improvement: 0.0000 | Diversity: 0.6422\n",
      "[1, buy] Normalized Fitness Improvement: 0.0000 | Normalized Diversity: 0.0000\n",
      "[1, buy] Crossover Rate: 0.5000 | Mutation Rate: 0.5000\n",
      "[1, sell] Fitness: 0.563877177577621 | Best Fitness: 0.563877177577621\n",
      "[1, sell] Fitness Improvement: 0.0000 | Diversity: 0.7042\n",
      "[1, sell] Normalized Fitness Improvement: 0.0000 | Normalized Diversity: 0.0000\n",
      "[1, sell] Crossover Rate: 0.5000 | Mutation Rate: 0.5000\n",
      "[2, buy] Fitness: 0.5673949473727836 | Best Fitness: 0.5673949473727836\n",
      "[2, buy] Fitness Improvement: 0.0001 | Diversity: 0.5411\n",
      "[2, buy] Normalized Fitness Improvement: 1.0000 | Normalized Diversity: 0.0000\n",
      "[2, buy] Crossover Rate: 0.3152 | Mutation Rate: 0.6848\n",
      "[2, sell] Fitness: 0.5611395318281134 | Best Fitness: 0.563877177577621\n",
      "[2, sell] Fitness Improvement: -0.0027 | Diversity: 0.5620\n",
      "[2, sell] Normalized Fitness Improvement: 0.0000 | Normalized Diversity: 0.0000\n",
      "[2, sell] Crossover Rate: 0.5000 | Mutation Rate: 0.5000\n",
      "[3, buy] Fitness: 0.5678043075625698 | Best Fitness: 0.5678043075625698\n",
      "[3, buy] Fitness Improvement: 0.0004 | Diversity: 0.5927\n",
      "[3, buy] Normalized Fitness Improvement: 1.0000 | Normalized Diversity: 0.5109\n",
      "[3, buy] Crossover Rate: 0.2446 | Mutation Rate: 0.7554\n",
      "[3, sell] Fitness: 0.5637258328848284 | Best Fitness: 0.563877177577621\n",
      "[3, sell] Fitness Improvement: 0.0026 | Diversity: 0.6149\n",
      "[3, sell] Normalized Fitness Improvement: 0.9447 | Normalized Diversity: 0.3717\n",
      "[3, sell] Crossover Rate: 0.2691 | Mutation Rate: 0.7309\n",
      "[3, sell] Early stopping due to no improvement.\n",
      "Best fitness for sell: 0.563877177577621\n",
      "####################################################################\n",
      "Mejor puntuación de validación para sell: 0.563877177577621\n",
      "Mejores parámetros encontrados para sell: {'kernelpca__n_components': 41, 'xgbclassifier__n_estimators': 309, 'xgbclassifier__max_depth': 12}\n",
      "####################################################################\n",
      "[4, buy] Fitness: 0.577125478556336 | Best Fitness: 0.577125478556336\n",
      "[4, buy] Fitness Improvement: 0.0093 | Diversity: 0.5624\n",
      "[4, buy] Normalized Fitness Improvement: 1.0000 | Normalized Diversity: 0.2107\n",
      "[4, buy] Crossover Rate: 0.2837 | Mutation Rate: 0.7163\n",
      "[5, buy] Fitness: 0.5700849974869544 | Best Fitness: 0.577125478556336\n",
      "[5, buy] Fitness Improvement: -0.0070 | Diversity: 0.5218\n",
      "[5, buy] Normalized Fitness Improvement: 0.2859 | Normalized Diversity: 0.0000\n",
      "[5, buy] Crossover Rate: 0.4432 | Mutation Rate: 0.5568\n",
      "####################################################################\n",
      "Mejor puntuación de validación para buy: 0.577125478556336\n",
      "Mejores parámetros encontrados para buy: {'kernelpca__n_components': 83, 'xgbclassifier__n_estimators': 283, 'xgbclassifier__max_depth': 3}\n",
      "####################################################################\n",
      "¡Todas las tareas han terminado!\n"
     ]
    }
   ],
   "source": [
    "# Train model functions\n",
    "def train_classifier(X_train, y_train, model_type, estimator, cv, param_grid):\n",
    "    try:\n",
    "        # Entrenar el modelo utilizando el algoritmo genético\n",
    "        ga_search = GeneticAlgorithmCV(\n",
    "            model_type=model_type,\n",
    "            estimator=estimator,\n",
    "            cv=cv,\n",
    "            param_grid=param_grid,\n",
    "            verbose=True\n",
    "        )\n",
    "        ga_search.fit(X_train, y_train)\n",
    "    except Exception as e:\n",
    "        print(f\"Error en traing model {model_type}: {e}\")\n",
    "        raise\n",
    "    # Obtener los mejores parámetros y el mejor estimador\n",
    "    print(\"####################################################################\")\n",
    "    print(f\"Mejor puntuación de validación para {model_type}: {ga_search.best_score_}\")\n",
    "    print(f\"Mejores parámetros encontrados para {model_type}: {ga_search.best_params_}\")\n",
    "    print(\"####################################################################\")\n",
    "    # Retornar mejor estimador\n",
    "    return ga_search.best_estimator_\n",
    "\n",
    "# Definir el pipeline para búsqueda genética\n",
    "estimator = make_pipeline(reducer, classifier)\n",
    "# Entrenar modelos en paralelo\n",
    "with ThreadPoolExecutor(max_workers=2) as executor:\n",
    "    print(\"Esperando que las tareas finalicen...\")\n",
    "    # enviar tareas de entrenamiento\n",
    "    future_buy = executor.submit(train_classifier, X_buy_scaled, y_buy, \"buy\", estimator, cv, param_grid_buy)\n",
    "    future_sell = executor.submit(train_classifier, X_sell_scaled, y_sell, \"sell\", estimator, cv, param_grid_sell)\n",
    "    # esperar a que todas las tareas terminen\n",
    "    futures = [future_buy, future_sell]\n",
    "    wait(futures)\n",
    "    # Obtener resultados una vez que ambas tareas han terminado\n",
    "    estimator_buy = future_buy.result()\n",
    "    estimator_sell = future_sell.result()\n",
    "    print(\"¡Todas las tareas han terminado!\")"
   ]
  },
  {
   "cell_type": "code",
   "execution_count": 17,
   "metadata": {},
   "outputs": [],
   "source": [
    "def create_pipeline(scaler, pipeline):\n",
    "    steps = [\n",
    "        ('standardscaler', scaler)\n",
    "        ]\n",
    "    for name, step in pipeline.steps:\n",
    "        steps.append((name, step))\n",
    "    pipeline = Pipeline(steps=steps)\n",
    "    return pipeline\n",
    "\n",
    "model_buy = create_pipeline(scaler_buy, estimator_buy)\n",
    "model_sell = create_pipeline(scaler_sell, estimator_sell)"
   ]
  },
  {
   "cell_type": "markdown",
   "metadata": {},
   "source": [
    "## Exportar modelos a formato ONNX"
   ]
  },
  {
   "cell_type": "code",
   "execution_count": 18,
   "metadata": {},
   "outputs": [
    {
     "name": "stdout",
     "output_type": "stream",
     "text": [
      "Modelos ONNX exportados correctamente\n"
     ]
    }
   ],
   "source": [
    "def save_onnx_models(mql5_files_folder, X_buy, X_sell):\n",
    "    try:\n",
    "        update_registered_converter(\n",
    "            xgb.XGBClassifier,\n",
    "            \"XGBClassifier\",\n",
    "            calculate_linear_classifier_output_shapes,\n",
    "            convert_xgboost,\n",
    "            options={'nocl': [True, False], 'zipmap': [True, False, 'columns']}\n",
    "        )\n",
    "        model_buy_onnx = convert_sklearn(\n",
    "            model_buy,\n",
    "            'pipeline_buy_xgboost',\n",
    "            [('input', FloatTensorType([None, X_buy.shape[1]]))],\n",
    "            target_opset={'': 12, 'ai.onnx.ml': 2}\n",
    "        )\n",
    "        model_sell_onnx = convert_sklearn(\n",
    "            model_sell,\n",
    "            'pipeline_sell_xgboost',\n",
    "            [('input', FloatTensorType([None, X_sell.shape[1]]))],\n",
    "            target_opset={'': 12, 'ai.onnx.ml': 2}\n",
    "        )\n",
    "        with open(os.path.join(mql5_files_folder, \"model_buy.onnx\"), 'wb') as f:\n",
    "            f.write(model_buy_onnx.SerializeToString())\n",
    "        with open(os.path.join(mql5_files_folder, \"model_sell.onnx\"), 'wb') as f:\n",
    "            f.write(model_sell_onnx.SerializeToString())\n",
    "    except Exception as e:\n",
    "        print(f\"Error en exportar los modelos: {e}\")\n",
    "        raise\n",
    "    print(\"Modelos ONNX exportados correctamente\")\n",
    "\n",
    "mql5_files_folder = r'/mnt/c/Users/Administrador/AppData/Roaming/MetaQuotes/Terminal/6C3C6A11D1C3791DD4DBF45421BF8028/MQL5/Files'\n",
    "save_onnx_models(mql5_files_folder, X_buy, X_sell)"
   ]
  },
  {
   "cell_type": "code",
   "execution_count": null,
   "metadata": {},
   "outputs": [],
   "source": []
  }
 ],
 "metadata": {
  "kernelspec": {
   "display_name": "vscode",
   "language": "python",
   "name": "python3"
  },
  "language_info": {
   "codemirror_mode": {
    "name": "ipython",
    "version": 3
   },
   "file_extension": ".py",
   "mimetype": "text/x-python",
   "name": "python",
   "nbconvert_exporter": "python",
   "pygments_lexer": "ipython3",
   "version": "3.12.7"
  }
 },
 "nbformat": 4,
 "nbformat_minor": 2
}
