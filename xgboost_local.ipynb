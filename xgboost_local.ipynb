{
 "cells": [
  {
   "cell_type": "markdown",
   "metadata": {},
   "source": [
    "## Importar librerías"
   ]
  },
  {
   "cell_type": "code",
   "execution_count": 27,
   "metadata": {},
   "outputs": [],
   "source": [
    "import os\n",
    "import glob\n",
    "import pandas as pd\n",
    "from genetic_algorithm import GeneticAlgorithmCV\n",
    "from sklearn.preprocessing import StandardScaler, RobustScaler\n",
    "from sklearn.decomposition import KernelPCA, TruncatedSVD\n",
    "from sklearn.model_selection import StratifiedKFold\n",
    "from sklearn.pipeline import Pipeline\n",
    "import xgboost as xgb\n",
    "from concurrent.futures import ThreadPoolExecutor, wait\n",
    "from skl2onnx.common.data_types import FloatTensorType\n",
    "from skl2onnx import convert_sklearn, update_registered_converter\n",
    "from skl2onnx.common.shape_calculator import calculate_linear_classifier_output_shapes\n",
    "from onnxmltools.convert.xgboost.operator_converters.XGBoost import convert_xgboost\n",
    "import warnings\n",
    "warnings.filterwarnings('ignore')"
   ]
  },
  {
   "cell_type": "markdown",
   "metadata": {},
   "source": [
    "## Cargar y preparar datos"
   ]
  },
  {
   "cell_type": "code",
   "execution_count": 46,
   "metadata": {},
   "outputs": [
    {
     "name": "stdout",
     "output_type": "stream",
     "text": [
      "Tipo de operación: Buy\n",
      "Número de características: 12\n",
      "Total Ganadoras: 320\n",
      "Total Perdedoras: 323\n",
      "Se seleccionarán 320 muestras por clase.\n",
      "___________________________________\n",
      "Tipo de operación: Sell\n",
      "Número de características: 12\n",
      "Total Ganadoras: 4213\n",
      "Total Perdedoras: 4794\n",
      "Se seleccionarán 4213 muestras por clase.\n",
      "___________________________________\n"
     ]
    }
   ],
   "source": [
    "def create_training_dataset(df, trade_type):\n",
    "    df = df.drop_duplicates()\n",
    "    # Filtrar las operaciones con profit != 0\n",
    "    df_trade = df[df['profit'] != 0].copy()\n",
    "    # Añadir la columna 'Target' basada en el profit\n",
    "    df_trade['target'] = df_trade['profit'].apply(lambda x: 1 if x > 0 else 0)\n",
    "    # Eliminar posibles missings\n",
    "    if(df_trade.isna().values.any()):\n",
    "        df_trade = df_trade.dropna()\n",
    "    # Separar en ganadoras y perdedoras\n",
    "    df_winning = df_trade[df_trade['profit'] > 0]\n",
    "    df_losing = df_trade[df_trade['profit'] < 0]\n",
    "    # Debug info\n",
    "    n_winning = len(df_trade[df_trade['target']==1])\n",
    "    n_losing = len(df_trade[df_trade['target']==0])\n",
    "    print(f\"Tipo de operación: {'Buy' if trade_type == 1 else 'Sell'}\")\n",
    "    print(f\"Número de características: {df.iloc[:, :-1].shape[1]}\")\n",
    "    print(f\"Total Ganadoras: {n_winning}\")\n",
    "    print(f\"Total Perdedoras: {n_losing}\")\n",
    "    # Verificar que hay suficientes datos\n",
    "    if n_winning == 0 or n_losing == 0:\n",
    "        print(f\"No hay suficientes datos para {'compras' if trade_type == 1 else 'ventas'} para entrenar el modelo.\")\n",
    "        return False\n",
    "    # Equilibrar las clases\n",
    "    if n_winning <= n_losing:\n",
    "        n_samples_per_class = n_winning\n",
    "        # Seleccionar todas las ganadoras\n",
    "        selected_winning = df_winning.copy()\n",
    "        # Ordenar las perdedoras por pérdida de mayor a menor (menor profit a mayor)\n",
    "        df_losing_sorted = df_losing.sort_values(by='profit', ascending=True)\n",
    "        # Seleccionar las perdedoras con mayor pérdida\n",
    "        selected_losing = df_losing_sorted.head(n_samples_per_class)\n",
    "    else:\n",
    "        n_samples_per_class = n_losing\n",
    "        # Seleccionar todas las perdedoras\n",
    "        selected_losing = df_losing.copy()\n",
    "        # Ordenar las ganadoras por profit de mayor a menor\n",
    "        df_winning_sorted = df_winning.sort_values(by='profit', ascending=False)\n",
    "        # Seleccionar las ganadoras con mayor profit\n",
    "        selected_winning = df_winning_sorted.head(n_samples_per_class)\n",
    "    print(f\"Se seleccionarán {n_samples_per_class} muestras por clase.\")\n",
    "    print(\"___________________________________\")\n",
    "    # Combinar las muestras seleccionadas\n",
    "    df_training = pd.concat([selected_winning, selected_losing], ignore_index=True)\n",
    "    # Seleccionar las columnas necesarias (todas menos las dos últimas para el conjunto principal)\n",
    "    feature_columns = df_training.columns[:-2]\n",
    "    df_training = df_training[feature_columns.tolist() + ['target']]\n",
    "    # Preparación de los datos de entrenamiento\n",
    "    X_train = df_training.drop(columns='target').values\n",
    "    y_train = df_training['target'].values\n",
    "    # return dataframe\n",
    "    return X_train, y_train, df_training\n",
    "\n",
    "# Ruta CSVs\n",
    "file_folder = r\"/mnt/c/Users/Administrador/AppData/Roaming/MetaQuotes/Terminal/Common/Files/\"\n",
    "# Compras\n",
    "buy_file_pattern = os.path.join(file_folder, 'training_dataset_buy_*.csv')\n",
    "df_buy_file_path = glob.glob(buy_file_pattern)\n",
    "df_buy = pd.read_csv(df_buy_file_path[0])\n",
    "X_buy, y_buy, df_buy_ = create_training_dataset(df_buy, 1)\n",
    "# Ventas\n",
    "sell_file_pattern = os.path.join(file_folder, 'training_dataset_sell_*.csv')\n",
    "df_sell_file_path = glob.glob(sell_file_pattern)\n",
    "df_sell = pd.read_csv(df_sell_file_path[0])\n",
    "X_sell, y_sell, df_sell_ = create_training_dataset(df_sell, -1)"
   ]
  },
  {
   "cell_type": "markdown",
   "metadata": {},
   "source": [
    "## Entrenamiento de los modelos"
   ]
  },
  {
   "cell_type": "code",
   "execution_count": 31,
   "metadata": {},
   "outputs": [
    {
     "name": "stdout",
     "output_type": "stream",
     "text": [
      "Esperando que las tareas finalicen...\n"
     ]
    },
    {
     "data": {
      "application/vnd.jupyter.widget-view+json": {
       "model_id": "1214175847d04836b763c231346e56ed",
       "version_major": 2,
       "version_minor": 0
      },
      "text/plain": [
       "Generaciones buy:   0%|          | 0/5 [00:00<?, ?gen/s]"
      ]
     },
     "metadata": {},
     "output_type": "display_data"
    },
    {
     "data": {
      "application/vnd.jupyter.widget-view+json": {
       "model_id": "1fca4db1952a44348d7da2d240520e43",
       "version_major": 2,
       "version_minor": 0
      },
      "text/plain": [
       "Generaciones sell:   0%|          | 0/5 [00:00<?, ?gen/s]"
      ]
     },
     "metadata": {},
     "output_type": "display_data"
    },
    {
     "name": "stdout",
     "output_type": "stream",
     "text": [
      "[1, buy] Fitness: 0.4892355169438229 | Best Fitness: 0.4892355169438229\n",
      "[1, buy] Fitness Improvement: 0.0000 | Diversity: 1.5623\n",
      "[1, buy] Normalized Fitness Improvement: 0.0000 | Normalized Diversity: 0.0000\n",
      "[1, buy] Crossover Rate: 0.9000 | Mutation Rate: 0.1000\n",
      "[2, buy] Fitness: 0.48749506384098984 | Best Fitness: 0.4892355169438229\n",
      "[2, buy] Fitness Improvement: -0.0017 | Diversity: 1.5946\n",
      "[2, buy] Normalized Fitness Improvement: 0.0000 | Normalized Diversity: 1.0000\n",
      "[2, buy] Crossover Rate: 0.3152 | Mutation Rate: 0.6848\n",
      "[2, buy] Early stopping due to no improvement.\n",
      "Best fitness for buy: 0.4892355169438229\n",
      "[1, sell] Fitness: 0.4948958746425223 | Best Fitness: 0.4948958746425223\n",
      "[1, sell] Fitness Improvement: 0.0000 | Diversity: 1.5581\n",
      "[1, sell] Normalized Fitness Improvement: 0.0000 | Normalized Diversity: 0.0000\n",
      "[1, sell] Crossover Rate: 0.9000 | Mutation Rate: 0.1000\n",
      "####################################################################\n",
      "Mejor puntuación de validación para buy: 0.4892355169438229\n",
      "Mejores parámetros encontrados para buy: {'scaler': 'robust', 'reducer': 'kernel_pca_linear', 'reducer__n_components': 2, 'xgbclassifier__n_estimators': 451, 'xgbclassifier__max_depth': 4, 'xgbclassifier__eta': 0.29659457807475487, 'xgbclassifier__gamma': 0.23301663738229578, 'xgbclassifier__subsample': 0.5824317766922991, 'xgbclassifier__colsample_bytree': 0.5798590222801234, 'xgbclassifier__colsample_bylevel': 0.780626831389928, 'xgbclassifier__colsample_bynode': 0.9417118138475853, 'xgbclassifier__alpha': 0.32671316974359443, 'xgbclassifier__lambda': 0.6987355369515166, 'xgbclassifier__min_child_weight': 10, 'xgbclassifier__scale_pos_weight': 9}\n",
      "####################################################################\n",
      "[2, sell] Fitness: 0.5002374169040835 | Best Fitness: 0.5002374169040835\n",
      "[2, sell] Fitness Improvement: 0.0053 | Diversity: 1.6858\n",
      "[2, sell] Normalized Fitness Improvement: 1.0000 | Normalized Diversity: 1.0000\n",
      "[2, sell] Crossover Rate: 0.1954 | Mutation Rate: 0.8046\n",
      "[3, sell] Fitness: 0.5003559985760057 | Best Fitness: 0.5003559985760057\n",
      "[3, sell] Fitness Improvement: 0.0001 | Diversity: 1.7874\n",
      "[3, sell] Normalized Fitness Improvement: 1.0000 | Normalized Diversity: 1.0000\n",
      "[3, sell] Crossover Rate: 0.1954 | Mutation Rate: 0.8046\n",
      "[4, sell] Fitness: 0.50189882811219 | Best Fitness: 0.50189882811219\n",
      "[4, sell] Fitness Improvement: 0.0015 | Diversity: 1.7712\n",
      "[4, sell] Normalized Fitness Improvement: 1.0000 | Normalized Diversity: 0.9292\n",
      "[4, sell] Crossover Rate: 0.2015 | Mutation Rate: 0.7985\n",
      "[5, sell] Fitness: 0.5002375859442431 | Best Fitness: 0.50189882811219\n",
      "[5, sell] Fitness Improvement: -0.0017 | Diversity: 1.7802\n",
      "[5, sell] Normalized Fitness Improvement: 0.7628 | Normalized Diversity: 0.9685\n",
      "[5, sell] Crossover Rate: 0.2203 | Mutation Rate: 0.7797\n",
      "[5, sell] Early stopping due to no improvement.\n",
      "Best fitness for sell: 0.50189882811219\n",
      "####################################################################\n",
      "Mejor puntuación de validación para sell: 0.50189882811219\n",
      "Mejores parámetros encontrados para sell: {'scaler': 'standard', 'reducer': 'kernel_pca_sigmoid', 'reducer__n_components': 2, 'xgbclassifier__n_estimators': 125, 'xgbclassifier__max_depth': 7, 'xgbclassifier__eta': 0.4357500281376786, 'xgbclassifier__gamma': 0.3971284142335976, 'xgbclassifier__subsample': 0.6654691470949269, 'xgbclassifier__colsample_bytree': 0.8440571408543636, 'xgbclassifier__colsample_bylevel': 0.9697321048698884, 'xgbclassifier__colsample_bynode': 0.7925340575727776, 'xgbclassifier__alpha': 0.15620046603684773, 'xgbclassifier__lambda': 0.17991726993640597, 'xgbclassifier__min_child_weight': 2, 'xgbclassifier__scale_pos_weight': 5}\n",
      "####################################################################\n",
      "¡Todas las tareas han terminado!\n"
     ]
    }
   ],
   "source": [
    "# Train model functions\n",
    "def train_classifier(X_train, y_train, model_type, n_features):\n",
    "    # Definir algoritmo de validación cruzada\n",
    "    cv = StratifiedKFold(n_splits=3)\n",
    "    # Definir Pipeline\n",
    "    pipeline = Pipeline([\n",
    "            ('scaler', 'none'),\n",
    "            ('reducer', 'none'),\n",
    "            ('xgbclassifier', xgb.XGBClassifier(\n",
    "                device = \"cuda\",\n",
    "                verbosity=0)\n",
    "            )\n",
    "        ])\n",
    "    # Definir mapa de estimadores\n",
    "    estimator_map = {\n",
    "        'scaler': {\n",
    "            'standard': StandardScaler(),\n",
    "            'robust': RobustScaler(),\n",
    "            'none': 'passthrough'\n",
    "        },\n",
    "        'reducer': {\n",
    "            'kernel_pca_rbf': KernelPCA(kernel='rbf'),\n",
    "            'kernel_pca_linear': KernelPCA(kernel='linear'),\n",
    "            'kernel_pca_poly': KernelPCA(kernel='poly'),\n",
    "            'kernel_pca_sigmoid': KernelPCA(kernel='sigmoid'),\n",
    "            'kernel_pca_cosine': KernelPCA(kernel='cosine'),\n",
    "            'truncated_svd': TruncatedSVD(),\n",
    "            'none': 'passthrough'\n",
    "        }\n",
    "    }\n",
    "    # Definir espacio de hiperparámetros para compras\n",
    "    param_grid = {\n",
    "        'scaler': {'type': 'categorical', 'values': ['standard', 'robust']},\n",
    "        'reducer': {'type': 'categorical', 'values': [\n",
    "            'kernel_pca_rbf', 'kernel_pca_linear', 'kernel_pca_poly',\n",
    "            'kernel_pca_sigmoid', 'kernel_pca_cosine','truncated_svd',]},\n",
    "        'reducer__n_components': {'type': 'int', 'low': 2, 'high': n_features-1},\n",
    "        'xgbclassifier__n_estimators': {'type': 'int', 'low': 50, 'high': 500},\n",
    "        'xgbclassifier__max_depth': {'type': 'int', 'low': 3, 'high': 10},\n",
    "        'xgbclassifier__eta':{'type': 'float', 'low': 0.1, 'high': 0.5},\n",
    "        'xgbclassifier__gamma':{'type': 'float', 'low': 0.0, 'high': 0.5},\n",
    "        'xgbclassifier__subsample': {'type': 'float', 'low': 0.5, 'high': 1.0},\n",
    "        'xgbclassifier__colsample_bytree': {'type': 'float', 'low': 0.5, 'high': 1.0},\n",
    "        'xgbclassifier__colsample_bylevel': {'type': 'float', 'low': 0.5, 'high': 1.0},\n",
    "        'xgbclassifier__colsample_bynode': {'type': 'float', 'low': 0.5, 'high': 1.0},\n",
    "        'xgbclassifier__alpha': {'type': 'float', 'low': 0.0, 'high': 1.0},\n",
    "        'xgbclassifier__lambda': {'type': 'float', 'low': 0.0, 'high': 1.0},\n",
    "        'xgbclassifier__min_child_weight': {'type': 'int', 'low': 1, 'high': 10},\n",
    "        'xgbclassifier__scale_pos_weight':  {'type': 'int', 'low': 1, 'high': 10}\n",
    "    }\n",
    "    try:\n",
    "        # Entrenar el modelo utilizando el algoritmo genético\n",
    "        ga_search = GeneticAlgorithmCV(\n",
    "            model_type=model_type,\n",
    "            pipeline=pipeline,\n",
    "            param_grid=param_grid,\n",
    "            estimator_map=estimator_map,\n",
    "            cv=cv,\n",
    "            pop_size=20,\n",
    "            generations=5,\n",
    "            early_stopping_rounds=1,\n",
    "            crossover_initial=0.9,\n",
    "            crossover_end=0.1,\n",
    "            mutation_initial=0.1,\n",
    "            mutation_end=0.9,\n",
    "            elitism=True,\n",
    "            elite_size=3,\n",
    "            tournament_size=3,\n",
    "            n_random=10,\n",
    "            n_jobs=-1,\n",
    "            verbose=True,\n",
    "        )\n",
    "        ga_search.fit(X_train, y_train)\n",
    "    except Exception as e:\n",
    "        print(f\"Error en traing model {model_type}: {e}\")\n",
    "        raise\n",
    "    # Obtener los mejores parámetros y el mejor estimador\n",
    "    print(\"####################################################################\")\n",
    "    print(f\"Mejor puntuación de validación para {model_type}: {ga_search.best_score_}\")\n",
    "    print(f\"Mejores parámetros encontrados para {model_type}: {ga_search.best_params_full_}\")\n",
    "    print(\"####################################################################\")\n",
    "    # Retornar mejor estimador\n",
    "    return ga_search.best_estimator_\n",
    "\n",
    "# Número de características totales\n",
    "n_features = df.iloc[:, :-2].shape[1]\n",
    "# Entrenar modelos en paralelo\n",
    "with ThreadPoolExecutor(max_workers=2) as executor:\n",
    "    print(\"Esperando que las tareas finalicen...\")\n",
    "    # enviar tareas de entrenamiento\n",
    "    future_buy = executor.submit(train_classifier, X_buy, y_buy, \"buy\", n_features)\n",
    "    future_sell = executor.submit(train_classifier, X_sell, y_sell, \"sell\", n_features)\n",
    "    # esperar a que todas las tareas terminen\n",
    "    futures = [future_buy, future_sell]\n",
    "    wait(futures)\n",
    "    # Obtener resultados una vez que ambas tareas han terminado\n",
    "    model_buy = future_buy.result()\n",
    "    model_sell = future_sell.result()\n",
    "    print(\"¡Todas las tareas han terminado!\")"
   ]
  },
  {
   "cell_type": "markdown",
   "metadata": {},
   "source": [
    "## Exportar modelos a formato ONNX"
   ]
  },
  {
   "cell_type": "code",
   "execution_count": 32,
   "metadata": {},
   "outputs": [
    {
     "name": "stdout",
     "output_type": "stream",
     "text": [
      "Modelo buy ONNX exportado correctamente\n",
      "Modelo sell ONNX exportado correctamente\n"
     ]
    }
   ],
   "source": [
    "def save_onnx_model(mql5_files_folder, model, X, model_type):\n",
    "    try:\n",
    "        update_registered_converter(\n",
    "            xgb.XGBClassifier,\n",
    "            \"XGBClassifier\",\n",
    "            calculate_linear_classifier_output_shapes,\n",
    "            convert_xgboost,\n",
    "            options={'nocl': [True, False], 'zipmap': [True, False, 'columns']}\n",
    "        )\n",
    "        model_onnx = convert_sklearn(\n",
    "            model,\n",
    "            f\"pipeline_{model_type}_xgboost\",\n",
    "            [('input', FloatTensorType([None, X.shape[1]]))],\n",
    "            target_opset={'': 12, 'ai.onnx.ml': 2}\n",
    "        )\n",
    "        with open(os.path.join(mql5_files_folder, f\"model_{model_type}.onnx\"), 'wb') as f:\n",
    "            f.write(model_onnx.SerializeToString())\n",
    "    except Exception as e:\n",
    "        print(f\"Error en exportar el modelo {model_type}: {e}\")\n",
    "        raise\n",
    "    print(f\"Modelo {model_type} ONNX exportado correctamente\")\n",
    "\n",
    "mql5_files_folder = r'/mnt/c/Users/Administrador/AppData/Roaming/MetaQuotes/Terminal/6C3C6A11D1C3791DD4DBF45421BF8028/MQL5/Files'\n",
    "save_onnx_model(mql5_files_folder, model_buy, X_buy, \"buy\")\n",
    "save_onnx_model(mql5_files_folder, model_sell, X_sell, \"sell\")"
   ]
  },
  {
   "cell_type": "markdown",
   "metadata": {},
   "source": [
    "## Resultados"
   ]
  },
  {
   "cell_type": "code",
   "execution_count": 33,
   "metadata": {},
   "outputs": [
    {
     "data": {
      "text/plain": [
       "[('scaler', RobustScaler()),\n",
       " ('reducer', KernelPCA(n_components=2)),\n",
       " ('xgbclassifier',\n",
       "  XGBClassifier(alpha=0.32671316974359443, base_score=None, booster=None,\n",
       "                callbacks=None, colsample_bylevel=0.780626831389928,\n",
       "                colsample_bynode=0.9417118138475853,\n",
       "                colsample_bytree=0.5798590222801234, device='cuda',\n",
       "                early_stopping_rounds=None, enable_categorical=False,\n",
       "                eta=0.29659457807475487, eval_metric=None, feature_types=None,\n",
       "                gamma=0.23301663738229578, grow_policy=None, importance_type=None,\n",
       "                interaction_constraints=None, lambda=0.6987355369515166,\n",
       "                learning_rate=None, max_bin=None, max_cat_threshold=None,\n",
       "                max_cat_to_onehot=None, max_delta_step=None, max_depth=4,\n",
       "                max_leaves=None, min_child_weight=10, missing=nan,\n",
       "                monotone_constraints=None, multi_strategy=None, n_estimators=451, ...))]"
      ]
     },
     "execution_count": 33,
     "metadata": {},
     "output_type": "execute_result"
    }
   ],
   "source": [
    "model_buy.steps"
   ]
  },
  {
   "cell_type": "code",
   "execution_count": 34,
   "metadata": {},
   "outputs": [
    {
     "data": {
      "text/plain": [
       "[('scaler', StandardScaler()),\n",
       " ('reducer', KernelPCA(kernel='sigmoid', n_components=2)),\n",
       " ('xgbclassifier',\n",
       "  XGBClassifier(alpha=0.15620046603684773, base_score=None, booster=None,\n",
       "                callbacks=None, colsample_bylevel=0.9697321048698884,\n",
       "                colsample_bynode=0.7925340575727776,\n",
       "                colsample_bytree=0.8440571408543636, device='cuda',\n",
       "                early_stopping_rounds=None, enable_categorical=False,\n",
       "                eta=0.4357500281376786, eval_metric=None, feature_types=None,\n",
       "                gamma=0.3971284142335976, grow_policy=None, importance_type=None,\n",
       "                interaction_constraints=None, lambda=0.17991726993640597,\n",
       "                learning_rate=None, max_bin=None, max_cat_threshold=None,\n",
       "                max_cat_to_onehot=None, max_delta_step=None, max_depth=7,\n",
       "                max_leaves=None, min_child_weight=2, missing=nan,\n",
       "                monotone_constraints=None, multi_strategy=None, n_estimators=125, ...))]"
      ]
     },
     "execution_count": 34,
     "metadata": {},
     "output_type": "execute_result"
    }
   ],
   "source": [
    "model_sell.steps"
   ]
  },
  {
   "cell_type": "code",
   "execution_count": 38,
   "metadata": {},
   "outputs": [
    {
     "data": {
      "text/html": [
       "<div>\n",
       "<style scoped>\n",
       "    .dataframe tbody tr th:only-of-type {\n",
       "        vertical-align: middle;\n",
       "    }\n",
       "\n",
       "    .dataframe tbody tr th {\n",
       "        vertical-align: top;\n",
       "    }\n",
       "\n",
       "    .dataframe thead th {\n",
       "        text-align: right;\n",
       "    }\n",
       "</style>\n",
       "<table border=\"1\" class=\"dataframe\">\n",
       "  <thead>\n",
       "    <tr style=\"text-align: right;\">\n",
       "      <th></th>\n",
       "      <th>0</th>\n",
       "      <th>1</th>\n",
       "      <th>2</th>\n",
       "      <th>3</th>\n",
       "      <th>4</th>\n",
       "      <th>5</th>\n",
       "      <th>6</th>\n",
       "      <th>7</th>\n",
       "      <th>8</th>\n",
       "      <th>9</th>\n",
       "    </tr>\n",
       "  </thead>\n",
       "  <tbody>\n",
       "    <tr>\n",
       "      <th>0</th>\n",
       "      <td>0.937254</td>\n",
       "      <td>0.855803</td>\n",
       "      <td>0.965094</td>\n",
       "      <td>0.965032</td>\n",
       "      <td>0.968551</td>\n",
       "      <td>0.937609</td>\n",
       "      <td>0.955981</td>\n",
       "      <td>0.944236</td>\n",
       "      <td>0.931411</td>\n",
       "      <td>0.90059</td>\n",
       "    </tr>\n",
       "    <tr>\n",
       "      <th>1</th>\n",
       "      <td>551.860000</td>\n",
       "      <td>1731.600000</td>\n",
       "      <td>-988.530000</td>\n",
       "      <td>-983.280000</td>\n",
       "      <td>-977.160000</td>\n",
       "      <td>-982.800000</td>\n",
       "      <td>-917.490000</td>\n",
       "      <td>-917.290000</td>\n",
       "      <td>-917.900000</td>\n",
       "      <td>-919.02000</td>\n",
       "    </tr>\n",
       "  </tbody>\n",
       "</table>\n",
       "</div>"
      ],
      "text/plain": [
       "            0            1           2           3           4           5  \\\n",
       "0    0.937254     0.855803    0.965094    0.965032    0.968551    0.937609   \n",
       "1  551.860000  1731.600000 -988.530000 -983.280000 -977.160000 -982.800000   \n",
       "\n",
       "            6           7           8          9  \n",
       "0    0.955981    0.944236    0.931411    0.90059  \n",
       "1 -917.490000 -917.290000 -917.900000 -919.02000  "
      ]
     },
     "execution_count": 38,
     "metadata": {},
     "output_type": "execute_result"
    }
   ],
   "source": [
    "pd.DataFrame([model_buy.predict_proba(X_buy)[:10, 1], df_buy['profit'].head(10)])"
   ]
  },
  {
   "cell_type": "code",
   "execution_count": 39,
   "metadata": {},
   "outputs": [
    {
     "data": {
      "text/html": [
       "<div>\n",
       "<style scoped>\n",
       "    .dataframe tbody tr th:only-of-type {\n",
       "        vertical-align: middle;\n",
       "    }\n",
       "\n",
       "    .dataframe tbody tr th {\n",
       "        vertical-align: top;\n",
       "    }\n",
       "\n",
       "    .dataframe thead th {\n",
       "        text-align: right;\n",
       "    }\n",
       "</style>\n",
       "<table border=\"1\" class=\"dataframe\">\n",
       "  <thead>\n",
       "    <tr style=\"text-align: right;\">\n",
       "      <th></th>\n",
       "      <th>0</th>\n",
       "      <th>1</th>\n",
       "      <th>2</th>\n",
       "      <th>3</th>\n",
       "      <th>4</th>\n",
       "      <th>5</th>\n",
       "      <th>6</th>\n",
       "      <th>7</th>\n",
       "      <th>8</th>\n",
       "      <th>9</th>\n",
       "    </tr>\n",
       "  </thead>\n",
       "  <tbody>\n",
       "    <tr>\n",
       "      <th>0</th>\n",
       "      <td>0.790591</td>\n",
       "      <td>0.872201</td>\n",
       "      <td>0.899802</td>\n",
       "      <td>0.843521</td>\n",
       "      <td>0.852664</td>\n",
       "      <td>0.873787</td>\n",
       "      <td>0.905419</td>\n",
       "      <td>0.874304</td>\n",
       "      <td>0.754041</td>\n",
       "      <td>0.90397</td>\n",
       "    </tr>\n",
       "    <tr>\n",
       "      <th>1</th>\n",
       "      <td>18.240000</td>\n",
       "      <td>-603.800000</td>\n",
       "      <td>-345.800000</td>\n",
       "      <td>-256.800000</td>\n",
       "      <td>-251.800000</td>\n",
       "      <td>-243.800000</td>\n",
       "      <td>-183.800000</td>\n",
       "      <td>-241.800000</td>\n",
       "      <td>-221.800000</td>\n",
       "      <td>-97.28000</td>\n",
       "    </tr>\n",
       "  </tbody>\n",
       "</table>\n",
       "</div>"
      ],
      "text/plain": [
       "           0           1           2           3           4           5  \\\n",
       "0   0.790591    0.872201    0.899802    0.843521    0.852664    0.873787   \n",
       "1  18.240000 -603.800000 -345.800000 -256.800000 -251.800000 -243.800000   \n",
       "\n",
       "            6           7           8         9  \n",
       "0    0.905419    0.874304    0.754041   0.90397  \n",
       "1 -183.800000 -241.800000 -221.800000 -97.28000  "
      ]
     },
     "execution_count": 39,
     "metadata": {},
     "output_type": "execute_result"
    }
   ],
   "source": [
    "pd.DataFrame([model_sell.predict_proba(X_sell)[:10, 1], df_sell['profit'].head(10)])"
   ]
  }
 ],
 "metadata": {
  "kernelspec": {
   "display_name": "vscode",
   "language": "python",
   "name": "python3"
  },
  "language_info": {
   "codemirror_mode": {
    "name": "ipython",
    "version": 3
   },
   "file_extension": ".py",
   "mimetype": "text/x-python",
   "name": "python",
   "nbconvert_exporter": "python",
   "pygments_lexer": "ipython3",
   "version": "3.12.7"
  }
 },
 "nbformat": 4,
 "nbformat_minor": 2
}
