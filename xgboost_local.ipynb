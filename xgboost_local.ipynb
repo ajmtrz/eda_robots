{
 "cells": [
  {
   "cell_type": "markdown",
   "metadata": {},
   "source": [
    "## Importar librerías"
   ]
  },
  {
   "cell_type": "code",
   "execution_count": null,
   "metadata": {},
   "outputs": [],
   "source": [
    "import os\n",
    "import glob\n",
    "import pandas as pd\n",
    "from genetic_algorithm import GeneticAlgorithmCV\n",
    "from sklearn.preprocessing import StandardScaler, RobustScaler\n",
    "from sklearn.decomposition import KernelPCA, TruncatedSVD\n",
    "from sklearn.model_selection import StratifiedKFold\n",
    "from sklearn.pipeline import Pipeline\n",
    "import xgboost as xgb\n",
    "from concurrent.futures import ThreadPoolExecutor, wait\n",
    "from skl2onnx.common.data_types import FloatTensorType\n",
    "from skl2onnx import convert_sklearn, update_registered_converter\n",
    "from skl2onnx.common.shape_calculator import calculate_linear_classifier_output_shapes\n",
    "from onnxmltools.convert.xgboost.operator_converters.XGBoost import convert_xgboost\n",
    "import warnings\n",
    "warnings.filterwarnings('ignore')"
   ]
  },
  {
   "cell_type": "markdown",
   "metadata": {},
   "source": [
    "## Cargar y preparar datos"
   ]
  },
  {
   "cell_type": "code",
   "execution_count": null,
   "metadata": {},
   "outputs": [],
   "source": [
    "def create_training_dataset(df, trade_type):\n",
    "    df = df.drop_duplicates()\n",
    "    # Filtrar las operaciones del tipo especificado y con profit != 0\n",
    "    df_trade = df[(df['type'] == trade_type) & (df['profit'] != 0)].copy()\n",
    "    # Añadir la columna 'Target' basada en el profit\n",
    "    df_trade['target'] = df_trade['profit'].apply(lambda x: 1 if x > 0 else 0)\n",
    "    # Eliminar posibles missings\n",
    "    if(df_trade.isna().values.any()):\n",
    "        df_trade = df_trade.dropna()\n",
    "    # Separar en ganadoras y perdedoras\n",
    "    df_winning = df_trade[df_trade['profit'] > 0]\n",
    "    df_losing = df_trade[df_trade['profit'] < 0]\n",
    "    # Debug info\n",
    "    n_winning = len(df_trade[df_trade['target']==1])\n",
    "    n_losing = len(df_trade[df_trade['target']==0])\n",
    "    print(f\"Tipo de operación: {'Buy' if trade_type == 1 else 'Sell'}\")\n",
    "    print(f\"Número de características: {df.iloc[:, :-2].shape[1]}\")\n",
    "    print(f\"Total Ganadoras: {n_winning}\")\n",
    "    print(f\"Total Perdedoras: {n_losing}\")\n",
    "    # Verificar que hay suficientes datos\n",
    "    if n_winning == 0 or n_losing == 0:\n",
    "        print(f\"No hay suficientes datos para {'compras' if trade_type == 1 else 'ventas'} para entrenar el modelo.\")\n",
    "        return False\n",
    "    # Equilibrar las clases\n",
    "    if n_winning <= n_losing:\n",
    "        n_samples_per_class = n_winning\n",
    "        # Seleccionar todas las ganadoras\n",
    "        selected_winning = df_winning.copy()\n",
    "        # Ordenar las perdedoras por pérdida de mayor a menor (menor profit a mayor)\n",
    "        df_losing_sorted = df_losing.sort_values(by='profit', ascending=True)\n",
    "        # Seleccionar las perdedoras con mayor pérdida\n",
    "        selected_losing = df_losing_sorted.head(n_samples_per_class)\n",
    "    else:\n",
    "        n_samples_per_class = n_losing\n",
    "        # Seleccionar todas las perdedoras\n",
    "        selected_losing = df_losing.copy()\n",
    "        # Ordenar las ganadoras por profit de mayor a menor\n",
    "        df_winning_sorted = df_winning.sort_values(by='profit', ascending=False)\n",
    "        # Seleccionar las ganadoras con mayor profit\n",
    "        selected_winning = df_winning_sorted.head(n_samples_per_class)\n",
    "    print(f\"Se seleccionarán {n_samples_per_class} muestras por clase.\")\n",
    "    print(\"___________________________________\")\n",
    "    # Combinar las muestras seleccionadas\n",
    "    df_training = pd.concat([selected_winning, selected_losing], ignore_index=True)\n",
    "    # Seleccionar las columnas necesarias (todas menos las dos últimas para el conjunto principal)\n",
    "    feature_columns = df.columns[:-3]\n",
    "    df_training = df_training[feature_columns.tolist() + ['target']]\n",
    "    # Preparación de los datos de entrenamiento\n",
    "    X_train = df_training.drop(columns='target').values\n",
    "    y_train = df_training['target'].values\n",
    "    # return dataframe\n",
    "    return X_train, y_train, df_training\n",
    "\n",
    "# Cargar el archivo CSV\n",
    "file_folder = r\"/mnt/c/Users/Administrador/AppData/Roaming/MetaQuotes/Terminal/Common/Files/\"\n",
    "file_pattern = os.path.join(file_folder, 'training_dataset_*.csv')\n",
    "df_file_path = glob.glob(file_pattern)\n",
    "df = pd.read_csv(df_file_path[0])\n",
    "# Obtener datasets de entrenamiento\n",
    "X_buy, y_buy, df_buy = create_training_dataset(df, 1)\n",
    "X_sell, y_sell, df_sell = create_training_dataset(df, -1)"
   ]
  },
  {
   "cell_type": "markdown",
   "metadata": {},
   "source": [
    "## Entrenamiento de los modelos"
   ]
  },
  {
   "cell_type": "code",
   "execution_count": null,
   "metadata": {},
   "outputs": [],
   "source": [
    "# Train model functions\n",
    "def train_classifier(X_train, y_train, model_type, n_features):\n",
    "    # Definir algoritmo de validación cruzada\n",
    "    cv = StratifiedKFold(n_splits=5)\n",
    "    # Definir Pipeline\n",
    "    pipeline = Pipeline([\n",
    "            ('scaler', 'none'),\n",
    "            ('reducer', 'none'),\n",
    "            ('xgbclassifier', xgb.XGBClassifier(\n",
    "                objective=\"binary:logistic\",\n",
    "                eval_metric=\"logloss\",\n",
    "                device = \"cuda\",\n",
    "                verbosity=0)\n",
    "            )\n",
    "        ])\n",
    "    # Definir mapa de estimadores\n",
    "    estimator_map = {\n",
    "        'scaler': {\n",
    "            'standard': StandardScaler(),\n",
    "            'robust': RobustScaler(),\n",
    "            'none': 'passthrough'\n",
    "        },\n",
    "        'reducer': {\n",
    "            'kernel_pca_rbf': KernelPCA(kernel='rbf'),\n",
    "            'kernel_pca_linear': KernelPCA(kernel='linear'),\n",
    "            'truncated_svd': TruncatedSVD(),\n",
    "            'none': 'passthrough'\n",
    "        }\n",
    "    }\n",
    "    # Definir espacio de hiperparámetros para compras\n",
    "    param_grid = {\n",
    "        'scaler': {'type': 'categorical', 'values': ['standard', 'robust']},\n",
    "        'reducer': {'type': 'categorical', 'values': ['kernel_pca_rbf', 'kernel_pca_linear', 'truncated_svd']},\n",
    "        'reducer__n_components': {'type': 'int', 'low': 2, 'high': n_features-1},\n",
    "        'xgbclassifier__n_estimators': {'type': 'int', 'low': 50, 'high': 500},\n",
    "        'xgbclassifier__max_depth': {'type': 'int', 'low': 3, 'high': 10},\n",
    "        'xgbclassifier__eta':{'type': 'float', 'low': 1e-2, 'high': 5e-1},\n",
    "        'xgbclassifier__gamma':{'type': 'float', 'low': 0.0, 'high': 0.5},\n",
    "        'xgbclassifier__subsample': {'type': 'float', 'low': 0.5, 'high': 1.0},\n",
    "        'xgbclassifier__colsample_bytree': {'type': 'float', 'low': 0.5, 'high': 1.0},\n",
    "        'xgbclassifier__colsample_bylevel': {'type': 'float', 'low': 0.5, 'high': 1.0},\n",
    "        'xgbclassifier__colsample_bynode': {'type': 'float', 'low': 0.5, 'high': 1.0},\n",
    "        'xgbclassifier__alpha': {'type': 'float', 'low': 0.0, 'high': 1.0},\n",
    "        'xgbclassifier__lambda': {'type': 'float', 'low': 0.0, 'high': 1.0},\n",
    "        'xgbclassifier__min_child_weight': {'type': 'int', 'low': 1, 'high': 10}\n",
    "    }\n",
    "    try:\n",
    "        # Entrenar el modelo utilizando el algoritmo genético\n",
    "        ga_search = GeneticAlgorithmCV(\n",
    "            model_type=model_type,\n",
    "            pipeline=pipeline,\n",
    "            param_grid=param_grid,\n",
    "            estimator_map=estimator_map,\n",
    "            cv=cv,\n",
    "            pop_size=10,\n",
    "            generations=5,\n",
    "            early_stopping_rounds=1,\n",
    "            crossover_initial=0.9,\n",
    "            crossover_end=0.1,\n",
    "            mutation_initial=0.1,\n",
    "            mutation_end=0.9,\n",
    "            elitism=True,\n",
    "            elite_size=2,\n",
    "            tournament_size=3,\n",
    "            n_random=10,\n",
    "            n_jobs=-1,\n",
    "            verbose=True,\n",
    "        )\n",
    "        ga_search.fit(X_train, y_train)\n",
    "    except Exception as e:\n",
    "        print(f\"Error en traing model {model_type}: {e}\")\n",
    "        raise\n",
    "    # Obtener los mejores parámetros y el mejor estimador\n",
    "    print(\"####################################################################\")\n",
    "    print(f\"Mejor puntuación de validación para {model_type}: {ga_search.best_score_}\")\n",
    "    print(f\"Mejores parámetros encontrados para {model_type}: {ga_search.best_params_full_}\")\n",
    "    print(\"####################################################################\")\n",
    "    # Retornar mejor estimador\n",
    "    return ga_search.best_estimator_\n",
    "\n",
    "# Número de características totales\n",
    "n_features = df.iloc[:, :-2].shape[1]\n",
    "# Entrenar modelos en paralelo\n",
    "with ThreadPoolExecutor(max_workers=2) as executor:\n",
    "    print(\"Esperando que las tareas finalicen...\")\n",
    "    # enviar tareas de entrenamiento\n",
    "    future_buy = executor.submit(train_classifier, X_buy, y_buy, \"buy\", n_features)\n",
    "    future_sell = executor.submit(train_classifier, X_sell, y_sell, \"sell\", n_features)\n",
    "    # esperar a que todas las tareas terminen\n",
    "    futures = [future_buy, future_sell]\n",
    "    wait(futures)\n",
    "    # Obtener resultados una vez que ambas tareas han terminado\n",
    "    model_buy = future_buy.result()\n",
    "    model_sell = future_sell.result()\n",
    "    print(\"¡Todas las tareas han terminado!\")"
   ]
  },
  {
   "cell_type": "markdown",
   "metadata": {},
   "source": [
    "## Exportar modelos a formato ONNX"
   ]
  },
  {
   "cell_type": "code",
   "execution_count": null,
   "metadata": {},
   "outputs": [],
   "source": [
    "def save_onnx_model(mql5_files_folder, model, X, model_type):\n",
    "    try:\n",
    "        update_registered_converter(\n",
    "            xgb.XGBClassifier,\n",
    "            \"XGBClassifier\",\n",
    "            calculate_linear_classifier_output_shapes,\n",
    "            convert_xgboost,\n",
    "            options={'nocl': [True, False], 'zipmap': [True, False, 'columns']}\n",
    "        )\n",
    "        model_onnx = convert_sklearn(\n",
    "            model,\n",
    "            f\"pipeline_{model_type}_xgboost\",\n",
    "            [('input', FloatTensorType([None, X.shape[1]]))],\n",
    "            target_opset={'': 12, 'ai.onnx.ml': 2}\n",
    "        )\n",
    "        with open(os.path.join(mql5_files_folder, f\"model_{model_type}.onnx\"), 'wb') as f:\n",
    "            f.write(model_onnx.SerializeToString())\n",
    "    except Exception as e:\n",
    "        print(f\"Error en exportar el modelo {model_type}: {e}\")\n",
    "        raise\n",
    "    print(f\"Modelo {model_type} ONNX exportado correctamente\")\n",
    "\n",
    "mql5_files_folder = r'/mnt/c/Users/Administrador/AppData/Roaming/MetaQuotes/Terminal/6C3C6A11D1C3791DD4DBF45421BF8028/MQL5/Files'\n",
    "save_onnx_model(mql5_files_folder, model_buy, X_buy, \"buy\")\n",
    "save_onnx_model(mql5_files_folder, model_sell, X_sell, \"sell\")"
   ]
  },
  {
   "cell_type": "markdown",
   "metadata": {},
   "source": [
    "## Resultados"
   ]
  },
  {
   "cell_type": "code",
   "execution_count": null,
   "metadata": {},
   "outputs": [],
   "source": [
    "model_buy.steps"
   ]
  },
  {
   "cell_type": "code",
   "execution_count": null,
   "metadata": {},
   "outputs": [],
   "source": [
    "model_sell.steps"
   ]
  },
  {
   "cell_type": "code",
   "execution_count": null,
   "metadata": {},
   "outputs": [],
   "source": [
    "pd.DataFrame([model_buy.predict_proba(X_buy)[:10, 1], df['profit'][df['type']==1].head(10)])"
   ]
  },
  {
   "cell_type": "code",
   "execution_count": null,
   "metadata": {},
   "outputs": [],
   "source": [
    "pd.DataFrame([model_sell.predict_proba(X_sell)[:10, 1], df['profit'][df['type']==-1].head(10)])"
   ]
  }
 ],
 "metadata": {
  "kernelspec": {
   "display_name": "vscode",
   "language": "python",
   "name": "python3"
  },
  "language_info": {
   "codemirror_mode": {
    "name": "ipython",
    "version": 3
   },
   "file_extension": ".py",
   "mimetype": "text/x-python",
   "name": "python",
   "nbconvert_exporter": "python",
   "pygments_lexer": "ipython3",
   "version": "3.12.7"
  }
 },
 "nbformat": 4,
 "nbformat_minor": 2
}
