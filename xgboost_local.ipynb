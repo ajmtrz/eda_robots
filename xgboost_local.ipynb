{
 "cells": [
  {
   "cell_type": "markdown",
   "metadata": {},
   "source": [
    "## Importar librerías"
   ]
  },
  {
   "cell_type": "code",
   "execution_count": 53,
   "metadata": {},
   "outputs": [],
   "source": [
    "import os\n",
    "import glob\n",
    "import pandas as pd\n",
    "import numpy as np\n",
    "from genetic_algorithm import GeneticAlgorithmCV\n",
    "from sklearn.preprocessing import StandardScaler\n",
    "from sklearn.decomposition import PCA, KernelPCA\n",
    "from sklearn.feature_selection import RFECV\n",
    "from sklearn.model_selection import StratifiedKFold\n",
    "from sklearn.pipeline import make_pipeline, Pipeline\n",
    "import xgboost as xgb\n",
    "from concurrent.futures import ThreadPoolExecutor, wait\n",
    "from skl2onnx.common.data_types import FloatTensorType\n",
    "from skl2onnx import convert_sklearn, update_registered_converter\n",
    "from skl2onnx.common.shape_calculator import calculate_linear_classifier_output_shapes\n",
    "from onnxmltools.convert.xgboost.operator_converters.XGBoost import convert_xgboost\n",
    "import warnings\n",
    "warnings.filterwarnings('ignore')"
   ]
  },
  {
   "cell_type": "markdown",
   "metadata": {},
   "source": [
    "## Cargar y preparar datos"
   ]
  },
  {
   "cell_type": "code",
   "execution_count": 54,
   "metadata": {},
   "outputs": [],
   "source": [
    "file_folder = r\"/mnt/c/Users/Administrador/AppData/Roaming/MetaQuotes/Terminal/Common/Files/\"\n",
    "# Leer los archivos CSV\n",
    "file_pattern = os.path.join(file_folder, 'training_dataset_*.csv')\n",
    "df_file_path = glob.glob(file_pattern)\n",
    "df = pd.read_csv(df_file_path[0])"
   ]
  },
  {
   "cell_type": "code",
   "execution_count": 55,
   "metadata": {},
   "outputs": [],
   "source": [
    "def create_training_dataset(df, trade_type):\n",
    "    df = df.drop_duplicates()\n",
    "    # Filtrar las operaciones del tipo especificado y con profit != 0\n",
    "    df_trade = df[(df['type'] == trade_type) & (df['profit'] != 0)].copy()\n",
    "    # Añadir la columna 'Target' basada en el profit\n",
    "    df_trade['target'] = df_trade['profit'].apply(lambda x: 1 if x > 0 else 0)\n",
    "    # Seleccionar las columnas necesarias (todas menos las dos últimas para el conjunto principal,\n",
    "    feature_columns = df.columns[:-2]\n",
    "    df_trade = df_trade[feature_columns.tolist() + ['target']]\n",
    "    # Eliminar posibles missings\n",
    "    if(df_trade.isna().values.any()):\n",
    "        df_trade = df_trade.dropna()\n",
    "    n_winning = len(df_trade[df_trade['target']==1])\n",
    "    n_losing = len(df_trade[df_trade['target']==0])\n",
    "    # Preparación de los datos de entrenamiento\n",
    "    X_buy = df_trade.drop(columns='target').values\n",
    "    y_buy = df_trade['target'].values\n",
    "    print(f\"Tipo de operación: {'Buy' if trade_type == 1 else 'Sell'}\")\n",
    "    print(f\"Número de características: {df.iloc[:, :-2].shape[1]}\")\n",
    "    print(f\"Total Ganadoras: {n_winning}\")\n",
    "    print(f\"Total Perdedoras: {n_losing}\")\n",
    "    print(\"___________________________________\")\n",
    "    # return dataframe\n",
    "    return X_buy, y_buy"
   ]
  },
  {
   "cell_type": "code",
   "execution_count": 56,
   "metadata": {},
   "outputs": [
    {
     "name": "stdout",
     "output_type": "stream",
     "text": [
      "Tipo de operación: Buy\n",
      "Número de características: 76\n",
      "Total Ganadoras: 2624\n",
      "Total Perdedoras: 2197\n",
      "___________________________________\n",
      "Tipo de operación: Sell\n",
      "Número de características: 76\n",
      "Total Ganadoras: 2457\n",
      "Total Perdedoras: 1920\n",
      "___________________________________\n"
     ]
    }
   ],
   "source": [
    "# Buy training dataset\n",
    "X_buy_train, y_buy_train = create_training_dataset(df, 1)\n",
    "# Sell training dataset\n",
    "X_sell_train, y_sell_train = create_training_dataset(df, -1)"
   ]
  },
  {
   "cell_type": "markdown",
   "metadata": {},
   "source": [
    "## Entrenamiento de los modelos"
   ]
  },
  {
   "cell_type": "code",
   "execution_count": 57,
   "metadata": {},
   "outputs": [],
   "source": [
    "# Create scaler\n",
    "def create_scaler(X_train, y_train):\n",
    "    scaler = StandardScaler()\n",
    "    X_scaled = scaler.fit_transform(X_train, y_train)\n",
    "    return scaler, X_scaled\n",
    "# Create feature selector\n",
    "def create_selector(classifier, cv, X_scaled, y_train):\n",
    "    selector = RFECV(\n",
    "        estimator=classifier,\n",
    "        step=1,\n",
    "        cv=cv,\n",
    "        scoring=\"accuracy\",\n",
    "        min_features_to_select=2,\n",
    "        n_jobs=-1,\n",
    "    )\n",
    "    X_selected = selector.fit_transform(X_scaled, y_train)\n",
    "    return selector, X_selected\n",
    "# Train model functions\n",
    "def train_classifier(X_train_selected, y_train_selected, model_type, estimator, cv, param_grid):\n",
    "    try:\n",
    "        # Entrenar el modelo utilizando el algoritmo genético\n",
    "        ga_search = GeneticAlgorithmCV(\n",
    "            model_type=model_type,\n",
    "            estimator=estimator,\n",
    "            cv=cv,\n",
    "            param_grid=param_grid,\n",
    "            n_jobs=-1,\n",
    "            verbose=True\n",
    "        )\n",
    "        ga_search.fit(X_train_selected, y_train_selected)\n",
    "    except Exception as e:\n",
    "        print(f\"Error en traing model {model_type}: {e}\")\n",
    "        raise\n",
    "    # Obtener los mejores parámetros y el mejor estimador\n",
    "    print(\"####################################################################\")\n",
    "    print(f\"Mejor puntuación de validación para {model_type}: {ga_search.best_score_}\")\n",
    "    print(f\"Mejores parámetros encontrados para {model_type}: {ga_search.best_params_}\")\n",
    "    print(\"####################################################################\")\n",
    "    # Retornar mejor estimador\n",
    "    return ga_search.best_estimator_"
   ]
  },
  {
   "cell_type": "code",
   "execution_count": 58,
   "metadata": {},
   "outputs": [],
   "source": [
    "# Escalar los datos\n",
    "scaler_buy, X_buy_scaled = create_scaler(X_buy_train, y_buy_train)\n",
    "scaler_sell, X_sell_scaled = create_scaler(X_sell_train, y_sell_train)\n",
    "# Definir algoritmo de validación cruzada\n",
    "cv = StratifiedKFold(n_splits=5, shuffle=True, random_state=42)\n",
    "# Definir reductor de dimensionalidad\n",
    "reducer = KernelPCA(kernel='rbf')\n",
    "# Definir el clasificador\n",
    "classifier = xgb.XGBClassifier(\n",
    "    eval_metric='logloss',\n",
    "    tree_method = \"hist\",\n",
    "    device = \"cuda\",\n",
    "    predictor='gpu_predictor', \n",
    "    verbosity=0\n",
    "    )\n",
    "# Definir el pipeline para búsqueda genética\n",
    "estimator = make_pipeline(reducer, classifier)"
   ]
  },
  {
   "cell_type": "code",
   "execution_count": 59,
   "metadata": {},
   "outputs": [],
   "source": [
    "# Definir espacio de hiperparámetros\n",
    "n_features = len(df.iloc[:, :-2].columns)\n",
    "param_grid = {\n",
    "    'kernelpca__n_components': {'type': 'int', 'low': 2, 'high': n_features-1},\n",
    "    'xgbclassifier__n_estimators': {'type': 'int', 'low': 50, 'high': 500},\n",
    "    'xgbclassifier__max_depth': {'type': 'int', 'low': 3, 'high': 50},\n",
    "    'xgbclassifier__learning_rate': {'type': 'float', 'low': 0.001, 'high': 0.3},\n",
    "    'xgbclassifier__subsample': {'type': 'float', 'low': 0.6, 'high': 1.0},\n",
    "    'xgbclassifier__colsample_bytree': {'type': 'float', 'low': 0.6, 'high': 1.0},\n",
    "    'xgbclassifier__gamma': {'type': 'float', 'low': 0.0, 'high': 0.5},\n",
    "    'xgbclassifier__reg_alpha': {'type': 'float', 'low': 0.0, 'high': 1.0},\n",
    "    'xgbclassifier__reg_lambda': {'type': 'float', 'low': 0.0, 'high': 1.0},\n",
    "    'xgbclassifier__min_child_weight': {'type': 'int', 'low': 1, 'high': 10},\n",
    "    'xgbclassifier__scale_pos_weight': {'type': 'float', 'low': 1.0, 'high': 10.0}\n",
    "}"
   ]
  },
  {
   "cell_type": "code",
   "execution_count": 60,
   "metadata": {},
   "outputs": [
    {
     "name": "stdout",
     "output_type": "stream",
     "text": [
      "Esperando que las tareas finalicen...\n"
     ]
    },
    {
     "data": {
      "application/vnd.jupyter.widget-view+json": {
       "model_id": "01f8ec73e9f94ae5843e31ed16b80eed",
       "version_major": 2,
       "version_minor": 0
      },
      "text/plain": [
       "Generaciones sell:   0%|          | 0/15 [00:00<?, ?gen/s]"
      ]
     },
     "metadata": {},
     "output_type": "display_data"
    },
    {
     "data": {
      "application/vnd.jupyter.widget-view+json": {
       "model_id": "c800880420b84f5bba4df31d41564e6a",
       "version_major": 2,
       "version_minor": 0
      },
      "text/plain": [
       "Generaciones buy:   0%|          | 0/15 [00:00<?, ?gen/s]"
      ]
     },
     "metadata": {},
     "output_type": "display_data"
    },
    {
     "name": "stdout",
     "output_type": "stream",
     "text": [
      "[1, sell] Fitness: 0.6337986506072465 | Best Fitness: 0.6337986506072465\n",
      "[1, sell] Fitness Improvement: 0.0000 | Diversity: 1.2642\n",
      "[1, sell] Normalized Fitness Improvement: 0.0000 | Normalized Diversity: 0.0000\n",
      "[1, sell] Crossover Rate: 0.5000 | Mutation Rate: 0.5000\n",
      "[select_parents]: num_selected_elites: 2\n",
      "[1, buy] Fitness: 0.6420639621897798 | Best Fitness: 0.6420639621897798\n",
      "[1, buy] Fitness Improvement: 0.0000 | Diversity: 1.2430\n",
      "[1, buy] Normalized Fitness Improvement: 0.0000 | Normalized Diversity: 0.0000\n",
      "[1, buy] Crossover Rate: 0.5000 | Mutation Rate: 0.5000\n",
      "[select_parents]: num_selected_elites: 2\n",
      "[2, sell] Fitness: 0.6325944958863048 | Best Fitness: 0.6337986506072465\n",
      "[2, sell] Fitness Improvement: -0.0012 | Diversity: 1.2415\n",
      "[2, sell] Normalized Fitness Improvement: 0.0000 | Normalized Diversity: 0.0000\n",
      "[2, sell] Crossover Rate: 0.5000 | Mutation Rate: 0.5000\n",
      "[2, sell] Early stopping due to no improvement.\n",
      "Best fitness for sell: 0.6337986506072465\n",
      "####################################################################\n",
      "Mejor puntuación de validación para sell: 0.6337986506072465\n",
      "Mejores parámetros encontrados para sell: {'kernelpca__n_components': 57, 'xgbclassifier__n_estimators': 142, 'xgbclassifier__max_depth': 50, 'xgbclassifier__learning_rate': 0.016303614056698824, 'xgbclassifier__subsample': 0.985296106840228, 'xgbclassifier__colsample_bytree': 0.6723986033172199, 'xgbclassifier__gamma': 0.151058300331664, 'xgbclassifier__reg_alpha': 0.23592676955699676, 'xgbclassifier__reg_lambda': 0.1866991185135698, 'xgbclassifier__min_child_weight': 2, 'xgbclassifier__scale_pos_weight': 7.290488247004386}\n",
      "####################################################################\n",
      "[2, buy] Fitness: 0.6419021195519474 | Best Fitness: 0.6420639621897798\n",
      "[2, buy] Fitness Improvement: -0.0002 | Diversity: 1.2675\n",
      "[2, buy] Normalized Fitness Improvement: 0.0000 | Normalized Diversity: 1.0000\n",
      "[2, buy] Crossover Rate: 0.6848 | Mutation Rate: 0.3152\n",
      "[2, buy] Early stopping due to no improvement.\n",
      "Best fitness for buy: 0.6420639621897798\n",
      "####################################################################\n",
      "Mejor puntuación de validación para buy: 0.6420639621897798\n",
      "Mejores parámetros encontrados para buy: {'kernelpca__n_components': 57, 'xgbclassifier__n_estimators': 116, 'xgbclassifier__max_depth': 38, 'xgbclassifier__learning_rate': 0.0052759517546946185, 'xgbclassifier__subsample': 0.726549789363615, 'xgbclassifier__colsample_bytree': 0.9946406952505449, 'xgbclassifier__gamma': 0.21967231643407664, 'xgbclassifier__reg_alpha': 0.604687503421769, 'xgbclassifier__reg_lambda': 0.9626204882000629, 'xgbclassifier__min_child_weight': 8, 'xgbclassifier__scale_pos_weight': 1.3899308955100897}\n",
      "####################################################################\n",
      "¡Todas las tareas han terminado!\n"
     ]
    }
   ],
   "source": [
    "# Entrenar modelos simultáneamente\n",
    "with ThreadPoolExecutor(max_workers=2) as executor:\n",
    "    print(\"Esperando que las tareas finalicen...\")\n",
    "    # enviar tareas de entrenamiento\n",
    "    future_buy = executor.submit(train_classifier, X_buy_scaled, y_buy_train, \"buy\", estimator, cv, param_grid)\n",
    "    future_sell = executor.submit(train_classifier, X_sell_scaled, y_sell_train, \"sell\", estimator, cv, param_grid)\n",
    "    # esperar a que todas las tareas terminen\n",
    "    futures = [future_buy, future_sell]\n",
    "    wait(futures)\n",
    "    # Obtener resultados una vez que ambas tareas han terminado\n",
    "    estimator_buy = future_buy.result()\n",
    "    estimator_sell = future_sell.result()\n",
    "    print(\"¡Todas las tareas han terminado!\")"
   ]
  },
  {
   "cell_type": "code",
   "execution_count": 61,
   "metadata": {},
   "outputs": [],
   "source": [
    "def create_pipeline(scaler, pipeline):\n",
    "    steps = [('robustscaler', scaler)]\n",
    "    for name, step in pipeline.steps:\n",
    "        steps.append((name, step))\n",
    "    pipeline = Pipeline(steps=steps)\n",
    "    return pipeline\n",
    "model_buy = create_pipeline(scaler_buy, estimator_buy)\n",
    "model_sell = create_pipeline(scaler_sell, estimator_sell)"
   ]
  },
  {
   "cell_type": "markdown",
   "metadata": {},
   "source": [
    "## Exportar modelos a formato ONNX"
   ]
  },
  {
   "cell_type": "code",
   "execution_count": 62,
   "metadata": {},
   "outputs": [],
   "source": [
    "def save_onnx_models(mql5_files_folder):\n",
    "    try:\n",
    "        update_registered_converter(\n",
    "            xgb.XGBClassifier,\n",
    "            \"XGBClassifier\",\n",
    "            calculate_linear_classifier_output_shapes,\n",
    "            convert_xgboost,\n",
    "            options={'nocl': [True, False], 'zipmap': [True, False, 'columns']}\n",
    "        )\n",
    "        model_buy_onnx = convert_sklearn(\n",
    "            model_buy,\n",
    "            'pipeline_buy_xgboost',\n",
    "            [('input', FloatTensorType([None, X_buy_train.shape[1]]))],\n",
    "            target_opset={'': 12, 'ai.onnx.ml': 2}\n",
    "        )\n",
    "        model_sell_onnx = convert_sklearn(\n",
    "            model_sell,\n",
    "            'pipeline_sell_xgboost',\n",
    "            [('input', FloatTensorType([None, X_buy_train.shape[1]]))],\n",
    "            target_opset={'': 12, 'ai.onnx.ml': 2}\n",
    "        )\n",
    "        with open(os.path.join(mql5_files_folder, \"model_buy.onnx\"), 'wb') as f:\n",
    "            f.write(model_buy_onnx.SerializeToString())\n",
    "        with open(os.path.join(mql5_files_folder, \"model_sell.onnx\"), 'wb') as f:\n",
    "            f.write(model_sell_onnx.SerializeToString())\n",
    "    except Exception as e:\n",
    "        print(f\"Error en exportar los modelos: {e}\")\n",
    "        raise\n",
    "    print(\"Modelos ONNX exportados correctamente\")"
   ]
  },
  {
   "cell_type": "code",
   "execution_count": 63,
   "metadata": {},
   "outputs": [
    {
     "name": "stdout",
     "output_type": "stream",
     "text": [
      "Modelos ONNX exportados correctamente\n"
     ]
    }
   ],
   "source": [
    "save_onnx_models(r'/mnt/c/Users/Administrador/AppData/Roaming/MetaQuotes/Terminal/6C3C6A11D1C3791DD4DBF45421BF8028/MQL5/Files')"
   ]
  },
  {
   "cell_type": "code",
   "execution_count": null,
   "metadata": {},
   "outputs": [],
   "source": []
  }
 ],
 "metadata": {
  "kernelspec": {
   "display_name": "vscode",
   "language": "python",
   "name": "python3"
  },
  "language_info": {
   "codemirror_mode": {
    "name": "ipython",
    "version": 3
   },
   "file_extension": ".py",
   "mimetype": "text/x-python",
   "name": "python",
   "nbconvert_exporter": "python",
   "pygments_lexer": "ipython3",
   "version": "3.12.7"
  }
 },
 "nbformat": 4,
 "nbformat_minor": 2
}
