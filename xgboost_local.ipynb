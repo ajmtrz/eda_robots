{
 "cells": [
  {
   "cell_type": "markdown",
   "metadata": {},
   "source": [
    "## Importar librerías"
   ]
  },
  {
   "cell_type": "code",
   "execution_count": 1,
   "metadata": {},
   "outputs": [],
   "source": [
    "import os\n",
    "import glob\n",
    "import pandas as pd\n",
    "import numpy as np\n",
    "from genetic_algorithm import GeneticAlgorithmCV\n",
    "from sklearn.preprocessing import StandardScaler, RobustScaler\n",
    "from sklearn.decomposition import KernelPCA, IncrementalPCA, TruncatedSVD, FastICA\n",
    "from sklearn.model_selection import StratifiedKFold\n",
    "from sklearn.pipeline import Pipeline\n",
    "import xgboost as xgb\n",
    "from concurrent.futures import ThreadPoolExecutor, wait\n",
    "from skl2onnx.common.data_types import FloatTensorType\n",
    "from skl2onnx import convert_sklearn, update_registered_converter\n",
    "from skl2onnx.common.shape_calculator import calculate_linear_classifier_output_shapes\n",
    "from onnxmltools.convert.xgboost.operator_converters.XGBoost import convert_xgboost\n",
    "import warnings\n",
    "warnings.filterwarnings('ignore')"
   ]
  },
  {
   "cell_type": "markdown",
   "metadata": {},
   "source": [
    "## Cargar y preparar datos"
   ]
  },
  {
   "cell_type": "code",
   "execution_count": 2,
   "metadata": {},
   "outputs": [],
   "source": [
    "# Cargar el archivo CSV\n",
    "file_folder = r\"/mnt/c/Users/Administrador/AppData/Roaming/MetaQuotes/Terminal/Common/Files/\"\n",
    "file_pattern = os.path.join(file_folder, 'training_dataset_*.csv')\n",
    "df_file_path = glob.glob(file_pattern)\n",
    "df = pd.read_csv(df_file_path[0])"
   ]
  },
  {
   "cell_type": "code",
   "execution_count": null,
   "metadata": {},
   "outputs": [
    {
     "name": "stdout",
     "output_type": "stream",
     "text": [
      "Tipo de operación: Buy\n",
      "Número de características: 71\n",
      "Total Ganadoras: 2688\n",
      "Total Perdedoras: 2291\n",
      "___________________________________\n",
      "Tipo de operación: Sell\n",
      "Número de características: 71\n",
      "Total Ganadoras: 2516\n",
      "Total Perdedoras: 2009\n",
      "___________________________________\n"
     ]
    }
   ],
   "source": [
    "def create_training_dataset(df, trade_type):\n",
    "    df = df.drop_duplicates()\n",
    "    # Filtrar las operaciones del tipo especificado y con profit != 0\n",
    "    df_trade = df[(df['type'] == trade_type) & (df['profit'] != 0)].copy()\n",
    "    # Añadir la columna 'Target' basada en el profit\n",
    "    df_trade['target'] = df_trade['profit'].apply(lambda x: 1 if x > 0 else 0)\n",
    "    # Seleccionar las columnas necesarias (todas menos las dos últimas para el conjunto principal)\n",
    "    feature_columns = df.columns[:-2]\n",
    "    df_trade = df_trade[feature_columns.tolist() + ['target']]\n",
    "    # Eliminar posibles missings\n",
    "    if(df_trade.isna().values.any()):\n",
    "        df_trade = df_trade.dropna()\n",
    "    # Debug info\n",
    "    n_winning = len(df_trade[df_trade['target']==1])\n",
    "    n_losing = len(df_trade[df_trade['target']==0])\n",
    "    print(f\"Tipo de operación: {'Buy' if trade_type == 1 else 'Sell'}\")\n",
    "    print(f\"Número de características: {df.iloc[:, :-2].shape[1]}\")\n",
    "    print(f\"Total Ganadoras: {n_winning}\")\n",
    "    print(f\"Total Perdedoras: {n_losing}\")\n",
    "    print(\"___________________________________\")\n",
    "    # Preparación de los datos de entrenamiento\n",
    "    X_train = df_trade.drop(columns='target').values\n",
    "    y_train = df_trade['target'].values\n",
    "    # return dataframe\n",
    "    return X_train, y_train\n",
    "\n",
    "# Obtener datasets de entrenamiento\n",
    "X_buy, y_buy = create_training_dataset(df, 1)\n",
    "X_sell, y_sell = create_training_dataset(df, -1)"
   ]
  },
  {
   "cell_type": "markdown",
   "metadata": {},
   "source": [
    "## Entrenamiento de los modelos"
   ]
  },
  {
   "cell_type": "code",
   "execution_count": 4,
   "metadata": {},
   "outputs": [],
   "source": [
    "# Definir algoritmo de validación cruzada\n",
    "cv = StratifiedKFold(n_splits=5, shuffle=True, random_state=42)\n",
    "# Definir escalador\n",
    "scaler = StandardScaler()\n",
    "# Definir reductor de dimensionalidad\n",
    "reducer = KernelPCA(kernel='rbf')\n",
    "# Definir el clasificador\n",
    "classifier = xgb.XGBClassifier(\n",
    "    objective=\"binary:logistic\",\n",
    "    eval_metric=\"logloss\",\n",
    "    device = \"cuda\",\n",
    "    verbosity=0\n",
    "    )\n",
    "# Definir Pipeline\n",
    "pipeline = Pipeline([\n",
    "        ('scaler', scaler),\n",
    "        ('reducer', reducer),\n",
    "        ('xgbclassifier', classifier)\n",
    "        ])\n",
    "# Definir espacio de hiperparámetros para compras\n",
    "n_features = df.iloc[:, :-2].shape[1]\n",
    "param_grid = {\n",
    "    'scaler': {'type': 'categorical', 'values': [StandardScaler(), RobustScaler()]},\n",
    "    'reducer': {'type': 'categorical', 'values': [KernelPCA('rbf'), IncrementalPCA(), TruncatedSVD()]},\n",
    "    'reducer__n_components': {'type': 'int', 'low': 1, 'high': n_features},\n",
    "    #'reducer__kernel': {'type': 'categorical', 'values': ['linear', 'poly', 'rbf', 'sigmoid', 'cosine']},\n",
    "    'xgbclassifier__n_estimators': {'type': 'int', 'low': 50, 'high': 500},\n",
    "    'xgbclassifier__max_depth': {'type': 'int', 'low': 3, 'high': 10},\n",
    "    'xgbclassifier__eta':{'type': 'float', 'low': 1e-3, 'high': 5e-1},\n",
    "    'xgbclassifier__gamma':{'type': 'float', 'low': 0.0, 'high': 0.5},\n",
    "    'xgbclassifier__subsample': {'type': 'float', 'low': 0.5, 'high': 1.0},\n",
    "    'xgbclassifier__colsample_bytree': {'type': 'float', 'low': 0.5, 'high': 1.0},\n",
    "    'xgbclassifier__colsample_bylevel': {'type': 'float', 'low': 0.5, 'high': 1.0},\n",
    "    'xgbclassifier__colsample_bynode': {'type': 'float', 'low': 0.5, 'high': 1.0},\n",
    "    'xgbclassifier__alpha': {'type': 'float', 'low': 0.0, 'high': 1.0},\n",
    "    'xgbclassifier__lambda': {'type': 'float', 'low': 0.0, 'high': 1.0},\n",
    "    'xgbclassifier__min_child_weight': {'type': 'int', 'low': 1, 'high': 10}\n",
    "}"
   ]
  },
  {
   "cell_type": "code",
   "execution_count": 5,
   "metadata": {},
   "outputs": [
    {
     "name": "stdout",
     "output_type": "stream",
     "text": [
      "Esperando que las tareas finalicen...\n"
     ]
    },
    {
     "data": {
      "application/vnd.jupyter.widget-view+json": {
       "model_id": "0bb2a62c51d849b69f82c41e9e6d50ef",
       "version_major": 2,
       "version_minor": 0
      },
      "text/plain": [
       "Generaciones sell:   0%|          | 0/5 [00:00<?, ?gen/s]"
      ]
     },
     "metadata": {},
     "output_type": "display_data"
    },
    {
     "data": {
      "application/vnd.jupyter.widget-view+json": {
       "model_id": "0cc43b3dbd2b48d09a1a05c5314491f6",
       "version_major": 2,
       "version_minor": 0
      },
      "text/plain": [
       "Generaciones buy:   0%|          | 0/5 [00:00<?, ?gen/s]"
      ]
     },
     "metadata": {},
     "output_type": "display_data"
    },
    {
     "name": "stdout",
     "output_type": "stream",
     "text": [
      "[1, sell] Fitness: 0.6122856346510693 | Best Fitness: 0.6122856346510693\n",
      "[1, sell] Fitness Improvement: 0.0000 | Diversity: 1.5229\n",
      "[1, sell] Normalized Fitness Improvement: 0.0000 | Normalized Diversity: 0.0000\n",
      "[1, sell] Crossover Rate: 0.9000 | Mutation Rate: 0.1000\n",
      "[1, buy] Fitness: 0.5805536445272862 | Best Fitness: 0.5805536445272862\n",
      "[1, buy] Fitness Improvement: 0.0000 | Diversity: 1.4705\n",
      "[1, buy] Normalized Fitness Improvement: 0.0000 | Normalized Diversity: 0.0000\n",
      "[1, buy] Crossover Rate: 0.9000 | Mutation Rate: 0.1000\n",
      "[2, buy] Fitness: 0.5890342535290216 | Best Fitness: 0.5890342535290216\n",
      "[2, buy] Fitness Improvement: 0.0085 | Diversity: 1.3599\n",
      "[2, buy] Normalized Fitness Improvement: 1.0000 | Normalized Diversity: 0.0000\n",
      "[2, buy] Crossover Rate: 0.3152 | Mutation Rate: 0.6848\n",
      "[2, sell] Fitness: 0.6208092286156358 | Best Fitness: 0.6208092286156358\n",
      "[2, sell] Fitness Improvement: 0.0085 | Diversity: 1.5299\n",
      "[2, sell] Normalized Fitness Improvement: 1.0000 | Normalized Diversity: 1.0000\n",
      "[2, sell] Crossover Rate: 0.1954 | Mutation Rate: 0.8046\n",
      "[3, buy] Fitness: 0.5952993170422068 | Best Fitness: 0.5952993170422068\n",
      "[3, buy] Fitness Improvement: 0.0063 | Diversity: 1.3527\n",
      "[3, buy] Normalized Fitness Improvement: 1.0000 | Normalized Diversity: 0.0000\n",
      "[3, buy] Crossover Rate: 0.3152 | Mutation Rate: 0.6848\n",
      "[3, sell] Fitness: 0.6199530308186048 | Best Fitness: 0.6208092286156358\n",
      "[3, sell] Fitness Improvement: -0.0009 | Diversity: 1.5268\n",
      "[3, sell] Normalized Fitness Improvement: 0.8995 | Normalized Diversity: 0.5571\n",
      "[3, sell] Crossover Rate: 0.2512 | Mutation Rate: 0.7488\n",
      "[3, sell] Early stopping due to no improvement.\n",
      "Best fitness for sell: 0.6208092286156358\n",
      "####################################################################\n",
      "Mejor puntuación de validación para sell: 0.6208092286156358\n",
      "Mejores parámetros encontrados para sell: {'scaler': RobustScaler(), 'reducer': TruncatedSVD(), 'reducer__n_components': 20, 'xgbclassifier__n_estimators': 91, 'xgbclassifier__max_depth': 5, 'xgbclassifier__eta': 0.023785676397340968, 'xgbclassifier__gamma': 0.027298574094202555, 'xgbclassifier__subsample': 0.6818448634533871, 'xgbclassifier__colsample_bytree': 0.6347130616357695, 'xgbclassifier__colsample_bylevel': 0.7682027428999509, 'xgbclassifier__colsample_bynode': 0.9776788960140204, 'xgbclassifier__alpha': 0.23361001977512674, 'xgbclassifier__lambda': 0.9730417119131182, 'xgbclassifier__min_child_weight': 4}\n",
      "####################################################################\n",
      "[4, buy] Fitness: 0.6193253626420888 | Best Fitness: 0.6193253626420888\n",
      "[4, buy] Fitness Improvement: 0.0240 | Diversity: 1.4166\n",
      "[4, buy] Normalized Fitness Improvement: 1.0000 | Normalized Diversity: 0.5427\n",
      "[4, buy] Crossover Rate: 0.2409 | Mutation Rate: 0.7591\n",
      "[5, buy] Fitness: 0.6208147988130613 | Best Fitness: 0.6208147988130613\n",
      "[5, buy] Fitness Improvement: 0.0015 | Diversity: 1.4096\n",
      "[5, buy] Normalized Fitness Improvement: 1.0000 | Normalized Diversity: 0.4830\n",
      "[5, buy] Crossover Rate: 0.2480 | Mutation Rate: 0.7520\n",
      "####################################################################\n",
      "Mejor puntuación de validación para buy: 0.6208147988130613\n",
      "Mejores parámetros encontrados para buy: {'scaler': RobustScaler(), 'reducer': TruncatedSVD(), 'reducer__n_components': 35, 'xgbclassifier__n_estimators': 139, 'xgbclassifier__max_depth': 5, 'xgbclassifier__eta': 0.004993058987833228, 'xgbclassifier__gamma': 0.39594169182052147, 'xgbclassifier__subsample': 1.0, 'xgbclassifier__colsample_bytree': 0.7939752750648956, 'xgbclassifier__colsample_bylevel': 0.6184689435879595, 'xgbclassifier__colsample_bynode': 0.8219544635247873, 'xgbclassifier__alpha': 0.344285990351594, 'xgbclassifier__lambda': 0.0, 'xgbclassifier__min_child_weight': 2}\n",
      "####################################################################\n",
      "¡Todas las tareas han terminado!\n"
     ]
    }
   ],
   "source": [
    "# Train model functions\n",
    "def train_classifier(X_train, y_train, model_type, pipeline, cv, param_grid):\n",
    "    try:\n",
    "        # Entrenar el modelo utilizando el algoritmo genético\n",
    "        ga_search = GeneticAlgorithmCV(\n",
    "            model_type=model_type,\n",
    "            pipeline=pipeline,\n",
    "            param_grid=param_grid,\n",
    "            cv=cv,\n",
    "            pop_size=25,\n",
    "            generations=5,\n",
    "            early_stopping_rounds=1,\n",
    "            crossover_initial=0.9,\n",
    "            crossover_end=0.1,\n",
    "            mutation_initial=0.1,\n",
    "            mutation_end=0.9,\n",
    "            elitism=True,\n",
    "            elite_size=3,\n",
    "            tournament_size=3,\n",
    "            n_random=0,\n",
    "            n_jobs=-1,\n",
    "            verbose=True,\n",
    "        )\n",
    "        ga_search.fit(X_train, y_train)\n",
    "    except Exception as e:\n",
    "        print(f\"Error en traing model {model_type}: {e}\")\n",
    "        raise\n",
    "    # Obtener los mejores parámetros y el mejor estimador\n",
    "    print(\"####################################################################\")\n",
    "    print(f\"Mejor puntuación de validación para {model_type}: {ga_search.best_score_}\")\n",
    "    print(f\"Mejores parámetros encontrados para {model_type}: {ga_search.best_params_}\")\n",
    "    print(\"####################################################################\")\n",
    "    # Retornar mejor estimador\n",
    "    return ga_search.best_estimator_\n",
    "\n",
    "# Entrenar modelos en paralelo\n",
    "with ThreadPoolExecutor(max_workers=2) as executor:\n",
    "    print(\"Esperando que las tareas finalicen...\")\n",
    "    # enviar tareas de entrenamiento\n",
    "    future_buy = executor.submit(train_classifier, X_buy, y_buy, \"buy\", pipeline, cv, param_grid)\n",
    "    future_sell = executor.submit(train_classifier, X_sell, y_sell, \"sell\", pipeline, cv, param_grid)\n",
    "    # esperar a que todas las tareas terminen\n",
    "    futures = [future_buy, future_sell]\n",
    "    wait(futures)\n",
    "    # Obtener resultados una vez que ambas tareas han terminado\n",
    "    model_buy = future_buy.result()\n",
    "    model_sell = future_sell.result()\n",
    "    print(\"¡Todas las tareas han terminado!\")"
   ]
  },
  {
   "cell_type": "markdown",
   "metadata": {},
   "source": [
    "## Exportar modelos a formato ONNX"
   ]
  },
  {
   "cell_type": "code",
   "execution_count": 6,
   "metadata": {},
   "outputs": [
    {
     "name": "stdout",
     "output_type": "stream",
     "text": [
      "Modelos ONNX exportados correctamente\n"
     ]
    }
   ],
   "source": [
    "def save_onnx_models(mql5_files_folder, model_buy, model_sell, X_buy, X_sell):\n",
    "    try:\n",
    "        update_registered_converter(\n",
    "            xgb.XGBClassifier,\n",
    "            \"XGBClassifier\",\n",
    "            calculate_linear_classifier_output_shapes,\n",
    "            convert_xgboost,\n",
    "            options={'nocl': [True, False], 'zipmap': [True, False, 'columns']}\n",
    "        )\n",
    "        model_buy_onnx = convert_sklearn(\n",
    "            model_buy,\n",
    "            'pipeline_buy_xgboost',\n",
    "            [('input', FloatTensorType([None, X_buy.shape[1]]))],\n",
    "            target_opset={'': 12, 'ai.onnx.ml': 2}\n",
    "        )\n",
    "        model_sell_onnx = convert_sklearn(\n",
    "            model_sell,\n",
    "            'pipeline_sell_xgboost',\n",
    "            [('input', FloatTensorType([None, X_sell.shape[1]]))],\n",
    "            target_opset={'': 12, 'ai.onnx.ml': 2}\n",
    "        )\n",
    "        with open(os.path.join(mql5_files_folder, \"model_buy.onnx\"), 'wb') as f:\n",
    "            f.write(model_buy_onnx.SerializeToString())\n",
    "        with open(os.path.join(mql5_files_folder, \"model_sell.onnx\"), 'wb') as f:\n",
    "            f.write(model_sell_onnx.SerializeToString())\n",
    "    except Exception as e:\n",
    "        print(f\"Error en exportar los modelos: {e}\")\n",
    "        raise\n",
    "    print(\"Modelos ONNX exportados correctamente\")\n",
    "\n",
    "mql5_files_folder = r'/mnt/c/Users/Administrador/AppData/Roaming/MetaQuotes/Terminal/6C3C6A11D1C3791DD4DBF45421BF8028/MQL5/Files'\n",
    "save_onnx_models(mql5_files_folder, model_buy, model_sell, X_buy, X_sell)"
   ]
  }
 ],
 "metadata": {
  "kernelspec": {
   "display_name": "vscode",
   "language": "python",
   "name": "python3"
  },
  "language_info": {
   "codemirror_mode": {
    "name": "ipython",
    "version": 3
   },
   "file_extension": ".py",
   "mimetype": "text/x-python",
   "name": "python",
   "nbconvert_exporter": "python",
   "pygments_lexer": "ipython3",
   "version": "3.12.7"
  }
 },
 "nbformat": 4,
 "nbformat_minor": 2
}
