{
 "cells": [
  {
   "cell_type": "markdown",
   "metadata": {},
   "source": [
    "## Importar librerías"
   ]
  },
  {
   "cell_type": "code",
   "execution_count": 1,
   "metadata": {},
   "outputs": [],
   "source": [
    "import os\n",
    "import glob\n",
    "import pandas as pd\n",
    "import numpy as np\n",
    "from genetic_algorithm import GeneticAlgorithmCV\n",
    "from sklearn.preprocessing import RobustScaler\n",
    "from sklearn.decomposition import KernelPCA\n",
    "from sklearn.feature_selection import RFECV\n",
    "from sklearn.model_selection import StratifiedKFold\n",
    "from sklearn.pipeline import make_pipeline, Pipeline\n",
    "import xgboost as xgb\n",
    "from concurrent.futures import ThreadPoolExecutor, wait\n",
    "from skl2onnx.common.data_types import FloatTensorType\n",
    "from skl2onnx import convert_sklearn, update_registered_converter\n",
    "from skl2onnx.common.shape_calculator import calculate_linear_classifier_output_shapes\n",
    "from onnxmltools.convert.xgboost.operator_converters.XGBoost import convert_xgboost\n",
    "import warnings\n",
    "warnings.filterwarnings('ignore')"
   ]
  },
  {
   "cell_type": "markdown",
   "metadata": {},
   "source": [
    "## Cargar y preparar datos"
   ]
  },
  {
   "cell_type": "code",
   "execution_count": 2,
   "metadata": {},
   "outputs": [],
   "source": [
    "file_folder = r\"/mnt/c/Users/Administrador/AppData/Roaming/MetaQuotes/Terminal/Common/Files/\"\n",
    "# Leer los archivos CSV\n",
    "file_pattern = os.path.join(file_folder, 'training_dataset_*.csv')\n",
    "df_file_path = glob.glob(file_pattern)\n",
    "df = pd.read_csv(df_file_path[0])"
   ]
  },
  {
   "cell_type": "code",
   "execution_count": 3,
   "metadata": {},
   "outputs": [],
   "source": [
    "def create_training_dataset(df, trade_type):\n",
    "    df = df.drop_duplicates()\n",
    "    # Filtrar las operaciones del tipo especificado y con profit != 0\n",
    "    df_trade = df[(df['type'] == trade_type) & (df['profit'] != 0)].copy()\n",
    "    # Añadir la columna 'Target' basada en el profit\n",
    "    df_trade['target'] = df_trade['profit'].apply(lambda x: 1 if x > 0 else 0)\n",
    "    # Seleccionar las columnas necesarias (todas menos las dos últimas para el conjunto principal,\n",
    "    feature_columns = df.columns[:-2]\n",
    "    df_trade = df_trade[feature_columns.tolist() + ['target']]\n",
    "    # Eliminar posibles missings\n",
    "    if(df_trade.isna().values.any()):\n",
    "        df_trade = df_trade.dropna()\n",
    "    n_winning = len(df_trade[df_trade['target']==1])\n",
    "    n_losing = len(df_trade[df_trade['target']==0])\n",
    "    print(f\"Tipo de operación: {'Buy' if trade_type == 1 else 'Sell'}\")\n",
    "    print(f\"Número de características: {df.iloc[:, :-2].shape[1]}\")\n",
    "    print(f\"Total Ganadoras: {n_winning}\")\n",
    "    print(f\"Total Perdedoras: {n_losing}\")\n",
    "    print(\"___________________________________\")\n",
    "    # return dataframe\n",
    "    return df_trade"
   ]
  },
  {
   "cell_type": "code",
   "execution_count": 4,
   "metadata": {},
   "outputs": [],
   "source": [
    "# X and y\n",
    "def load_dataset(df):\n",
    "    # Preparación de los datos de compra\n",
    "    df_buy = create_training_dataset(df, trade_type=1)\n",
    "    X_buy_train = df_buy.drop(columns='target')\n",
    "    y_buy_train = df_buy['target']\n",
    "    # Preparación de los datos de venta\n",
    "    df_sell = create_training_dataset(df, trade_type=-1)\n",
    "    X_sell_train = df_sell.drop(columns='target')\n",
    "    y_sell_train = df_sell['target']\n",
    "    return X_buy_train.values, y_buy_train.values, X_sell_train.values, y_sell_train.values"
   ]
  },
  {
   "cell_type": "code",
   "execution_count": null,
   "metadata": {},
   "outputs": [],
   "source": [
    "# X & y data\n",
    "X_buy_train, y_buy_train, X_sell_train, y_sell_train = load_dataset(df)"
   ]
  },
  {
   "cell_type": "markdown",
   "metadata": {},
   "source": [
    "## Entrenamiento de los modelos"
   ]
  },
  {
   "cell_type": "code",
   "execution_count": 5,
   "metadata": {},
   "outputs": [],
   "source": [
    "def create_scaler_selector(classifier, cv, X_train, y_train):\n",
    "    scaler = RobustScaler()\n",
    "    X_scaled = scaler.fit_transform(X_train, y_train)\n",
    "    selector = RFECV(\n",
    "        estimator=classifier,\n",
    "        step=1,\n",
    "        cv=cv,\n",
    "        scoring=\"accuracy\",\n",
    "        min_features_to_select=2,\n",
    "        n_jobs=-1,\n",
    "    )\n",
    "    X_transformed = selector.fit_transform(X_scaled, y_train)\n",
    "    return scaler, selector, X_transformed"
   ]
  },
  {
   "cell_type": "code",
   "execution_count": 10,
   "metadata": {},
   "outputs": [
    {
     "name": "stdout",
     "output_type": "stream",
     "text": [
      "Tipo de operación: Buy\n",
      "Número de características: 76\n",
      "Total Ganadoras: 2624\n",
      "Total Perdedoras: 2197\n",
      "___________________________________\n",
      "Tipo de operación: Sell\n",
      "Número de características: 76\n",
      "Total Ganadoras: 2457\n",
      "Total Perdedoras: 1920\n",
      "___________________________________\n"
     ]
    }
   ],
   "source": [
    "# Definir el clasificador\n",
    "classifier = xgb.XGBClassifier(\n",
    "    eval_metric='logloss',\n",
    "    tree_method = \"hist\",\n",
    "    device = \"cuda\",\n",
    "    predictor='gpu_predictor', \n",
    "    verbosity=0\n",
    "    )\n",
    "# Definir algoritmo de validación cruzada estratificada\n",
    "cv = StratifiedKFold(n_splits=5, shuffle=True, random_state=42)"
   ]
  },
  {
   "cell_type": "code",
   "execution_count": 11,
   "metadata": {},
   "outputs": [
    {
     "name": "stdout",
     "output_type": "stream",
     "text": [
      "Esperando que las tareas finalicen...\n",
      "¡Todas las tareas han terminado!\n"
     ]
    }
   ],
   "source": [
    "# Entrenar modelos simultáneamente\n",
    "with ThreadPoolExecutor(max_workers=2) as executor:\n",
    "    print(\"Esperando que las tareas finalicen...\")\n",
    "    # enviar tareas de entrenamiento\n",
    "    future_buy = executor.submit(create_scaler_selector, classifier, cv, X_buy_train, y_buy_train)\n",
    "    future_sell = executor.submit(create_scaler_selector, classifier, cv, X_sell_train, y_sell_train)\n",
    "    # esperar a que todas las tareas terminen\n",
    "    futures = [future_buy, future_sell]\n",
    "    wait(futures)\n",
    "    # Obtener resultados una vez que ambas tareas han terminado\n",
    "    scaler_buy, selector_buy, X_buy_train_transformed = future_buy.result()\n",
    "    scaler_sell, selector_sell, X_sell_train_transformed = future_sell.result()\n",
    "    print(\"¡Todas las tareas han terminado!\")"
   ]
  },
  {
   "cell_type": "code",
   "execution_count": 12,
   "metadata": {},
   "outputs": [],
   "source": [
    "# Train model functions\n",
    "def train_classifier(X_train, y_train, model_type, classifier, cv, param_grid):\n",
    "    try:\n",
    "        # Entrenar el modelo utilizando el algoritmo genético\n",
    "        ga_search = GeneticAlgorithmCV(\n",
    "            model_type=model_type,\n",
    "            estimator=classifier,\n",
    "            cv=cv,\n",
    "            param_grid=param_grid,\n",
    "            n_jobs=-1,\n",
    "            verbose=True\n",
    "        )\n",
    "        ga_search.fit(X_train, y_train)\n",
    "    except Exception as e:\n",
    "        print(f\"Error en traing model {model_type}: {e}\")\n",
    "        raise\n",
    "    # Obtener los mejores parámetros y el mejor estimador\n",
    "    print(\"####################################################################\")\n",
    "    print(f\"Mejor puntuación de validación para {model_type}: {ga_search.best_score_}\")\n",
    "    print(f\"Mejores parámetros encontrados para {model_type}: {ga_search.best_params_}\")\n",
    "    print(\"####################################################################\")\n",
    "    # Retornar mejor estimador\n",
    "    return ga_search.best_estimator_"
   ]
  },
  {
   "cell_type": "code",
   "execution_count": 13,
   "metadata": {},
   "outputs": [],
   "source": [
    "# Definir espacio de hiperparámetros\n",
    "n_features = len(df.iloc[:, :-2].columns)\n",
    "param_grid = {\n",
    "    #'kernelpca__n_components': {'type': 'int', 'low': 2, 'high': n_features-1},\n",
    "    'xgbclassifier__n_estimators': {'type': 'int', 'low': 50, 'high': 500},\n",
    "    'xgbclassifier__max_depth': {'type': 'int', 'low': 3, 'high': 50},\n",
    "    'xgbclassifier__learning_rate': {'type': 'float', 'low': 0.001, 'high': 0.3},\n",
    "    'xgbclassifier__subsample': {'type': 'float', 'low': 0.6, 'high': 1.0},\n",
    "    'xgbclassifier__colsample_bytree': {'type': 'float', 'low': 0.6, 'high': 1.0},\n",
    "    'xgbclassifier__gamma': {'type': 'float', 'low': 0.0, 'high': 0.5},\n",
    "    'xgbclassifier__reg_alpha': {'type': 'float', 'low': 0.0, 'high': 1.0},\n",
    "    'xgbclassifier__reg_lambda': {'type': 'float', 'low': 0.0, 'high': 1.0},\n",
    "    'xgbclassifier__min_child_weight': {'type': 'int', 'low': 1, 'high': 10},\n",
    "    'xgbclassifier__scale_pos_weight': {'type': 'float', 'low': 1.0, 'high': 10.0}\n",
    "}"
   ]
  },
  {
   "cell_type": "code",
   "execution_count": 14,
   "metadata": {},
   "outputs": [
    {
     "name": "stdout",
     "output_type": "stream",
     "text": [
      "Esperando que las tareas finalicen...\n"
     ]
    },
    {
     "data": {
      "application/vnd.jupyter.widget-view+json": {
       "model_id": "840d4b6c17734b45bcfb78ae33ac7bfd",
       "version_major": 2,
       "version_minor": 0
      },
      "text/plain": [
       "Generaciones buy:   0%|          | 0/15 [00:00<?, ?gen/s]"
      ]
     },
     "metadata": {},
     "output_type": "display_data"
    },
    {
     "data": {
      "application/vnd.jupyter.widget-view+json": {
       "model_id": "f7044df1373c4abc883654181c5c4e29",
       "version_major": 2,
       "version_minor": 0
      },
      "text/plain": [
       "Generaciones sell:   0%|          | 0/15 [00:00<?, ?gen/s]"
      ]
     },
     "metadata": {},
     "output_type": "display_data"
    },
    {
     "name": "stdout",
     "output_type": "stream",
     "text": [
      "[1, sell] Fitness: 0.5677110653214423 | Best Fitness: 0.5677110653214423\n",
      "[1, sell] Fitness Improvement: 0.0000 | Diversity: 1.2819\n",
      "[1, sell] Normalized Fitness Improvement: 0.0000 | Normalized Diversity: 0.0000\n",
      "[1, sell] Crossover Rate: 0.5000 | Mutation Rate: 0.5000\n",
      "[select_parents]: num_selected_elites: 2\n",
      "[1, buy] Fitness: 0.5884806995509662 | Best Fitness: 0.5884806995509662\n",
      "[1, buy] Fitness Improvement: 0.0000 | Diversity: 1.2770\n",
      "[1, buy] Normalized Fitness Improvement: 0.0000 | Normalized Diversity: 0.0000\n",
      "[1, buy] Crossover Rate: 0.5000 | Mutation Rate: 0.5000\n",
      "[select_parents]: num_selected_elites: 2\n",
      "[2, sell] Fitness: 0.5677110653214423 | Best Fitness: 0.5677110653214423\n",
      "[2, sell] Fitness Improvement: 0.0000 | Diversity: 1.2957\n",
      "[2, sell] Normalized Fitness Improvement: 0.0000 | Normalized Diversity: 1.0000\n",
      "[2, sell] Crossover Rate: 0.6848 | Mutation Rate: 0.3152\n",
      "[2, sell] Early stopping due to no improvement.\n",
      "Best fitness for sell: 0.5677110653214423\n",
      "####################################################################\n",
      "Mejor puntuación de validación para sell: 0.5677110653214423\n",
      "Mejores parámetros encontrados para sell: {'xgbclassifier__n_estimators': 428, 'xgbclassifier__max_depth': 26, 'xgbclassifier__learning_rate': 0.2840522487249881, 'xgbclassifier__subsample': 0.8490767399305026, 'xgbclassifier__colsample_bytree': 0.7648081505434844, 'xgbclassifier__gamma': 0.4746508160241505, 'xgbclassifier__reg_alpha': 0.3106593023201234, 'xgbclassifier__reg_lambda': 0.7799813262633535, 'xgbclassifier__min_child_weight': 9, 'xgbclassifier__scale_pos_weight': 7.04149373346225}\n",
      "####################################################################\n",
      "[2, buy] Fitness: 0.5884806995509662 | Best Fitness: 0.5884806995509662\n",
      "[2, buy] Fitness Improvement: 0.0000 | Diversity: 1.2477\n",
      "[2, buy] Normalized Fitness Improvement: 0.0000 | Normalized Diversity: 0.0000\n",
      "[2, buy] Crossover Rate: 0.5000 | Mutation Rate: 0.5000\n",
      "[2, buy] Early stopping due to no improvement.\n",
      "Best fitness for buy: 0.5884806995509662\n",
      "####################################################################\n",
      "Mejor puntuación de validación para buy: 0.5884806995509662\n",
      "Mejores parámetros encontrados para buy: {'xgbclassifier__n_estimators': 288, 'xgbclassifier__max_depth': 10, 'xgbclassifier__learning_rate': 0.208649902591471, 'xgbclassifier__subsample': 0.6533112286065241, 'xgbclassifier__colsample_bytree': 0.6258299025928051, 'xgbclassifier__gamma': 0.19987683005250295, 'xgbclassifier__reg_alpha': 0.7640516779821092, 'xgbclassifier__reg_lambda': 0.04972078333893526, 'xgbclassifier__min_child_weight': 7, 'xgbclassifier__scale_pos_weight': 1.5506627555952135}\n",
      "####################################################################\n",
      "¡Todas las tareas han terminado!\n"
     ]
    }
   ],
   "source": [
    "# Entrenar modelos simultáneamente\n",
    "with ThreadPoolExecutor(max_workers=2) as executor:\n",
    "    print(\"Esperando que las tareas finalicen...\")\n",
    "    # enviar tareas de entrenamiento\n",
    "    future_buy = executor.submit(train_classifier, X_buy_train_transformed, y_buy_train, \"buy\", classifier, cv, param_grid)\n",
    "    future_sell = executor.submit(train_classifier, X_sell_train_transformed, y_sell_train, \"sell\", classifier, cv, param_grid)\n",
    "    # esperar a que todas las tareas terminen\n",
    "    futures = [future_buy, future_sell]\n",
    "    wait(futures)\n",
    "    # Obtener resultados una vez que ambas tareas han terminado\n",
    "    classifier_buy = future_buy.result()\n",
    "    classifier_sell = future_sell.result()\n",
    "    print(\"¡Todas las tareas han terminado!\")"
   ]
  },
  {
   "cell_type": "code",
   "execution_count": 15,
   "metadata": {},
   "outputs": [],
   "source": [
    "def create_pipeline(scaler, selector, classifier):\n",
    "    pipeline = make_pipeline(\n",
    "        scaler,\n",
    "        selector,\n",
    "        classifier\n",
    "    )\n",
    "    return pipeline"
   ]
  },
  {
   "cell_type": "code",
   "execution_count": 17,
   "metadata": {},
   "outputs": [],
   "source": [
    "model_buy = create_pipeline(scaler=scaler_buy, selector=selector_buy, classifier=classifier_buy)\n",
    "model_sell = create_pipeline(scaler=scaler_sell, selector=selector_sell, classifier=classifier_sell)"
   ]
  },
  {
   "cell_type": "markdown",
   "metadata": {},
   "source": [
    "## Exportar modelos a formato ONNX"
   ]
  },
  {
   "cell_type": "code",
   "execution_count": 18,
   "metadata": {},
   "outputs": [],
   "source": [
    "def save_onnx_models(mql5_files_folder):\n",
    "    try:\n",
    "        update_registered_converter(\n",
    "            xgb.XGBClassifier,\n",
    "            \"XGBClassifier\",\n",
    "            calculate_linear_classifier_output_shapes,\n",
    "            convert_xgboost,\n",
    "            options={'nocl': [True, False], 'zipmap': [True, False, 'columns']}\n",
    "        )\n",
    "        model_buy_onnx = convert_sklearn(\n",
    "            model_buy,\n",
    "            'pipeline_buy_xgboost',\n",
    "            [('input', FloatTensorType([None, X_buy_train.shape[1]]))],\n",
    "            target_opset={'': 12, 'ai.onnx.ml': 2}\n",
    "        )\n",
    "        model_sell_onnx = convert_sklearn(\n",
    "            model_sell,\n",
    "            'pipeline_sell_xgboost',\n",
    "            [('input', FloatTensorType([None, X_buy_train.shape[1]]))],\n",
    "            target_opset={'': 12, 'ai.onnx.ml': 2}\n",
    "        )\n",
    "        with open(os.path.join(mql5_files_folder, \"model_buy.onnx\"), 'wb') as f:\n",
    "            f.write(model_buy_onnx.SerializeToString())\n",
    "        with open(os.path.join(mql5_files_folder, \"model_sell.onnx\"), 'wb') as f:\n",
    "            f.write(model_sell_onnx.SerializeToString())\n",
    "    except Exception as e:\n",
    "        print(f\"Error en exportar los modelos: {e}\")\n",
    "        raise\n",
    "    print(\"Modelos ONNX exportados correctamente\")"
   ]
  },
  {
   "cell_type": "code",
   "execution_count": 19,
   "metadata": {},
   "outputs": [
    {
     "name": "stdout",
     "output_type": "stream",
     "text": [
      "Modelos ONNX exportados correctamente\n"
     ]
    }
   ],
   "source": [
    "save_onnx_models(r'/mnt/c/Users/Administrador/AppData/Roaming/MetaQuotes/Terminal/6C3C6A11D1C3791DD4DBF45421BF8028/MQL5/Files')"
   ]
  },
  {
   "cell_type": "code",
   "execution_count": null,
   "metadata": {},
   "outputs": [],
   "source": []
  }
 ],
 "metadata": {
  "kernelspec": {
   "display_name": "vscode",
   "language": "python",
   "name": "python3"
  },
  "language_info": {
   "codemirror_mode": {
    "name": "ipython",
    "version": 3
   },
   "file_extension": ".py",
   "mimetype": "text/x-python",
   "name": "python",
   "nbconvert_exporter": "python",
   "pygments_lexer": "ipython3",
   "version": "3.12.7"
  }
 },
 "nbformat": 4,
 "nbformat_minor": 2
}
