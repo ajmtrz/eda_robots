{
 "cells": [
  {
   "cell_type": "markdown",
   "metadata": {},
   "source": [
    "## Importar librerías"
   ]
  },
  {
   "cell_type": "code",
   "execution_count": 1,
   "metadata": {},
   "outputs": [],
   "source": [
    "import os\n",
    "import glob\n",
    "import pandas as pd\n",
    "import numpy as np\n",
    "from genetic_algorithm import GeneticAlgorithmCV\n",
    "from sklearn.preprocessing import RobustScaler\n",
    "from sklearn.decomposition import KernelPCA\n",
    "from sklearn.model_selection import StratifiedKFold\n",
    "from sklearn.pipeline import Pipeline\n",
    "import xgboost as xgb\n",
    "from concurrent.futures import ThreadPoolExecutor, wait\n",
    "from skl2onnx.common.data_types import FloatTensorType\n",
    "from skl2onnx import convert_sklearn, update_registered_converter\n",
    "from skl2onnx.common.shape_calculator import calculate_linear_classifier_output_shapes\n",
    "from onnxmltools.convert.xgboost.operator_converters.XGBoost import convert_xgboost\n",
    "import warnings\n",
    "warnings.filterwarnings('ignore')"
   ]
  },
  {
   "cell_type": "markdown",
   "metadata": {},
   "source": [
    "## Cargar y preparar datos"
   ]
  },
  {
   "cell_type": "code",
   "execution_count": 2,
   "metadata": {},
   "outputs": [],
   "source": [
    "def create_training_dataset(df, trade_type):\n",
    "    df = df.drop_duplicates()\n",
    "    # Filtrar las operaciones del tipo especificado y con profit != 0\n",
    "    df_trade = df[(df['type'] == trade_type) & (df['profit'] != 0)].copy()\n",
    "    # Separar en ganadoras y perdedoras\n",
    "    df_winning = df_trade[df_trade['profit'] > 0]\n",
    "    df_losing = df_trade[df_trade['profit'] < 0]\n",
    "    n_winning = len(df_winning)\n",
    "    n_losing = len(df_losing)\n",
    "    print(f\"Tipo de operación: {'Buy' if trade_type == 1 else 'Sell'}\")\n",
    "    print(f\"Número de características: {df.iloc[:, :-2].shape[1]}\")\n",
    "    print(f\"Total Ganadoras: {n_winning}\")\n",
    "    print(f\"Total Perdedoras: {n_losing}\")\n",
    "    # Combinar las muestras seleccionadas\n",
    "    df_training = pd.concat([df_winning, df_losing], ignore_index=True)\n",
    "    # Añadir la columna 'Target' basada en el profit\n",
    "    df_training['target'] = df_training['profit'].apply(lambda x: 1 if x > 0 else 0)\n",
    "    # Seleccionar las columnas necesarias (todas menos las dos últimas para el conjunto principal,\n",
    "    # y todas las columnas de los subconjuntos excepto la última)\n",
    "    # Suponiendo que las dos últimas columnas en el conjunto principal son 'type' y 'profit'\n",
    "    feature_columns = df.columns[:-2]\n",
    "    df_training = df_training[feature_columns.tolist() + ['target']]\n",
    "    # Mezclar los datos\n",
    "    df_training = df_training.sample(frac=1).reset_index(drop=True)\n",
    "    # Eliminar posibles missings\n",
    "    if(df_training.isna().values.any()):\n",
    "        df_training=df_training.dropna()\n",
    "    # retunr df\n",
    "    return df_training"
   ]
  },
  {
   "cell_type": "code",
   "execution_count": 3,
   "metadata": {},
   "outputs": [],
   "source": [
    "# Cargar, limpiar y preparar datasets\n",
    "def load_dataset(df):\n",
    "    # Preparación de los datos de compra\n",
    "    df_buy = create_training_dataset(df, trade_type=1)\n",
    "    X_buy_train = df_buy.drop(columns='target')\n",
    "    y_buy_train = df_buy['target']\n",
    "    # Preparación de los datos de venta\n",
    "    df_sell = create_training_dataset(df, trade_type=-1)\n",
    "    X_sell_train = df_sell.drop(columns='target')\n",
    "    y_sell_train = df_sell['target']\n",
    "    return X_buy_train.values, y_buy_train.values, X_sell_train.values, y_sell_train.values"
   ]
  },
  {
   "cell_type": "code",
   "execution_count": 4,
   "metadata": {},
   "outputs": [
    {
     "name": "stdout",
     "output_type": "stream",
     "text": [
      "Tipo de operación: Buy\n",
      "Número de características: 76\n",
      "Total Ganadoras: 2624\n",
      "Total Perdedoras: 2197\n",
      "Tipo de operación: Sell\n",
      "Número de características: 76\n",
      "Total Ganadoras: 2457\n",
      "Total Perdedoras: 1920\n"
     ]
    }
   ],
   "source": [
    "file_folder = r\"/mnt/c/Users/Administrador/AppData/Roaming/MetaQuotes/Terminal/Common/Files/\"\n",
    "# Leer los archivos CSV\n",
    "file_pattern = os.path.join(file_folder, 'training_dataset_*.csv')\n",
    "df_file_path = glob.glob(file_pattern)\n",
    "df = pd.read_csv(df_file_path[0])\n",
    "X_buy_train, y_buy_train, X_sell_train, y_sell_train = load_dataset(df)"
   ]
  },
  {
   "cell_type": "markdown",
   "metadata": {},
   "source": [
    "## Entrenamiento de los modelos"
   ]
  },
  {
   "cell_type": "code",
   "execution_count": 5,
   "metadata": {},
   "outputs": [],
   "source": [
    "def train_model_buy(X_train, y_train, param_grid):\n",
    "    try:\n",
    "        # Definir el pipeline con placeholders (compras)\n",
    "        estimator = Pipeline([\n",
    "            ('scaler', RobustScaler()),\n",
    "            ('reducer', KernelPCA(kernel='rbf')),\n",
    "            ('classifier', xgb.XGBClassifier(eval_metric='auc', tree_method='gpu_hist', predictor='gpu_predictor', verbosity=0))\n",
    "        ])\n",
    "    # Crear una instancia de GeneticAlgorithmCV\n",
    "        ga_search = GeneticAlgorithmCV(\n",
    "            model_type={'buy'},\n",
    "            estimator=estimator,\n",
    "            cv=StratifiedKFold(n_splits=3, shuffle=True, random_state=42),\n",
    "            param_grid=param_grid,\n",
    "            n_jobs=-1,\n",
    "            verbose=True\n",
    "        )\n",
    "        # Entrenar el modelo utilizando el algoritmo genético\n",
    "        ga_search.fit(X_train, y_train)\n",
    "    except Exception as e:\n",
    "        print(f\"Error en train_model_buy: {e}\")\n",
    "        raise\n",
    "    # Obtener los mejores parámetros y el mejor estimador\n",
    "    print(\"####################################################################\")\n",
    "    print(\"Mejor puntuación de validación para compras:\", ga_search.best_score_)\n",
    "    print(\"Mejores parámetros encontrados para compras:\", ga_search.best_params_)\n",
    "    print(\"####################################################################\")\n",
    "    # Retornar mejor estimador\n",
    "    return ga_search.best_estimator_"
   ]
  },
  {
   "cell_type": "code",
   "execution_count": 6,
   "metadata": {},
   "outputs": [],
   "source": [
    "def train_model_sell(X_train, y_train, param_grid):\n",
    "    try:\n",
    "        # Definir el pipeline con placeholders (ventas)\n",
    "        estimator = Pipeline([\n",
    "            ('scaler', RobustScaler()),\n",
    "            ('reducer', KernelPCA(kernel='rbf')),\n",
    "            ('classifier', xgb.XGBClassifier(eval_metric='auc', tree_method='gpu_hist', predictor='gpu_predictor', verbosity=0))\n",
    "        ])\n",
    "        # Crear una instancia de GeneticAlgorithmCV\n",
    "        ga_search = GeneticAlgorithmCV(\n",
    "            model_type={'sell'},\n",
    "            estimator=estimator,\n",
    "            cv=StratifiedKFold(n_splits=3, shuffle=True, random_state=42),\n",
    "            param_grid=param_grid,\n",
    "            n_jobs=-1,\n",
    "            verbose=True\n",
    "        )\n",
    "        # Entrenar el modelo utilizando el algoritmo genético\n",
    "        ga_search.fit(X_train, y_train)\n",
    "    except Exception as e:\n",
    "        print(f\"Error en train_model_buy: {e}\")\n",
    "        raise\n",
    "    # Obtener los mejores parámetros y el mejor estimador\n",
    "    print(\"####################################################################\")\n",
    "    print(\"Mejor puntuación de validación para ventas:\", ga_search.best_score_)\n",
    "    print(\"Mejores parámetros encontrados para ventas:\", ga_search.best_params_)\n",
    "    print(\"####################################################################\")\n",
    "    # Retornar mejor estimador\n",
    "    return ga_search.best_estimator_"
   ]
  },
  {
   "cell_type": "code",
   "execution_count": 7,
   "metadata": {},
   "outputs": [],
   "source": [
    "n_features = df.iloc[:, :-2].shape[1]\n",
    "# Definir espacio de hiperparámetros\n",
    "param_grid = {\n",
    "    'reducer__n_components': {'type': 'int', 'low': 1, 'high': n_features-1},\n",
    "    'classifier__n_estimators': {'type': 'int', 'low': 50, 'high': 500},\n",
    "    'classifier__max_depth': {'type': 'int', 'low': 3, 'high': 10},\n",
    "    'classifier__learning_rate': {'type': 'float', 'low': 0.01, 'high': 0.3},\n",
    "    'classifier__subsample': {'type': 'float', 'low': 0.6, 'high': 1.0},\n",
    "    'classifier__colsample_bytree': {'type': 'float', 'low': 0.6, 'high': 1.0},\n",
    "    'classifier__gamma': {'type': 'float', 'low': 0.0, 'high': 0.5},\n",
    "    'classifier__min_child_weight': {'type': 'int', 'low': 1, 'high': 10},\n",
    "    'classifier__reg_alpha': {'type': 'float', 'low': 0.0, 'high': 1.0},\n",
    "    'classifier__reg_lambda': {'type': 'float', 'low': 0.0, 'high': 1.0},\n",
    "    'classifier__scale_pos_weight': {'type': 'float', 'low': 1.0, 'high': 10.0}\n",
    "}"
   ]
  },
  {
   "cell_type": "code",
   "execution_count": null,
   "metadata": {},
   "outputs": [
    {
     "name": "stdout",
     "output_type": "stream",
     "text": [
      "Esperando que las tareas finalicen...\n"
     ]
    },
    {
     "data": {
      "application/vnd.jupyter.widget-view+json": {
       "model_id": "56c537e4e802417d85801041811ae777",
       "version_major": 2,
       "version_minor": 0
      },
      "text/plain": [
       "Generaciones {'sell'}:   0%|          | 0/15 [00:00<?, ?gen/s]"
      ]
     },
     "metadata": {},
     "output_type": "display_data"
    },
    {
     "data": {
      "application/vnd.jupyter.widget-view+json": {
       "model_id": "591b2be2998d42549d124c11fe8f4f5c",
       "version_major": 2,
       "version_minor": 0
      },
      "text/plain": [
       "Generaciones {'buy'}:   0%|          | 0/15 [00:00<?, ?gen/s]"
      ]
     },
     "metadata": {},
     "output_type": "display_data"
    }
   ],
   "source": [
    "# Entrenar modelos simultáneamente\n",
    "with ThreadPoolExecutor(max_workers=2) as executor:\n",
    "    print(\"Esperando que las tareas finalicen...\")\n",
    "    # enviar tareas de entrenamiento\n",
    "    future_buy = executor.submit(train_model_buy, X_buy_train, y_buy_train, param_grid)\n",
    "    future_sell = executor.submit(train_model_sell, X_sell_train, y_sell_train, param_grid)\n",
    "    # esperar a que todas las tareas terminen\n",
    "    futures = [future_buy, future_sell]\n",
    "    wait(futures)\n",
    "    # Obtener resultados una vez que ambas tareas han terminado\n",
    "    model_buy = future_buy.result()\n",
    "    model_sell = future_sell.result()\n",
    "    print(\"¡Todas las tareas han terminado!\")"
   ]
  },
  {
   "cell_type": "markdown",
   "metadata": {},
   "source": [
    "## Exportar modelos a formato ONNX"
   ]
  },
  {
   "cell_type": "code",
   "execution_count": 9,
   "metadata": {},
   "outputs": [],
   "source": [
    "def save_onnx_models(mql5_files_folder):\n",
    "    try:\n",
    "        update_registered_converter(\n",
    "            xgb.XGBClassifier,\n",
    "            \"XGBClassifier\",\n",
    "            calculate_linear_classifier_output_shapes,\n",
    "            convert_xgboost,\n",
    "            options={'nocl': [True, False], 'zipmap': [True, False, 'columns']}\n",
    "        )\n",
    "        model_buy_onnx = convert_sklearn(\n",
    "            model_buy,\n",
    "            'pipeline_buy_xgboost',\n",
    "            [('input', FloatTensorType([None, X_buy_train.shape[1]]))],\n",
    "            target_opset={'': 12, 'ai.onnx.ml': 2}\n",
    "        )\n",
    "        model_sell_onnx = convert_sklearn(\n",
    "            model_sell,\n",
    "            'pipeline_sell_xgboost',\n",
    "            [('input', FloatTensorType([None, X_buy_train.shape[1]]))],\n",
    "            target_opset={'': 12, 'ai.onnx.ml': 2}\n",
    "        )\n",
    "        with open(os.path.join(mql5_files_folder, \"model_buy.onnx\"), 'wb') as f:\n",
    "            f.write(model_buy_onnx.SerializeToString())\n",
    "        with open(os.path.join(mql5_files_folder, \"model_sell.onnx\"), 'wb') as f:\n",
    "            f.write(model_sell_onnx.SerializeToString())\n",
    "    except Exception as e:\n",
    "        print(f\"Error en exportar los modelos: {e}\")\n",
    "        raise\n",
    "    print(\"Modelos ONNX exportados correctamente\")"
   ]
  },
  {
   "cell_type": "code",
   "execution_count": null,
   "metadata": {},
   "outputs": [],
   "source": [
    "save_onnx_models(r'/mnt/c/Users/Administrador/AppData/Roaming/MetaQuotes/Terminal/6C3C6A11D1C3791DD4DBF45421BF8028/MQL5/Files')"
   ]
  }
 ],
 "metadata": {
  "kernelspec": {
   "display_name": "vscode",
   "language": "python",
   "name": "python3"
  },
  "language_info": {
   "codemirror_mode": {
    "name": "ipython",
    "version": 3
   },
   "file_extension": ".py",
   "mimetype": "text/x-python",
   "name": "python",
   "nbconvert_exporter": "python",
   "pygments_lexer": "ipython3",
   "version": "3.12.7"
  }
 },
 "nbformat": 4,
 "nbformat_minor": 2
}
